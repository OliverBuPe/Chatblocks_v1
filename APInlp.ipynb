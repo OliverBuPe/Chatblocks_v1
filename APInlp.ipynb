{
 "cells": [
  {
   "cell_type": "code",
   "execution_count": 1,
   "metadata": {},
   "outputs": [
    {
     "name": "stderr",
     "output_type": "stream",
     "text": [
      "2020-10-02 11:29:50 INFO: Loading these models for language: es (Spanish):\n",
      "=======================\n",
      "| Processor | Package |\n",
      "-----------------------\n",
      "| tokenize  | ancora  |\n",
      "| mwt       | ancora  |\n",
      "| pos       | ancora  |\n",
      "| lemma     | ancora  |\n",
      "| depparse  | ancora  |\n",
      "| ner       | conll02 |\n",
      "=======================\n",
      "\n",
      "2020-10-02 11:29:50 INFO: Use device: cpu\n",
      "2020-10-02 11:29:50 INFO: Loading: tokenize\n",
      "2020-10-02 11:29:50 INFO: Loading: mwt\n",
      "2020-10-02 11:29:50 INFO: Loading: pos\n",
      "2020-10-02 11:29:51 INFO: Loading: lemma\n",
      "2020-10-02 11:29:51 INFO: Loading: depparse\n",
      "2020-10-02 11:29:52 INFO: Loading: ner\n",
      "2020-10-02 11:29:53 INFO: Done loading processors!\n"
     ]
    },
    {
     "data": {
      "text/html": [
       "<style>.container { width:100% !important; }</style>"
      ],
      "text/plain": [
       "<IPython.core.display.HTML object>"
      ]
     },
     "metadata": {},
     "output_type": "display_data"
    }
   ],
   "source": [
    "import os\n",
    "import sys \n",
    "from flask import Flask\n",
    "from flask import request\n",
    "from flask_api import status\n",
    "import psycopg2\n",
    "import json\n",
    "import copy\n",
    "from gensim import corpora, models, similarities\n",
    "import jieba\n",
    "import stanza\n",
    "from spacy_stanza import StanzaLanguage\n",
    "\n",
    "snlp = stanza.Pipeline(lang=\"es\")\n",
    "nlp = StanzaLanguage(snlp)\n",
    "from IPython.core.display import display, HTML\n",
    "display(HTML(\"<style>.container { width:100% !important; }</style>\"))"
   ]
  },
  {
   "cell_type": "code",
   "execution_count": 2,
   "metadata": {},
   "outputs": [],
   "source": [
    "def getIntension(texts,keyword,intension):\n",
    "    texts = [jieba.lcut(text) for text in texts]\n",
    "    dictionary = corpora.Dictionary(texts)\n",
    "    feature_cnt = len(dictionary.token2id)\n",
    "    corpus = [dictionary.doc2bow(text) for text in texts]\n",
    "    tfidf = models.TfidfModel(corpus) \n",
    "    kw_vector = dictionary.doc2bow(jieba.lcut(keyword))\n",
    "    index = similarities.SparseMatrixSimilarity(tfidf[corpus], num_features = feature_cnt)\n",
    "    sim = index[tfidf[kw_vector]]\n",
    "    for i in range(len(sim)):\n",
    "        if sim[i] >= .8:\n",
    "\n",
    "            return intension\n",
    "            break\n",
    "    return 'false'  "
   ]
  },
  {
   "cell_type": "code",
   "execution_count": 3,
   "metadata": {},
   "outputs": [],
   "source": [
    "def abrirJson(name,path=os.getcwd()+\"/\" ):\n",
    "    with open(path+name,encoding='utf-8') as data_file:  \n",
    "        diccionario = json.load(data_file)\n",
    "    return diccionario"
   ]
  },
  {
   "cell_type": "code",
   "execution_count": 5,
   "metadata": {},
   "outputs": [],
   "source": [
    "app = Flask(__name__)\n",
    "@app.route('/nlu/<oracion>',methods=['POST'])\n",
    "def NLU(oracion):\n",
    "    print(\"NLU\")\n",
    "    print(\"oracion:\",oracion)\n",
    "    informacion = request.get_json()[\"informacion\"]   \n",
    "    try:\n",
    "        respuesta=dict()\n",
    "        i=0\n",
    "        intension = 'false'\n",
    "        while i<len(informacion) and intension == 'false':           \n",
    "            intension = getIntension(informacion[i][\"examples\"],oracion,(informacion[i][\"intension\"]))\n",
    "            i=i+1\n",
    "            if intension == 'false':\n",
    "                pass\n",
    "            else:\n",
    "                break\n",
    "        doc = nlp(oracion)\n",
    "        entidades=dict()\n",
    "        for token in doc:\n",
    "            if token.ent_type_:\n",
    "                entidades.update({token.text:token.ent_type_})       \n",
    "        respuesta.update({\"entidades\":entidades})\n",
    "        respuesta.update({\"intension\":intension})\n",
    "        return respuesta        \n",
    "    except (Exception, psycopg2.Error) as error :\n",
    "        print(\"error\",error)\n",
    "        return oracion,status.HTTP_404_NOT_FOUND"
   ]
  },
  {
   "cell_type": "code",
   "execution_count": 6,
   "metadata": {},
   "outputs": [
    {
     "name": "stdout",
     "output_type": "stream",
     "text": [
      " * Serving Flask app \"__main__\" (lazy loading)\n",
      " * Environment: production\n",
      "   WARNING: This is a development server. Do not use it in a production deployment.\n",
      "   Use a production WSGI server instead.\n",
      " * Debug mode: off\n"
     ]
    },
    {
     "name": "stderr",
     "output_type": "stream",
     "text": [
      " * Running on http://localhost:8282/ (Press CTRL+C to quit)\n",
      "Building prefix dict from the default dictionary ...\n",
      "Loading model from cache /tmp/jieba.cache\n"
     ]
    },
    {
     "name": "stdout",
     "output_type": "stream",
     "text": [
      "NLU\n",
      "oracion: ¿cuántos años tienes\n"
     ]
    },
    {
     "name": "stderr",
     "output_type": "stream",
     "text": [
      "Loading model cost 0.676 seconds.\n",
      "Prefix dict has been built successfully.\n",
      "127.0.0.1 - - [02/Oct/2020 11:30:30] \"POST /nlu/¿cuántos%20años%20tienes HTTP/1.1\" 200 -\n"
     ]
    },
    {
     "name": "stdout",
     "output_type": "stream",
     "text": [
      "NLU\n",
      "oracion: ¿cuántos años tienes\n"
     ]
    },
    {
     "name": "stderr",
     "output_type": "stream",
     "text": [
      "127.0.0.1 - - [02/Oct/2020 11:47:40] \"POST /nlu/¿cuántos%20años%20tienes HTTP/1.1\" 200 -\n"
     ]
    },
    {
     "name": "stdout",
     "output_type": "stream",
     "text": [
      "NLU\n",
      "oracion: ¿cuántos años tienes\n"
     ]
    },
    {
     "name": "stderr",
     "output_type": "stream",
     "text": [
      "127.0.0.1 - - [02/Oct/2020 11:49:50] \"POST /nlu/¿cuántos%20años%20tienes HTTP/1.1\" 200 -\n",
      "127.0.0.1 - - [02/Oct/2020 11:51:55] \"POST /nlu/¿cuántos%20años%20tienes HTTP/1.1\" 200 -\n"
     ]
    },
    {
     "name": "stdout",
     "output_type": "stream",
     "text": [
      "NLU\n",
      "oracion: ¿cuántos años tienes\n"
     ]
    },
    {
     "name": "stderr",
     "output_type": "stream",
     "text": [
      "127.0.0.1 - - [02/Oct/2020 11:57:07] \"POST /nlu/¿cuántos%20años%20tienes HTTP/1.1\" 200 -\n"
     ]
    },
    {
     "name": "stdout",
     "output_type": "stream",
     "text": [
      "NLU\n",
      "oracion: ¿cuántos años tienes\n",
      "NLU\n",
      "oracion: ¿cuántos años tienes\n"
     ]
    },
    {
     "name": "stderr",
     "output_type": "stream",
     "text": [
      "127.0.0.1 - - [02/Oct/2020 12:08:04] \"POST /nlu/¿cuántos%20años%20tienes HTTP/1.1\" 200 -\n"
     ]
    },
    {
     "name": "stdout",
     "output_type": "stream",
     "text": [
      "NLU\n",
      "oracion: ¿cuántos años tienes\n"
     ]
    },
    {
     "name": "stderr",
     "output_type": "stream",
     "text": [
      "127.0.0.1 - - [02/Oct/2020 12:16:57] \"POST /nlu/¿cuántos%20años%20tienes HTTP/1.1\" 200 -\n"
     ]
    },
    {
     "name": "stdout",
     "output_type": "stream",
     "text": [
      "NLU\n",
      "oracion: ¿cuántos años tienes\n"
     ]
    },
    {
     "name": "stderr",
     "output_type": "stream",
     "text": [
      "127.0.0.1 - - [02/Oct/2020 12:27:23] \"POST /nlu/¿cuántos%20años%20tienes HTTP/1.1\" 200 -\n"
     ]
    },
    {
     "name": "stdout",
     "output_type": "stream",
     "text": [
      "NLU\n",
      "oracion: ¿cuántos años tienes\n"
     ]
    },
    {
     "name": "stderr",
     "output_type": "stream",
     "text": [
      "127.0.0.1 - - [02/Oct/2020 12:35:23] \"POST /nlu/¿cuántos%20años%20tienes HTTP/1.1\" 200 -\n"
     ]
    },
    {
     "name": "stdout",
     "output_type": "stream",
     "text": [
      "NLU\n",
      "oracion: ¿cuántos años tienes\n"
     ]
    },
    {
     "name": "stderr",
     "output_type": "stream",
     "text": [
      "127.0.0.1 - - [02/Oct/2020 12:38:11] \"POST /nlu/¿cuántos%20años%20tienes HTTP/1.1\" 200 -\n"
     ]
    },
    {
     "name": "stdout",
     "output_type": "stream",
     "text": [
      "NLU\n",
      "oracion: ¿cuántos años tienes\n"
     ]
    },
    {
     "name": "stderr",
     "output_type": "stream",
     "text": [
      "127.0.0.1 - - [02/Oct/2020 12:46:00] \"POST /nlu/¿cuántos%20años%20tienes HTTP/1.1\" 200 -\n"
     ]
    },
    {
     "name": "stdout",
     "output_type": "stream",
     "text": [
      "NLU\n",
      "oracion: ¿cuántos años tienes\n"
     ]
    },
    {
     "name": "stderr",
     "output_type": "stream",
     "text": [
      "127.0.0.1 - - [02/Oct/2020 12:53:44] \"POST /nlu/¿cuántos%20años%20tienes HTTP/1.1\" 200 -\n"
     ]
    },
    {
     "name": "stdout",
     "output_type": "stream",
     "text": [
      "NLU\n",
      "oracion: ¿cuántos años tienes\n"
     ]
    },
    {
     "name": "stderr",
     "output_type": "stream",
     "text": [
      "127.0.0.1 - - [02/Oct/2020 12:55:22] \"POST /nlu/¿cuántos%20años%20tienes HTTP/1.1\" 200 -\n"
     ]
    },
    {
     "name": "stdout",
     "output_type": "stream",
     "text": [
      "NLU\n",
      "oracion: ¿quién eres\n"
     ]
    },
    {
     "name": "stderr",
     "output_type": "stream",
     "text": [
      "127.0.0.1 - - [02/Oct/2020 12:59:06] \"POST /nlu/¿quién%20eres HTTP/1.1\" 200 -\n",
      "127.0.0.1 - - [02/Oct/2020 13:01:37] \"POST /nlu/hola HTTP/1.1\" 200 -\n"
     ]
    },
    {
     "name": "stdout",
     "output_type": "stream",
     "text": [
      "NLU\n",
      "oracion: hola\n",
      "NLU\n",
      "oracion: ¿cuántos años tienes\n"
     ]
    },
    {
     "name": "stderr",
     "output_type": "stream",
     "text": [
      "127.0.0.1 - - [02/Oct/2020 13:02:17] \"POST /nlu/¿cuántos%20años%20tienes HTTP/1.1\" 200 -\n"
     ]
    },
    {
     "name": "stdout",
     "output_type": "stream",
     "text": [
      "NLU\n",
      "oracion: ¿qué edad tienes\n"
     ]
    },
    {
     "name": "stderr",
     "output_type": "stream",
     "text": [
      "127.0.0.1 - - [02/Oct/2020 13:11:38] \"POST /nlu/¿qué%20edad%20tienes HTTP/1.1\" 200 -\n"
     ]
    }
   ],
   "source": [
    "if __name__ == \"__main__\":    \n",
    "    app.run(host='localhost',port='8282')"
   ]
  }
 ],
 "metadata": {
  "kernelspec": {
   "display_name": "Python 3",
   "language": "python",
   "name": "python3"
  },
  "language_info": {
   "codemirror_mode": {
    "name": "ipython",
    "version": 3
   },
   "file_extension": ".py",
   "mimetype": "text/x-python",
   "name": "python",
   "nbconvert_exporter": "python",
   "pygments_lexer": "ipython3",
   "version": "3.7.4"
  }
 },
 "nbformat": 4,
 "nbformat_minor": 2
}
