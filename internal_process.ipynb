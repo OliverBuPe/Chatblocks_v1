{
 "cells": [
  {
   "cell_type": "code",
   "execution_count": 1,
   "metadata": {},
   "outputs": [
    {
     "data": {
      "text/html": [
       "<style>.container { width:100% !important; }</style>"
      ],
      "text/plain": [
       "<IPython.core.display.HTML object>"
      ]
     },
     "metadata": {},
     "output_type": "display_data"
    }
   ],
   "source": [
    "import os\n",
    "import copy\n",
    "import pybars\n",
    "import json\n",
    "from flask import Flask\n",
    "from flask import request\n",
    "from flask_api import status\n",
    "import psycopg2\n",
    "import json\n",
    "import copy\n",
    "from random import randint\n",
    "from manejo_base_de_datos import baseDatos\n",
    "from manejo_archivos_json import dataJson\n",
    "\n",
    "from IPython.core.display import display, HTML\n",
    "display(HTML(\"<style>.container { width:100% !important; }</style>\"))\n",
    "manejadorBaseDeDatos=baseDatos(\"postgres\",\"123456789\",\"127.0.0.1\",\"5432\",\"chatblocks\")#manejador de consultas a base de datos \n",
    "manejadorArchivos = dataJson(os.getcwd()+\"/\") "
   ]
  },
  {
   "cell_type": "code",
   "execution_count": 2,
   "metadata": {},
   "outputs": [],
   "source": [
    "app = Flask(__name__)\n",
    "@app.route('/random/<limite>',methods=['GET'])\n",
    "def random(limite):\n",
    "    try:\n",
    "        numero = randint(0,int(limite))\n",
    "        print(numero)        \n",
    "        return {\"value\":numero}\n",
    "    except (Exception, psycopg2.Error) as error :\n",
    "        print(\"error\",error)\n",
    "        return \"error\",status.HTTP_404_NOT_FOUND"
   ]
  },
  {
   "cell_type": "code",
   "execution_count": 3,
   "metadata": {},
   "outputs": [],
   "source": [
    "@app.route('/restar/',methods=['GET'])\n",
    "def restar():\n",
    "    try:\n",
    "        numero = 0\n",
    "        return {\"value\":numero}\n",
    "    except (Exception, psycopg2.Error) as error :\n",
    "        print(\"error\",error)\n",
    "        return \"error\",status.HTTP_404_NOT_FOUND"
   ]
  },
  {
   "cell_type": "code",
   "execution_count": 4,
   "metadata": {},
   "outputs": [],
   "source": [
    "@app.route('/reset',methods=['GET'])\n",
    "def reset():\n",
    "    try:\n",
    "        numero = 0         \n",
    "        print(\"incremento \",numero)\n",
    "        return {\"value\":numero}\n",
    "    \n",
    "    except (Exception, psycopg2.Error) as error :\n",
    "        print(\"error\",error)\n",
    "        return \"error\",status.HTTP_404_NOT_FOUND"
   ]
  },
  {
   "cell_type": "code",
   "execution_count": 5,
   "metadata": {},
   "outputs": [],
   "source": [
    "@app.route('/increase/<limite>/<valor_actual>',methods=['GET'])\n",
    "def increase(limite,valor_actual):\n",
    "    try:\n",
    "        print(\"valor actual:\",valor_actual)\n",
    "        print(\"limite: \",limite)\n",
    "        if int(limite) > int(valor_actual):            \n",
    "            numero = int(valor_actual)\n",
    "            numero = numero + 1\n",
    "        else:\n",
    "            numero = int(valor_actual)\n",
    "            \n",
    "        print(\"incremento \",numero)\n",
    "        return {\"value\":numero}\n",
    "    except (Exception, psycopg2.Error) as error :\n",
    "        print(\"error\",error)\n",
    "        return \"error\",status.HTTP_404_NOT_FOUND\n",
    "        "
   ]
  },
  {
   "cell_type": "code",
   "execution_count": 6,
   "metadata": {},
   "outputs": [
    {
     "name": "stdout",
     "output_type": "stream",
     "text": [
      " * Serving Flask app \"__main__\" (lazy loading)\n",
      " * Environment: production\n",
      "   WARNING: This is a development server. Do not use it in a production deployment.\n",
      "   Use a production WSGI server instead.\n",
      " * Debug mode: off\n"
     ]
    },
    {
     "name": "stderr",
     "output_type": "stream",
     "text": [
      " * Running on http://localhost:1111/ (Press CTRL+C to quit)\n",
      "127.0.0.1 - - [02/Oct/2020 11:46:16] \"GET /increase/3/0 HTTP/1.1\" 200 -\n"
     ]
    },
    {
     "name": "stdout",
     "output_type": "stream",
     "text": [
      "valor actual: 0\n",
      "limite:  3\n",
      "incremento  1\n"
     ]
    },
    {
     "name": "stderr",
     "output_type": "stream",
     "text": [
      "127.0.0.1 - - [02/Oct/2020 11:46:43] \"GET /increase/3/1 HTTP/1.1\" 200 -\n"
     ]
    },
    {
     "name": "stdout",
     "output_type": "stream",
     "text": [
      "valor actual: 1\n",
      "limite:  3\n",
      "incremento  2\n"
     ]
    },
    {
     "name": "stderr",
     "output_type": "stream",
     "text": [
      "127.0.0.1 - - [02/Oct/2020 11:47:40] \"GET /random/3 HTTP/1.1\" 200 -\n"
     ]
    },
    {
     "name": "stdout",
     "output_type": "stream",
     "text": [
      "1\n"
     ]
    },
    {
     "name": "stderr",
     "output_type": "stream",
     "text": [
      "127.0.0.1 - - [02/Oct/2020 11:48:41] \"GET /increase/3/2 HTTP/1.1\" 200 -\n"
     ]
    },
    {
     "name": "stdout",
     "output_type": "stream",
     "text": [
      "valor actual: 2\n",
      "limite:  3\n",
      "incremento  3\n"
     ]
    },
    {
     "name": "stderr",
     "output_type": "stream",
     "text": [
      "127.0.0.1 - - [02/Oct/2020 11:48:48] \"GET /restar HTTP/1.1\" 308 -\n",
      "127.0.0.1 - - [02/Oct/2020 11:48:48] \"GET /restar/ HTTP/1.1\" 200 -\n",
      "127.0.0.1 - - [02/Oct/2020 11:48:58] \"GET /increase/3/0 HTTP/1.1\" 200 -\n"
     ]
    },
    {
     "name": "stdout",
     "output_type": "stream",
     "text": [
      "valor actual: 0\n",
      "limite:  3\n",
      "incremento  1\n"
     ]
    },
    {
     "name": "stderr",
     "output_type": "stream",
     "text": [
      "127.0.0.1 - - [02/Oct/2020 11:49:05] \"GET /increase/3/1 HTTP/1.1\" 200 -\n"
     ]
    },
    {
     "name": "stdout",
     "output_type": "stream",
     "text": [
      "valor actual: 1\n",
      "limite:  3\n",
      "incremento  2\n"
     ]
    },
    {
     "name": "stderr",
     "output_type": "stream",
     "text": [
      "127.0.0.1 - - [02/Oct/2020 11:49:30] \"GET /increase/3/2 HTTP/1.1\" 200 -\n"
     ]
    },
    {
     "name": "stdout",
     "output_type": "stream",
     "text": [
      "valor actual: 2\n",
      "limite:  3\n",
      "incremento  3\n"
     ]
    },
    {
     "name": "stderr",
     "output_type": "stream",
     "text": [
      "127.0.0.1 - - [02/Oct/2020 11:49:39] \"GET /restar HTTP/1.1\" 308 -\n",
      "127.0.0.1 - - [02/Oct/2020 11:49:39] \"GET /restar/ HTTP/1.1\" 200 -\n",
      "127.0.0.1 - - [02/Oct/2020 11:49:50] \"GET /random/3 HTTP/1.1\" 200 -\n"
     ]
    },
    {
     "name": "stdout",
     "output_type": "stream",
     "text": [
      "2\n"
     ]
    },
    {
     "name": "stderr",
     "output_type": "stream",
     "text": [
      "127.0.0.1 - - [02/Oct/2020 11:50:48] \"GET /increase/3/0 HTTP/1.1\" 200 -\n"
     ]
    },
    {
     "name": "stdout",
     "output_type": "stream",
     "text": [
      "valor actual: 0\n",
      "limite:  3\n",
      "incremento  1\n"
     ]
    },
    {
     "name": "stderr",
     "output_type": "stream",
     "text": [
      "127.0.0.1 - - [02/Oct/2020 11:50:53] \"GET /increase/3/1 HTTP/1.1\" 200 -\n"
     ]
    },
    {
     "name": "stdout",
     "output_type": "stream",
     "text": [
      "valor actual: 1\n",
      "limite:  3\n",
      "incremento  2\n"
     ]
    },
    {
     "name": "stderr",
     "output_type": "stream",
     "text": [
      "127.0.0.1 - - [02/Oct/2020 11:50:58] \"GET /increase/3/2 HTTP/1.1\" 200 -\n"
     ]
    },
    {
     "name": "stdout",
     "output_type": "stream",
     "text": [
      "valor actual: 2\n",
      "limite:  3\n",
      "incremento  3\n"
     ]
    },
    {
     "name": "stderr",
     "output_type": "stream",
     "text": [
      "127.0.0.1 - - [02/Oct/2020 11:51:06] \"GET /restar HTTP/1.1\" 308 -\n",
      "127.0.0.1 - - [02/Oct/2020 11:51:06] \"GET /restar/ HTTP/1.1\" 200 -\n",
      "127.0.0.1 - - [02/Oct/2020 11:51:12] \"GET /increase/3/0 HTTP/1.1\" 200 -\n"
     ]
    },
    {
     "name": "stdout",
     "output_type": "stream",
     "text": [
      "valor actual: 0\n",
      "limite:  3\n",
      "incremento  1\n"
     ]
    },
    {
     "name": "stderr",
     "output_type": "stream",
     "text": [
      "127.0.0.1 - - [02/Oct/2020 11:51:15] \"GET /increase/3/1 HTTP/1.1\" 200 -\n"
     ]
    },
    {
     "name": "stdout",
     "output_type": "stream",
     "text": [
      "valor actual: 1\n",
      "limite:  3\n",
      "incremento  2\n"
     ]
    },
    {
     "name": "stderr",
     "output_type": "stream",
     "text": [
      "127.0.0.1 - - [02/Oct/2020 11:51:18] \"GET /increase/3/2 HTTP/1.1\" 200 -\n"
     ]
    },
    {
     "name": "stdout",
     "output_type": "stream",
     "text": [
      "valor actual: 2\n",
      "limite:  3\n",
      "incremento  3\n"
     ]
    },
    {
     "name": "stderr",
     "output_type": "stream",
     "text": [
      "127.0.0.1 - - [02/Oct/2020 11:51:27] \"GET /restar HTTP/1.1\" 308 -\n",
      "127.0.0.1 - - [02/Oct/2020 11:51:27] \"GET /restar/ HTTP/1.1\" 200 -\n",
      "127.0.0.1 - - [02/Oct/2020 11:51:55] \"GET /random/3 HTTP/1.1\" 200 -\n"
     ]
    },
    {
     "name": "stdout",
     "output_type": "stream",
     "text": [
      "1\n"
     ]
    },
    {
     "name": "stderr",
     "output_type": "stream",
     "text": [
      "127.0.0.1 - - [02/Oct/2020 11:55:44] \"GET /increase/3/0 HTTP/1.1\" 200 -\n"
     ]
    },
    {
     "name": "stdout",
     "output_type": "stream",
     "text": [
      "valor actual: 0\n",
      "limite:  3\n",
      "incremento  1\n"
     ]
    },
    {
     "name": "stderr",
     "output_type": "stream",
     "text": [
      "127.0.0.1 - - [02/Oct/2020 11:55:55] \"GET /increase/3/1 HTTP/1.1\" 200 -\n"
     ]
    },
    {
     "name": "stdout",
     "output_type": "stream",
     "text": [
      "valor actual: 1\n",
      "limite:  3\n",
      "incremento  2\n"
     ]
    },
    {
     "name": "stderr",
     "output_type": "stream",
     "text": [
      "127.0.0.1 - - [02/Oct/2020 11:56:00] \"GET /increase/3/2 HTTP/1.1\" 200 -\n"
     ]
    },
    {
     "name": "stdout",
     "output_type": "stream",
     "text": [
      "valor actual: 2\n",
      "limite:  3\n",
      "incremento  3\n"
     ]
    },
    {
     "name": "stderr",
     "output_type": "stream",
     "text": [
      "127.0.0.1 - - [02/Oct/2020 11:56:05] \"GET /restar HTTP/1.1\" 308 -\n",
      "127.0.0.1 - - [02/Oct/2020 11:56:05] \"GET /restar/ HTTP/1.1\" 200 -\n",
      "127.0.0.1 - - [02/Oct/2020 11:56:17] \"GET /increase/3/0 HTTP/1.1\" 200 -\n"
     ]
    },
    {
     "name": "stdout",
     "output_type": "stream",
     "text": [
      "valor actual: 0\n",
      "limite:  3\n",
      "incremento  1\n"
     ]
    },
    {
     "name": "stderr",
     "output_type": "stream",
     "text": [
      "127.0.0.1 - - [02/Oct/2020 11:56:22] \"GET /increase/3/1 HTTP/1.1\" 200 -\n"
     ]
    },
    {
     "name": "stdout",
     "output_type": "stream",
     "text": [
      "valor actual: 1\n",
      "limite:  3\n",
      "incremento  2\n"
     ]
    },
    {
     "name": "stderr",
     "output_type": "stream",
     "text": [
      "127.0.0.1 - - [02/Oct/2020 11:56:38] \"GET /increase/3/2 HTTP/1.1\" 200 -\n"
     ]
    },
    {
     "name": "stdout",
     "output_type": "stream",
     "text": [
      "valor actual: 2\n",
      "limite:  3\n",
      "incremento  3\n"
     ]
    },
    {
     "name": "stderr",
     "output_type": "stream",
     "text": [
      "127.0.0.1 - - [02/Oct/2020 11:56:46] \"GET /restar HTTP/1.1\" 308 -\n",
      "127.0.0.1 - - [02/Oct/2020 11:56:46] \"GET /restar/ HTTP/1.1\" 200 -\n",
      "127.0.0.1 - - [02/Oct/2020 11:57:07] \"GET /random/3 HTTP/1.1\" 200 -\n",
      "127.0.0.1 - - [02/Oct/2020 11:57:07] \"GET /random/3 HTTP/1.1\" 200 -\n"
     ]
    },
    {
     "name": "stdout",
     "output_type": "stream",
     "text": [
      "2\n",
      "2\n"
     ]
    },
    {
     "name": "stderr",
     "output_type": "stream",
     "text": [
      "127.0.0.1 - - [02/Oct/2020 12:01:04] \"GET /increase/3/0 HTTP/1.1\" 200 -\n"
     ]
    },
    {
     "name": "stdout",
     "output_type": "stream",
     "text": [
      "valor actual: 0\n",
      "limite:  3\n",
      "incremento  1\n"
     ]
    },
    {
     "name": "stderr",
     "output_type": "stream",
     "text": [
      "127.0.0.1 - - [02/Oct/2020 12:01:10] \"GET /increase/3/1 HTTP/1.1\" 200 -\n"
     ]
    },
    {
     "name": "stdout",
     "output_type": "stream",
     "text": [
      "valor actual: 1\n",
      "limite:  3\n",
      "incremento  2\n"
     ]
    },
    {
     "name": "stderr",
     "output_type": "stream",
     "text": [
      "127.0.0.1 - - [02/Oct/2020 12:01:15] \"GET /increase/3/2 HTTP/1.1\" 200 -\n"
     ]
    },
    {
     "name": "stdout",
     "output_type": "stream",
     "text": [
      "valor actual: 2\n",
      "limite:  3\n",
      "incremento  3\n"
     ]
    },
    {
     "name": "stderr",
     "output_type": "stream",
     "text": [
      "127.0.0.1 - - [02/Oct/2020 12:01:20] \"GET /restar HTTP/1.1\" 308 -\n",
      "127.0.0.1 - - [02/Oct/2020 12:01:20] \"GET /restar/ HTTP/1.1\" 200 -\n",
      "127.0.0.1 - - [02/Oct/2020 12:01:29] \"GET /increase/3/0 HTTP/1.1\" 200 -\n"
     ]
    },
    {
     "name": "stdout",
     "output_type": "stream",
     "text": [
      "valor actual: 0\n",
      "limite:  3\n",
      "incremento  1\n"
     ]
    },
    {
     "name": "stderr",
     "output_type": "stream",
     "text": [
      "127.0.0.1 - - [02/Oct/2020 12:01:40] \"GET /increase/3/1 HTTP/1.1\" 200 -\n"
     ]
    },
    {
     "name": "stdout",
     "output_type": "stream",
     "text": [
      "valor actual: 1\n",
      "limite:  3\n",
      "incremento  2\n"
     ]
    },
    {
     "name": "stderr",
     "output_type": "stream",
     "text": [
      "127.0.0.1 - - [02/Oct/2020 12:01:49] \"GET /increase/3/2 HTTP/1.1\" 200 -\n"
     ]
    },
    {
     "name": "stdout",
     "output_type": "stream",
     "text": [
      "valor actual: 2\n",
      "limite:  3\n",
      "incremento  3\n"
     ]
    },
    {
     "name": "stderr",
     "output_type": "stream",
     "text": [
      "127.0.0.1 - - [02/Oct/2020 12:02:01] \"GET /restar HTTP/1.1\" 308 -\n",
      "127.0.0.1 - - [02/Oct/2020 12:02:01] \"GET /restar/ HTTP/1.1\" 200 -\n",
      "127.0.0.1 - - [02/Oct/2020 12:08:04] \"GET /random/3 HTTP/1.1\" 200 -\n",
      "127.0.0.1 - - [02/Oct/2020 12:08:04] \"GET /random/3 HTTP/1.1\" 200 -\n"
     ]
    },
    {
     "name": "stdout",
     "output_type": "stream",
     "text": [
      "3\n",
      "2\n"
     ]
    },
    {
     "name": "stderr",
     "output_type": "stream",
     "text": [
      "127.0.0.1 - - [02/Oct/2020 12:09:13] \"GET /increase/3/0 HTTP/1.1\" 200 -\n"
     ]
    },
    {
     "name": "stdout",
     "output_type": "stream",
     "text": [
      "valor actual: 0\n",
      "limite:  3\n",
      "incremento  1\n"
     ]
    },
    {
     "name": "stderr",
     "output_type": "stream",
     "text": [
      "127.0.0.1 - - [02/Oct/2020 12:09:29] \"GET /increase/3/1 HTTP/1.1\" 200 -\n"
     ]
    },
    {
     "name": "stdout",
     "output_type": "stream",
     "text": [
      "valor actual: 1\n",
      "limite:  3\n",
      "incremento  2\n"
     ]
    },
    {
     "name": "stderr",
     "output_type": "stream",
     "text": [
      "127.0.0.1 - - [02/Oct/2020 12:09:32] \"GET /increase/3/2 HTTP/1.1\" 200 -\n"
     ]
    },
    {
     "name": "stdout",
     "output_type": "stream",
     "text": [
      "valor actual: 2\n",
      "limite:  3\n",
      "incremento  3\n"
     ]
    },
    {
     "name": "stderr",
     "output_type": "stream",
     "text": [
      "127.0.0.1 - - [02/Oct/2020 12:09:45] \"GET /restar HTTP/1.1\" 308 -\n",
      "127.0.0.1 - - [02/Oct/2020 12:09:45] \"GET /restar/ HTTP/1.1\" 200 -\n",
      "127.0.0.1 - - [02/Oct/2020 12:10:02] \"GET /increase/2/0 HTTP/1.1\" 200 -\n"
     ]
    },
    {
     "name": "stdout",
     "output_type": "stream",
     "text": [
      "valor actual: 0\n",
      "limite:  2\n",
      "incremento  1\n"
     ]
    },
    {
     "name": "stderr",
     "output_type": "stream",
     "text": [
      "127.0.0.1 - - [02/Oct/2020 12:10:12] \"GET /increase/2/1 HTTP/1.1\" 200 -\n"
     ]
    },
    {
     "name": "stdout",
     "output_type": "stream",
     "text": [
      "valor actual: 1\n",
      "limite:  2\n",
      "incremento  2\n"
     ]
    },
    {
     "name": "stderr",
     "output_type": "stream",
     "text": [
      "127.0.0.1 - - [02/Oct/2020 12:10:27] \"GET /increase/2/2 HTTP/1.1\" 200 -\n"
     ]
    },
    {
     "name": "stdout",
     "output_type": "stream",
     "text": [
      "valor actual: 2\n",
      "limite:  2\n",
      "incremento  2\n"
     ]
    },
    {
     "name": "stderr",
     "output_type": "stream",
     "text": [
      "127.0.0.1 - - [02/Oct/2020 12:10:36] \"GET /increase/2/2 HTTP/1.1\" 200 -\n"
     ]
    },
    {
     "name": "stdout",
     "output_type": "stream",
     "text": [
      "valor actual: 2\n",
      "limite:  2\n",
      "incremento  2\n"
     ]
    },
    {
     "name": "stderr",
     "output_type": "stream",
     "text": [
      "127.0.0.1 - - [02/Oct/2020 12:10:53] \"GET /increase/2/2 HTTP/1.1\" 200 -\n"
     ]
    },
    {
     "name": "stdout",
     "output_type": "stream",
     "text": [
      "valor actual: 2\n",
      "limite:  2\n",
      "incremento  2\n"
     ]
    },
    {
     "name": "stderr",
     "output_type": "stream",
     "text": [
      "127.0.0.1 - - [02/Oct/2020 12:11:02] \"GET /increase/2/2 HTTP/1.1\" 200 -\n"
     ]
    },
    {
     "name": "stdout",
     "output_type": "stream",
     "text": [
      "valor actual: 2\n",
      "limite:  2\n",
      "incremento  2\n"
     ]
    },
    {
     "name": "stderr",
     "output_type": "stream",
     "text": [
      "127.0.0.1 - - [02/Oct/2020 12:12:04] \"GET /increase/2/2 HTTP/1.1\" 200 -\n"
     ]
    },
    {
     "name": "stdout",
     "output_type": "stream",
     "text": [
      "valor actual: 2\n",
      "limite:  2\n",
      "incremento  2\n"
     ]
    },
    {
     "name": "stderr",
     "output_type": "stream",
     "text": [
      "127.0.0.1 - - [02/Oct/2020 12:15:07] \"GET /increase/3/0 HTTP/1.1\" 200 -\n"
     ]
    },
    {
     "name": "stdout",
     "output_type": "stream",
     "text": [
      "valor actual: 0\n",
      "limite:  3\n",
      "incremento  1\n"
     ]
    },
    {
     "name": "stderr",
     "output_type": "stream",
     "text": [
      "127.0.0.1 - - [02/Oct/2020 12:15:18] \"GET /increase/3/1 HTTP/1.1\" 200 -\n"
     ]
    },
    {
     "name": "stdout",
     "output_type": "stream",
     "text": [
      "valor actual: 1\n",
      "limite:  3\n",
      "incremento  2\n"
     ]
    },
    {
     "name": "stderr",
     "output_type": "stream",
     "text": [
      "127.0.0.1 - - [02/Oct/2020 12:15:30] \"GET /increase/3/2 HTTP/1.1\" 200 -\n"
     ]
    },
    {
     "name": "stdout",
     "output_type": "stream",
     "text": [
      "valor actual: 2\n",
      "limite:  3\n",
      "incremento  3\n"
     ]
    },
    {
     "name": "stderr",
     "output_type": "stream",
     "text": [
      "127.0.0.1 - - [02/Oct/2020 12:15:47] \"GET /restar HTTP/1.1\" 308 -\n",
      "127.0.0.1 - - [02/Oct/2020 12:15:47] \"GET /restar/ HTTP/1.1\" 200 -\n",
      "127.0.0.1 - - [02/Oct/2020 12:16:14] \"GET /increase/2/0 HTTP/1.1\" 200 -\n"
     ]
    },
    {
     "name": "stdout",
     "output_type": "stream",
     "text": [
      "valor actual: 0\n",
      "limite:  2\n",
      "incremento  1\n"
     ]
    },
    {
     "name": "stderr",
     "output_type": "stream",
     "text": [
      "127.0.0.1 - - [02/Oct/2020 12:16:15] \"GET /increase/2/1 HTTP/1.1\" 200 -\n"
     ]
    },
    {
     "name": "stdout",
     "output_type": "stream",
     "text": [
      "valor actual: 1\n",
      "limite:  2\n",
      "incremento  2\n"
     ]
    },
    {
     "name": "stderr",
     "output_type": "stream",
     "text": [
      "127.0.0.1 - - [02/Oct/2020 12:16:29] \"GET /restar HTTP/1.1\" 308 -\n",
      "127.0.0.1 - - [02/Oct/2020 12:16:29] \"GET /restar/ HTTP/1.1\" 200 -\n",
      "127.0.0.1 - - [02/Oct/2020 12:16:57] \"GET /random/3 HTTP/1.1\" 200 -\n",
      "127.0.0.1 - - [02/Oct/2020 12:16:58] \"GET /random/3 HTTP/1.1\" 200 -\n"
     ]
    },
    {
     "name": "stdout",
     "output_type": "stream",
     "text": [
      "2\n",
      "3\n"
     ]
    },
    {
     "name": "stderr",
     "output_type": "stream",
     "text": [
      "127.0.0.1 - - [02/Oct/2020 12:25:08] \"GET /increase/3/0 HTTP/1.1\" 200 -\n"
     ]
    },
    {
     "name": "stdout",
     "output_type": "stream",
     "text": [
      "valor actual: 0\n",
      "limite:  3\n",
      "incremento  1\n"
     ]
    },
    {
     "name": "stderr",
     "output_type": "stream",
     "text": [
      "127.0.0.1 - - [02/Oct/2020 12:25:33] \"GET /increase/3/1 HTTP/1.1\" 200 -\n"
     ]
    },
    {
     "name": "stdout",
     "output_type": "stream",
     "text": [
      "valor actual: 1\n",
      "limite:  3\n",
      "incremento  2\n"
     ]
    },
    {
     "name": "stderr",
     "output_type": "stream",
     "text": [
      "127.0.0.1 - - [02/Oct/2020 12:25:44] \"GET /increase/3/2 HTTP/1.1\" 200 -\n"
     ]
    },
    {
     "name": "stdout",
     "output_type": "stream",
     "text": [
      "valor actual: 2\n",
      "limite:  3\n",
      "incremento  3\n"
     ]
    },
    {
     "name": "stderr",
     "output_type": "stream",
     "text": [
      "127.0.0.1 - - [02/Oct/2020 12:25:58] \"GET /restar HTTP/1.1\" 308 -\n",
      "127.0.0.1 - - [02/Oct/2020 12:25:58] \"GET /restar/ HTTP/1.1\" 200 -\n",
      "127.0.0.1 - - [02/Oct/2020 12:26:10] \"GET /increase/2/0 HTTP/1.1\" 200 -\n"
     ]
    },
    {
     "name": "stdout",
     "output_type": "stream",
     "text": [
      "valor actual: 0\n",
      "limite:  2\n",
      "incremento  1\n"
     ]
    },
    {
     "name": "stderr",
     "output_type": "stream",
     "text": [
      "127.0.0.1 - - [02/Oct/2020 12:26:42] \"GET /increase/2/1 HTTP/1.1\" 200 -\n"
     ]
    },
    {
     "name": "stdout",
     "output_type": "stream",
     "text": [
      "valor actual: 1\n",
      "limite:  2\n",
      "incremento  2\n"
     ]
    },
    {
     "name": "stderr",
     "output_type": "stream",
     "text": [
      "127.0.0.1 - - [02/Oct/2020 12:27:03] \"GET /restar HTTP/1.1\" 308 -\n",
      "127.0.0.1 - - [02/Oct/2020 12:27:03] \"GET /restar/ HTTP/1.1\" 200 -\n",
      "127.0.0.1 - - [02/Oct/2020 12:27:23] \"GET /random/3 HTTP/1.1\" 200 -\n",
      "127.0.0.1 - - [02/Oct/2020 12:27:23] \"GET /random/3 HTTP/1.1\" 200 -\n"
     ]
    },
    {
     "name": "stdout",
     "output_type": "stream",
     "text": [
      "0\n",
      "2\n"
     ]
    },
    {
     "name": "stderr",
     "output_type": "stream",
     "text": [
      "127.0.0.1 - - [02/Oct/2020 12:33:18] \"GET /increase/3/0 HTTP/1.1\" 200 -\n"
     ]
    },
    {
     "name": "stdout",
     "output_type": "stream",
     "text": [
      "valor actual: 0\n",
      "limite:  3\n",
      "incremento  1\n"
     ]
    },
    {
     "name": "stderr",
     "output_type": "stream",
     "text": [
      "127.0.0.1 - - [02/Oct/2020 12:33:32] \"GET /increase/3/1 HTTP/1.1\" 200 -\n"
     ]
    },
    {
     "name": "stdout",
     "output_type": "stream",
     "text": [
      "valor actual: 1\n",
      "limite:  3\n",
      "incremento  2\n"
     ]
    },
    {
     "name": "stderr",
     "output_type": "stream",
     "text": [
      "127.0.0.1 - - [02/Oct/2020 12:33:54] \"GET /increase/3/2 HTTP/1.1\" 200 -\n"
     ]
    },
    {
     "name": "stdout",
     "output_type": "stream",
     "text": [
      "valor actual: 2\n",
      "limite:  3\n",
      "incremento  3\n"
     ]
    },
    {
     "name": "stderr",
     "output_type": "stream",
     "text": [
      "127.0.0.1 - - [02/Oct/2020 12:34:22] \"GET /restar HTTP/1.1\" 308 -\n",
      "127.0.0.1 - - [02/Oct/2020 12:34:22] \"GET /restar/ HTTP/1.1\" 200 -\n",
      "127.0.0.1 - - [02/Oct/2020 12:34:35] \"GET /increase/2/0 HTTP/1.1\" 200 -\n"
     ]
    },
    {
     "name": "stdout",
     "output_type": "stream",
     "text": [
      "valor actual: 0\n",
      "limite:  2\n",
      "incremento  1\n"
     ]
    },
    {
     "name": "stderr",
     "output_type": "stream",
     "text": [
      "127.0.0.1 - - [02/Oct/2020 12:34:48] \"GET /increase/2/1 HTTP/1.1\" 200 -\n"
     ]
    },
    {
     "name": "stdout",
     "output_type": "stream",
     "text": [
      "valor actual: 1\n",
      "limite:  2\n",
      "incremento  2\n"
     ]
    },
    {
     "name": "stderr",
     "output_type": "stream",
     "text": [
      "127.0.0.1 - - [02/Oct/2020 12:35:01] \"GET /restar HTTP/1.1\" 308 -\n",
      "127.0.0.1 - - [02/Oct/2020 12:35:01] \"GET /restar/ HTTP/1.1\" 200 -\n",
      "127.0.0.1 - - [02/Oct/2020 12:37:34] \"GET /random/3 HTTP/1.1\" 200 -\n"
     ]
    },
    {
     "name": "stdout",
     "output_type": "stream",
     "text": [
      "3\n"
     ]
    },
    {
     "name": "stderr",
     "output_type": "stream",
     "text": [
      "127.0.0.1 - - [02/Oct/2020 12:38:22] \"GET /random/3 HTTP/1.1\" 200 -\n"
     ]
    },
    {
     "name": "stdout",
     "output_type": "stream",
     "text": [
      "1\n"
     ]
    },
    {
     "name": "stderr",
     "output_type": "stream",
     "text": [
      "127.0.0.1 - - [02/Oct/2020 12:40:41] \"GET /random/3 HTTP/1.1\" 200 -\n"
     ]
    },
    {
     "name": "stdout",
     "output_type": "stream",
     "text": [
      "1\n"
     ]
    },
    {
     "name": "stderr",
     "output_type": "stream",
     "text": [
      "127.0.0.1 - - [02/Oct/2020 12:43:02] \"GET /increase/3/0 HTTP/1.1\" 200 -\n"
     ]
    },
    {
     "name": "stdout",
     "output_type": "stream",
     "text": [
      "valor actual: 0\n",
      "limite:  3\n",
      "incremento  1\n"
     ]
    },
    {
     "name": "stderr",
     "output_type": "stream",
     "text": [
      "127.0.0.1 - - [02/Oct/2020 12:43:34] \"GET /increase/3/1 HTTP/1.1\" 200 -\n"
     ]
    },
    {
     "name": "stdout",
     "output_type": "stream",
     "text": [
      "valor actual: 1\n",
      "limite:  3\n",
      "incremento  2\n"
     ]
    },
    {
     "name": "stderr",
     "output_type": "stream",
     "text": [
      "127.0.0.1 - - [02/Oct/2020 12:43:48] \"GET /increase/3/2 HTTP/1.1\" 200 -\n"
     ]
    },
    {
     "name": "stdout",
     "output_type": "stream",
     "text": [
      "valor actual: 2\n",
      "limite:  3\n",
      "incremento  3\n"
     ]
    },
    {
     "name": "stderr",
     "output_type": "stream",
     "text": [
      "127.0.0.1 - - [02/Oct/2020 12:44:32] \"GET /restar HTTP/1.1\" 308 -\n",
      "127.0.0.1 - - [02/Oct/2020 12:44:32] \"GET /restar/ HTTP/1.1\" 200 -\n",
      "127.0.0.1 - - [02/Oct/2020 12:45:14] \"GET /increase/2/0 HTTP/1.1\" 200 -\n"
     ]
    },
    {
     "name": "stdout",
     "output_type": "stream",
     "text": [
      "valor actual: 0\n",
      "limite:  2\n",
      "incremento  1\n"
     ]
    },
    {
     "name": "stderr",
     "output_type": "stream",
     "text": [
      "127.0.0.1 - - [02/Oct/2020 12:45:18] \"GET /increase/2/1 HTTP/1.1\" 200 -\n"
     ]
    },
    {
     "name": "stdout",
     "output_type": "stream",
     "text": [
      "valor actual: 1\n",
      "limite:  2\n",
      "incremento  2\n"
     ]
    },
    {
     "name": "stderr",
     "output_type": "stream",
     "text": [
      "127.0.0.1 - - [02/Oct/2020 12:45:22] \"GET /restar HTTP/1.1\" 308 -\n",
      "127.0.0.1 - - [02/Oct/2020 12:45:22] \"GET /restar/ HTTP/1.1\" 200 -\n",
      "127.0.0.1 - - [02/Oct/2020 12:46:28] \"GET /random/3 HTTP/1.1\" 200 -\n"
     ]
    },
    {
     "name": "stdout",
     "output_type": "stream",
     "text": [
      "0\n"
     ]
    },
    {
     "name": "stderr",
     "output_type": "stream",
     "text": [
      "127.0.0.1 - - [02/Oct/2020 12:48:54] \"GET /increase/3/0 HTTP/1.1\" 200 -\n"
     ]
    },
    {
     "name": "stdout",
     "output_type": "stream",
     "text": [
      "valor actual: 0\n",
      "limite:  3\n",
      "incremento  1\n"
     ]
    },
    {
     "name": "stderr",
     "output_type": "stream",
     "text": [
      "127.0.0.1 - - [02/Oct/2020 12:49:26] \"GET /increase/3/1 HTTP/1.1\" 200 -\n"
     ]
    },
    {
     "name": "stdout",
     "output_type": "stream",
     "text": [
      "valor actual: 1\n",
      "limite:  3\n",
      "incremento  2\n"
     ]
    },
    {
     "name": "stderr",
     "output_type": "stream",
     "text": [
      "127.0.0.1 - - [02/Oct/2020 12:51:07] \"GET /increase/3/2 HTTP/1.1\" 200 -\n"
     ]
    },
    {
     "name": "stdout",
     "output_type": "stream",
     "text": [
      "valor actual: 2\n",
      "limite:  3\n",
      "incremento  3\n"
     ]
    },
    {
     "name": "stderr",
     "output_type": "stream",
     "text": [
      "127.0.0.1 - - [02/Oct/2020 12:51:41] \"GET /restar HTTP/1.1\" 308 -\n",
      "127.0.0.1 - - [02/Oct/2020 12:51:41] \"GET /restar/ HTTP/1.1\" 200 -\n",
      "127.0.0.1 - - [02/Oct/2020 12:52:41] \"GET /increase/2/0 HTTP/1.1\" 200 -\n"
     ]
    },
    {
     "name": "stdout",
     "output_type": "stream",
     "text": [
      "valor actual: 0\n",
      "limite:  2\n",
      "incremento  1\n"
     ]
    },
    {
     "name": "stderr",
     "output_type": "stream",
     "text": [
      "127.0.0.1 - - [02/Oct/2020 12:52:52] \"GET /increase/2/1 HTTP/1.1\" 200 -\n"
     ]
    },
    {
     "name": "stdout",
     "output_type": "stream",
     "text": [
      "valor actual: 1\n",
      "limite:  2\n",
      "incremento  2\n"
     ]
    },
    {
     "name": "stderr",
     "output_type": "stream",
     "text": [
      "127.0.0.1 - - [02/Oct/2020 12:53:06] \"GET /restar HTTP/1.1\" 308 -\n",
      "127.0.0.1 - - [02/Oct/2020 12:53:06] \"GET /restar/ HTTP/1.1\" 200 -\n",
      "127.0.0.1 - - [02/Oct/2020 12:54:06] \"GET /random/3 HTTP/1.1\" 200 -\n"
     ]
    },
    {
     "name": "stdout",
     "output_type": "stream",
     "text": [
      "0\n"
     ]
    },
    {
     "name": "stderr",
     "output_type": "stream",
     "text": [
      "127.0.0.1 - - [02/Oct/2020 12:55:52] \"GET /random/3 HTTP/1.1\" 200 -\n"
     ]
    },
    {
     "name": "stdout",
     "output_type": "stream",
     "text": [
      "0\n"
     ]
    },
    {
     "name": "stderr",
     "output_type": "stream",
     "text": [
      "127.0.0.1 - - [02/Oct/2020 13:02:50] \"GET /random/3 HTTP/1.1\" 200 -\n"
     ]
    },
    {
     "name": "stdout",
     "output_type": "stream",
     "text": [
      "0\n"
     ]
    },
    {
     "name": "stderr",
     "output_type": "stream",
     "text": [
      "127.0.0.1 - - [02/Oct/2020 13:08:25] \"GET /increase/3/0 HTTP/1.1\" 200 -\n"
     ]
    },
    {
     "name": "stdout",
     "output_type": "stream",
     "text": [
      "valor actual: 0\n",
      "limite:  3\n",
      "incremento  1\n"
     ]
    },
    {
     "name": "stderr",
     "output_type": "stream",
     "text": [
      "127.0.0.1 - - [02/Oct/2020 13:08:30] \"GET /increase/3/1 HTTP/1.1\" 200 -\n"
     ]
    },
    {
     "name": "stdout",
     "output_type": "stream",
     "text": [
      "valor actual: 1\n",
      "limite:  3\n",
      "incremento  2\n"
     ]
    },
    {
     "name": "stderr",
     "output_type": "stream",
     "text": [
      "127.0.0.1 - - [02/Oct/2020 13:08:54] \"GET /increase/3/2 HTTP/1.1\" 200 -\n"
     ]
    },
    {
     "name": "stdout",
     "output_type": "stream",
     "text": [
      "valor actual: 2\n",
      "limite:  3\n",
      "incremento  3\n"
     ]
    },
    {
     "name": "stderr",
     "output_type": "stream",
     "text": [
      "127.0.0.1 - - [02/Oct/2020 13:09:28] \"GET /restar HTTP/1.1\" 308 -\n",
      "127.0.0.1 - - [02/Oct/2020 13:09:28] \"GET /restar/ HTTP/1.1\" 200 -\n",
      "127.0.0.1 - - [02/Oct/2020 13:10:11] \"GET /increase/2/0 HTTP/1.1\" 200 -\n"
     ]
    },
    {
     "name": "stdout",
     "output_type": "stream",
     "text": [
      "valor actual: 0\n",
      "limite:  2\n",
      "incremento  1\n"
     ]
    },
    {
     "name": "stderr",
     "output_type": "stream",
     "text": [
      "127.0.0.1 - - [02/Oct/2020 13:10:29] \"GET /increase/2/1 HTTP/1.1\" 200 -\n"
     ]
    },
    {
     "name": "stdout",
     "output_type": "stream",
     "text": [
      "valor actual: 1\n",
      "limite:  2\n",
      "incremento  2\n"
     ]
    },
    {
     "name": "stderr",
     "output_type": "stream",
     "text": [
      "127.0.0.1 - - [02/Oct/2020 13:11:06] \"GET /restar HTTP/1.1\" 308 -\n",
      "127.0.0.1 - - [02/Oct/2020 13:11:06] \"GET /restar/ HTTP/1.1\" 200 -\n",
      "127.0.0.1 - - [02/Oct/2020 13:11:55] \"GET /random/3 HTTP/1.1\" 200 -\n"
     ]
    },
    {
     "name": "stdout",
     "output_type": "stream",
     "text": [
      "3\n"
     ]
    }
   ],
   "source": [
    "if __name__ == \"__main__\":    \n",
    "    app.run(host='localhost',port='1111')"
   ]
  },
  {
   "cell_type": "code",
   "execution_count": null,
   "metadata": {},
   "outputs": [],
   "source": []
  }
 ],
 "metadata": {
  "kernelspec": {
   "display_name": "Python 3",
   "language": "python",
   "name": "python3"
  },
  "language_info": {
   "codemirror_mode": {
    "name": "ipython",
    "version": 3
   },
   "file_extension": ".py",
   "mimetype": "text/x-python",
   "name": "python",
   "nbconvert_exporter": "python",
   "pygments_lexer": "ipython3",
   "version": "3.7.4"
  }
 },
 "nbformat": 4,
 "nbformat_minor": 2
}
