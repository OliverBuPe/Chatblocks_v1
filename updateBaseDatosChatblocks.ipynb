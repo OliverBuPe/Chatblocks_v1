{
 "cells": [
  {
   "cell_type": "code",
   "execution_count": 1,
   "metadata": {},
   "outputs": [
    {
     "data": {
      "text/html": [
       "<style>.container { width:100% !important; }</style>"
      ],
      "text/plain": [
       "<IPython.core.display.HTML object>"
      ]
     },
     "metadata": {},
     "output_type": "display_data"
    }
   ],
   "source": [
    "import os\n",
    "import sys \n",
    "from flask import Flask\n",
    "from flask import request\n",
    "from flask_api import status\n",
    "import psycopg2\n",
    "import json\n",
    "import copy\n",
    "from IPython.core.display import display, HTML\n",
    "display(HTML(\"<style>.container { width:100% !important; }</style>\"))\n",
    "datosBaseDeDatos = {\"usuario\":\"postgres\",\"password\":\"123456789\",\"Host\":\"127.0.0.1\",\"puerto\":\"5432\",\"DB\":\"chatblocks\"}"
   ]
  },
  {
   "cell_type": "code",
   "execution_count": 2,
   "metadata": {},
   "outputs": [],
   "source": [
    "def abrirJson(name,path=os.getcwd()+\"/\" ):\n",
    "    with open(path+name,encoding='utf-8') as data_file:  \n",
    "        diccionario = json.load(data_file)\n",
    "    return diccionario"
   ]
  },
  {
   "cell_type": "code",
   "execution_count": 3,
   "metadata": {},
   "outputs": [],
   "source": [
    "def conexionBaseDeDatos(datosConexion):\n",
    "    try:\n",
    "        connection = psycopg2.connect(user = datosConexion[\"usuario\"],\n",
    "                              password = datosConexion[\"password\"],\n",
    "                              host = datosConexion[\"Host\"],\n",
    "                              port = datosConexion[\"puerto\"],\n",
    "                              database = datosConexion[\"DB\"])    \n",
    "        return connection\n",
    "    except(Exception, psycopg2.Error) as error:\n",
    "        print(\"Error al conectar con base de datos\", error)"
   ]
  },
  {
   "cell_type": "code",
   "execution_count": 4,
   "metadata": {},
   "outputs": [],
   "source": [
    "def consultaBots(connection,datos=False,consulta=False,tabla=False):\n",
    "    #print(\"datos\",datos)\n",
    "    consultaBots = list()\n",
    "    column_names = []\n",
    "    data_rows = []\n",
    "    diccionarioDatos = dict()\n",
    "    consultas = list()\n",
    "    cursor = connection.cursor()  \n",
    "    cosulta =\"\"    \n",
    "    if datos:\n",
    "        #print(\"intenatando consulta...\")\n",
    "        consulta = \"select * from \"+tabla+\" where \"        \n",
    "        i=0\n",
    "        for dato, valorDato in datos.items():\n",
    "            if i==0:\n",
    "                consulta = consulta+dato+\"= '\"+valorDato+\"'\"                \n",
    "            else:             \n",
    "                consulta = consulta+\" and \"+dato+\"= '\"+str(valorDato)+\"'\" \n",
    "            i=i+1\n",
    "        #print(dato,\":\",valorDato)\n",
    "        consulta= consulta + \" ;\" \n",
    "        #print(consulta)        \n",
    "        #consulta = \"select * from robots where name_robot = '\"+datosBot[\"name_robot\"]+\"' and id_face = '\"+ datosBot[\"id_face\"]+\"' and  type_blocki = '\"+datosBot[\"type_blocki\"]+\"' and access_token= '\"+datosBot[\"access_token\"]+\"' and id_user = '\"+datosBot[\"id_user\"]+\"';\"\n",
    "    print(\"consulta:\",consulta)\n",
    "    cursor.execute(consulta)    \n",
    "    column_names = [desc[0] for desc in cursor.description]  \n",
    "    rows = cursor.fetchall()\n",
    "    for row in rows:\n",
    "        diccionarioDatos = dict()\n",
    "        for i in range(len(column_names)):\n",
    "            diccionarioDatos.update({column_names[i]:row[i]})\n",
    "        consultaBots.append(diccionarioDatos)\n",
    "    cursor.close()\n",
    "    connection.close()  \n",
    "    \n",
    "    if len(consultaBots)==1:\n",
    "        return consultaBots[0]\n",
    "    else:\n",
    "        return consultaBots"
   ]
  },
  {
   "cell_type": "code",
   "execution_count": 5,
   "metadata": {},
   "outputs": [],
   "source": [
    "def insert(datos,tabla,connection):\n",
    "    cursor = connection.cursor()\n",
    "    values = \"\"\n",
    "    datosInsert = \"\"\n",
    "    i = 0;\n",
    "    for dato, valorDato in datos.items():\n",
    "        if i==0:\n",
    "            values = values+dato \n",
    "            datosInsert = datosInsert+\"'\"+str(valorDato)+\"' \"                \n",
    "        else:\n",
    "            values = values+\",\"+dato\n",
    "            datosInsert =datosInsert+\",'\"+str(valorDato)+\"' \"\n",
    "        i=i+1\n",
    "        #print(dato,\":\",valorDato)\n",
    "    #print(\"insert into \"+tabla+\" ( \"+values+\" ) values (\"+datosInsert+\" );\" )\n",
    "    insersion  = \"insert into \"+tabla+\" ( \"+values+\" ) values (\"+datosInsert+\" );\" \n",
    "    cursor.execute(insersion)\n",
    "    connection.commit()\n",
    "    cursor.close()\n",
    "    connection.close()\n",
    "    return datos"
   ]
  },
  {
   "cell_type": "code",
   "execution_count": 6,
   "metadata": {},
   "outputs": [],
   "source": [
    "app = Flask(__name__)\n",
    "@app.route('/bot', methods = ['POST'])\n",
    "def postRobot():\n",
    "    try:\n",
    "        connection = conexionBaseDeDatos(datosBaseDeDatos)\n",
    "        datosBot = request.get_json()   \n",
    "        print(\"datosBot\",datosBot)\n",
    "        tabla = \"robots\"\n",
    "        insert(datosBot,tabla,connection)\n",
    "        connection = conexionBaseDeDatos(datosBaseDeDatos)\n",
    "        con = consultaBots(connection,datos=datosBot,tabla=tabla)\n",
    "        print(\"con\",con)   \n",
    "        return con\n",
    "    except:\n",
    "        return datosBot,status.HTTP_404_NOT_FOUND \n",
    "@app.route('/bloque', methods = ['POST'])\n",
    "def postBloque():\n",
    "    try:         \n",
    "        connection = conexionBaseDeDatos(datosBaseDeDatos)\n",
    "        datosEnvio = request.get_json()   \n",
    "        tabla = \"bloque\"+str(datosEnvio[\"blocktype\"]).lower()\n",
    "        insert(datosEnvio,tabla,connection)\n",
    "        connection = conexionBaseDeDatos(datosBaseDeDatos)\n",
    "        con = consultaBots(connection,datos=datosEnvio,tabla=tabla)\n",
    "        print(\"con\",con)   \n",
    "        return con\n",
    "    except:\n",
    "        return datosBot,status.HTTP_404_NOT_FOUND    \n",
    "@app.route('/variable', methods = ['POST'])\n",
    "def postVariable():\n",
    "    try:         \n",
    "        connection = conexionBaseDeDatos(datosBaseDeDatos)\n",
    "        datosVariable = request.get_json()   \n",
    "        tabla = \"variables\"\n",
    "        insert(datosVariable,tabla,connection)\n",
    "        connection = conexionBaseDeDatos(datosBaseDeDatos)\n",
    "        con = consultaBots(connection,datos=datosVariable,tabla=tabla)\n",
    "        print(\"con\",con)   \n",
    "        return con\n",
    "    except:\n",
    "        return datosVariable,status.HTTP_404_NOT_FOUND\n",
    "@app.route('/access_token', methods = ['POST'])\n",
    "def postAccessToken():\n",
    "    try:         \n",
    "        connection = conexionBaseDeDatos(datosBaseDeDatos)        \n",
    "        datosVariable = request.get_json()   \n",
    "        tabla = \"robots\"\n",
    "        con = consultaBots(connection,datos=datosVariable,tabla=tabla)        \n",
    "        listaAcessToken=list()\n",
    "        if type(con)==list:\n",
    "            for i in range(len(con)):\n",
    "                print(con[i])\n",
    "                listaAcessToken.append(con[i][\"access_token\"])\n",
    "        else:\n",
    "            listaAcessToken.append(con[\"access_token\"])         \n",
    "        print(listaAcessToken)\n",
    "        return {\"access_token\":listaAcessToken}\n",
    "    except:\n",
    "        return datosVariable,status.HTTP_404_NOT_FOUND"
   ]
  },
  {
   "cell_type": "code",
   "execution_count": 7,
   "metadata": {},
   "outputs": [
    {
     "name": "stdout",
     "output_type": "stream",
     "text": [
      " * Serving Flask app \"__main__\" (lazy loading)\n",
      " * Environment: production\n",
      "   WARNING: This is a development server. Do not use it in a production deployment.\n",
      "   Use a production WSGI server instead.\n",
      " * Debug mode: off\n"
     ]
    },
    {
     "name": "stderr",
     "output_type": "stream",
     "text": [
      " * Running on http://localhost:8080/ (Press CTRL+C to quit)\n",
      "127.0.0.1 - - [01/Apr/2020 15:52:06] \"POST /access_token HTTP/1.1\" 200 -\n"
     ]
    },
    {
     "name": "stdout",
     "output_type": "stream",
     "text": [
      "consulta: select * from robots where access_token= 'EAAHNkscg2TcBAPwb5WSaxOM7IjDf57ZAoYu5TwDdUckaTK7dJc6nWq3fCaZBcKZBEZB3jHZCvbykRpYZAzpUHfIwmZCa45OcnXzND1FZBJNhaWyMmJMP6mKfJTr7bUJSVR8aZALoLyZC1M5mUUdIw54mVxVclTUecE2nSZCc3nTtheOKZAnLi8tdabkzHYFP1u8iwRoZD' ;\n",
      "{'name_robot': 'tronquito', 'id_face': '2153123008120093', 'block_ini': 'Saludo2', 'type_blocki': 'informativo', 'access_token': 'EAAHNkscg2TcBAPwb5WSaxOM7IjDf57ZAoYu5TwDdUckaTK7dJc6nWq3fCaZBcKZBEZB3jHZCvbykRpYZAzpUHfIwmZCa45OcnXzND1FZBJNhaWyMmJMP6mKfJTr7bUJSVR8aZALoLyZC1M5mUUdIw54mVxVclTUecE2nSZCc3nTtheOKZAnLi8tdabkzHYFP1u8iwRoZD', 'api_nlp': 'Sin Api', 'id_robot': 121, 'id_user': 'oliverbp88@gmail.com'}\n",
      "{'name_robot': 'tronquito', 'id_face': '2153123008120093', 'block_ini': 'Saludo2', 'type_blocki': 'informativo', 'access_token': 'EAAHNkscg2TcBAPwb5WSaxOM7IjDf57ZAoYu5TwDdUckaTK7dJc6nWq3fCaZBcKZBEZB3jHZCvbykRpYZAzpUHfIwmZCa45OcnXzND1FZBJNhaWyMmJMP6mKfJTr7bUJSVR8aZALoLyZC1M5mUUdIw54mVxVclTUecE2nSZCc3nTtheOKZAnLi8tdabkzHYFP1u8iwRoZD', 'api_nlp': 'Sin Api', 'id_robot': 122, 'id_user': 'oliverbp88@gmail.com'}\n",
      "['EAAHNkscg2TcBAPwb5WSaxOM7IjDf57ZAoYu5TwDdUckaTK7dJc6nWq3fCaZBcKZBEZB3jHZCvbykRpYZAzpUHfIwmZCa45OcnXzND1FZBJNhaWyMmJMP6mKfJTr7bUJSVR8aZALoLyZC1M5mUUdIw54mVxVclTUecE2nSZCc3nTtheOKZAnLi8tdabkzHYFP1u8iwRoZD', 'EAAHNkscg2TcBAPwb5WSaxOM7IjDf57ZAoYu5TwDdUckaTK7dJc6nWq3fCaZBcKZBEZB3jHZCvbykRpYZAzpUHfIwmZCa45OcnXzND1FZBJNhaWyMmJMP6mKfJTr7bUJSVR8aZALoLyZC1M5mUUdIw54mVxVclTUecE2nSZCc3nTtheOKZAnLi8tdabkzHYFP1u8iwRoZD']\n"
     ]
    }
   ],
   "source": [
    "if __name__ == \"__main__\":    \n",
    "    app.run(host='localhost',port='8080')"
   ]
  },
  {
   "cell_type": "code",
   "execution_count": null,
   "metadata": {},
   "outputs": [],
   "source": []
  }
 ],
 "metadata": {
  "kernelspec": {
   "display_name": "Python 3",
   "language": "python",
   "name": "python3"
  },
  "language_info": {
   "codemirror_mode": {
    "name": "ipython",
    "version": 3
   },
   "file_extension": ".py",
   "mimetype": "text/x-python",
   "name": "python",
   "nbconvert_exporter": "python",
   "pygments_lexer": "ipython3",
   "version": "3.7.4"
  }
 },
 "nbformat": 4,
 "nbformat_minor": 2
}
