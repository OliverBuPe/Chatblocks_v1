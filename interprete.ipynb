{
 "cells": [
  {
   "cell_type": "code",
   "execution_count": 1,
   "metadata": {},
   "outputs": [
    {
     "data": {
      "text/html": [
       "<style>.container { width:100% !important; }</style>"
      ],
      "text/plain": [
       "<IPython.core.display.HTML object>"
      ]
     },
     "metadata": {},
     "output_type": "display_data"
    }
   ],
   "source": [
    "import json\n",
    "import pika\n",
    "import uuid\n",
    "import threading \n",
    "import datetime\n",
    "import time\n",
    "import logging\n",
    "import random\n",
    "import requests\n",
    "import os\n",
    "from enum import Enum\n",
    "from flask import Flask, request, jsonify\n",
    "from flask_api import status\n",
    "from pymessenger import Element, Button\n",
    "from requests_toolbelt import MultipartEncoder\n",
    "from pymessenger import utils\n",
    "from IPython.core.display import display, HTML\n",
    "display(HTML(\"<style>.container { width:100% !important; }</style>\"))"
   ]
  },
  {
   "cell_type": "code",
   "execution_count": 2,
   "metadata": {},
   "outputs": [],
   "source": [
    "class NotificationType(Enum):\n",
    "    regular = \"REGULAR\"\n",
    "    silent_push = \"SILENT_PUSH\"\n",
    "    no_push = \"NO_PUSH\""
   ]
  },
  {
   "cell_type": "code",
   "execution_count": 3,
   "metadata": {},
   "outputs": [],
   "source": [
    "def verify_fb_token(token_sent,exito):\n",
    "    VERIFY_TOKEN='bot_oliver'  \n",
    "    if token_sent == VERIFY_TOKEN:\n",
    "        return exito\n",
    "    else:\n",
    "        return 'Verificacion de token invalida'"
   ]
  },
  {
   "cell_type": "code",
   "execution_count": 4,
   "metadata": {},
   "outputs": [],
   "source": [
    "def enviarNucleoLectura(recipient_id, id_face, mensaje,hilo): \n",
    "    content=''   \n",
    "    entidad={}\n",
    "    n =  {\"payload\": {\"robot\":\"none\",\"id_face\":\" \",\"recipient_id\":\" \",\"access_token\":\"none\",\"content\":\" \",\"type_resp\":\"read\",\"state\":\"none\", \"blocktype\":\"none\", \"opciones\":\"none\", \"entities\":\"\"}}\n",
    "    \n",
    "    data=json.dumps(n)\n",
    "    decoded=json.loads(data)\n",
    "    decoded[\"payload\"][\"id_face\"]=id_face\n",
    "    decoded[\"payload\"][\"recipient_id\"]=recipient_id\n",
    "    decoded[\"payload\"][\"content\"]=content\n",
    "    decoded[\"payload\"][\"entities\"]= entidad  \n",
    "    \n",
    "    data_string=json.dumps(decoded)    \n",
    "    hilo.corr_id = str(uuid.uuid4())\n",
    "    hilo.channel.basic_consume(on_message_callback=hilo.on_response, auto_ack=True, queue=hilo.queue_name) \n",
    "    try:\n",
    "        hilo.channel.basic_publish(exchange='',\n",
    "                              routing_key='Colaprueba23',\n",
    "                              properties=pika.BasicProperties(\n",
    "                                        reply_to = hilo.queue_name,\n",
    "                                        correlation_id = hilo.corr_id,\n",
    "                                        ),\n",
    "                                body=str(data_string))\n",
    "               \n",
    "        print('\\n________________________________________read _______________________________________________________________________________')\n",
    "        print('Mensaje enviado al Nucleo Logico Read-> ',data_string)  \n",
    "        hilo.start() \n",
    "    except Exception as error:\n",
    "        print(\"mensaje no enviado...\",str(error))"
   ]
  },
  {
   "cell_type": "code",
   "execution_count": 5,
   "metadata": {},
   "outputs": [],
   "source": [
    "def enviarNucleo(recipient_id, id_face, mensaje,hilo):        \n",
    "    cont=0\n",
    "    content=''\n",
    "    type_resp=''    \n",
    "    entidad= {}\n",
    "    if \"postback\" in mensaje[0]:\n",
    "        content=mensaje[0][\"postback\"][\"payload\"]\n",
    "        type_resp=\"postback\"\n",
    "        #entidad={mensaje[0][\"postback\"][\"payload\"]}\n",
    "    elif \"message\" in mensaje[0]:\n",
    "        content=mensaje[0][\"message\"][\"text\"]\n",
    "        type_resp=\"message\"    \n",
    "    estado = \"none\"\n",
    "    tipo=\"none\"\n",
    "    opciones=\"none\"     \n",
    "    n =  {\"payload\": {\"robot\":\" \",\"id_face\":\" \",\"recipient_id\":\" \",\"access_token\":\" \",\"content\":\" \",\"type_resp\":\" \",\"state\":\" \", \"blocktype\":\" \", \"opciones\":\" \", \"entities\":\"\"}}\n",
    "    data=json.dumps(n)\n",
    "    decoded=json.loads(data)\n",
    "    decoded[\"payload\"][\"robot\"]=\"none\"\n",
    "    decoded[\"payload\"][\"id_face\"]=id_face\n",
    "    decoded[\"payload\"][\"access_token\"]=\"none\"\n",
    "    decoded[\"payload\"][\"recipient_id\"]=recipient_id\n",
    "    decoded[\"payload\"][\"content\"]=content\n",
    "    decoded[\"payload\"][\"type_resp\"]=type_resp\n",
    "    decoded[\"payload\"][\"state\"]=estado\n",
    "    decoded[\"payload\"][\"blocktype\"]=tipo\n",
    "    decoded[\"payload\"][\"opciones\"]=opciones\n",
    "    decoded[\"payload\"][\"entities\"]= entidad\n",
    "    data_string=json.dumps(decoded)    \n",
    "    hilo.corr_id = str(uuid.uuid4())\n",
    "    hilo.channel.basic_consume(on_message_callback=hilo.on_response, auto_ack=True, queue=hilo.queue_name) \n",
    "    try:\n",
    "        hilo.channel.basic_publish(exchange='',\n",
    "                              routing_key='Colaprueba23',\n",
    "                              properties=pika.BasicProperties(\n",
    "                                        reply_to = hilo.queue_name,\n",
    "                                        correlation_id = hilo.corr_id,\n",
    "                                        ),\n",
    "                                body=str(data_string))\n",
    "        hilo.start()        \n",
    "        print('\\n______________________________________________no read__________________________________________________________________________')\n",
    "        print('Mensaje enviado al Nucleo Logico-> ',data_string)        \n",
    "    except Exception as error:\n",
    "        print(\"mensaje no enviado...\",str(error))"
   ]
  },
  {
   "cell_type": "code",
   "execution_count": 6,
   "metadata": {},
   "outputs": [],
   "source": [
    "def send_message(payload,access_token):\n",
    "    api_version = 6.0\n",
    "    graph_url = 'https://graph.facebook.com/v{0}'.format(api_version)\n",
    "    request_endpoint = '{0}/me/messages'.format(graph_url)\n",
    "    auth = {'access_token': access_token}  \n",
    "    response = requests.post(\n",
    "        request_endpoint,\n",
    "        params=auth,\n",
    "        json=payload\n",
    "    )\n",
    "    try:\n",
    "        result = response.json()\n",
    "        print(\"\\n---------------------------------------------------------------------------\")\n",
    "        print(\"mensaje enviado a la API de facebook:\\n\",result)\n",
    "        return result\n",
    "    except:\n",
    "        print(\"Error al enviar mensaje\")\n",
    "        return 'fail'\n"
   ]
  },
  {
   "cell_type": "code",
   "execution_count": 7,
   "metadata": {},
   "outputs": [],
   "source": [
    "def text_message(recipient_id, response,access_token):\n",
    "    payload={'message': {'text': response}, 'recipient': {'id': recipient_id}, 'notification_type': 'REGULAR'}\n",
    "    respuesta=send_message(payload,access_token)\n",
    "    return \"success\""
   ]
  },
  {
   "cell_type": "code",
   "execution_count": 8,
   "metadata": {},
   "outputs": [],
   "source": [
    "def button_message(recipient_id,content,options,access_token):\n",
    "    buttons = []\n",
    "    cont=0\n",
    "    for opc in options:\n",
    "        button = Button(title=opc, type='postback', payload=opc)\n",
    "        buttons.append(button)\n",
    "        cont=cont+1\n",
    "        if cont>2:\n",
    "            break    \n",
    "    payload={'message': {'attachment': {'type': 'template', 'payload': {'template_type': 'button', 'text': content, 'buttons': buttons}}}, 'recipient': {'id': recipient_id}, 'notification_type': 'REGULAR'}\n",
    "    result=send_message(payload,access_token)\n",
    "    assert type(result) is dict\n",
    "    assert result.get('message_id') is not None\n",
    "    assert result.get('recipient_id') is not None"
   ]
  },
  {
   "cell_type": "code",
   "execution_count": 9,
   "metadata": {},
   "outputs": [],
   "source": [
    "def slide_message(recipient_id,content,access_token):\n",
    "    buttons =[]\n",
    "    elements=[]\n",
    "    element={'title':'', 'image_url':'', 'subtitle':'', 'buttons':[]}\n",
    "    \n",
    "    cont=0    \n",
    "    for data in content:         \n",
    "        buttons =[]\n",
    "        cont=0 \n",
    "        for btn in data['buttons']:\n",
    "            if btn['typeButton']=='web_url':\n",
    "                button = Button(title=btn['titleButton'], type='web_url', url=btn['urlButton'])                \n",
    "            elif btn['typeButton']=='postback':\n",
    "                button = Button(title=btn['titleButton'], type='postback', payload=btn['payloadButton'])\n",
    "            buttons.append(button)\n",
    "            cont=cont+1\n",
    "            if cont>2:\n",
    "                break\n",
    "        \n",
    "        \n",
    "        element={'title':data['title'], 'image_url':data['image_url'], 'subtitle':data['subtitle'], 'buttons':buttons}\n",
    "        elements.append(element)   \n",
    "        \n",
    "    payload={\"recipient\": {\"id\":recipient_id}, \"message\":{\"attachment\": {\"type\":\"template\", \"payload\": {\"template_type\":\"generic\", \"elements\":elements}}}, 'notification_type': 'REGULAR'}\n",
    "    print(\"pyload slide: \",payload)\n",
    "    result=send_message(payload,access_token)\n",
    "    assert type(result) is dict\n",
    "    assert result.get('message_id') is not None\n",
    "    assert result.get('recipient_id') is not None"
   ]
  },
  {
   "cell_type": "code",
   "execution_count": 10,
   "metadata": {},
   "outputs": [],
   "source": [
    "def ticket_message(recipient_id,content,access_token):\n",
    "    payload={\"recipient\":{\"id\":recipient_id},\"message\":{\"attachment\":{\"type\":\"template\",\"payload\":content}}}    \n",
    "    result=send_message(payload,access_token)\n",
    "    assert type(result) is dict\n",
    "    assert result.get('message_id') is not None\n",
    "    assert result.get('recipient_id') is not None"
   ]
  },
  {
   "cell_type": "code",
   "execution_count": 11,
   "metadata": {},
   "outputs": [],
   "source": [
    "def conv(mensaje):\n",
    "    ans=' '\n",
    "    contenido=mensaje[\"Respuesta\"][\"content\"]\n",
    "    estado=mensaje[\"Respuesta\"][\"payload\"][\"state\"]\n",
    "    entidad= mensaje[\"Respuesta\"][\"payload\"][\"entities\"]\n",
    "    tipo= mensaje[\"Respuesta\"][\"blockType\"]\n",
    "    recipient_id=mensaje['Respuesta']['payload']['recipient_id']\n",
    "    access_token=mensaje['Respuesta']['payload']['access_token']    \n",
    "    if(tipo==\"quickReply\" or tipo==\"quickReplyDinamico\"):\n",
    "        button_message(recipient_id, contenido, mensaje[\"Respuesta\"][\"options\"],access_token)\n",
    "        return entidad, ans, estado, tipo, mensaje[\"Respuesta\"][\"options\"]        \n",
    "    elif(tipo==\"input\" or tipo==\"inputDinamico\"):\n",
    "        text_message(recipient_id, contenido,access_token)\n",
    "        return entidad, ans, estado, tipo, 'vacio'    \n",
    "    elif(tipo==\"informativo\" or tipo==\"informativoDinamico\"):\n",
    "        text_message(recipient_id, contenido,access_token)\n",
    "        return entidad, str('next'), estado, tipo, 'vacio'    \n",
    "    elif(tipo==\"slide\" or tipo==\"slideBuy\" or tipo==\"slideDinamico\"):\n",
    "        slide_message(recipient_id, contenido,access_token)\n",
    "        return entidad, str('next'), estado, tipo, 'vacio'\n",
    "    elif(tipo==\"ticket\"):\n",
    "        ticket_message(recipient_id, contenido,access_token)\n",
    "        return entidad, str('next'), estado, tipo, 'vacio'\n",
    "    else:\n",
    "        return entidad, str('hey'), estado, tipo, 'vacio'"
   ]
  },
  {
   "cell_type": "code",
   "execution_count": 12,
   "metadata": {},
   "outputs": [],
   "source": [
    "class Nucleo_Cliente2(threading.Thread):\n",
    "    \n",
    "    def on_response(self, ch, method, props, body):\n",
    "        if self.corr_id == props.correlation_id:\n",
    "            self.response = body\n",
    "            \n",
    "    def __init__(self, nombreHilo):    \n",
    "        threading.Thread.__init__(self, name=nombreHilo, target=Nucleo_Cliente2.run)\n",
    "        self.nombrehilo=nombreHilo\n",
    "        self.connection = pika.BlockingConnection(pika.ConnectionParameters('localhost'))\n",
    "        self.channel = self.connection.channel()\n",
    "        self.result = self.channel.queue_declare(queue='',exclusive=True)\n",
    "        self.queue_name = self.result.method.queue\n",
    "        self.corr_id = ' ' \n",
    "        \n",
    "    def run(self):\n",
    "        try:                \n",
    "            self.response = None\n",
    "            self.response = self.call()\n",
    "            print(\" [.] Got %r\", self.response) \n",
    "        except Exception as error:\n",
    "            print(\"Error run :\",str(error))     \n",
    "            \n",
    "    def call(self):\n",
    "        print(\"hilo consume\")\n",
    "        cont = 0        \n",
    "        while(cont>=0):\n",
    "            self.response = None\n",
    "            while self.response is None:\n",
    "                self.connection.process_data_events()            \n",
    "            if len(self.response)>10:\n",
    "                print(self.response)\n",
    "                data = json.loads(self.response)                \n",
    "                if  data.get(\"payload\"):\n",
    "                    break\n",
    "                else:                \n",
    "                    print('\\n_________________________________________________________________________________________________________________________')\n",
    "                    print('Respuesta del Nucleo Logico-> ',data) \n",
    "                    entidad, resp, estado, tipo, opciones= conv(data)\n",
    "                    break\n",
    "                \n"
   ]
  },
  {
   "cell_type": "code",
   "execution_count": 13,
   "metadata": {
    "scrolled": true
   },
   "outputs": [
    {
     "name": "stdout",
     "output_type": "stream",
     "text": [
      " * Serving Flask app \"__main__\" (lazy loading)\n",
      " * Environment: production\n",
      "   WARNING: This is a development server. Do not use it in a production deployment.\n",
      "   Use a production WSGI server instead.\n",
      " * Debug mode: off\n"
     ]
    },
    {
     "name": "stderr",
     "output_type": "stream",
     "text": [
      " * Running on http://127.0.0.1:5000/ (Press CTRL+C to quit)\n",
      "127.0.0.1 - - [02/Oct/2020 11:45:15] \"GET /apiREST/v1?hub.mode=subscribe&hub.challenge=1160904360&hub.verify_token=bot_oliver HTTP/1.1\" 200 -\n"
     ]
    },
    {
     "name": "stdout",
     "output_type": "stream",
     "text": [
      " petición GET\n",
      "metodo GET...\n",
      "request <Request 'http://7bcdfce50e9a.ngrok.io/apiREST/v1?hub.mode=subscribe&hub.challenge=1160904360&hub.verify_token=bot_oliver' [GET]>\n",
      "bot_oliver\n"
     ]
    },
    {
     "name": "stderr",
     "output_type": "stream",
     "text": [
      "127.0.0.1 - - [02/Oct/2020 11:46:15] \"POST /apiREST/v1 HTTP/1.1\" 200 -\n"
     ]
    },
    {
     "name": "stdout",
     "output_type": "stream",
     "text": [
      "\n",
      "_________________________________________________________________________________________________________________________\n",
      "Mesaje de la API de Facebook-> \n",
      " {'object': 'page', 'entry': [{'id': '430761350747124', 'time': 1601657175409, 'messaging': [{'sender': {'id': '2566943440020277'}, 'recipient': {'id': '430761350747124'}, 'timestamp': 1601657175214, 'message': {'mid': 'm_fLzdpIP2o_oubnR5P9PsaHQZ8rWMkng5G3qw4TWUTaciJuajxnC4XOGX5IsOfJhhxXtxpQyzqtIFmc4l3rcSQA', 'text': 'hola'}}]}]}\n",
      "hilo consume\n",
      "\n",
      "______________________________________________no read__________________________________________________________________________\n",
      "Mensaje enviado al Nucleo Logico->  {\"payload\": {\"robot\": \"none\", \"id_face\": \"430761350747124\", \"recipient_id\": \"2566943440020277\", \"access_token\": \"none\", \"content\": \"hola\", \"type_resp\": \"message\", \"state\": \"none\", \"blocktype\": \"none\", \"opciones\": \"none\", \"entities\": {}}}\n",
      "b'{\"Respuesta\": {\"content\": \"\\\\u00a1Hola! Soy Niza.\", \"next_id\": \"next\", \"blockType\": \"informativo\", \"contentType\": \"text\", \"typingTime\": \"3\", \"payload\": {\"content\": \"\", \"state\": \"mensajesIntroduccion_01inicial_inicial\", \"recipient_id\": \"2566943440020277\", \"entities\": {}, \"access_token\": \"EAAJjZAQWaAbgBAAxC53jaIzoxSpgY3qZBc0pYDlb5g3E58pTJ35vAzrsZBVSyiYPhpgZB3ZAeNqx18ImA0LZCcsqL96hFDqsE9fcXUk52ofVsqWeerVDKp0cGo2wvohq5ISdkCUX7ZByd4c80Y6BstQYbe5noQhC8L7wdtMuKyZAAgZDZD\"}}}'\n",
      "\n",
      "_________________________________________________________________________________________________________________________\n",
      "Respuesta del Nucleo Logico->  {'Respuesta': {'content': '¡Hola! Soy Niza.', 'next_id': 'next', 'blockType': 'informativo', 'contentType': 'text', 'typingTime': '3', 'payload': {'content': '', 'state': 'mensajesIntroduccion_01inicial_inicial', 'recipient_id': '2566943440020277', 'entities': {}, 'access_token': 'EAAJjZAQWaAbgBAAxC53jaIzoxSpgY3qZBc0pYDlb5g3E58pTJ35vAzrsZBVSyiYPhpgZB3ZAeNqx18ImA0LZCcsqL96hFDqsE9fcXUk52ofVsqWeerVDKp0cGo2wvohq5ISdkCUX7ZByd4c80Y6BstQYbe5noQhC8L7wdtMuKyZAAgZDZD'}}}\n",
      "\n",
      "---------------------------------------------------------------------------\n",
      "mensaje enviado a la API de facebook:\n",
      " {'recipient_id': '2566943440020277', 'message_id': 'm_bZeEwKsjwLnLoIwXAxo4jnQZ8rWMkng5G3qw4TWUTaf5ZFr84ev4AXq_WvTX7YudVNR7_oEPJlSymcV0dJAjvg'}\n",
      " [.] Got %r None\n"
     ]
    },
    {
     "name": "stderr",
     "output_type": "stream",
     "text": [
      "127.0.0.1 - - [02/Oct/2020 11:46:18] \"POST /apiREST/v1 HTTP/1.1\" 200 -\n"
     ]
    },
    {
     "name": "stdout",
     "output_type": "stream",
     "text": [
      "\n",
      "_________________________________________________________________________________________________________________________\n",
      "Mesaje de la API de Facebook-> \n",
      " {'object': 'page', 'entry': [{'id': '430761350747124', 'time': 1601657177954, 'messaging': [{'sender': {'id': '2566943440020277'}, 'recipient': {'id': '430761350747124'}, 'timestamp': 1601657178103, 'read': {'watermark': 1601657177740}}]}]}\n",
      "\n",
      "________________________________________read _______________________________________________________________________________\n",
      "Mensaje enviado al Nucleo Logico Read->  {\"payload\": {\"robot\": \"none\", \"id_face\": \"430761350747124\", \"recipient_id\": \"2566943440020277\", \"access_token\": \"none\", \"content\": \"\", \"type_resp\": \"read\", \"state\": \"none\", \"blocktype\": \"none\", \"opciones\": \"none\", \"entities\": {}}}\n",
      "hilo consume\n",
      "\n",
      "_________________________________________________________________________________________________________________________\n",
      "Mesaje de la API de Facebook-> \n",
      " {'object': 'page', 'entry': [{'id': '430761350747124', 'time': 1601657202452, 'messaging': [{'sender': {'id': '2566943440020277'}, 'recipient': {'id': '430761350747124'}, 'timestamp': 1601657202354, 'message': {'mid': 'm_QAOH07uSdd3eDxuNrXO7jnQZ8rWMkng5G3qw4TWUTadjukB-QqySyM6IY293wXpMklANnmHi47wcZD-h3d7D7w', 'text': 'ok'}}]}]}\n"
     ]
    },
    {
     "name": "stderr",
     "output_type": "stream",
     "text": [
      "127.0.0.1 - - [02/Oct/2020 11:46:43] \"POST /apiREST/v1 HTTP/1.1\" 200 -\n"
     ]
    },
    {
     "name": "stdout",
     "output_type": "stream",
     "text": [
      "hilo consume\n",
      "______________________________________________no read__________________________________________________________________________\n",
      "Mensaje enviado al Nucleo Logico->  \n",
      "{\"payload\": {\"robot\": \"none\", \"id_face\": \"430761350747124\", \"recipient_id\": \"2566943440020277\", \"access_token\": \"none\", \"content\": \"ok\", \"type_resp\": \"message\", \"state\": \"none\", \"blocktype\": \"none\", \"opciones\": \"none\", \"entities\": {}}}\n",
      "b'{\"Respuesta\": {\"content\": \"Un asistente virtual para atenci\\\\u00f3n ciudadana puedo responder dudas sobre tu agua potable\", \"next_id\": \"next\", \"blockType\": \"informativo\", \"contentType\": \"text\", \"typingTime\": \"3\", \"payload\": {\"content\": \"\", \"state\": \"mensajesIntroduccion_01inicial_inicial\", \"recipient_id\": \"2566943440020277\", \"entities\": {}, \"access_token\": \"EAAJjZAQWaAbgBAAxC53jaIzoxSpgY3qZBc0pYDlb5g3E58pTJ35vAzrsZBVSyiYPhpgZB3ZAeNqx18ImA0LZCcsqL96hFDqsE9fcXUk52ofVsqWeerVDKp0cGo2wvohq5ISdkCUX7ZByd4c80Y6BstQYbe5noQhC8L7wdtMuKyZAAgZDZD\"}}}'\n",
      "\n",
      "_________________________________________________________________________________________________________________________\n",
      "Respuesta del Nucleo Logico->  {'Respuesta': {'content': 'Un asistente virtual para atención ciudadana puedo responder dudas sobre tu agua potable', 'next_id': 'next', 'blockType': 'informativo', 'contentType': 'text', 'typingTime': '3', 'payload': {'content': '', 'state': 'mensajesIntroduccion_01inicial_inicial', 'recipient_id': '2566943440020277', 'entities': {}, 'access_token': 'EAAJjZAQWaAbgBAAxC53jaIzoxSpgY3qZBc0pYDlb5g3E58pTJ35vAzrsZBVSyiYPhpgZB3ZAeNqx18ImA0LZCcsqL96hFDqsE9fcXUk52ofVsqWeerVDKp0cGo2wvohq5ISdkCUX7ZByd4c80Y6BstQYbe5noQhC8L7wdtMuKyZAAgZDZD'}}}\n",
      "\n",
      "---------------------------------------------------------------------------\n",
      "mensaje enviado a la API de facebook:\n",
      " {'recipient_id': '2566943440020277', 'message_id': 'm_ThT-T1feDlBce3uBZ4LCRXQZ8rWMkng5G3qw4TWUTadxn903XPPzayphEj5bBZiiR6U0D64nDQkddc5__gSuXQ'}\n",
      " [.] Got %r None\n",
      "\n",
      "_________________________________________________________________________________________________________________________\n",
      "Mesaje de la API de Facebook-> \n",
      " {'object': 'page', 'entry': [{'id': '430761350747124', 'time': 1601657208894, 'messaging': [{'sender': {'id': '2566943440020277'}, 'recipient': {'id': '430761350747124'}, 'timestamp': 1601657209050, 'read': {'watermark': 1601657204715}}]}]}\n"
     ]
    },
    {
     "name": "stderr",
     "output_type": "stream",
     "text": [
      "127.0.0.1 - - [02/Oct/2020 11:46:49] \"POST /apiREST/v1 HTTP/1.1\" 200 -\n"
     ]
    },
    {
     "name": "stdout",
     "output_type": "stream",
     "text": [
      "\n",
      "________________________________________read _______________________________________________________________________________\n",
      "Mensaje enviado al Nucleo Logico Read->  {\"payload\": {\"robot\": \"none\", \"id_face\": \"430761350747124\", \"recipient_id\": \"2566943440020277\", \"access_token\": \"none\", \"content\": \"\", \"type_resp\": \"read\", \"state\": \"none\", \"blocktype\": \"none\", \"opciones\": \"none\", \"entities\": {}}}\n",
      "hilo consume\n",
      "\n",
      "_________________________________________________________________________________________________________________________\n",
      "Mesaje de la API de Facebook-> \n",
      " {'object': 'page', 'entry': [{'id': '430761350747124', 'time': 1601657257878, 'messaging': [{'sender': {'id': '3812585132088508'}, 'recipient': {'id': '430761350747124'}, 'timestamp': 1601657257723, 'message': {'mid': 'm_V92sGUK2Z7ru1_uxO512joDIHsg4Bwph1PFsDRmK-uF-5kflPqSBGhM2JT-HV1x-SfuBsoEewryPeJWQ568i3w', 'text': 'hi'}}]}]}\n"
     ]
    },
    {
     "name": "stderr",
     "output_type": "stream",
     "text": [
      "127.0.0.1 - - [02/Oct/2020 11:47:39] \"POST /apiREST/v1 HTTP/1.1\" 200 -\n"
     ]
    },
    {
     "name": "stdout",
     "output_type": "stream",
     "text": [
      "hilo consume\n",
      "\n",
      "______________________________________________no read__________________________________________________________________________\n",
      "Mensaje enviado al Nucleo Logico->  {\"payload\": {\"robot\": \"none\", \"id_face\": \"430761350747124\", \"recipient_id\": \"3812585132088508\", \"access_token\": \"none\", \"content\": \"hi\", \"type_resp\": \"message\", \"state\": \"none\", \"blocktype\": \"none\", \"opciones\": \"none\", \"entities\": {}}}\n",
      "b'{\"Respuesta\": {\"content\": \"\\\\u00bfAhora en qu\\\\u00e9 puedo ayudarte?\", \"next_id\": \"next\", \"blockType\": \"informativo\", \"contentType\": \"text\", \"typingTime\": \"3\", \"payload\": {\"content\": \"\", \"state\": \"mensajePreMenu_01inicial_inicial\", \"recipient_id\": \"3812585132088508\", \"entities\": {\"qr_menuIntro\": \"hola\", \"var_pregunta\": \"dormir\", \"qr_personalidad\": \"hi\"}, \"access_token\": \"EAAJjZAQWaAbgBAAxC53jaIzoxSpgY3qZBc0pYDlb5g3E58pTJ35vAzrsZBVSyiYPhpgZB3ZAeNqx18ImA0LZCcsqL96hFDqsE9fcXUk52ofVsqWeerVDKp0cGo2wvohq5ISdkCUX7ZByd4c80Y6BstQYbe5noQhC8L7wdtMuKyZAAgZDZD\"}}}'\n",
      "\n",
      "_________________________________________________________________________________________________________________________\n",
      "Respuesta del Nucleo Logico->  {'Respuesta': {'content': '¿Ahora en qué puedo ayudarte?', 'next_id': 'next', 'blockType': 'informativo', 'contentType': 'text', 'typingTime': '3', 'payload': {'content': '', 'state': 'mensajePreMenu_01inicial_inicial', 'recipient_id': '3812585132088508', 'entities': {'qr_menuIntro': 'hola', 'var_pregunta': 'dormir', 'qr_personalidad': 'hi'}, 'access_token': 'EAAJjZAQWaAbgBAAxC53jaIzoxSpgY3qZBc0pYDlb5g3E58pTJ35vAzrsZBVSyiYPhpgZB3ZAeNqx18ImA0LZCcsqL96hFDqsE9fcXUk52ofVsqWeerVDKp0cGo2wvohq5ISdkCUX7ZByd4c80Y6BstQYbe5noQhC8L7wdtMuKyZAAgZDZD'}}}\n",
      "\n",
      "---------------------------------------------------------------------------\n",
      "mensaje enviado a la API de facebook:\n",
      " {'recipient_id': '3812585132088508', 'message_id': 'm_fTB7jOopyxcnCQvMHRhtb4DIHsg4Bwph1PFsDRmK-uFFo1TjLvXxEBvicj6jRHPx5jXfPd5f-EL7_43TH-59TA'}\n",
      " [.] Got %r None\n",
      "\n",
      "_________________________________________________________________________________________________________________________\n",
      "Mesaje de la API de Facebook-> \n",
      " {'object': 'page', 'entry': [{'id': '430761350747124', 'time': 1601657276217, 'messaging': [{'sender': {'id': '3812585132088508'}, 'recipient': {'id': '430761350747124'}, 'timestamp': 1601657276377, 'read': {'watermark': 1601657263912}}]}]}\n"
     ]
    },
    {
     "name": "stderr",
     "output_type": "stream",
     "text": [
      "127.0.0.1 - - [02/Oct/2020 11:47:58] \"POST /apiREST/v1 HTTP/1.1\" 200 -\n"
     ]
    },
    {
     "name": "stdout",
     "output_type": "stream",
     "text": [
      "\n",
      "________________________________________read _______________________________________________________________________________\n",
      "Mensaje enviado al Nucleo Logico Read->  {\"payload\": {\"robot\": \"none\", \"id_face\": \"430761350747124\", \"recipient_id\": \"3812585132088508\", \"access_token\": \"none\", \"content\": \"\", \"type_resp\": \"read\", \"state\": \"none\", \"blocktype\": \"none\", \"opciones\": \"none\", \"entities\": {}}}\n",
      "hilo consume\n",
      "\n",
      "_________________________________________________________________________________________________________________________\n",
      "Mesaje de la API de Facebook-> \n",
      " {'object': 'page', 'entry': [{'id': '430761350747124', 'time': 1601657301004, 'messaging': [{'sender': {'id': '3812585132088508'}, 'recipient': {'id': '430761350747124'}, 'timestamp': 1601657300942, 'message': {'mid': 'm_1UiAOB9napQe4Nbjuy8zoIDIHsg4Bwph1PFsDRmK-uFgfgfSxpIWjHnA2utULl29vePXDCwzom7F_zyRKgS3gA', 'text': 'a'}}]}]}\n"
     ]
    },
    {
     "name": "stderr",
     "output_type": "stream",
     "text": [
      "127.0.0.1 - - [02/Oct/2020 11:48:22] \"POST /apiREST/v1 HTTP/1.1\" 200 -\n"
     ]
    },
    {
     "name": "stdout",
     "output_type": "stream",
     "text": [
      "hilo consume\n",
      "______________________________________________no read__________________________________________________________________________\n",
      "Mensaje enviado al Nucleo Logico->  \n",
      "{\"payload\": {\"robot\": \"none\", \"id_face\": \"430761350747124\", \"recipient_id\": \"3812585132088508\", \"access_token\": \"none\", \"content\": \"a\", \"type_resp\": \"message\", \"state\": \"none\", \"blocktype\": \"none\", \"opciones\": \"none\", \"entities\": {}}}b'{\"Respuesta\": {\"content\": \"Selecciona una opci\\\\u00f3n\", \"next_id\": \"mensajesIntroduccion_01inicial_inicial,infoEdad_01inicial_inicial,infoColor_01inicial_inicial\", \"blockType\": \"quickReply\", \"contentType\": \" \", \"typingTime\": \"3\", \"payload\": {\"content\": \"\", \"state\": \"qrPersonalidad_01inicial_inicial\", \"recipient_id\": \"3812585132088508\", \"entities\": {\"qr_menuIntro\": \"hola\", \"var_pregunta\": \"dormir\", \"qr_personalidad\": \"hi\"}, \"access_token\": \"EAAJjZAQWaAbgBAAxC53jaIzoxSpgY3qZBc0pYDlb5g3E58pTJ35vAzrsZBVSyiYPhpgZB3ZAeNqx18ImA0LZCcsqL96hFDqsE9fcXUk52ofVsqWeerVDKp0cGo2wvohq5ISdkCUX7ZByd4c80Y6BstQYbe5noQhC8L7wdtMuKyZAAgZDZD\"}, \"options\": [\"\\\\u00bfCon qui\\\\u00e9n estoy hablando?\", \"\\\\u00bfQu\\\\u00e9 edad tienes?\", \"\\\\u00bfCu\\\\u00e1l es tu color favorito?\"], \"default_id\": \"NLPpersonalidad_01inicial_inicial\", \"save_var\": \"hi\"}}'\n",
      "\n",
      "_________________________________________________________________________________________________________________________\n",
      "Respuesta del Nucleo Logico->  {'Respuesta': {'content': 'Selecciona una opción', 'next_id': 'mensajesIntroduccion_01inicial_inicial,infoEdad_01inicial_inicial,infoColor_01inicial_inicial', 'blockType': 'quickReply', 'contentType': ' ', 'typingTime': '3', 'payload': {'content': '', 'state': 'qrPersonalidad_01inicial_inicial', 'recipient_id': '3812585132088508', 'entities': {'qr_menuIntro': 'hola', 'var_pregunta': 'dormir', 'qr_personalidad': 'hi'}, 'access_token': 'EAAJjZAQWaAbgBAAxC53jaIzoxSpgY3qZBc0pYDlb5g3E58pTJ35vAzrsZBVSyiYPhpgZB3ZAeNqx18ImA0LZCcsqL96hFDqsE9fcXUk52ofVsqWeerVDKp0cGo2wvohq5ISdkCUX7ZByd4c80Y6BstQYbe5noQhC8L7wdtMuKyZAAgZDZD'}, 'options': ['¿Con quién estoy hablando?', '¿Qué edad tienes?', '¿Cuál es tu color favorito?'], 'default_id': 'NLPpersonalidad_01inicial_inicial', 'save_var': 'hi'}}\n",
      "\n",
      "\n",
      "---------------------------------------------------------------------------\n",
      "mensaje enviado a la API de facebook:\n",
      " {'recipient_id': '3812585132088508', 'message_id': 'm_TCEyp34p1NAXMFG8ON8u1IDIHsg4Bwph1PFsDRmK-uGNXB2hRY5hvYlXXiBOLrdZPEp8ECrmV952qmBJrTbIVA'}\n",
      " [.] Got %r None\n",
      "\n",
      "_________________________________________________________________________________________________________________________\n",
      "Mesaje de la API de Facebook-> \n",
      " {'object': 'page', 'entry': [{'id': '430761350747124', 'time': 1601657309420, 'messaging': [{'sender': {'id': '3812585132088508'}, 'recipient': {'id': '430761350747124'}, 'timestamp': 1601657309578, 'read': {'watermark': 1601657303507}}]}]}\n"
     ]
    },
    {
     "name": "stderr",
     "output_type": "stream",
     "text": [
      "127.0.0.1 - - [02/Oct/2020 11:48:30] \"POST /apiREST/v1 HTTP/1.1\" 200 -\n"
     ]
    },
    {
     "name": "stdout",
     "output_type": "stream",
     "text": [
      "\n",
      "________________________________________read _______________________________________________________________________________\n",
      "Mensaje enviado al Nucleo Logico Read->  {\"payload\": {\"robot\": \"none\", \"id_face\": \"430761350747124\", \"recipient_id\": \"3812585132088508\", \"access_token\": \"none\", \"content\": \"\", \"type_resp\": \"read\", \"state\": \"none\", \"blocktype\": \"none\", \"opciones\": \"none\", \"entities\": {}}}\n",
      "hilo consume\n",
      "b'{\"payload\": {\"robot\": 336, \"id_face\": \"430761350747124\", \"recipient_id\": \"3812585132088508\", \"access_token\": \"EAAJjZAQWaAbgBAAxC53jaIzoxSpgY3qZBc0pYDlb5g3E58pTJ35vAzrsZBVSyiYPhpgZB3ZAeNqx18ImA0LZCcsqL96hFDqsE9fcXUk52ofVsqWeerVDKp0cGo2wvohq5ISdkCUX7ZByd4c80Y6BstQYbe5noQhC8L7wdtMuKyZAAgZDZD\", \"content\": \"\", \"type_resp\": \"read\", \"state\": \"none\", \"blocktype\": \"none\", \"opciones\": \"none\", \"entities\": {}}}'\n",
      " [.] Got %r None\n",
      "\n",
      "_________________________________________________________________________________________________________________________\n",
      "Mesaje de la API de Facebook-> \n",
      " {'object': 'page', 'entry': [{'id': '430761350747124', 'time': 1601657319577, 'messaging': [{'sender': {'id': '3812585132088508'}, 'recipient': {'id': '430761350747124'}, 'timestamp': 1601657319407, 'postback': {'title': '¿Con quién estoy hablan...', 'payload': '¿Con quién estoy hablando?'}}]}]}\n"
     ]
    },
    {
     "name": "stderr",
     "output_type": "stream",
     "text": [
      "127.0.0.1 - - [02/Oct/2020 11:48:41] \"POST /apiREST/v1 HTTP/1.1\" 200 -\n"
     ]
    },
    {
     "name": "stdout",
     "output_type": "stream",
     "text": [
      "hilo consume\n",
      "\n",
      "______________________________________________no read__________________________________________________________________________\n",
      "Mensaje enviado al Nucleo Logico->  {\"payload\": {\"robot\": \"none\", \"id_face\": \"430761350747124\", \"recipient_id\": \"3812585132088508\", \"access_token\": \"none\", \"content\": \"\\u00bfCon qui\\u00e9n estoy hablando?\", \"type_resp\": \"postback\", \"state\": \"none\", \"blocktype\": \"none\", \"opciones\": \"none\", \"entities\": {}}}\n",
      "b'{\"Respuesta\": {\"content\": \"Te gustar\\\\u00eda saber c\\\\u00f3mo utilizarme\", \"next_id\": \"next\", \"blockType\": \"informativo\", \"contentType\": \"text\", \"typingTime\": \"3\", \"payload\": {\"content\": \"\", \"state\": \"mensajesIntroduccion_01inicial_inicial\", \"recipient_id\": \"3812585132088508\", \"entities\": {\"qr_menuIntro\": \"hola\", \"var_pregunta\": \"dormir\", \"qr_personalidad\": \"\\\\u00bfCon qui\\\\u00e9n estoy hablando?\"}, \"access_token\": \"EAAJjZAQWaAbgBAAxC53jaIzoxSpgY3qZBc0pYDlb5g3E58pTJ35vAzrsZBVSyiYPhpgZB3ZAeNqx18ImA0LZCcsqL96hFDqsE9fcXUk52ofVsqWeerVDKp0cGo2wvohq5ISdkCUX7ZByd4c80Y6BstQYbe5noQhC8L7wdtMuKyZAAgZDZD\"}}}'\n",
      "\n",
      "_________________________________________________________________________________________________________________________\n",
      "Respuesta del Nucleo Logico->  {'Respuesta': {'content': 'Te gustaría saber cómo utilizarme', 'next_id': 'next', 'blockType': 'informativo', 'contentType': 'text', 'typingTime': '3', 'payload': {'content': '', 'state': 'mensajesIntroduccion_01inicial_inicial', 'recipient_id': '3812585132088508', 'entities': {'qr_menuIntro': 'hola', 'var_pregunta': 'dormir', 'qr_personalidad': '¿Con quién estoy hablando?'}, 'access_token': 'EAAJjZAQWaAbgBAAxC53jaIzoxSpgY3qZBc0pYDlb5g3E58pTJ35vAzrsZBVSyiYPhpgZB3ZAeNqx18ImA0LZCcsqL96hFDqsE9fcXUk52ofVsqWeerVDKp0cGo2wvohq5ISdkCUX7ZByd4c80Y6BstQYbe5noQhC8L7wdtMuKyZAAgZDZD'}}}\n",
      "\n",
      "---------------------------------------------------------------------------\n",
      "mensaje enviado a la API de facebook:\n",
      " {'recipient_id': '3812585132088508', 'message_id': 'm_YuwGjvGTi84onWymZJzVGIDIHsg4Bwph1PFsDRmK-uGLzvpjDofJPGz9phj5iWAqnFCshHk1tjlGRaIyuiazjQ'}\n",
      " [.] Got %r None\n",
      "\n",
      "_________________________________________________________________________________________________________________________\n",
      "Mesaje de la API de Facebook-> \n",
      " {'object': 'page', 'entry': [{'id': '430761350747124', 'time': 1601657327651, 'messaging': [{'sender': {'id': '3812585132088508'}, 'recipient': {'id': '430761350747124'}, 'timestamp': 1601657327799, 'read': {'watermark': 1601657324408}}]}]}\n",
      "\n",
      "________________________________________read _______________________________________________________________________________\n",
      "Mensaje enviado al Nucleo Logico Read->  {\"payload\": {\"robot\": \"none\", \"id_face\": \"430761350747124\", \"recipient_id\": \"3812585132088508\", \"access_token\": \"none\", \"content\": \"\", \"type_resp\": \"read\", \"state\": \"none\", \"blocktype\": \"none\", \"opciones\": \"none\", \"entities\": {}}}\n",
      "hilo consume\n"
     ]
    },
    {
     "name": "stderr",
     "output_type": "stream",
     "text": [
      "127.0.0.1 - - [02/Oct/2020 11:48:48] \"POST /apiREST/v1 HTTP/1.1\" 200 -\n"
     ]
    },
    {
     "name": "stdout",
     "output_type": "stream",
     "text": [
      "b'{\"Respuesta\": {\"content\": \"Toca uno de los botones azules para saber tu elecci\\\\u00f3n\", \"next_id\": \"mensajesIntroduccion2_01inicial_inicial,mensajePreMenu_01inicial_inicial\", \"blockType\": \"quickReply\", \"contentType\": \" \", \"typingTime\": \"5\", \"payload\": {\"content\": \"\", \"state\": \"menuIntroduccion_01inicial_inicial\", \"recipient_id\": \"3812585132088508\", \"entities\": {\"qr_menuIntro\": \"hola\", \"var_pregunta\": \"dormir\", \"qr_personalidad\": \"\\\\u00bfCon qui\\\\u00e9n estoy hablando?\"}, \"access_token\": \"EAAJjZAQWaAbgBAAxC53jaIzoxSpgY3qZBc0pYDlb5g3E58pTJ35vAzrsZBVSyiYPhpgZB3ZAeNqx18ImA0LZCcsqL96hFDqsE9fcXUk52ofVsqWeerVDKp0cGo2wvohq5ISdkCUX7ZByd4c80Y6BstQYbe5noQhC8L7wdtMuKyZAAgZDZD\"}, \"options\": [\"\\\\u00a1ok veamos!\", \"Prefiero ir al men\\\\u00fa\"], \"default_id\": \"mensajePreMenu_01inicial_inicial\", \"save_var\": \"hola\"}}'\n",
      "\n",
      "_________________________________________________________________________________________________________________________\n",
      "Respuesta del Nucleo Logico->  {'Respuesta': {'content': 'Toca uno de los botones azules para saber tu elección', 'next_id': 'mensajesIntroduccion2_01inicial_inicial,mensajePreMenu_01inicial_inicial', 'blockType': 'quickReply', 'contentType': ' ', 'typingTime': '5', 'payload': {'content': '', 'state': 'menuIntroduccion_01inicial_inicial', 'recipient_id': '3812585132088508', 'entities': {'qr_menuIntro': 'hola', 'var_pregunta': 'dormir', 'qr_personalidad': '¿Con quién estoy hablando?'}, 'access_token': 'EAAJjZAQWaAbgBAAxC53jaIzoxSpgY3qZBc0pYDlb5g3E58pTJ35vAzrsZBVSyiYPhpgZB3ZAeNqx18ImA0LZCcsqL96hFDqsE9fcXUk52ofVsqWeerVDKp0cGo2wvohq5ISdkCUX7ZByd4c80Y6BstQYbe5noQhC8L7wdtMuKyZAAgZDZD'}, 'options': ['¡ok veamos!', 'Prefiero ir al menú'], 'default_id': 'mensajePreMenu_01inicial_inicial', 'save_var': 'hola'}}\n",
      "\n",
      "---------------------------------------------------------------------------\n",
      "mensaje enviado a la API de facebook:\n",
      " {'recipient_id': '3812585132088508', 'message_id': 'm_swEP67Yc0_ZJTE4ricW4doDIHsg4Bwph1PFsDRmK-uF9F1jgUTsXFECnqjOzozCDnXArrY3kjNtSrGbr1S6aDw'}\n",
      " [.] Got %r None\n",
      "\n",
      "_________________________________________________________________________________________________________________________\n",
      "Mesaje de la API de Facebook-> \n",
      " {'object': 'page', 'entry': [{'id': '430761350747124', 'time': 1601657330901, 'messaging': [{'sender': {'id': '3812585132088508'}, 'recipient': {'id': '430761350747124'}, 'timestamp': 1601657330970, 'read': {'watermark': 1601657330676}}]}]}\n"
     ]
    },
    {
     "name": "stderr",
     "output_type": "stream",
     "text": [
      "127.0.0.1 - - [02/Oct/2020 11:48:53] \"POST /apiREST/v1 HTTP/1.1\" 200 -\n"
     ]
    },
    {
     "name": "stdout",
     "output_type": "stream",
     "text": [
      "\n",
      "________________________________________read _______________________________________________________________________________\n",
      "Mensaje enviado al Nucleo Logico Read->  {\"payload\": {\"robot\": \"none\", \"id_face\": \"430761350747124\", \"recipient_id\": \"3812585132088508\", \"access_token\": \"none\", \"content\": \"\", \"type_resp\": \"read\", \"state\": \"none\", \"blocktype\": \"none\", \"opciones\": \"none\", \"entities\": {}}}\n",
      "hilo consume\n",
      "b'{\"payload\": {\"robot\": 336, \"id_face\": \"430761350747124\", \"recipient_id\": \"3812585132088508\", \"access_token\": \"EAAJjZAQWaAbgBAAxC53jaIzoxSpgY3qZBc0pYDlb5g3E58pTJ35vAzrsZBVSyiYPhpgZB3ZAeNqx18ImA0LZCcsqL96hFDqsE9fcXUk52ofVsqWeerVDKp0cGo2wvohq5ISdkCUX7ZByd4c80Y6BstQYbe5noQhC8L7wdtMuKyZAAgZDZD\", \"content\": \"\", \"type_resp\": \"read\", \"state\": \"none\", \"blocktype\": \"none\", \"opciones\": \"none\", \"entities\": {}}}'\n",
      " [.] Got %r None\n",
      "\n",
      "_________________________________________________________________________________________________________________________\n",
      "Mesaje de la API de Facebook-> \n",
      " {'object': 'page', 'entry': [{'id': '430761350747124', 'time': 1601657335101, 'messaging': [{'sender': {'id': '3812585132088508'}, 'recipient': {'id': '430761350747124'}, 'timestamp': 1601657334895, 'postback': {'title': '¡ok veamos!', 'payload': '¡ok veamos!'}}]}]}\n"
     ]
    },
    {
     "name": "stderr",
     "output_type": "stream",
     "text": [
      "127.0.0.1 - - [02/Oct/2020 11:48:58] \"POST /apiREST/v1 HTTP/1.1\" 200 -\n"
     ]
    },
    {
     "name": "stdout",
     "output_type": "stream",
     "text": [
      "hilo consume\n",
      "______________________________________________no read__________________________________________________________________________\n",
      "\n",
      "b'{\"Respuesta\": {\"content\": \"Soy un robot que funciona con un sistema autom\\\\u00e1tico llamado inteligencia artificial.\", \"next_id\": \"next\", \"blockType\": \"informativo\", \"contentType\": \"text\", \"typingTime\": \"3\", \"payload\": {\"content\": \"\", \"state\": \"mensajesIntroduccion2_01inicial_inicial\", \"recipient_id\": \"3812585132088508\", \"entities\": {\"qr_menuIntro\": \"\\\\u00a1ok veamos!\", \"var_pregunta\": \"dormir\", \"qr_personalidad\": \"\\\\u00bfCon qui\\\\u00e9n estoy hablando?\"}, \"access_token\": \"EAAJjZAQWaAbgBAAxC53jaIzoxSpgY3qZBc0pYDlb5g3E58pTJ35vAzrsZBVSyiYPhpgZB3ZAeNqx18ImA0LZCcsqL96hFDqsE9fcXUk52ofVsqWeerVDKp0cGo2wvohq5ISdkCUX7ZByd4c80Y6BstQYbe5noQhC8L7wdtMuKyZAAgZDZD\"}}}'\n",
      "\n",
      "_________________________________________________________________________________________________________________________\n",
      "Respuesta del Nucleo Logico->  {'Respuesta': {'content': 'Soy un robot que funciona con un sistema automático llamado inteligencia artificial.', 'next_id': 'next', 'blockType': 'informativo', 'contentType': 'text', 'typingTime': '3', 'payload': {'content': '', 'state': 'mensajesIntroduccion2_01inicial_inicial', 'recipient_id': '3812585132088508', 'entities': {'qr_menuIntro': '¡ok veamos!', 'var_pregunta': 'dormir', 'qr_personalidad': '¿Con quién estoy hablando?'}, 'access_token': 'EAAJjZAQWaAbgBAAxC53jaIzoxSpgY3qZBc0pYDlb5g3E58pTJ35vAzrsZBVSyiYPhpgZB3ZAeNqx18ImA0LZCcsqL96hFDqsE9fcXUk52ofVsqWeerVDKp0cGo2wvohq5ISdkCUX7ZByd4c80Y6BstQYbe5noQhC8L7wdtMuKyZAAgZDZD'}}}\n",
      "Mensaje enviado al Nucleo Logico->  {\"payload\": {\"robot\": \"none\", \"id_face\": \"430761350747124\", \"recipient_id\": \"3812585132088508\", \"access_token\": \"none\", \"content\": \"\\u00a1ok veamos!\", \"type_resp\": \"postback\", \"state\": \"none\", \"blocktype\": \"none\", \"opciones\": \"none\", \"entities\": {}}}\n",
      "\n",
      "---------------------------------------------------------------------------\n",
      "mensaje enviado a la API de facebook:\n",
      " {'recipient_id': '3812585132088508', 'message_id': 'm_8Qtu2WF_ejKglxkIIwWFQIDIHsg4Bwph1PFsDRmK-uF9SjYSIzpkHwtayq7MJES5sDoik6QUVa_mTEzeKe80Rw'}\n",
      " [.] Got %r None\n",
      "\n",
      "_________________________________________________________________________________________________________________________\n",
      "Mesaje de la API de Facebook-> \n",
      " {'object': 'page', 'entry': [{'id': '430761350747124', 'time': 1601657344468, 'messaging': [{'sender': {'id': '3812585132088508'}, 'recipient': {'id': '430761350747124'}, 'timestamp': 1601657344560, 'read': {'watermark': 1601657342343}}]}]}\n"
     ]
    },
    {
     "name": "stderr",
     "output_type": "stream",
     "text": [
      "127.0.0.1 - - [02/Oct/2020 11:49:05] \"POST /apiREST/v1 HTTP/1.1\" 200 -\n"
     ]
    },
    {
     "name": "stdout",
     "output_type": "stream",
     "text": [
      "\n",
      "________________________________________read _______________________________________________________________________________\n",
      "Mensaje enviado al Nucleo Logico Read->  {\"payload\": {\"robot\": \"none\", \"id_face\": \"430761350747124\", \"recipient_id\": \"3812585132088508\", \"access_token\": \"none\", \"content\": \"\", \"type_resp\": \"read\", \"state\": \"none\", \"blocktype\": \"none\", \"opciones\": \"none\", \"entities\": {}}}\n",
      "hilo consume\n",
      "b'{\"Respuesta\": {\"content\": \"Cada vez que escribas intentare entenderte\", \"next_id\": \"next\", \"blockType\": \"informativo\", \"contentType\": \"text\", \"typingTime\": \"3\", \"payload\": {\"content\": \"\", \"state\": \"mensajesIntroduccion2_01inicial_inicial\", \"recipient_id\": \"3812585132088508\", \"entities\": {\"qr_menuIntro\": \"\\\\u00a1ok veamos!\", \"var_pregunta\": \"dormir\", \"qr_personalidad\": \"\\\\u00bfCon qui\\\\u00e9n estoy hablando?\"}, \"access_token\": \"EAAJjZAQWaAbgBAAxC53jaIzoxSpgY3qZBc0pYDlb5g3E58pTJ35vAzrsZBVSyiYPhpgZB3ZAeNqx18ImA0LZCcsqL96hFDqsE9fcXUk52ofVsqWeerVDKp0cGo2wvohq5ISdkCUX7ZByd4c80Y6BstQYbe5noQhC8L7wdtMuKyZAAgZDZD\"}}}'\n",
      "\n",
      "_________________________________________________________________________________________________________________________\n",
      "Respuesta del Nucleo Logico->  {'Respuesta': {'content': 'Cada vez que escribas intentare entenderte', 'next_id': 'next', 'blockType': 'informativo', 'contentType': 'text', 'typingTime': '3', 'payload': {'content': '', 'state': 'mensajesIntroduccion2_01inicial_inicial', 'recipient_id': '3812585132088508', 'entities': {'qr_menuIntro': '¡ok veamos!', 'var_pregunta': 'dormir', 'qr_personalidad': '¿Con quién estoy hablando?'}, 'access_token': 'EAAJjZAQWaAbgBAAxC53jaIzoxSpgY3qZBc0pYDlb5g3E58pTJ35vAzrsZBVSyiYPhpgZB3ZAeNqx18ImA0LZCcsqL96hFDqsE9fcXUk52ofVsqWeerVDKp0cGo2wvohq5ISdkCUX7ZByd4c80Y6BstQYbe5noQhC8L7wdtMuKyZAAgZDZD'}}}\n",
      "\n",
      "---------------------------------------------------------------------------\n",
      "mensaje enviado a la API de facebook:\n",
      " {'recipient_id': '3812585132088508', 'message_id': 'm_36eVJNFgN5OD3YHs0X_qRIDIHsg4Bwph1PFsDRmK-uHIx8wCILJtvGr0BEDNcbU6KEtLq3Knqm5N4HDcHSZTEQ'}\n",
      " [.] Got %r None\n",
      "\n",
      "_________________________________________________________________________________________________________________________\n",
      "Mesaje de la API de Facebook-> \n",
      " {'object': 'page', 'entry': [{'id': '430761350747124', 'time': 1601657368475, 'messaging': [{'sender': {'id': '3812585132088508'}, 'recipient': {'id': '430761350747124'}, 'timestamp': 1601657368627, 'read': {'watermark': 1601657350290}}]}]}\n"
     ]
    },
    {
     "name": "stderr",
     "output_type": "stream",
     "text": [
      "127.0.0.1 - - [02/Oct/2020 11:49:30] \"POST /apiREST/v1 HTTP/1.1\" 200 -\n"
     ]
    },
    {
     "name": "stdout",
     "output_type": "stream",
     "text": [
      "\n",
      "________________________________________read _______________________________________________________________________________\n",
      "Mensaje enviado al Nucleo Logico Read->  {\"payload\": {\"robot\": \"none\", \"id_face\": \"430761350747124\", \"recipient_id\": \"3812585132088508\", \"access_token\": \"none\", \"content\": \"\", \"type_resp\": \"read\", \"state\": \"none\", \"blocktype\": \"none\", \"opciones\": \"none\", \"entities\": {}}}\n",
      "hilo consume\n",
      "b'{\"Respuesta\": {\"content\": \"no logro comprenderte\", \"next_id\": \"next\", \"blockType\": \"informativo\", \"contentType\": \"text\", \"typingTime\": \"3\", \"payload\": {\"content\": \"\", \"state\": \"mensajesIntroduccion2_01inicial_inicial\", \"recipient_id\": \"3812585132088508\", \"entities\": {\"qr_menuIntro\": \"\\\\u00a1ok veamos!\", \"var_pregunta\": \"dormir\", \"qr_personalidad\": \"\\\\u00bfCon qui\\\\u00e9n estoy hablando?\"}, \"access_token\": \"EAAJjZAQWaAbgBAAxC53jaIzoxSpgY3qZBc0pYDlb5g3E58pTJ35vAzrsZBVSyiYPhpgZB3ZAeNqx18ImA0LZCcsqL96hFDqsE9fcXUk52ofVsqWeerVDKp0cGo2wvohq5ISdkCUX7ZByd4c80Y6BstQYbe5noQhC8L7wdtMuKyZAAgZDZD\"}}}'\n",
      "\n",
      "_________________________________________________________________________________________________________________________\n",
      "Respuesta del Nucleo Logico->  {'Respuesta': {'content': 'no logro comprenderte', 'next_id': 'next', 'blockType': 'informativo', 'contentType': 'text', 'typingTime': '3', 'payload': {'content': '', 'state': 'mensajesIntroduccion2_01inicial_inicial', 'recipient_id': '3812585132088508', 'entities': {'qr_menuIntro': '¡ok veamos!', 'var_pregunta': 'dormir', 'qr_personalidad': '¿Con quién estoy hablando?'}, 'access_token': 'EAAJjZAQWaAbgBAAxC53jaIzoxSpgY3qZBc0pYDlb5g3E58pTJ35vAzrsZBVSyiYPhpgZB3ZAeNqx18ImA0LZCcsqL96hFDqsE9fcXUk52ofVsqWeerVDKp0cGo2wvohq5ISdkCUX7ZByd4c80Y6BstQYbe5noQhC8L7wdtMuKyZAAgZDZD'}}}\n",
      "\n",
      "---------------------------------------------------------------------------\n",
      "mensaje enviado a la API de facebook:\n",
      " {'recipient_id': '3812585132088508', 'message_id': 'm_CNjQM3KOPe0pCzJ67mibOIDIHsg4Bwph1PFsDRmK-uG6W5Eve7aLH-hKbvDEnBu1VRSazoHR-ZOWOmcuD7iJ8A'}\n",
      " [.] Got %r None\n",
      "\n",
      "_________________________________________________________________________________________________________________________\n",
      "Mesaje de la API de Facebook-> \n",
      " {'object': 'page', 'entry': [{'id': '430761350747124', 'time': 1601657377516, 'messaging': [{'sender': {'id': '3812585132088508'}, 'recipient': {'id': '430761350747124'}, 'timestamp': 1601657377642, 'read': {'watermark': 1601657375621}}]}]}\n"
     ]
    },
    {
     "name": "stderr",
     "output_type": "stream",
     "text": [
      "127.0.0.1 - - [02/Oct/2020 11:49:39] \"POST /apiREST/v1 HTTP/1.1\" 200 -\n"
     ]
    },
    {
     "name": "stdout",
     "output_type": "stream",
     "text": [
      "\n",
      "________________________________________read _______________________________________________________________________________\n",
      "Mensaje enviado al Nucleo Logico Read->  {\"payload\": {\"robot\": \"none\", \"id_face\": \"430761350747124\", \"recipient_id\": \"3812585132088508\", \"access_token\": \"none\", \"content\": \"\", \"type_resp\": \"read\", \"state\": \"none\", \"blocktype\": \"none\", \"opciones\": \"none\", \"entities\": {}}}\n",
      "hilo consume\n",
      "b'{\"Respuesta\": {\"content\": \"\\\\u00bfQu\\\\u00e9 deseas hacer?\", \"next_id\": \"NLPpersonalidad_01inicial_inicial\", \"blockType\": \"input\", \"contentType\": \"text\", \"typingTime\": \"1\", \"payload\": {\"content\": \"\", \"state\": \"pregunta_01inicial_inicial\", \"recipient_id\": \"3812585132088508\", \"entities\": {\"qr_menuIntro\": \"\\\\u00a1ok veamos!\", \"var_pregunta\": \"dormir\", \"qr_personalidad\": \"\\\\u00bfCon qui\\\\u00e9n estoy hablando?\"}, \"access_token\": \"EAAJjZAQWaAbgBAAxC53jaIzoxSpgY3qZBc0pYDlb5g3E58pTJ35vAzrsZBVSyiYPhpgZB3ZAeNqx18ImA0LZCcsqL96hFDqsE9fcXUk52ofVsqWeerVDKp0cGo2wvohq5ISdkCUX7ZByd4c80Y6BstQYbe5noQhC8L7wdtMuKyZAAgZDZD\"}, \"validacion\": \".*\", \"default_id\": \"NLPpersonalidad_01inicial_inicial\"}}'\n",
      "\n",
      "_________________________________________________________________________________________________________________________\n",
      "Respuesta del Nucleo Logico->  {'Respuesta': {'content': '¿Qué deseas hacer?', 'next_id': 'NLPpersonalidad_01inicial_inicial', 'blockType': 'input', 'contentType': 'text', 'typingTime': '1', 'payload': {'content': '', 'state': 'pregunta_01inicial_inicial', 'recipient_id': '3812585132088508', 'entities': {'qr_menuIntro': '¡ok veamos!', 'var_pregunta': 'dormir', 'qr_personalidad': '¿Con quién estoy hablando?'}, 'access_token': 'EAAJjZAQWaAbgBAAxC53jaIzoxSpgY3qZBc0pYDlb5g3E58pTJ35vAzrsZBVSyiYPhpgZB3ZAeNqx18ImA0LZCcsqL96hFDqsE9fcXUk52ofVsqWeerVDKp0cGo2wvohq5ISdkCUX7ZByd4c80Y6BstQYbe5noQhC8L7wdtMuKyZAAgZDZD'}, 'validacion': '.*', 'default_id': 'NLPpersonalidad_01inicial_inicial'}}\n",
      "\n",
      "---------------------------------------------------------------------------\n",
      "mensaje enviado a la API de facebook:\n",
      " {'recipient_id': '3812585132088508', 'message_id': 'm_UIyKom12evsGAkYxUypN7YDIHsg4Bwph1PFsDRmK-uFPX1Kr7b3a6EOIHyRMCkarNXESMej54OHLEHg7u2MtTQ'}\n",
      " [.] Got %r None\n",
      "\n",
      "_________________________________________________________________________________________________________________________\n",
      "Mesaje de la API de Facebook-> \n",
      " {'object': 'page', 'entry': [{'id': '430761350747124', 'time': 1601657383178, 'messaging': [{'sender': {'id': '3812585132088508'}, 'recipient': {'id': '430761350747124'}, 'timestamp': 1601657383329, 'read': {'watermark': 1601657381479}}]}]}\n"
     ]
    },
    {
     "name": "stderr",
     "output_type": "stream",
     "text": [
      "127.0.0.1 - - [02/Oct/2020 11:49:44] \"POST /apiREST/v1 HTTP/1.1\" 200 -\n"
     ]
    },
    {
     "name": "stdout",
     "output_type": "stream",
     "text": [
      "\n",
      "________________________________________read _______________________________________________________________________________\n",
      "Mensaje enviado al Nucleo Logico Read->  {\"payload\": {\"robot\": \"none\", \"id_face\": \"430761350747124\", \"recipient_id\": \"3812585132088508\", \"access_token\": \"none\", \"content\": \"\", \"type_resp\": \"read\", \"state\": \"none\", \"blocktype\": \"none\", \"opciones\": \"none\", \"entities\": {}}}\n",
      "hilo consume\n",
      "b'{\"payload\": {\"robot\": 336, \"id_face\": \"430761350747124\", \"recipient_id\": \"3812585132088508\", \"access_token\": \"EAAJjZAQWaAbgBAAxC53jaIzoxSpgY3qZBc0pYDlb5g3E58pTJ35vAzrsZBVSyiYPhpgZB3ZAeNqx18ImA0LZCcsqL96hFDqsE9fcXUk52ofVsqWeerVDKp0cGo2wvohq5ISdkCUX7ZByd4c80Y6BstQYbe5noQhC8L7wdtMuKyZAAgZDZD\", \"content\": \"\", \"type_resp\": \"read\", \"state\": \"none\", \"blocktype\": \"none\", \"opciones\": \"none\", \"entities\": {}}}'\n",
      " [.] Got %r None\n",
      "\n",
      "_________________________________________________________________________________________________________________________\n",
      "Mesaje de la API de Facebook-> \n",
      " {'object': 'page', 'entry': [{'id': '430761350747124', 'time': 1601657388981, 'messaging': [{'sender': {'id': '3812585132088508'}, 'recipient': {'id': '430761350747124'}, 'timestamp': 1601657388903, 'message': {'mid': 'm_vD6yr77oF5fOC5m353Ku2IDIHsg4Bwph1PFsDRmK-uEugBncr5rLr5DOQOMvO4zBdQ7yPHVHU6sPrYMhMKeW6g', 'text': 'dormir'}}]}]}\n"
     ]
    },
    {
     "name": "stderr",
     "output_type": "stream",
     "text": [
      "127.0.0.1 - - [02/Oct/2020 11:49:50] \"POST /apiREST/v1 HTTP/1.1\" 200 -\n"
     ]
    },
    {
     "name": "stdout",
     "output_type": "stream",
     "text": [
      "hilo consume\n",
      "______________________________________________no read__________________________________________________________________________\n",
      "\n",
      "Mensaje enviado al Nucleo Logico->  {\"payload\": {\"robot\": \"none\", \"id_face\": \"430761350747124\", \"recipient_id\": \"3812585132088508\", \"access_token\": \"none\", \"content\": \"dormir\", \"type_resp\": \"message\", \"state\": \"none\", \"blocktype\": \"none\", \"opciones\": \"none\", \"entities\": {}}}\n",
      "b'{\"Respuesta\": {\"content\": \"\\\\u00bfC\\\\u00f3mo puedo ayudarte? \", \"next_id\": \"next\", \"blockType\": \"informativo\", \"contentType\": \"text\", \"typingTime\": \"3\", \"payload\": {\"content\": \"\", \"state\": \"mensajePreMenu_01inicial_inicial\", \"recipient_id\": \"3812585132088508\", \"entities\": {\"qr_menuIntro\": \"\\\\u00a1ok veamos!\", \"var_pregunta\": \"dormir\", \"qr_personalidad\": \"\\\\u00bfCon qui\\\\u00e9n estoy hablando?\"}, \"access_token\": \"EAAJjZAQWaAbgBAAxC53jaIzoxSpgY3qZBc0pYDlb5g3E58pTJ35vAzrsZBVSyiYPhpgZB3ZAeNqx18ImA0LZCcsqL96hFDqsE9fcXUk52ofVsqWeerVDKp0cGo2wvohq5ISdkCUX7ZByd4c80Y6BstQYbe5noQhC8L7wdtMuKyZAAgZDZD\"}}}'\n",
      "\n",
      "_________________________________________________________________________________________________________________________\n",
      "Respuesta del Nucleo Logico->  {'Respuesta': {'content': '¿Cómo puedo ayudarte? ', 'next_id': 'next', 'blockType': 'informativo', 'contentType': 'text', 'typingTime': '3', 'payload': {'content': '', 'state': 'mensajePreMenu_01inicial_inicial', 'recipient_id': '3812585132088508', 'entities': {'qr_menuIntro': '¡ok veamos!', 'var_pregunta': 'dormir', 'qr_personalidad': '¿Con quién estoy hablando?'}, 'access_token': 'EAAJjZAQWaAbgBAAxC53jaIzoxSpgY3qZBc0pYDlb5g3E58pTJ35vAzrsZBVSyiYPhpgZB3ZAeNqx18ImA0LZCcsqL96hFDqsE9fcXUk52ofVsqWeerVDKp0cGo2wvohq5ISdkCUX7ZByd4c80Y6BstQYbe5noQhC8L7wdtMuKyZAAgZDZD'}}}\n",
      "\n",
      "---------------------------------------------------------------------------\n",
      "mensaje enviado a la API de facebook:\n",
      " {'recipient_id': '3812585132088508', 'message_id': 'm_ZhmWD5GkGwyEPgUAblKX7oDIHsg4Bwph1PFsDRmK-uGz89nEcOJSiNwMxqaJkqq9GLLNnUujVjeRBuADQMobpg'}\n",
      " [.] Got %r None\n",
      "\n",
      "_________________________________________________________________________________________________________________________\n",
      "Mesaje de la API de Facebook-> \n",
      " {'object': 'page', 'entry': [{'id': '430761350747124', 'time': 1601657392021, 'messaging': [{'sender': {'id': '3812585132088508'}, 'recipient': {'id': '430761350747124'}, 'timestamp': 1601657392088, 'read': {'watermark': 1601657391773}}]}]}\n"
     ]
    },
    {
     "name": "stderr",
     "output_type": "stream",
     "text": [
      "127.0.0.1 - - [02/Oct/2020 11:49:53] \"POST /apiREST/v1 HTTP/1.1\" 200 -\n"
     ]
    },
    {
     "name": "stdout",
     "output_type": "stream",
     "text": [
      "\n",
      "________________________________________read _______________________________________________________________________________\n",
      "Mensaje enviado al Nucleo Logico Read->  {\"payload\": {\"robot\": \"none\", \"id_face\": \"430761350747124\", \"recipient_id\": \"3812585132088508\", \"access_token\": \"none\", \"content\": \"\", \"type_resp\": \"read\", \"state\": \"none\", \"blocktype\": \"none\", \"opciones\": \"none\", \"entities\": {}}}\n",
      "hilo consume\n",
      "\n",
      "_________________________________________________________________________________________________________________________\n",
      "Mesaje de la API de Facebook-> \n",
      " {'object': 'page', 'entry': [{'id': '430761350747124', 'time': 1601657434301, 'messaging': [{'sender': {'id': '3812585132088508'}, 'recipient': {'id': '430761350747124'}, 'timestamp': 1601657433933, 'message': {'mid': 'm_-2YldSE3at_mhj2Xu_3LKYDIHsg4Bwph1PFsDRmK-uGyAKTER6rI4URNiaha9rKGT_bCpFn9RolLMa89SUdQfA', 'text': 'dormr'}}]}]}\n"
     ]
    },
    {
     "name": "stderr",
     "output_type": "stream",
     "text": [
      "127.0.0.1 - - [02/Oct/2020 11:50:36] \"POST /apiREST/v1 HTTP/1.1\" 200 -\n"
     ]
    },
    {
     "name": "stdout",
     "output_type": "stream",
     "text": [
      "hilo consume\n",
      "\n",
      "______________________________________________no read__________________________________________________________________________\n",
      "Mensaje enviado al Nucleo Logico->  {\"payload\": {\"robot\": \"none\", \"id_face\": \"430761350747124\", \"recipient_id\": \"3812585132088508\", \"access_token\": \"none\", \"content\": \"dormr\", \"type_resp\": \"message\", \"state\": \"none\", \"blocktype\": \"none\", \"opciones\": \"none\", \"entities\": {}}}\n",
      "b'{\"Respuesta\": {\"content\": \"Selecciona una opci\\\\u00f3n\", \"next_id\": \"mensajesIntroduccion_01inicial_inicial,infoEdad_01inicial_inicial,infoColor_01inicial_inicial\", \"blockType\": \"quickReply\", \"contentType\": \" \", \"typingTime\": \"3\", \"payload\": {\"content\": \"\", \"state\": \"qrPersonalidad_01inicial_inicial\", \"recipient_id\": \"3812585132088508\", \"entities\": {\"qr_menuIntro\": \"\\\\u00a1ok veamos!\", \"var_pregunta\": \"dormir\", \"qr_personalidad\": \"\\\\u00bfCon qui\\\\u00e9n estoy hablando?\"}, \"access_token\": \"EAAJjZAQWaAbgBAAxC53jaIzoxSpgY3qZBc0pYDlb5g3E58pTJ35vAzrsZBVSyiYPhpgZB3ZAeNqx18ImA0LZCcsqL96hFDqsE9fcXUk52ofVsqWeerVDKp0cGo2wvohq5ISdkCUX7ZByd4c80Y6BstQYbe5noQhC8L7wdtMuKyZAAgZDZD\"}, \"options\": [\"\\\\u00bfCon qui\\\\u00e9n estoy hablando?\", \"\\\\u00bfQu\\\\u00e9 edad tienes?\", \"\\\\u00bfCu\\\\u00e1l es tu color favorito?\"], \"default_id\": \"NLPpersonalidad_01inicial_inicial\", \"save_var\": \"\\\\u00bfCon qui\\\\u00e9n estoy hablando?\"}}'\n",
      "\n",
      "_________________________________________________________________________________________________________________________\n",
      "Respuesta del Nucleo Logico->  {'Respuesta': {'content': 'Selecciona una opción', 'next_id': 'mensajesIntroduccion_01inicial_inicial,infoEdad_01inicial_inicial,infoColor_01inicial_inicial', 'blockType': 'quickReply', 'contentType': ' ', 'typingTime': '3', 'payload': {'content': '', 'state': 'qrPersonalidad_01inicial_inicial', 'recipient_id': '3812585132088508', 'entities': {'qr_menuIntro': '¡ok veamos!', 'var_pregunta': 'dormir', 'qr_personalidad': '¿Con quién estoy hablando?'}, 'access_token': 'EAAJjZAQWaAbgBAAxC53jaIzoxSpgY3qZBc0pYDlb5g3E58pTJ35vAzrsZBVSyiYPhpgZB3ZAeNqx18ImA0LZCcsqL96hFDqsE9fcXUk52ofVsqWeerVDKp0cGo2wvohq5ISdkCUX7ZByd4c80Y6BstQYbe5noQhC8L7wdtMuKyZAAgZDZD'}, 'options': ['¿Con quién estoy hablando?', '¿Qué edad tienes?', '¿Cuál es tu color favorito?'], 'default_id': 'NLPpersonalidad_01inicial_inicial', 'save_var': '¿Con quién estoy hablando?'}}\n",
      "\n",
      "---------------------------------------------------------------------------\n",
      "mensaje enviado a la API de facebook:\n",
      " {'recipient_id': '3812585132088508', 'message_id': 'm_Ad-oo1BfwfRL8hwO_lvCD4DIHsg4Bwph1PFsDRmK-uGop0MpZ3KqwdBpIZWZvm1AG9FrQlN5Z-viCo5dXG-cDQ'}\n",
      " [.] Got %r None\n",
      "\n",
      "_________________________________________________________________________________________________________________________\n",
      "Mesaje de la API de Facebook-> \n",
      " {'object': 'page', 'entry': [{'id': '430761350747124', 'time': 1601657443011, 'messaging': [{'sender': {'id': '3812585132088508'}, 'recipient': {'id': '430761350747124'}, 'timestamp': 1601657443162, 'read': {'watermark': 1601657437977}}]}]}\n"
     ]
    },
    {
     "name": "stderr",
     "output_type": "stream",
     "text": [
      "127.0.0.1 - - [02/Oct/2020 11:50:44] \"POST /apiREST/v1 HTTP/1.1\" 200 -\n"
     ]
    },
    {
     "name": "stdout",
     "output_type": "stream",
     "text": [
      "\n",
      "________________________________________read _______________________________________________________________________________\n",
      "Mensaje enviado al Nucleo Logico Read->  {\"payload\": {\"robot\": \"none\", \"id_face\": \"430761350747124\", \"recipient_id\": \"3812585132088508\", \"access_token\": \"none\", \"content\": \"\", \"type_resp\": \"read\", \"state\": \"none\", \"blocktype\": \"none\", \"opciones\": \"none\", \"entities\": {}}}\n",
      "hilo consume\n",
      "b'{\"payload\": {\"robot\": 336, \"id_face\": \"430761350747124\", \"recipient_id\": \"3812585132088508\", \"access_token\": \"EAAJjZAQWaAbgBAAxC53jaIzoxSpgY3qZBc0pYDlb5g3E58pTJ35vAzrsZBVSyiYPhpgZB3ZAeNqx18ImA0LZCcsqL96hFDqsE9fcXUk52ofVsqWeerVDKp0cGo2wvohq5ISdkCUX7ZByd4c80Y6BstQYbe5noQhC8L7wdtMuKyZAAgZDZD\", \"content\": \"\", \"type_resp\": \"read\", \"state\": \"none\", \"blocktype\": \"none\", \"opciones\": \"none\", \"entities\": {}}}'\n",
      " [.] Got %r None\n",
      "\n",
      "_________________________________________________________________________________________________________________________\n",
      "Mesaje de la API de Facebook-> \n",
      " {'object': 'page', 'entry': [{'id': '430761350747124', 'time': 1601657447093, 'messaging': [{'sender': {'id': '3812585132088508'}, 'recipient': {'id': '430761350747124'}, 'timestamp': 1601657446901, 'postback': {'title': '¿Con quién estoy hablan...', 'payload': '¿Con quién estoy hablando?'}}]}]}\n",
      "hilo consume\n",
      "\n",
      "______________________________________________no read__________________________________________________________________________\n",
      "Mensaje enviado al Nucleo Logico->  {\"payload\": {\"robot\": \"none\", \"id_face\": \"430761350747124\", \"recipient_id\": \"3812585132088508\", \"access_token\": \"none\", \"content\": \"\\u00bfCon qui\\u00e9n estoy hablando?\", \"type_resp\": \"postback\", \"state\": \"none\", \"blocktype\": \"none\", \"opciones\": \"none\", \"entities\": {}}}\n"
     ]
    },
    {
     "name": "stderr",
     "output_type": "stream",
     "text": [
      "127.0.0.1 - - [02/Oct/2020 11:50:48] \"POST /apiREST/v1 HTTP/1.1\" 200 -\n"
     ]
    },
    {
     "name": "stdout",
     "output_type": "stream",
     "text": [
      "b'{\"Respuesta\": {\"content\": \"\\\\u00a1Hola! Soy Niza.\", \"next_id\": \"next\", \"blockType\": \"informativo\", \"contentType\": \"text\", \"typingTime\": \"3\", \"payload\": {\"content\": \"\", \"state\": \"mensajesIntroduccion_01inicial_inicial\", \"recipient_id\": \"3812585132088508\", \"entities\": {\"qr_menuIntro\": \"\\\\u00a1ok veamos!\", \"var_pregunta\": \"dormir\", \"qr_personalidad\": \"\\\\u00bfCon qui\\\\u00e9n estoy hablando?\"}, \"access_token\": \"EAAJjZAQWaAbgBAAxC53jaIzoxSpgY3qZBc0pYDlb5g3E58pTJ35vAzrsZBVSyiYPhpgZB3ZAeNqx18ImA0LZCcsqL96hFDqsE9fcXUk52ofVsqWeerVDKp0cGo2wvohq5ISdkCUX7ZByd4c80Y6BstQYbe5noQhC8L7wdtMuKyZAAgZDZD\"}}}'\n",
      "\n",
      "_________________________________________________________________________________________________________________________\n",
      "Respuesta del Nucleo Logico->  {'Respuesta': {'content': '¡Hola! Soy Niza.', 'next_id': 'next', 'blockType': 'informativo', 'contentType': 'text', 'typingTime': '3', 'payload': {'content': '', 'state': 'mensajesIntroduccion_01inicial_inicial', 'recipient_id': '3812585132088508', 'entities': {'qr_menuIntro': '¡ok veamos!', 'var_pregunta': 'dormir', 'qr_personalidad': '¿Con quién estoy hablando?'}, 'access_token': 'EAAJjZAQWaAbgBAAxC53jaIzoxSpgY3qZBc0pYDlb5g3E58pTJ35vAzrsZBVSyiYPhpgZB3ZAeNqx18ImA0LZCcsqL96hFDqsE9fcXUk52ofVsqWeerVDKp0cGo2wvohq5ISdkCUX7ZByd4c80Y6BstQYbe5noQhC8L7wdtMuKyZAAgZDZD'}}}\n",
      "\n",
      "---------------------------------------------------------------------------\n",
      "mensaje enviado a la API de facebook:\n",
      " {'recipient_id': '3812585132088508', 'message_id': 'm_JGtTbcar0eXPAhB8gexlroDIHsg4Bwph1PFsDRmK-uEutiKPGawWCcFXFrxwCI475bE9OYoweiqu3M-Mx1usjw'}\n",
      " [.] Got %r None\n",
      "\n",
      "_________________________________________________________________________________________________________________________\n",
      "Mesaje de la API de Facebook-> \n",
      " {'object': 'page', 'entry': [{'id': '430761350747124', 'time': 1601657452090, 'messaging': [{'sender': {'id': '3812585132088508'}, 'recipient': {'id': '430761350747124'}, 'timestamp': 1601657452217, 'read': {'watermark': 1601657450433}}]}]}\n"
     ]
    },
    {
     "name": "stderr",
     "output_type": "stream",
     "text": [
      "127.0.0.1 - - [02/Oct/2020 11:50:53] \"POST /apiREST/v1 HTTP/1.1\" 200 -\n"
     ]
    },
    {
     "name": "stdout",
     "output_type": "stream",
     "text": [
      "\n",
      "________________________________________read _______________________________________________________________________________\n",
      "Mensaje enviado al Nucleo Logico Read->  {\"payload\": {\"robot\": \"none\", \"id_face\": \"430761350747124\", \"recipient_id\": \"3812585132088508\", \"access_token\": \"none\", \"content\": \"\", \"type_resp\": \"read\", \"state\": \"none\", \"blocktype\": \"none\", \"opciones\": \"none\", \"entities\": {}}}\n",
      "hilo consume\n",
      "b'{\"Respuesta\": {\"content\": \"Un asistente virtual para atenci\\\\u00f3n ciudadana puedo responder dudas sobre tu agua potable\", \"next_id\": \"next\", \"blockType\": \"informativo\", \"contentType\": \"text\", \"typingTime\": \"3\", \"payload\": {\"content\": \"\", \"state\": \"mensajesIntroduccion_01inicial_inicial\", \"recipient_id\": \"3812585132088508\", \"entities\": {\"qr_menuIntro\": \"\\\\u00a1ok veamos!\", \"var_pregunta\": \"dormir\", \"qr_personalidad\": \"\\\\u00bfCon qui\\\\u00e9n estoy hablando?\"}, \"access_token\": \"EAAJjZAQWaAbgBAAxC53jaIzoxSpgY3qZBc0pYDlb5g3E58pTJ35vAzrsZBVSyiYPhpgZB3ZAeNqx18ImA0LZCcsqL96hFDqsE9fcXUk52ofVsqWeerVDKp0cGo2wvohq5ISdkCUX7ZByd4c80Y6BstQYbe5noQhC8L7wdtMuKyZAAgZDZD\"}}}'\n",
      "\n",
      "_________________________________________________________________________________________________________________________\n",
      "Respuesta del Nucleo Logico->  {'Respuesta': {'content': 'Un asistente virtual para atención ciudadana puedo responder dudas sobre tu agua potable', 'next_id': 'next', 'blockType': 'informativo', 'contentType': 'text', 'typingTime': '3', 'payload': {'content': '', 'state': 'mensajesIntroduccion_01inicial_inicial', 'recipient_id': '3812585132088508', 'entities': {'qr_menuIntro': '¡ok veamos!', 'var_pregunta': 'dormir', 'qr_personalidad': '¿Con quién estoy hablando?'}, 'access_token': 'EAAJjZAQWaAbgBAAxC53jaIzoxSpgY3qZBc0pYDlb5g3E58pTJ35vAzrsZBVSyiYPhpgZB3ZAeNqx18ImA0LZCcsqL96hFDqsE9fcXUk52ofVsqWeerVDKp0cGo2wvohq5ISdkCUX7ZByd4c80Y6BstQYbe5noQhC8L7wdtMuKyZAAgZDZD'}}}\n",
      "\n",
      "---------------------------------------------------------------------------\n",
      "mensaje enviado a la API de facebook:\n",
      " {'recipient_id': '3812585132088508', 'message_id': 'm_etl3661c48BYVymg9RwuGIDIHsg4Bwph1PFsDRmK-uEan7QgB0WduqGP8ps4KCEnZUbOwsdPKBXzYHHC13EBAQ'}\n",
      " [.] Got %r None\n",
      "\n",
      "_________________________________________________________________________________________________________________________\n",
      "Mesaje de la API de Facebook-> \n",
      " {'object': 'page', 'entry': [{'id': '430761350747124', 'time': 1601657457097, 'messaging': [{'sender': {'id': '3812585132088508'}, 'recipient': {'id': '430761350747124'}, 'timestamp': 1601657457233, 'read': {'watermark': 1601657454908}}]}]}\n"
     ]
    },
    {
     "name": "stderr",
     "output_type": "stream",
     "text": [
      "127.0.0.1 - - [02/Oct/2020 11:50:58] \"POST /apiREST/v1 HTTP/1.1\" 200 -\n"
     ]
    },
    {
     "name": "stdout",
     "output_type": "stream",
     "text": [
      "\n",
      "________________________________________read _______________________________________________________________________________\n",
      "Mensaje enviado al Nucleo Logico Read->  {\"payload\": {\"robot\": \"none\", \"id_face\": \"430761350747124\", \"recipient_id\": \"3812585132088508\", \"access_token\": \"none\", \"content\": \"\", \"type_resp\": \"read\", \"state\": \"none\", \"blocktype\": \"none\", \"opciones\": \"none\", \"entities\": {}}}\n",
      "hilo consume\n",
      "b'{\"Respuesta\": {\"content\": \"Te gustar\\\\u00eda saber c\\\\u00f3mo utilizarme\", \"next_id\": \"next\", \"blockType\": \"informativo\", \"contentType\": \"text\", \"typingTime\": \"3\", \"payload\": {\"content\": \"\", \"state\": \"mensajesIntroduccion_01inicial_inicial\", \"recipient_id\": \"3812585132088508\", \"entities\": {\"qr_menuIntro\": \"\\\\u00a1ok veamos!\", \"var_pregunta\": \"dormir\", \"qr_personalidad\": \"\\\\u00bfCon qui\\\\u00e9n estoy hablando?\"}, \"access_token\": \"EAAJjZAQWaAbgBAAxC53jaIzoxSpgY3qZBc0pYDlb5g3E58pTJ35vAzrsZBVSyiYPhpgZB3ZAeNqx18ImA0LZCcsqL96hFDqsE9fcXUk52ofVsqWeerVDKp0cGo2wvohq5ISdkCUX7ZByd4c80Y6BstQYbe5noQhC8L7wdtMuKyZAAgZDZD\"}}}'\n",
      "\n",
      "_________________________________________________________________________________________________________________________\n",
      "Respuesta del Nucleo Logico->  {'Respuesta': {'content': 'Te gustaría saber cómo utilizarme', 'next_id': 'next', 'blockType': 'informativo', 'contentType': 'text', 'typingTime': '3', 'payload': {'content': '', 'state': 'mensajesIntroduccion_01inicial_inicial', 'recipient_id': '3812585132088508', 'entities': {'qr_menuIntro': '¡ok veamos!', 'var_pregunta': 'dormir', 'qr_personalidad': '¿Con quién estoy hablando?'}, 'access_token': 'EAAJjZAQWaAbgBAAxC53jaIzoxSpgY3qZBc0pYDlb5g3E58pTJ35vAzrsZBVSyiYPhpgZB3ZAeNqx18ImA0LZCcsqL96hFDqsE9fcXUk52ofVsqWeerVDKp0cGo2wvohq5ISdkCUX7ZByd4c80Y6BstQYbe5noQhC8L7wdtMuKyZAAgZDZD'}}}\n",
      "\n",
      "---------------------------------------------------------------------------\n",
      "mensaje enviado a la API de facebook:\n",
      " {'recipient_id': '3812585132088508', 'message_id': 'm_ClXcn7hQCO9g3j-hW77nLIDIHsg4Bwph1PFsDRmK-uGQNRLWm9FakS6Qp4yG0h-mso6-cC1a86cgifBmVYYYvA'}\n",
      " [.] Got %r None\n",
      "\n",
      "_________________________________________________________________________________________________________________________\n",
      "Mesaje de la API de Facebook-> \n",
      " {'object': 'page', 'entry': [{'id': '430761350747124', 'time': 1601657465544, 'messaging': [{'sender': {'id': '3812585132088508'}, 'recipient': {'id': '430761350747124'}, 'timestamp': 1601657465695, 'read': {'watermark': 1601657459214}}]}]}\n",
      "\n",
      "________________________________________read _______________________________________________________________________________\n",
      "Mensaje enviado al Nucleo Logico Read->  {\"payload\": {\"robot\": \"none\", \"id_face\": \"430761350747124\", \"recipient_id\": \"3812585132088508\", \"access_token\": \"none\", \"content\": \"\", \"type_resp\": \"read\", \"state\": \"none\", \"blocktype\": \"none\", \"opciones\": \"none\", \"entities\": {}}}\n",
      "hilo consume\n"
     ]
    },
    {
     "name": "stderr",
     "output_type": "stream",
     "text": [
      "127.0.0.1 - - [02/Oct/2020 11:51:06] \"POST /apiREST/v1 HTTP/1.1\" 200 -\n"
     ]
    },
    {
     "name": "stdout",
     "output_type": "stream",
     "text": [
      "b'{\"Respuesta\": {\"content\": \"Toca uno de los botones azules para saber tu elecci\\\\u00f3n\", \"next_id\": \"mensajesIntroduccion2_01inicial_inicial,mensajePreMenu_01inicial_inicial\", \"blockType\": \"quickReply\", \"contentType\": \" \", \"typingTime\": \"5\", \"payload\": {\"content\": \"\", \"state\": \"menuIntroduccion_01inicial_inicial\", \"recipient_id\": \"3812585132088508\", \"entities\": {\"qr_menuIntro\": \"\\\\u00a1ok veamos!\", \"var_pregunta\": \"dormir\", \"qr_personalidad\": \"\\\\u00bfCon qui\\\\u00e9n estoy hablando?\"}, \"access_token\": \"EAAJjZAQWaAbgBAAxC53jaIzoxSpgY3qZBc0pYDlb5g3E58pTJ35vAzrsZBVSyiYPhpgZB3ZAeNqx18ImA0LZCcsqL96hFDqsE9fcXUk52ofVsqWeerVDKp0cGo2wvohq5ISdkCUX7ZByd4c80Y6BstQYbe5noQhC8L7wdtMuKyZAAgZDZD\"}, \"options\": [\"\\\\u00a1ok veamos!\", \"Prefiero ir al men\\\\u00fa\"], \"default_id\": \"mensajePreMenu_01inicial_inicial\", \"save_var\": \"\\\\u00a1ok veamos!\"}}'\n",
      "\n",
      "_________________________________________________________________________________________________________________________\n",
      "Respuesta del Nucleo Logico->  {'Respuesta': {'content': 'Toca uno de los botones azules para saber tu elección', 'next_id': 'mensajesIntroduccion2_01inicial_inicial,mensajePreMenu_01inicial_inicial', 'blockType': 'quickReply', 'contentType': ' ', 'typingTime': '5', 'payload': {'content': '', 'state': 'menuIntroduccion_01inicial_inicial', 'recipient_id': '3812585132088508', 'entities': {'qr_menuIntro': '¡ok veamos!', 'var_pregunta': 'dormir', 'qr_personalidad': '¿Con quién estoy hablando?'}, 'access_token': 'EAAJjZAQWaAbgBAAxC53jaIzoxSpgY3qZBc0pYDlb5g3E58pTJ35vAzrsZBVSyiYPhpgZB3ZAeNqx18ImA0LZCcsqL96hFDqsE9fcXUk52ofVsqWeerVDKp0cGo2wvohq5ISdkCUX7ZByd4c80Y6BstQYbe5noQhC8L7wdtMuKyZAAgZDZD'}, 'options': ['¡ok veamos!', 'Prefiero ir al menú'], 'default_id': 'mensajePreMenu_01inicial_inicial', 'save_var': '¡ok veamos!'}}\n",
      "\n",
      "---------------------------------------------------------------------------\n",
      "mensaje enviado a la API de facebook:\n",
      " {'recipient_id': '3812585132088508', 'message_id': 'm__OSLZuPcaYkoL8Mkt7ztYIDIHsg4Bwph1PFsDRmK-uE80iNfgDEHPGYr-5_7lVv5mmNmsVEU1K2TdpOv1Y6UbA'}\n",
      " [.] Got %r None\n",
      "\n",
      "_________________________________________________________________________________________________________________________\n",
      "Mesaje de la API de Facebook-> \n",
      " {'object': 'page', 'entry': [{'id': '430761350747124', 'time': 1601657469986, 'messaging': [{'sender': {'id': '3812585132088508'}, 'recipient': {'id': '430761350747124'}, 'timestamp': 1601657470111, 'read': {'watermark': 1601657468084}}]}]}\n"
     ]
    },
    {
     "name": "stderr",
     "output_type": "stream",
     "text": [
      "127.0.0.1 - - [02/Oct/2020 11:51:11] \"POST /apiREST/v1 HTTP/1.1\" 200 -\n"
     ]
    },
    {
     "name": "stdout",
     "output_type": "stream",
     "text": [
      "\n",
      "________________________________________read _______________________________________________________________________________\n",
      "Mensaje enviado al Nucleo Logico Read->  {\"payload\": {\"robot\": \"none\", \"id_face\": \"430761350747124\", \"recipient_id\": \"3812585132088508\", \"access_token\": \"none\", \"content\": \"\", \"type_resp\": \"read\", \"state\": \"none\", \"blocktype\": \"none\", \"opciones\": \"none\", \"entities\": {}}}\n",
      "hilo consume\n",
      "b'{\"payload\": {\"robot\": 336, \"id_face\": \"430761350747124\", \"recipient_id\": \"3812585132088508\", \"access_token\": \"EAAJjZAQWaAbgBAAxC53jaIzoxSpgY3qZBc0pYDlb5g3E58pTJ35vAzrsZBVSyiYPhpgZB3ZAeNqx18ImA0LZCcsqL96hFDqsE9fcXUk52ofVsqWeerVDKp0cGo2wvohq5ISdkCUX7ZByd4c80Y6BstQYbe5noQhC8L7wdtMuKyZAAgZDZD\", \"content\": \"\", \"type_resp\": \"read\", \"state\": \"none\", \"blocktype\": \"none\", \"opciones\": \"none\", \"entities\": {}}}'\n",
      " [.] Got %r None\n",
      "\n",
      "_________________________________________________________________________________________________________________________\n",
      "Mesaje de la API de Facebook-> \n",
      " {'object': 'page', 'entry': [{'id': '430761350747124', 'time': 1601657471778, 'messaging': [{'sender': {'id': '3812585132088508'}, 'recipient': {'id': '430761350747124'}, 'timestamp': 1601657471605, 'postback': {'title': '¡ok veamos!', 'payload': '¡ok veamos!'}}]}]}\n"
     ]
    },
    {
     "name": "stderr",
     "output_type": "stream",
     "text": [
      "127.0.0.1 - - [02/Oct/2020 11:51:12] \"POST /apiREST/v1 HTTP/1.1\" 200 -\n"
     ]
    },
    {
     "name": "stdout",
     "output_type": "stream",
     "text": [
      "hilo consume\n",
      "______________________________________________no read__________________________________________________________________________\n",
      "\n",
      "Mensaje enviado al Nucleo Logico->  {\"payload\": {\"robot\": \"none\", \"id_face\": \"430761350747124\", \"recipient_id\": \"3812585132088508\", \"access_token\": \"none\", \"content\": \"\\u00a1ok veamos!\", \"type_resp\": \"postback\", \"state\": \"none\", \"blocktype\": \"none\", \"opciones\": \"none\", \"entities\": {}}}\n",
      "b'{\"Respuesta\": {\"content\": \"Soy un robot que funciona con un sistema autom\\\\u00e1tico llamado inteligencia artificial.\", \"next_id\": \"next\", \"blockType\": \"informativo\", \"contentType\": \"text\", \"typingTime\": \"3\", \"payload\": {\"content\": \"\", \"state\": \"mensajesIntroduccion2_01inicial_inicial\", \"recipient_id\": \"3812585132088508\", \"entities\": {\"qr_menuIntro\": \"\\\\u00a1ok veamos!\", \"var_pregunta\": \"dormir\", \"qr_personalidad\": \"\\\\u00bfCon qui\\\\u00e9n estoy hablando?\"}, \"access_token\": \"EAAJjZAQWaAbgBAAxC53jaIzoxSpgY3qZBc0pYDlb5g3E58pTJ35vAzrsZBVSyiYPhpgZB3ZAeNqx18ImA0LZCcsqL96hFDqsE9fcXUk52ofVsqWeerVDKp0cGo2wvohq5ISdkCUX7ZByd4c80Y6BstQYbe5noQhC8L7wdtMuKyZAAgZDZD\"}}}'\n",
      "\n",
      "_________________________________________________________________________________________________________________________\n",
      "Respuesta del Nucleo Logico->  {'Respuesta': {'content': 'Soy un robot que funciona con un sistema automático llamado inteligencia artificial.', 'next_id': 'next', 'blockType': 'informativo', 'contentType': 'text', 'typingTime': '3', 'payload': {'content': '', 'state': 'mensajesIntroduccion2_01inicial_inicial', 'recipient_id': '3812585132088508', 'entities': {'qr_menuIntro': '¡ok veamos!', 'var_pregunta': 'dormir', 'qr_personalidad': '¿Con quién estoy hablando?'}, 'access_token': 'EAAJjZAQWaAbgBAAxC53jaIzoxSpgY3qZBc0pYDlb5g3E58pTJ35vAzrsZBVSyiYPhpgZB3ZAeNqx18ImA0LZCcsqL96hFDqsE9fcXUk52ofVsqWeerVDKp0cGo2wvohq5ISdkCUX7ZByd4c80Y6BstQYbe5noQhC8L7wdtMuKyZAAgZDZD'}}}\n",
      "\n",
      "---------------------------------------------------------------------------\n",
      "mensaje enviado a la API de facebook:\n",
      " {'recipient_id': '3812585132088508', 'message_id': 'm_EZb6GAzKd7jygpNOV1sc7oDIHsg4Bwph1PFsDRmK-uHVt3WiJvtrTK8pDFBwicX8LeG-InDAODgPwOoXZOKSSA'}\n",
      " [.] Got %r None\n",
      "\n",
      "_________________________________________________________________________________________________________________________\n",
      "Mesaje de la API de Facebook-> \n",
      " {'object': 'page', 'entry': [{'id': '430761350747124', 'time': 1601657474157, 'messaging': [{'sender': {'id': '3812585132088508'}, 'recipient': {'id': '430761350747124'}, 'timestamp': 1601657474312, 'read': {'watermark': 1601657473944}}]}]}\n"
     ]
    },
    {
     "name": "stderr",
     "output_type": "stream",
     "text": [
      "127.0.0.1 - - [02/Oct/2020 11:51:15] \"POST /apiREST/v1 HTTP/1.1\" 200 -\n"
     ]
    },
    {
     "name": "stdout",
     "output_type": "stream",
     "text": [
      "\n",
      "________________________________________read _______________________________________________________________________________\n",
      "Mensaje enviado al Nucleo Logico Read->  {\"payload\": {\"robot\": \"none\", \"id_face\": \"430761350747124\", \"recipient_id\": \"3812585132088508\", \"access_token\": \"none\", \"content\": \"\", \"type_resp\": \"read\", \"state\": \"none\", \"blocktype\": \"none\", \"opciones\": \"none\", \"entities\": {}}}\n",
      "hilo consume\n",
      "b'{\"Respuesta\": {\"content\": \"Cada vez que escribas intentare entenderte\", \"next_id\": \"next\", \"blockType\": \"informativo\", \"contentType\": \"text\", \"typingTime\": \"3\", \"payload\": {\"content\": \"\", \"state\": \"mensajesIntroduccion2_01inicial_inicial\", \"recipient_id\": \"3812585132088508\", \"entities\": {\"qr_menuIntro\": \"\\\\u00a1ok veamos!\", \"var_pregunta\": \"dormir\", \"qr_personalidad\": \"\\\\u00bfCon qui\\\\u00e9n estoy hablando?\"}, \"access_token\": \"EAAJjZAQWaAbgBAAxC53jaIzoxSpgY3qZBc0pYDlb5g3E58pTJ35vAzrsZBVSyiYPhpgZB3ZAeNqx18ImA0LZCcsqL96hFDqsE9fcXUk52ofVsqWeerVDKp0cGo2wvohq5ISdkCUX7ZByd4c80Y6BstQYbe5noQhC8L7wdtMuKyZAAgZDZD\"}}}'\n",
      "\n",
      "_________________________________________________________________________________________________________________________\n",
      "Respuesta del Nucleo Logico->  {'Respuesta': {'content': 'Cada vez que escribas intentare entenderte', 'next_id': 'next', 'blockType': 'informativo', 'contentType': 'text', 'typingTime': '3', 'payload': {'content': '', 'state': 'mensajesIntroduccion2_01inicial_inicial', 'recipient_id': '3812585132088508', 'entities': {'qr_menuIntro': '¡ok veamos!', 'var_pregunta': 'dormir', 'qr_personalidad': '¿Con quién estoy hablando?'}, 'access_token': 'EAAJjZAQWaAbgBAAxC53jaIzoxSpgY3qZBc0pYDlb5g3E58pTJ35vAzrsZBVSyiYPhpgZB3ZAeNqx18ImA0LZCcsqL96hFDqsE9fcXUk52ofVsqWeerVDKp0cGo2wvohq5ISdkCUX7ZByd4c80Y6BstQYbe5noQhC8L7wdtMuKyZAAgZDZD'}}}\n",
      "\n",
      "---------------------------------------------------------------------------\n",
      "mensaje enviado a la API de facebook:\n",
      " {'recipient_id': '3812585132088508', 'message_id': 'm_m2rwMSewn-0uEPIH6gShEYDIHsg4Bwph1PFsDRmK-uG8Sv7l_xUapKKeZ8nbuj1R3UAexyqnsrzfdQqGtuUppA'}\n",
      " [.] Got %r None\n",
      "\n",
      "_________________________________________________________________________________________________________________________\n",
      "Mesaje de la API de Facebook-> \n",
      " {'object': 'page', 'entry': [{'id': '430761350747124', 'time': 1601657477122, 'messaging': [{'sender': {'id': '3812585132088508'}, 'recipient': {'id': '430761350747124'}, 'timestamp': 1601657477192, 'read': {'watermark': 1601657476842}}]}]}\n",
      "\n",
      "________________________________________read _______________________________________________________________________________\n",
      "Mensaje enviado al Nucleo Logico Read-> "
     ]
    },
    {
     "name": "stderr",
     "output_type": "stream",
     "text": [
      "127.0.0.1 - - [02/Oct/2020 11:51:18] \"POST /apiREST/v1 HTTP/1.1\" 200 -\n"
     ]
    },
    {
     "name": "stdout",
     "output_type": "stream",
     "text": [
      " {\"payload\": {\"robot\": \"none\", \"id_face\": \"430761350747124\", \"recipient_id\": \"3812585132088508\", \"access_token\": \"none\", \"content\": \"\", \"type_resp\": \"read\", \"state\": \"none\", \"blocktype\": \"none\", \"opciones\": \"none\", \"entities\": {}}}\n",
      "hilo consume\n",
      "b'{\"Respuesta\": {\"content\": \"no logro comprenderte\", \"next_id\": \"next\", \"blockType\": \"informativo\", \"contentType\": \"text\", \"typingTime\": \"3\", \"payload\": {\"content\": \"\", \"state\": \"mensajesIntroduccion2_01inicial_inicial\", \"recipient_id\": \"3812585132088508\", \"entities\": {\"qr_menuIntro\": \"\\\\u00a1ok veamos!\", \"var_pregunta\": \"dormir\", \"qr_personalidad\": \"\\\\u00bfCon qui\\\\u00e9n estoy hablando?\"}, \"access_token\": \"EAAJjZAQWaAbgBAAxC53jaIzoxSpgY3qZBc0pYDlb5g3E58pTJ35vAzrsZBVSyiYPhpgZB3ZAeNqx18ImA0LZCcsqL96hFDqsE9fcXUk52ofVsqWeerVDKp0cGo2wvohq5ISdkCUX7ZByd4c80Y6BstQYbe5noQhC8L7wdtMuKyZAAgZDZD\"}}}'\n",
      "\n",
      "_________________________________________________________________________________________________________________________\n",
      "Respuesta del Nucleo Logico->  {'Respuesta': {'content': 'no logro comprenderte', 'next_id': 'next', 'blockType': 'informativo', 'contentType': 'text', 'typingTime': '3', 'payload': {'content': '', 'state': 'mensajesIntroduccion2_01inicial_inicial', 'recipient_id': '3812585132088508', 'entities': {'qr_menuIntro': '¡ok veamos!', 'var_pregunta': 'dormir', 'qr_personalidad': '¿Con quién estoy hablando?'}, 'access_token': 'EAAJjZAQWaAbgBAAxC53jaIzoxSpgY3qZBc0pYDlb5g3E58pTJ35vAzrsZBVSyiYPhpgZB3ZAeNqx18ImA0LZCcsqL96hFDqsE9fcXUk52ofVsqWeerVDKp0cGo2wvohq5ISdkCUX7ZByd4c80Y6BstQYbe5noQhC8L7wdtMuKyZAAgZDZD'}}}\n",
      "\n",
      "---------------------------------------------------------------------------\n",
      "mensaje enviado a la API de facebook:\n",
      " {'recipient_id': '3812585132088508', 'message_id': 'm_PRGFZnr_QHLZvpfI-Hx8I4DIHsg4Bwph1PFsDRmK-uGDGvxJEuIsgLrlfPgpGA0dVOPqq5BtqiIoD0HVHoXLWw'}\n",
      " [.] Got %r None\n",
      "\n",
      "_________________________________________________________________________________________________________________________\n",
      "Mesaje de la API de Facebook-> \n",
      " {'object': 'page', 'entry': [{'id': '430761350747124', 'time': 1601657485823, 'messaging': [{'sender': {'id': '3812585132088508'}, 'recipient': {'id': '430761350747124'}, 'timestamp': 1601657485942, 'read': {'watermark': 1601657480853}}]}]}\n"
     ]
    },
    {
     "name": "stderr",
     "output_type": "stream",
     "text": [
      "127.0.0.1 - - [02/Oct/2020 11:51:27] \"POST /apiREST/v1 HTTP/1.1\" 200 -\n"
     ]
    },
    {
     "name": "stdout",
     "output_type": "stream",
     "text": [
      "\n",
      "________________________________________read _______________________________________________________________________________\n",
      "Mensaje enviado al Nucleo Logico Read->  {\"payload\": {\"robot\": \"none\", \"id_face\": \"430761350747124\", \"recipient_id\": \"3812585132088508\", \"access_token\": \"none\", \"content\": \"\", \"type_resp\": \"read\", \"state\": \"none\", \"blocktype\": \"none\", \"opciones\": \"none\", \"entities\": {}}}\n",
      "hilo consume\n",
      "b'{\"Respuesta\": {\"content\": \"\\\\u00bfQu\\\\u00e9 deseas hacer?\", \"next_id\": \"NLPpersonalidad_01inicial_inicial\", \"blockType\": \"input\", \"contentType\": \"text\", \"typingTime\": \"1\", \"payload\": {\"content\": \"\", \"state\": \"pregunta_01inicial_inicial\", \"recipient_id\": \"3812585132088508\", \"entities\": {\"qr_menuIntro\": \"\\\\u00a1ok veamos!\", \"var_pregunta\": \"dormir\", \"qr_personalidad\": \"\\\\u00bfCon qui\\\\u00e9n estoy hablando?\"}, \"access_token\": \"EAAJjZAQWaAbgBAAxC53jaIzoxSpgY3qZBc0pYDlb5g3E58pTJ35vAzrsZBVSyiYPhpgZB3ZAeNqx18ImA0LZCcsqL96hFDqsE9fcXUk52ofVsqWeerVDKp0cGo2wvohq5ISdkCUX7ZByd4c80Y6BstQYbe5noQhC8L7wdtMuKyZAAgZDZD\"}, \"validacion\": \".*\", \"default_id\": \"NLPpersonalidad_01inicial_inicial\"}}'\n",
      "\n",
      "_________________________________________________________________________________________________________________________\n",
      "Respuesta del Nucleo Logico->  {'Respuesta': {'content': '¿Qué deseas hacer?', 'next_id': 'NLPpersonalidad_01inicial_inicial', 'blockType': 'input', 'contentType': 'text', 'typingTime': '1', 'payload': {'content': '', 'state': 'pregunta_01inicial_inicial', 'recipient_id': '3812585132088508', 'entities': {'qr_menuIntro': '¡ok veamos!', 'var_pregunta': 'dormir', 'qr_personalidad': '¿Con quién estoy hablando?'}, 'access_token': 'EAAJjZAQWaAbgBAAxC53jaIzoxSpgY3qZBc0pYDlb5g3E58pTJ35vAzrsZBVSyiYPhpgZB3ZAeNqx18ImA0LZCcsqL96hFDqsE9fcXUk52ofVsqWeerVDKp0cGo2wvohq5ISdkCUX7ZByd4c80Y6BstQYbe5noQhC8L7wdtMuKyZAAgZDZD'}, 'validacion': '.*', 'default_id': 'NLPpersonalidad_01inicial_inicial'}}\n",
      "\n",
      "---------------------------------------------------------------------------\n",
      "mensaje enviado a la API de facebook:\n",
      " {'recipient_id': '3812585132088508', 'message_id': 'm_NmOeuJdjK9UUzaX67dy_94DIHsg4Bwph1PFsDRmK-uGe09SUSxR1tMMiXwmagRXnPgphiJ5i01Xb-gr8JrmRiA'}\n",
      " [.] Got %r None\n",
      "\n",
      "_________________________________________________________________________________________________________________________\n",
      "Mesaje de la API de Facebook-> \n",
      " {'object': 'page', 'entry': [{'id': '430761350747124', 'time': 1601657494489, 'messaging': [{'sender': {'id': '3812585132088508'}, 'recipient': {'id': '430761350747124'}, 'timestamp': 1601657494580, 'read': {'watermark': 1601657489197}}]}]}\n"
     ]
    },
    {
     "name": "stderr",
     "output_type": "stream",
     "text": [
      "127.0.0.1 - - [02/Oct/2020 11:51:35] \"POST /apiREST/v1 HTTP/1.1\" 200 -\n"
     ]
    },
    {
     "name": "stdout",
     "output_type": "stream",
     "text": [
      "\n",
      "________________________________________read _______________________________________________________________________________\n",
      "Mensaje enviado al Nucleo Logico Read->  {\"payload\": {\"robot\": \"none\", \"id_face\": \"430761350747124\", \"recipient_id\": \"3812585132088508\", \"access_token\": \"none\", \"content\": \"\", \"type_resp\": \"read\", \"state\": \"none\", \"blocktype\": \"none\", \"opciones\": \"none\", \"entities\": {}}}\n",
      "hilo consume\n",
      "b'{\"payload\": {\"robot\": 336, \"id_face\": \"430761350747124\", \"recipient_id\": \"3812585132088508\", \"access_token\": \"EAAJjZAQWaAbgBAAxC53jaIzoxSpgY3qZBc0pYDlb5g3E58pTJ35vAzrsZBVSyiYPhpgZB3ZAeNqx18ImA0LZCcsqL96hFDqsE9fcXUk52ofVsqWeerVDKp0cGo2wvohq5ISdkCUX7ZByd4c80Y6BstQYbe5noQhC8L7wdtMuKyZAAgZDZD\", \"content\": \"\", \"type_resp\": \"read\", \"state\": \"none\", \"blocktype\": \"none\", \"opciones\": \"none\", \"entities\": {}}}'\n",
      " [.] Got %r None\n",
      "\n",
      "_________________________________________________________________________________________________________________________\n",
      "Mesaje de la API de Facebook-> \n",
      " {'object': 'page', 'entry': [{'id': '430761350747124', 'time': 1601657514231, 'messaging': [{'sender': {'id': '3812585132088508'}, 'recipient': {'id': '430761350747124'}, 'timestamp': 1601657514161, 'message': {'mid': 'm_gT79lLOnTT72-U6-VtsTc4DIHsg4Bwph1PFsDRmK-uFnM12r-I4w1LAOLEzcYlVi2lFdwkOyS0cPB8v105sygA', 'text': 'dormir'}}]}]}\n",
      "hilo consume\n",
      "\n",
      "______________________________________________no read__________________________________________________________________________\n",
      "Mensaje enviado al Nucleo Logico-> "
     ]
    },
    {
     "name": "stderr",
     "output_type": "stream",
     "text": [
      "127.0.0.1 - - [02/Oct/2020 11:51:55] \"POST /apiREST/v1 HTTP/1.1\" 200 -\n"
     ]
    },
    {
     "name": "stdout",
     "output_type": "stream",
     "text": [
      " {\"payload\": {\"robot\": \"none\", \"id_face\": \"430761350747124\", \"recipient_id\": \"3812585132088508\", \"access_token\": \"none\", \"content\": \"dormir\", \"type_resp\": \"message\", \"state\": \"none\", \"blocktype\": \"none\", \"opciones\": \"none\", \"entities\": {}}}\n",
      "b'{\"Respuesta\": {\"content\": \"\\\\u00bfAhora en qu\\\\u00e9 puedo ayudarte?\", \"next_id\": \"next\", \"blockType\": \"informativo\", \"contentType\": \"text\", \"typingTime\": \"3\", \"payload\": {\"content\": \"\", \"state\": \"mensajePreMenu_01inicial_inicial\", \"recipient_id\": \"3812585132088508\", \"entities\": {\"qr_menuIntro\": \"\\\\u00a1ok veamos!\", \"var_pregunta\": \"dormir\", \"qr_personalidad\": \"\\\\u00bfCon qui\\\\u00e9n estoy hablando?\"}, \"access_token\": \"EAAJjZAQWaAbgBAAxC53jaIzoxSpgY3qZBc0pYDlb5g3E58pTJ35vAzrsZBVSyiYPhpgZB3ZAeNqx18ImA0LZCcsqL96hFDqsE9fcXUk52ofVsqWeerVDKp0cGo2wvohq5ISdkCUX7ZByd4c80Y6BstQYbe5noQhC8L7wdtMuKyZAAgZDZD\"}}}'\n",
      "\n",
      "_________________________________________________________________________________________________________________________\n",
      "Respuesta del Nucleo Logico->  {'Respuesta': {'content': '¿Ahora en qué puedo ayudarte?', 'next_id': 'next', 'blockType': 'informativo', 'contentType': 'text', 'typingTime': '3', 'payload': {'content': '', 'state': 'mensajePreMenu_01inicial_inicial', 'recipient_id': '3812585132088508', 'entities': {'qr_menuIntro': '¡ok veamos!', 'var_pregunta': 'dormir', 'qr_personalidad': '¿Con quién estoy hablando?'}, 'access_token': 'EAAJjZAQWaAbgBAAxC53jaIzoxSpgY3qZBc0pYDlb5g3E58pTJ35vAzrsZBVSyiYPhpgZB3ZAeNqx18ImA0LZCcsqL96hFDqsE9fcXUk52ofVsqWeerVDKp0cGo2wvohq5ISdkCUX7ZByd4c80Y6BstQYbe5noQhC8L7wdtMuKyZAAgZDZD'}}}\n",
      "\n",
      "---------------------------------------------------------------------------\n",
      "mensaje enviado a la API de facebook:\n",
      " {'recipient_id': '3812585132088508', 'message_id': 'm_LaVqx4ZPY45350t0sJFBxoDIHsg4Bwph1PFsDRmK-uE60jKIguXIAWJe7jP2sODO5atZk7hs5OUVKzsDUOlHhg'}\n",
      " [.] Got %r None\n",
      "\n",
      "_________________________________________________________________________________________________________________________\n",
      "Mesaje de la API de Facebook-> \n",
      " {'object': 'page', 'entry': [{'id': '430761350747124', 'time': 1601657517898, 'messaging': [{'sender': {'id': '3812585132088508'}, 'recipient': {'id': '430761350747124'}, 'timestamp': 1601657518062, 'read': {'watermark': 1601657517575}}]}]}\n"
     ]
    },
    {
     "name": "stderr",
     "output_type": "stream",
     "text": [
      "127.0.0.1 - - [02/Oct/2020 11:51:59] \"POST /apiREST/v1 HTTP/1.1\" 200 -\n"
     ]
    },
    {
     "name": "stdout",
     "output_type": "stream",
     "text": [
      "\n",
      "________________________________________read _______________________________________________________________________________\n",
      "Mensaje enviado al Nucleo Logico Read->  {\"payload\": {\"robot\": \"none\", \"id_face\": \"430761350747124\", \"recipient_id\": \"3812585132088508\", \"access_token\": \"none\", \"content\": \"\", \"type_resp\": \"read\", \"state\": \"none\", \"blocktype\": \"none\", \"opciones\": \"none\", \"entities\": {}}}\n",
      "hilo consume\n",
      "\n",
      "_________________________________________________________________________________________________________________________\n",
      "Mesaje de la API de Facebook-> \n",
      " {'object': 'page', 'entry': [{'id': '430761350747124', 'time': 1601657720353, 'messaging': [{'sender': {'id': '3812585132088508'}, 'recipient': {'id': '430761350747124'}, 'timestamp': 1601657720265, 'message': {'mid': 'm_PWgPsgdb50hpZL8ugFEVsoDIHsg4Bwph1PFsDRmK-uHeBGtxYjaAbPwu_dEc7LUu1PsBmIiwyA8ky0hCurQKng', 'text': 'dormir'}}]}]}\n",
      "hilo consume\n",
      "\n",
      "______________________________________________no read__________________________________________________________________________"
     ]
    },
    {
     "name": "stderr",
     "output_type": "stream",
     "text": [
      "127.0.0.1 - - [02/Oct/2020 11:55:24] \"POST /apiREST/v1 HTTP/1.1\" 200 -\n"
     ]
    },
    {
     "name": "stdout",
     "output_type": "stream",
     "text": [
      "b'{\"Respuesta\": {\"content\": \"Selecciona una opci\\\\u00f3n\", \"next_id\": \"mensajesIntroduccion_01inicial_inicial,infoEdad_01inicial_inicial,infoColor_01inicial_inicial\", \"blockType\": \"quickReply\", \"contentType\": \" \", \"typingTime\": \"3\", \"payload\": {\"content\": \"\", \"state\": \"qrPersonalidad_01inicial_inicial\", \"recipient_id\": \"3812585132088508\", \"entities\": {\"qr_menuIntro\": \"\\\\u00a1ok veamos!\", \"var_pregunta\": \"dormir\", \"qr_personalidad\": \"\\\\u00bfCon qui\\\\u00e9n estoy hablando?\"}, \"access_token\": \"EAAJjZAQWaAbgBAAxC53jaIzoxSpgY3qZBc0pYDlb5g3E58pTJ35vAzrsZBVSyiYPhpgZB3ZAeNqx18ImA0LZCcsqL96hFDqsE9fcXUk52ofVsqWeerVDKp0cGo2wvohq5ISdkCUX7ZByd4c80Y6BstQYbe5noQhC8L7wdtMuKyZAAgZDZD\"}, \"options\": [\"\\\\u00bfCon qui\\\\u00e9n estoy hablando?\", \"\\\\u00bfQu\\\\u00e9 edad tienes?\", \"\\\\u00bfCu\\\\u00e1l es tu color favorito?\"], \"default_id\": \"NLPpersonalidad_01inicial_inicial\", \"save_var\": \"\\\\u00bfCon qui\\\\u00e9n estoy hablando?\"}}'\n",
      "Mensaje enviado al Nucleo Logico-> \n",
      "\n",
      "_________________________________________________________________________________________________________________________\n",
      "Respuesta del Nucleo Logico->  {'Respuesta': {'content': 'Selecciona una opción', 'next_id': 'mensajesIntroduccion_01inicial_inicial,infoEdad_01inicial_inicial,infoColor_01inicial_inicial', 'blockType': 'quickReply', 'contentType': ' ', 'typingTime': '3', 'payload': {'content': '', 'state': 'qrPersonalidad_01inicial_inicial', 'recipient_id': '3812585132088508', 'entities': {'qr_menuIntro': '¡ok veamos!', 'var_pregunta': 'dormir', 'qr_personalidad': '¿Con quién estoy hablando?'}, 'access_token': 'EAAJjZAQWaAbgBAAxC53jaIzoxSpgY3qZBc0pYDlb5g3E58pTJ35vAzrsZBVSyiYPhpgZB3ZAeNqx18ImA0LZCcsqL96hFDqsE9fcXUk52ofVsqWeerVDKp0cGo2wvohq5ISdkCUX7ZByd4c80Y6BstQYbe5noQhC8L7wdtMuKyZAAgZDZD'}, 'options': ['¿Con quién estoy hablando?', '¿Qué edad tienes?', '¿Cuál es tu color favorito?'], 'default_id': 'NLPpersonalidad_01inicial_inicial', 'save_var': '¿Con quién estoy hablando?'}} {\"payload\": {\"robot\": \"none\", \"id_face\": \"430761350747124\", \"recipient_id\": \"3812585132088508\", \"access_token\": \"none\", \"content\": \"dormir\", \"type_resp\": \"message\", \"state\": \"none\", \"blocktype\": \"none\", \"opciones\": \"none\", \"entities\": {}}}\n",
      "\n",
      "\n",
      "---------------------------------------------------------------------------\n",
      "mensaje enviado a la API de facebook:\n",
      " {'recipient_id': '3812585132088508', 'message_id': 'm_38RbCC6pBr70yhF9BOQ9MYDIHsg4Bwph1PFsDRmK-uFBki1igqcapC9DCV89rIPXqeZnGGpj0tnpsDII7V0ggA'}\n",
      " [.] Got %r None\n",
      "\n",
      "_________________________________________________________________________________________________________________________\n",
      "Mesaje de la API de Facebook-> \n",
      " {'object': 'page', 'entry': [{'id': '430761350747124', 'time': 1601657735770, 'messaging': [{'sender': {'id': '3812585132088508'}, 'recipient': {'id': '430761350747124'}, 'timestamp': 1601657735893, 'read': {'watermark': 1601657733084}}]}]}\n"
     ]
    },
    {
     "name": "stderr",
     "output_type": "stream",
     "text": [
      "127.0.0.1 - - [02/Oct/2020 11:55:38] \"POST /apiREST/v1 HTTP/1.1\" 200 -\n"
     ]
    },
    {
     "name": "stdout",
     "output_type": "stream",
     "text": [
      "\n",
      "________________________________________read _______________________________________________________________________________\n",
      "Mensaje enviado al Nucleo Logico Read->  {\"payload\": {\"robot\": \"none\", \"id_face\": \"430761350747124\", \"recipient_id\": \"3812585132088508\", \"access_token\": \"none\", \"content\": \"\", \"type_resp\": \"read\", \"state\": \"none\", \"blocktype\": \"none\", \"opciones\": \"none\", \"entities\": {}}}\n",
      "hilo consume\n",
      "b'{\"payload\": {\"robot\": 336, \"id_face\": \"430761350747124\", \"recipient_id\": \"3812585132088508\", \"access_token\": \"EAAJjZAQWaAbgBAAxC53jaIzoxSpgY3qZBc0pYDlb5g3E58pTJ35vAzrsZBVSyiYPhpgZB3ZAeNqx18ImA0LZCcsqL96hFDqsE9fcXUk52ofVsqWeerVDKp0cGo2wvohq5ISdkCUX7ZByd4c80Y6BstQYbe5noQhC8L7wdtMuKyZAAgZDZD\", \"content\": \"\", \"type_resp\": \"read\", \"state\": \"none\", \"blocktype\": \"none\", \"opciones\": \"none\", \"entities\": {}}}'\n",
      " [.] Got %r None\n",
      "\n",
      "_________________________________________________________________________________________________________________________\n",
      "Mesaje de la API de Facebook-> \n",
      " {'object': 'page', 'entry': [{'id': '430761350747124', 'time': 1601657741154, 'messaging': [{'sender': {'id': '3812585132088508'}, 'recipient': {'id': '430761350747124'}, 'timestamp': 1601657740885, 'postback': {'title': '¿Con quién estoy hablan...', 'payload': '¿Con quién estoy hablando?'}}]}]}\n"
     ]
    },
    {
     "name": "stderr",
     "output_type": "stream",
     "text": [
      "127.0.0.1 - - [02/Oct/2020 11:55:44] \"POST /apiREST/v1 HTTP/1.1\" 200 -\n"
     ]
    },
    {
     "name": "stdout",
     "output_type": "stream",
     "text": [
      "hilo consume\n",
      "\n",
      "______________________________________________no read__________________________________________________________________________\n",
      "Mensaje enviado al Nucleo Logico->  {\"payload\": {\"robot\": \"none\", \"id_face\": \"430761350747124\", \"recipient_id\": \"3812585132088508\", \"access_token\": \"none\", \"content\": \"\\u00bfCon qui\\u00e9n estoy hablando?\", \"type_resp\": \"postback\", \"state\": \"none\", \"blocktype\": \"none\", \"opciones\": \"none\", \"entities\": {}}}\n",
      "b'{\"Respuesta\": {\"content\": \"\\\\u00a1Hola! Soy Niza.\", \"next_id\": \"next\", \"blockType\": \"informativo\", \"contentType\": \"text\", \"typingTime\": \"3\", \"payload\": {\"content\": \"\", \"state\": \"mensajesIntroduccion_01inicial_inicial\", \"recipient_id\": \"3812585132088508\", \"entities\": {\"qr_menuIntro\": \"\\\\u00a1ok veamos!\", \"var_pregunta\": \"dormir\", \"qr_personalidad\": \"\\\\u00bfCon qui\\\\u00e9n estoy hablando?\"}, \"access_token\": \"EAAJjZAQWaAbgBAAxC53jaIzoxSpgY3qZBc0pYDlb5g3E58pTJ35vAzrsZBVSyiYPhpgZB3ZAeNqx18ImA0LZCcsqL96hFDqsE9fcXUk52ofVsqWeerVDKp0cGo2wvohq5ISdkCUX7ZByd4c80Y6BstQYbe5noQhC8L7wdtMuKyZAAgZDZD\"}}}'\n",
      "\n",
      "_________________________________________________________________________________________________________________________\n",
      "Respuesta del Nucleo Logico->  {'Respuesta': {'content': '¡Hola! Soy Niza.', 'next_id': 'next', 'blockType': 'informativo', 'contentType': 'text', 'typingTime': '3', 'payload': {'content': '', 'state': 'mensajesIntroduccion_01inicial_inicial', 'recipient_id': '3812585132088508', 'entities': {'qr_menuIntro': '¡ok veamos!', 'var_pregunta': 'dormir', 'qr_personalidad': '¿Con quién estoy hablando?'}, 'access_token': 'EAAJjZAQWaAbgBAAxC53jaIzoxSpgY3qZBc0pYDlb5g3E58pTJ35vAzrsZBVSyiYPhpgZB3ZAeNqx18ImA0LZCcsqL96hFDqsE9fcXUk52ofVsqWeerVDKp0cGo2wvohq5ISdkCUX7ZByd4c80Y6BstQYbe5noQhC8L7wdtMuKyZAAgZDZD'}}}\n",
      "\n",
      "---------------------------------------------------------------------------\n",
      "mensaje enviado a la API de facebook:\n",
      " {'recipient_id': '3812585132088508', 'message_id': 'm_1nRNlo2RSy-ebUYYKK3gBIDIHsg4Bwph1PFsDRmK-uFS9V25m0HftXWoLVxt3SVfxNqfhC_gKyqsxg76RaXJ_g'}\n",
      " [.] Got %r None\n",
      "\n",
      "_________________________________________________________________________________________________________________________\n",
      "Mesaje de la API de Facebook-> \n",
      " {'object': 'page', 'entry': [{'id': '430761350747124', 'time': 1601657753899, 'messaging': [{'sender': {'id': '3812585132088508'}, 'recipient': {'id': '430761350747124'}, 'timestamp': 1601657754043, 'read': {'watermark': 1601657752288}}]}]}\n"
     ]
    },
    {
     "name": "stderr",
     "output_type": "stream",
     "text": [
      "127.0.0.1 - - [02/Oct/2020 11:55:55] \"POST /apiREST/v1 HTTP/1.1\" 200 -\n"
     ]
    },
    {
     "name": "stdout",
     "output_type": "stream",
     "text": [
      "\n",
      "________________________________________read _______________________________________________________________________________\n",
      "Mensaje enviado al Nucleo Logico Read->  {\"payload\": {\"robot\": \"none\", \"id_face\": \"430761350747124\", \"recipient_id\": \"3812585132088508\", \"access_token\": \"none\", \"content\": \"\", \"type_resp\": \"read\", \"state\": \"none\", \"blocktype\": \"none\", \"opciones\": \"none\", \"entities\": {}}}\n",
      "hilo consume\n",
      "b'{\"Respuesta\": {\"content\": \"Un asistente virtual para atenci\\\\u00f3n ciudadana puedo responder dudas sobre tu agua potable\", \"next_id\": \"next\", \"blockType\": \"informativo\", \"contentType\": \"text\", \"typingTime\": \"3\", \"payload\": {\"content\": \"\", \"state\": \"mensajesIntroduccion_01inicial_inicial\", \"recipient_id\": \"3812585132088508\", \"entities\": {\"qr_menuIntro\": \"\\\\u00a1ok veamos!\", \"var_pregunta\": \"dormir\", \"qr_personalidad\": \"\\\\u00bfCon qui\\\\u00e9n estoy hablando?\"}, \"access_token\": \"EAAJjZAQWaAbgBAAxC53jaIzoxSpgY3qZBc0pYDlb5g3E58pTJ35vAzrsZBVSyiYPhpgZB3ZAeNqx18ImA0LZCcsqL96hFDqsE9fcXUk52ofVsqWeerVDKp0cGo2wvohq5ISdkCUX7ZByd4c80Y6BstQYbe5noQhC8L7wdtMuKyZAAgZDZD\"}}}'\n",
      "\n",
      "_________________________________________________________________________________________________________________________\n",
      "Respuesta del Nucleo Logico->  {'Respuesta': {'content': 'Un asistente virtual para atención ciudadana puedo responder dudas sobre tu agua potable', 'next_id': 'next', 'blockType': 'informativo', 'contentType': 'text', 'typingTime': '3', 'payload': {'content': '', 'state': 'mensajesIntroduccion_01inicial_inicial', 'recipient_id': '3812585132088508', 'entities': {'qr_menuIntro': '¡ok veamos!', 'var_pregunta': 'dormir', 'qr_personalidad': '¿Con quién estoy hablando?'}, 'access_token': 'EAAJjZAQWaAbgBAAxC53jaIzoxSpgY3qZBc0pYDlb5g3E58pTJ35vAzrsZBVSyiYPhpgZB3ZAeNqx18ImA0LZCcsqL96hFDqsE9fcXUk52ofVsqWeerVDKp0cGo2wvohq5ISdkCUX7ZByd4c80Y6BstQYbe5noQhC8L7wdtMuKyZAAgZDZD'}}}\n",
      "\n",
      "---------------------------------------------------------------------------\n",
      "mensaje enviado a la API de facebook:\n",
      " {'recipient_id': '3812585132088508', 'message_id': 'm_54pXoPFcjBIxp-cDWOfqP4DIHsg4Bwph1PFsDRmK-uHya_freOSKijzd-53YHYohb6EjothfaLIisNEvROk6og'}\n",
      " [.] Got %r None\n",
      "\n",
      "_________________________________________________________________________________________________________________________\n",
      "Mesaje de la API de Facebook-> \n",
      " {'object': 'page', 'entry': [{'id': '430761350747124', 'time': 1601657758842, 'messaging': [{'sender': {'id': '3812585132088508'}, 'recipient': {'id': '430761350747124'}, 'timestamp': 1601657758971, 'read': {'watermark': 1601657757312}}]}]}\n"
     ]
    },
    {
     "name": "stderr",
     "output_type": "stream",
     "text": [
      "127.0.0.1 - - [02/Oct/2020 11:56:00] \"POST /apiREST/v1 HTTP/1.1\" 200 -\n"
     ]
    },
    {
     "name": "stdout",
     "output_type": "stream",
     "text": [
      "\n",
      "________________________________________read _______________________________________________________________________________\n",
      "Mensaje enviado al Nucleo Logico Read->  {\"payload\": {\"robot\": \"none\", \"id_face\": \"430761350747124\", \"recipient_id\": \"3812585132088508\", \"access_token\": \"none\", \"content\": \"\", \"type_resp\": \"read\", \"state\": \"none\", \"blocktype\": \"none\", \"opciones\": \"none\", \"entities\": {}}}\n",
      "hilo consume\n",
      "b'{\"Respuesta\": {\"content\": \"Te gustar\\\\u00eda saber c\\\\u00f3mo utilizarme\", \"next_id\": \"next\", \"blockType\": \"informativo\", \"contentType\": \"text\", \"typingTime\": \"3\", \"payload\": {\"content\": \"\", \"state\": \"mensajesIntroduccion_01inicial_inicial\", \"recipient_id\": \"3812585132088508\", \"entities\": {\"qr_menuIntro\": \"\\\\u00a1ok veamos!\", \"var_pregunta\": \"dormir\", \"qr_personalidad\": \"\\\\u00bfCon qui\\\\u00e9n estoy hablando?\"}, \"access_token\": \"EAAJjZAQWaAbgBAAxC53jaIzoxSpgY3qZBc0pYDlb5g3E58pTJ35vAzrsZBVSyiYPhpgZB3ZAeNqx18ImA0LZCcsqL96hFDqsE9fcXUk52ofVsqWeerVDKp0cGo2wvohq5ISdkCUX7ZByd4c80Y6BstQYbe5noQhC8L7wdtMuKyZAAgZDZD\"}}}'\n",
      "\n",
      "_________________________________________________________________________________________________________________________\n",
      "Respuesta del Nucleo Logico->  {'Respuesta': {'content': 'Te gustaría saber cómo utilizarme', 'next_id': 'next', 'blockType': 'informativo', 'contentType': 'text', 'typingTime': '3', 'payload': {'content': '', 'state': 'mensajesIntroduccion_01inicial_inicial', 'recipient_id': '3812585132088508', 'entities': {'qr_menuIntro': '¡ok veamos!', 'var_pregunta': 'dormir', 'qr_personalidad': '¿Con quién estoy hablando?'}, 'access_token': 'EAAJjZAQWaAbgBAAxC53jaIzoxSpgY3qZBc0pYDlb5g3E58pTJ35vAzrsZBVSyiYPhpgZB3ZAeNqx18ImA0LZCcsqL96hFDqsE9fcXUk52ofVsqWeerVDKp0cGo2wvohq5ISdkCUX7ZByd4c80Y6BstQYbe5noQhC8L7wdtMuKyZAAgZDZD'}}}\n",
      "\n",
      "---------------------------------------------------------------------------\n",
      "mensaje enviado a la API de facebook:\n",
      " {'recipient_id': '3812585132088508', 'message_id': 'm_HbFox7vdNCRFulD7-gOeZ4DIHsg4Bwph1PFsDRmK-uFequ6Sy3BXzeqSmDZWkJzj0cvoS7cLyrzwiIK8O4JBxA'}\n",
      " [.] Got %r None\n",
      "\n",
      "_________________________________________________________________________________________________________________________\n",
      "Mesaje de la API de Facebook-> \n",
      " {'object': 'page', 'entry': [{'id': '430761350747124', 'time': 1601657763610, 'messaging': [{'sender': {'id': '3812585132088508'}, 'recipient': {'id': '430761350747124'}, 'timestamp': 1601657763678, 'read': {'watermark': 1601657762171}}]}]}\n"
     ]
    },
    {
     "name": "stderr",
     "output_type": "stream",
     "text": [
      "127.0.0.1 - - [02/Oct/2020 11:56:05] \"POST /apiREST/v1 HTTP/1.1\" 200 -\n"
     ]
    },
    {
     "name": "stdout",
     "output_type": "stream",
     "text": [
      "\n",
      "________________________________________read _______________________________________________________________________________\n",
      "Mensaje enviado al Nucleo Logico Read->  {\"payload\": {\"robot\": \"none\", \"id_face\": \"430761350747124\", \"recipient_id\": \"3812585132088508\", \"access_token\": \"none\", \"content\": \"\", \"type_resp\": \"read\", \"state\": \"none\", \"blocktype\": \"none\", \"opciones\": \"none\", \"entities\": {}}}\n",
      "hilo consume\n",
      "b'{\"Respuesta\": {\"content\": \"Toca uno de los botones azules para saber tu elecci\\\\u00f3n\", \"next_id\": \"mensajesIntroduccion2_01inicial_inicial,mensajePreMenu_01inicial_inicial\", \"blockType\": \"quickReply\", \"contentType\": \" \", \"typingTime\": \"5\", \"payload\": {\"content\": \"\", \"state\": \"menuIntroduccion_01inicial_inicial\", \"recipient_id\": \"3812585132088508\", \"entities\": {\"qr_menuIntro\": \"\\\\u00a1ok veamos!\", \"var_pregunta\": \"dormir\", \"qr_personalidad\": \"\\\\u00bfCon qui\\\\u00e9n estoy hablando?\"}, \"access_token\": \"EAAJjZAQWaAbgBAAxC53jaIzoxSpgY3qZBc0pYDlb5g3E58pTJ35vAzrsZBVSyiYPhpgZB3ZAeNqx18ImA0LZCcsqL96hFDqsE9fcXUk52ofVsqWeerVDKp0cGo2wvohq5ISdkCUX7ZByd4c80Y6BstQYbe5noQhC8L7wdtMuKyZAAgZDZD\"}, \"options\": [\"\\\\u00a1ok veamos!\", \"Prefiero ir al men\\\\u00fa\"], \"default_id\": \"mensajePreMenu_01inicial_inicial\", \"save_var\": \"\\\\u00a1ok veamos!\"}}'\n",
      "\n",
      "_________________________________________________________________________________________________________________________\n",
      "Respuesta del Nucleo Logico->  {'Respuesta': {'content': 'Toca uno de los botones azules para saber tu elección', 'next_id': 'mensajesIntroduccion2_01inicial_inicial,mensajePreMenu_01inicial_inicial', 'blockType': 'quickReply', 'contentType': ' ', 'typingTime': '5', 'payload': {'content': '', 'state': 'menuIntroduccion_01inicial_inicial', 'recipient_id': '3812585132088508', 'entities': {'qr_menuIntro': '¡ok veamos!', 'var_pregunta': 'dormir', 'qr_personalidad': '¿Con quién estoy hablando?'}, 'access_token': 'EAAJjZAQWaAbgBAAxC53jaIzoxSpgY3qZBc0pYDlb5g3E58pTJ35vAzrsZBVSyiYPhpgZB3ZAeNqx18ImA0LZCcsqL96hFDqsE9fcXUk52ofVsqWeerVDKp0cGo2wvohq5ISdkCUX7ZByd4c80Y6BstQYbe5noQhC8L7wdtMuKyZAAgZDZD'}, 'options': ['¡ok veamos!', 'Prefiero ir al menú'], 'default_id': 'mensajePreMenu_01inicial_inicial', 'save_var': '¡ok veamos!'}}\n",
      "\n",
      "---------------------------------------------------------------------------\n",
      "mensaje enviado a la API de facebook:\n",
      " {'recipient_id': '3812585132088508', 'message_id': 'm_vHl0oIqDv1zCwg57GDT30oDIHsg4Bwph1PFsDRmK-uE8spIj_KpZH4tXXYVWIb0jxFNtmsBlOlrDM8BqLluq1Q'}\n",
      " [.] Got %r None\n",
      "\n",
      "_________________________________________________________________________________________________________________________\n",
      "Mesaje de la API de Facebook-> \n",
      " {'object': 'page', 'entry': [{'id': '430761350747124', 'time': 1601657769674, 'messaging': [{'sender': {'id': '3812585132088508'}, 'recipient': {'id': '430761350747124'}, 'timestamp': 1601657769791, 'read': {'watermark': 1601657767639}}]}]}\n"
     ]
    },
    {
     "name": "stderr",
     "output_type": "stream",
     "text": [
      "127.0.0.1 - - [02/Oct/2020 11:56:10] \"POST /apiREST/v1 HTTP/1.1\" 200 -\n"
     ]
    },
    {
     "name": "stdout",
     "output_type": "stream",
     "text": [
      "\n",
      "________________________________________read _______________________________________________________________________________\n",
      "Mensaje enviado al Nucleo Logico Read->  {\"payload\": {\"robot\": \"none\", \"id_face\": \"430761350747124\", \"recipient_id\": \"3812585132088508\", \"access_token\": \"none\", \"content\": \"\", \"type_resp\": \"read\", \"state\": \"none\", \"blocktype\": \"none\", \"opciones\": \"none\", \"entities\": {}}}\n",
      "hilo consume\n",
      "b'{\"payload\": {\"robot\": 336, \"id_face\": \"430761350747124\", \"recipient_id\": \"3812585132088508\", \"access_token\": \"EAAJjZAQWaAbgBAAxC53jaIzoxSpgY3qZBc0pYDlb5g3E58pTJ35vAzrsZBVSyiYPhpgZB3ZAeNqx18ImA0LZCcsqL96hFDqsE9fcXUk52ofVsqWeerVDKp0cGo2wvohq5ISdkCUX7ZByd4c80Y6BstQYbe5noQhC8L7wdtMuKyZAAgZDZD\", \"content\": \"\", \"type_resp\": \"read\", \"state\": \"none\", \"blocktype\": \"none\", \"opciones\": \"none\", \"entities\": {}}}'\n",
      " [.] Got %r None\n",
      "\n",
      "_________________________________________________________________________________________________________________________\n",
      "Mesaje de la API de Facebook-> \n",
      " {'object': 'page', 'entry': [{'id': '430761350747124', 'time': 1601657771425, 'messaging': [{'sender': {'id': '3812585132088508'}, 'recipient': {'id': '430761350747124'}, 'timestamp': 1601657771281, 'postback': {'title': '¡ok veamos!', 'payload': '¡ok veamos!'}}]}]}\n"
     ]
    },
    {
     "name": "stderr",
     "output_type": "stream",
     "text": [
      "127.0.0.1 - - [02/Oct/2020 11:56:17] \"POST /apiREST/v1 HTTP/1.1\" 200 -\n"
     ]
    },
    {
     "name": "stdout",
     "output_type": "stream",
     "text": [
      "hilo consume\n",
      "\n",
      "______________________________________________no read__________________________________________________________________________\n",
      "Mensaje enviado al Nucleo Logico->  {\"payload\": {\"robot\": \"none\", \"id_face\": \"430761350747124\", \"recipient_id\": \"3812585132088508\", \"access_token\": \"none\", \"content\": \"\\u00a1ok veamos!\", \"type_resp\": \"postback\", \"state\": \"none\", \"blocktype\": \"none\", \"opciones\": \"none\", \"entities\": {}}}\n",
      "b'{\"Respuesta\": {\"content\": \"Soy un robot que funciona con un sistema autom\\\\u00e1tico llamado inteligencia artificial.\", \"next_id\": \"next\", \"blockType\": \"informativo\", \"contentType\": \"text\", \"typingTime\": \"3\", \"payload\": {\"content\": \"\", \"state\": \"mensajesIntroduccion2_01inicial_inicial\", \"recipient_id\": \"3812585132088508\", \"entities\": {\"qr_menuIntro\": \"\\\\u00a1ok veamos!\", \"var_pregunta\": \"dormir\", \"qr_personalidad\": \"\\\\u00bfCon qui\\\\u00e9n estoy hablando?\"}, \"access_token\": \"EAAJjZAQWaAbgBAAxC53jaIzoxSpgY3qZBc0pYDlb5g3E58pTJ35vAzrsZBVSyiYPhpgZB3ZAeNqx18ImA0LZCcsqL96hFDqsE9fcXUk52ofVsqWeerVDKp0cGo2wvohq5ISdkCUX7ZByd4c80Y6BstQYbe5noQhC8L7wdtMuKyZAAgZDZD\"}}}'\n",
      "\n",
      "_________________________________________________________________________________________________________________________\n",
      "Respuesta del Nucleo Logico->  {'Respuesta': {'content': 'Soy un robot que funciona con un sistema automático llamado inteligencia artificial.', 'next_id': 'next', 'blockType': 'informativo', 'contentType': 'text', 'typingTime': '3', 'payload': {'content': '', 'state': 'mensajesIntroduccion2_01inicial_inicial', 'recipient_id': '3812585132088508', 'entities': {'qr_menuIntro': '¡ok veamos!', 'var_pregunta': 'dormir', 'qr_personalidad': '¿Con quién estoy hablando?'}, 'access_token': 'EAAJjZAQWaAbgBAAxC53jaIzoxSpgY3qZBc0pYDlb5g3E58pTJ35vAzrsZBVSyiYPhpgZB3ZAeNqx18ImA0LZCcsqL96hFDqsE9fcXUk52ofVsqWeerVDKp0cGo2wvohq5ISdkCUX7ZByd4c80Y6BstQYbe5noQhC8L7wdtMuKyZAAgZDZD'}}}\n",
      "\n",
      "---------------------------------------------------------------------------\n",
      "mensaje enviado a la API de facebook:\n",
      " {'recipient_id': '3812585132088508', 'message_id': 'm_qHUIlhM1-Ova5G95VZ0W5YDIHsg4Bwph1PFsDRmK-uFx0hCOFs70_nQxiwABfyKqOgQN0jivTqIbUO8gwpBghA'}\n",
      " [.] Got %r None\n",
      "\n",
      "_________________________________________________________________________________________________________________________\n",
      "Mesaje de la API de Facebook-> \n",
      " {'object': 'page', 'entry': [{'id': '430761350747124', 'time': 1601657780962, 'messaging': [{'sender': {'id': '3812585132088508'}, 'recipient': {'id': '430761350747124'}, 'timestamp': 1601657781083, 'read': {'watermark': 1601657779291}}]}]}\n"
     ]
    },
    {
     "name": "stderr",
     "output_type": "stream",
     "text": [
      "127.0.0.1 - - [02/Oct/2020 11:56:22] \"POST /apiREST/v1 HTTP/1.1\" 200 -\n"
     ]
    },
    {
     "name": "stdout",
     "output_type": "stream",
     "text": [
      "\n",
      "________________________________________read _______________________________________________________________________________\n",
      "Mensaje enviado al Nucleo Logico Read->  {\"payload\": {\"robot\": \"none\", \"id_face\": \"430761350747124\", \"recipient_id\": \"3812585132088508\", \"access_token\": \"none\", \"content\": \"\", \"type_resp\": \"read\", \"state\": \"none\", \"blocktype\": \"none\", \"opciones\": \"none\", \"entities\": {}}}\n",
      "hilo consume\n",
      "b'{\"Respuesta\": {\"content\": \"Cada vez que escribas intentare entenderte\", \"next_id\": \"next\", \"blockType\": \"informativo\", \"contentType\": \"text\", \"typingTime\": \"3\", \"payload\": {\"content\": \"\", \"state\": \"mensajesIntroduccion2_01inicial_inicial\", \"recipient_id\": \"3812585132088508\", \"entities\": {\"qr_menuIntro\": \"\\\\u00a1ok veamos!\", \"var_pregunta\": \"dormir\", \"qr_personalidad\": \"\\\\u00bfCon qui\\\\u00e9n estoy hablando?\"}, \"access_token\": \"EAAJjZAQWaAbgBAAxC53jaIzoxSpgY3qZBc0pYDlb5g3E58pTJ35vAzrsZBVSyiYPhpgZB3ZAeNqx18ImA0LZCcsqL96hFDqsE9fcXUk52ofVsqWeerVDKp0cGo2wvohq5ISdkCUX7ZByd4c80Y6BstQYbe5noQhC8L7wdtMuKyZAAgZDZD\"}}}'\n",
      "\n",
      "_________________________________________________________________________________________________________________________\n",
      "Respuesta del Nucleo Logico->  {'Respuesta': {'content': 'Cada vez que escribas intentare entenderte', 'next_id': 'next', 'blockType': 'informativo', 'contentType': 'text', 'typingTime': '3', 'payload': {'content': '', 'state': 'mensajesIntroduccion2_01inicial_inicial', 'recipient_id': '3812585132088508', 'entities': {'qr_menuIntro': '¡ok veamos!', 'var_pregunta': 'dormir', 'qr_personalidad': '¿Con quién estoy hablando?'}, 'access_token': 'EAAJjZAQWaAbgBAAxC53jaIzoxSpgY3qZBc0pYDlb5g3E58pTJ35vAzrsZBVSyiYPhpgZB3ZAeNqx18ImA0LZCcsqL96hFDqsE9fcXUk52ofVsqWeerVDKp0cGo2wvohq5ISdkCUX7ZByd4c80Y6BstQYbe5noQhC8L7wdtMuKyZAAgZDZD'}}}\n",
      "\n",
      "---------------------------------------------------------------------------\n",
      "mensaje enviado a la API de facebook:\n",
      " {'recipient_id': '3812585132088508', 'message_id': 'm_VQhpwHgcBSaztQ1gwrJ0-IDIHsg4Bwph1PFsDRmK-uEz9aBybWWXIynyvywlYSTJ3OysmzRRJf3WX6TKdviIsA'}\n",
      " [.] Got %r None\n",
      "\n",
      "_________________________________________________________________________________________________________________________\n",
      "Mesaje de la API de Facebook-> \n",
      " {'object': 'page', 'entry': [{'id': '430761350747124', 'time': 1601657796921, 'messaging': [{'sender': {'id': '3812585132088508'}, 'recipient': {'id': '430761350747124'}, 'timestamp': 1601657797020, 'read': {'watermark': 1601657784619}}]}]}\n"
     ]
    },
    {
     "name": "stderr",
     "output_type": "stream",
     "text": [
      "127.0.0.1 - - [02/Oct/2020 11:56:38] \"POST /apiREST/v1 HTTP/1.1\" 200 -\n"
     ]
    },
    {
     "name": "stdout",
     "output_type": "stream",
     "text": [
      "\n",
      "________________________________________read _______________________________________________________________________________\n",
      "Mensaje enviado al Nucleo Logico Read->  {\"payload\": {\"robot\": \"none\", \"id_face\": \"430761350747124\", \"recipient_id\": \"3812585132088508\", \"access_token\": \"none\", \"content\": \"\", \"type_resp\": \"read\", \"state\": \"none\", \"blocktype\": \"none\", \"opciones\": \"none\", \"entities\": {}}}\n",
      "hilo consume\n",
      "b'{\"Respuesta\": {\"content\": \"no logro comprenderte\", \"next_id\": \"next\", \"blockType\": \"informativo\", \"contentType\": \"text\", \"typingTime\": \"3\", \"payload\": {\"content\": \"\", \"state\": \"mensajesIntroduccion2_01inicial_inicial\", \"recipient_id\": \"3812585132088508\", \"entities\": {\"qr_menuIntro\": \"\\\\u00a1ok veamos!\", \"var_pregunta\": \"dormir\", \"qr_personalidad\": \"\\\\u00bfCon qui\\\\u00e9n estoy hablando?\"}, \"access_token\": \"EAAJjZAQWaAbgBAAxC53jaIzoxSpgY3qZBc0pYDlb5g3E58pTJ35vAzrsZBVSyiYPhpgZB3ZAeNqx18ImA0LZCcsqL96hFDqsE9fcXUk52ofVsqWeerVDKp0cGo2wvohq5ISdkCUX7ZByd4c80Y6BstQYbe5noQhC8L7wdtMuKyZAAgZDZD\"}}}'\n",
      "\n",
      "_________________________________________________________________________________________________________________________\n",
      "Respuesta del Nucleo Logico->  {'Respuesta': {'content': 'no logro comprenderte', 'next_id': 'next', 'blockType': 'informativo', 'contentType': 'text', 'typingTime': '3', 'payload': {'content': '', 'state': 'mensajesIntroduccion2_01inicial_inicial', 'recipient_id': '3812585132088508', 'entities': {'qr_menuIntro': '¡ok veamos!', 'var_pregunta': 'dormir', 'qr_personalidad': '¿Con quién estoy hablando?'}, 'access_token': 'EAAJjZAQWaAbgBAAxC53jaIzoxSpgY3qZBc0pYDlb5g3E58pTJ35vAzrsZBVSyiYPhpgZB3ZAeNqx18ImA0LZCcsqL96hFDqsE9fcXUk52ofVsqWeerVDKp0cGo2wvohq5ISdkCUX7ZByd4c80Y6BstQYbe5noQhC8L7wdtMuKyZAAgZDZD'}}}\n",
      "\n",
      "---------------------------------------------------------------------------\n",
      "mensaje enviado a la API de facebook:\n",
      " {'recipient_id': '3812585132088508', 'message_id': 'm_5L2wxZv-SZcXZBhX6JwNcIDIHsg4Bwph1PFsDRmK-uFEi2FCOfKEGXPQpATvy4eyZZWuko6X2wPm605c0KK2Zw'}\n",
      " [.] Got %r None\n",
      "\n",
      "_________________________________________________________________________________________________________________________\n",
      "Mesaje de la API de Facebook-> \n",
      " {'object': 'page', 'entry': [{'id': '430761350747124', 'time': 1601657802490, 'messaging': [{'sender': {'id': '3812585132088508'}, 'recipient': {'id': '430761350747124'}, 'timestamp': 1601657802602, 'read': {'watermark': 1601657802282}}]}]}\n"
     ]
    },
    {
     "name": "stderr",
     "output_type": "stream",
     "text": [
      "127.0.0.1 - - [02/Oct/2020 11:56:46] \"POST /apiREST/v1 HTTP/1.1\" 200 -\n"
     ]
    },
    {
     "name": "stdout",
     "output_type": "stream",
     "text": [
      "\n",
      "________________________________________read _______________________________________________________________________________\n",
      "Mensaje enviado al Nucleo Logico Read->  {\"payload\": {\"robot\": \"none\", \"id_face\": \"430761350747124\", \"recipient_id\": \"3812585132088508\", \"access_token\": \"none\", \"content\": \"\", \"type_resp\": \"read\", \"state\": \"none\", \"blocktype\": \"none\", \"opciones\": \"none\", \"entities\": {}}}\n",
      "hilo consume\n",
      "b'{\"Respuesta\": {\"content\": \"\\\\u00bfQu\\\\u00e9 deseas hacer?\", \"next_id\": \"NLPpersonalidad_01inicial_inicial\", \"blockType\": \"input\", \"contentType\": \"text\", \"typingTime\": \"1\", \"payload\": {\"content\": \"\", \"state\": \"pregunta_01inicial_inicial\", \"recipient_id\": \"3812585132088508\", \"entities\": {\"qr_menuIntro\": \"\\\\u00a1ok veamos!\", \"var_pregunta\": \"dormir\", \"qr_personalidad\": \"\\\\u00bfCon qui\\\\u00e9n estoy hablando?\"}, \"access_token\": \"EAAJjZAQWaAbgBAAxC53jaIzoxSpgY3qZBc0pYDlb5g3E58pTJ35vAzrsZBVSyiYPhpgZB3ZAeNqx18ImA0LZCcsqL96hFDqsE9fcXUk52ofVsqWeerVDKp0cGo2wvohq5ISdkCUX7ZByd4c80Y6BstQYbe5noQhC8L7wdtMuKyZAAgZDZD\"}, \"validacion\": \".*\", \"default_id\": \"NLPpersonalidad_01inicial_inicial\"}}'\n",
      "\n",
      "_________________________________________________________________________________________________________________________\n",
      "Respuesta del Nucleo Logico->  {'Respuesta': {'content': '¿Qué deseas hacer?', 'next_id': 'NLPpersonalidad_01inicial_inicial', 'blockType': 'input', 'contentType': 'text', 'typingTime': '1', 'payload': {'content': '', 'state': 'pregunta_01inicial_inicial', 'recipient_id': '3812585132088508', 'entities': {'qr_menuIntro': '¡ok veamos!', 'var_pregunta': 'dormir', 'qr_personalidad': '¿Con quién estoy hablando?'}, 'access_token': 'EAAJjZAQWaAbgBAAxC53jaIzoxSpgY3qZBc0pYDlb5g3E58pTJ35vAzrsZBVSyiYPhpgZB3ZAeNqx18ImA0LZCcsqL96hFDqsE9fcXUk52ofVsqWeerVDKp0cGo2wvohq5ISdkCUX7ZByd4c80Y6BstQYbe5noQhC8L7wdtMuKyZAAgZDZD'}, 'validacion': '.*', 'default_id': 'NLPpersonalidad_01inicial_inicial'}}\n",
      "\n",
      "---------------------------------------------------------------------------\n",
      "mensaje enviado a la API de facebook:\n",
      " {'recipient_id': '3812585132088508', 'message_id': 'm_QOYZSSgapN1yiw6iFsYNsYDIHsg4Bwph1PFsDRmK-uFH8tLwx33mACrPsxQEeU6jZcLxAWvxUWfJ-GHVEevChw'}\n",
      " [.] Got %r None\n",
      "\n",
      "_________________________________________________________________________________________________________________________\n",
      "Mesaje de la API de Facebook-> \n",
      " {'object': 'page', 'entry': [{'id': '430761350747124', 'time': 1601657811221, 'messaging': [{'sender': {'id': '3812585132088508'}, 'recipient': {'id': '430761350747124'}, 'timestamp': 1601657811358, 'read': {'watermark': 1601657810975}}]}]}\n",
      "\n",
      "________________________________________read _______________________________________________________________________________\n",
      "Mensaje enviado al Nucleo Logico Read->  {\"payload\": {\"robot\": \"none\", \"id_face\": \"430761350747124\", \"recipient_id\": \"3812585132088508\", \"access_token\": \"none\", \"content\": \"\", \"type_resp\": \"read\", \"state\": \"none\", \"blocktype\": \"none\", \"opciones\": \"none\", \"entities\": {}}}\n",
      "hilo consume\n"
     ]
    },
    {
     "name": "stderr",
     "output_type": "stream",
     "text": [
      "127.0.0.1 - - [02/Oct/2020 11:56:54] \"POST /apiREST/v1 HTTP/1.1\" 200 -\n"
     ]
    },
    {
     "name": "stdout",
     "output_type": "stream",
     "text": [
      "b'{\"payload\": {\"robot\": 336, \"id_face\": \"430761350747124\", \"recipient_id\": \"3812585132088508\", \"access_token\": \"EAAJjZAQWaAbgBAAxC53jaIzoxSpgY3qZBc0pYDlb5g3E58pTJ35vAzrsZBVSyiYPhpgZB3ZAeNqx18ImA0LZCcsqL96hFDqsE9fcXUk52ofVsqWeerVDKp0cGo2wvohq5ISdkCUX7ZByd4c80Y6BstQYbe5noQhC8L7wdtMuKyZAAgZDZD\", \"content\": \"\", \"type_resp\": \"read\", \"state\": \"none\", \"blocktype\": \"none\", \"opciones\": \"none\", \"entities\": {}}}'\n",
      " [.] Got %r None\n",
      "\n",
      "_________________________________________________________________________________________________________________________\n",
      "Mesaje de la API de Facebook-> \n",
      " {'object': 'page', 'entry': [{'id': '430761350747124', 'time': 1601657822733, 'messaging': [{'sender': {'id': '3812585132088508'}, 'recipient': {'id': '430761350747124'}, 'timestamp': 1601657822635, 'message': {'mid': 'm_94DOWvDL6XtHBUSeruqBQIDIHsg4Bwph1PFsDRmK-uG2LJNyDrGCW0u7CXGIR1G4i4zpBaYDYKVS4T5f-2Sx6g', 'text': 'dormir'}}]}]}\n"
     ]
    },
    {
     "name": "stderr",
     "output_type": "stream",
     "text": [
      "127.0.0.1 - - [02/Oct/2020 11:57:07] \"POST /apiREST/v1 HTTP/1.1\" 200 -\n"
     ]
    },
    {
     "name": "stdout",
     "output_type": "stream",
     "text": [
      "hilo consume\n",
      "\n",
      "______________________________________________no read__________________________________________________________________________\n",
      "Mensaje enviado al Nucleo Logico->  {\"payload\": {\"robot\": \"none\", \"id_face\": \"430761350747124\", \"recipient_id\": \"3812585132088508\", \"access_token\": \"none\", \"content\": \"dormir\", \"type_resp\": \"message\", \"state\": \"none\", \"blocktype\": \"none\", \"opciones\": \"none\", \"entities\": {}}}\n",
      "b'{\"Respuesta\": {\"content\": \"\\\\u00bfC\\\\u00f3mo puedo ayudarte? \", \"next_id\": \"next\", \"blockType\": \"informativo\", \"contentType\": \"text\", \"typingTime\": \"3\", \"payload\": {\"content\": \"\", \"state\": \"mensajePreMenu_01inicial_inicial\", \"recipient_id\": \"3812585132088508\", \"entities\": {\"qr_menuIntro\": \"\\\\u00a1ok veamos!\", \"var_pregunta\": \"dormir\", \"qr_personalidad\": \"\\\\u00bfCon qui\\\\u00e9n estoy hablando?\"}, \"access_token\": \"EAAJjZAQWaAbgBAAxC53jaIzoxSpgY3qZBc0pYDlb5g3E58pTJ35vAzrsZBVSyiYPhpgZB3ZAeNqx18ImA0LZCcsqL96hFDqsE9fcXUk52ofVsqWeerVDKp0cGo2wvohq5ISdkCUX7ZByd4c80Y6BstQYbe5noQhC8L7wdtMuKyZAAgZDZD\"}}}'\n",
      "\n",
      "_________________________________________________________________________________________________________________________\n",
      "Respuesta del Nucleo Logico->  {'Respuesta': {'content': '¿Cómo puedo ayudarte? ', 'next_id': 'next', 'blockType': 'informativo', 'contentType': 'text', 'typingTime': '3', 'payload': {'content': '', 'state': 'mensajePreMenu_01inicial_inicial', 'recipient_id': '3812585132088508', 'entities': {'qr_menuIntro': '¡ok veamos!', 'var_pregunta': 'dormir', 'qr_personalidad': '¿Con quién estoy hablando?'}, 'access_token': 'EAAJjZAQWaAbgBAAxC53jaIzoxSpgY3qZBc0pYDlb5g3E58pTJ35vAzrsZBVSyiYPhpgZB3ZAeNqx18ImA0LZCcsqL96hFDqsE9fcXUk52ofVsqWeerVDKp0cGo2wvohq5ISdkCUX7ZByd4c80Y6BstQYbe5noQhC8L7wdtMuKyZAAgZDZD'}}}\n",
      "\n",
      "---------------------------------------------------------------------------\n",
      "mensaje enviado a la API de facebook:\n",
      " {'recipient_id': '3812585132088508', 'message_id': 'm_vyIcHL4A6iht05GWMGwwMIDIHsg4Bwph1PFsDRmK-uH-YPh-Zw3EAzR9KWq1n7W_hb4iZyjJrvRXJd7e9QOLlA'}\n",
      " [.] Got %r None\n",
      "\n",
      "_________________________________________________________________________________________________________________________\n",
      "Mesaje de la API de Facebook-> \n",
      " {'object': 'page', 'entry': [{'id': '430761350747124', 'time': 1601657865758, 'messaging': [{'sender': {'id': '3812585132088508'}, 'recipient': {'id': '430761350747124'}, 'timestamp': 1601657865908, 'read': {'watermark': 1601657830103}}]}]}\n"
     ]
    },
    {
     "name": "stderr",
     "output_type": "stream",
     "text": [
      "127.0.0.1 - - [02/Oct/2020 11:57:54] \"POST /apiREST/v1 HTTP/1.1\" 200 -\n"
     ]
    },
    {
     "name": "stdout",
     "output_type": "stream",
     "text": [
      "\n",
      "________________________________________read _______________________________________________________________________________\n",
      "Mensaje enviado al Nucleo Logico Read->  {\"payload\": {\"robot\": \"none\", \"id_face\": \"430761350747124\", \"recipient_id\": \"3812585132088508\", \"access_token\": \"none\", \"content\": \"\", \"type_resp\": \"read\", \"state\": \"none\", \"blocktype\": \"none\", \"opciones\": \"none\", \"entities\": {}}}\n",
      "hilo consume\n",
      "\n",
      "_________________________________________________________________________________________________________________________\n",
      "Mesaje de la API de Facebook-> \n",
      " {'object': 'page', 'entry': [{'id': '430761350747124', 'time': 1601658054907, 'messaging': [{'sender': {'id': '3812585132088508'}, 'recipient': {'id': '430761350747124'}, 'timestamp': 1601658054844, 'message': {'mid': 'm_zx817PUf7_mzGo8KDe2L54DIHsg4Bwph1PFsDRmK-uHrC644E3xaO8DNTyOhCH4SzKbx9dydjkYe9VSek3ISUw', 'text': 'hola'}}]}]}\n"
     ]
    },
    {
     "name": "stderr",
     "output_type": "stream",
     "text": [
      "127.0.0.1 - - [02/Oct/2020 12:01:04] \"POST /apiREST/v1 HTTP/1.1\" 200 -\n"
     ]
    },
    {
     "name": "stdout",
     "output_type": "stream",
     "text": [
      "hilo consume\n",
      "______________________________________________no read__________________________________________________________________________\n",
      "\n",
      "Mensaje enviado al Nucleo Logico->  {\"payload\": {\"robot\": \"none\", \"id_face\": \"430761350747124\", \"recipient_id\": \"3812585132088508\", \"access_token\": \"none\", \"content\": \"hola\", \"type_resp\": \"message\", \"state\": \"none\", \"blocktype\": \"none\", \"opciones\": \"none\", \"entities\": {}}}\n",
      "b'{\"Respuesta\": {\"content\": \"\\\\u00a1Hola! Soy Niza.\", \"next_id\": \"next\", \"blockType\": \"informativo\", \"contentType\": \"text\", \"typingTime\": \"3\", \"payload\": {\"content\": \"\", \"state\": \"mensajesIntroduccion_01inicial_inicial\", \"recipient_id\": \"3812585132088508\", \"entities\": {}, \"access_token\": \"EAAJjZAQWaAbgBAAxC53jaIzoxSpgY3qZBc0pYDlb5g3E58pTJ35vAzrsZBVSyiYPhpgZB3ZAeNqx18ImA0LZCcsqL96hFDqsE9fcXUk52ofVsqWeerVDKp0cGo2wvohq5ISdkCUX7ZByd4c80Y6BstQYbe5noQhC8L7wdtMuKyZAAgZDZD\"}}}'\n",
      "\n",
      "_________________________________________________________________________________________________________________________\n",
      "Respuesta del Nucleo Logico->  {'Respuesta': {'content': '¡Hola! Soy Niza.', 'next_id': 'next', 'blockType': 'informativo', 'contentType': 'text', 'typingTime': '3', 'payload': {'content': '', 'state': 'mensajesIntroduccion_01inicial_inicial', 'recipient_id': '3812585132088508', 'entities': {}, 'access_token': 'EAAJjZAQWaAbgBAAxC53jaIzoxSpgY3qZBc0pYDlb5g3E58pTJ35vAzrsZBVSyiYPhpgZB3ZAeNqx18ImA0LZCcsqL96hFDqsE9fcXUk52ofVsqWeerVDKp0cGo2wvohq5ISdkCUX7ZByd4c80Y6BstQYbe5noQhC8L7wdtMuKyZAAgZDZD'}}}\n",
      "\n",
      "---------------------------------------------------------------------------\n",
      "mensaje enviado a la API de facebook:\n",
      " {'recipient_id': '3812585132088508', 'message_id': 'm_dP-J9x49jNXXkPjzDbXBiYDIHsg4Bwph1PFsDRmK-uHYTpwqmoDF9ZVrmx4fi0ZBssiNjMbRdxN3rO1RISTCMQ'}\n",
      " [.] Got %r None\n",
      "\n",
      "_________________________________________________________________________________________________________________________\n",
      "Mesaje de la API de Facebook-> \n",
      " {'object': 'page', 'entry': [{'id': '430761350747124', 'time': 1601658068445, 'messaging': [{'sender': {'id': '3812585132088508'}, 'recipient': {'id': '430761350747124'}, 'timestamp': 1601658068604, 'read': {'watermark': 1601658067315}}]}]}\n"
     ]
    },
    {
     "name": "stderr",
     "output_type": "stream",
     "text": [
      "127.0.0.1 - - [02/Oct/2020 12:01:09] \"POST /apiREST/v1 HTTP/1.1\" 200 -\n"
     ]
    },
    {
     "name": "stdout",
     "output_type": "stream",
     "text": [
      "\n",
      "________________________________________read _______________________________________________________________________________\n",
      "Mensaje enviado al Nucleo Logico Read->  {\"payload\": {\"robot\": \"none\", \"id_face\": \"430761350747124\", \"recipient_id\": \"3812585132088508\", \"access_token\": \"none\", \"content\": \"\", \"type_resp\": \"read\", \"state\": \"none\", \"blocktype\": \"none\", \"opciones\": \"none\", \"entities\": {}}}\n",
      "hilo consume\n",
      "b'{\"Respuesta\": {\"content\": \"Un asistente virtual para atenci\\\\u00f3n ciudadana puedo responder dudas sobre tu agua potable\", \"next_id\": \"next\", \"blockType\": \"informativo\", \"contentType\": \"text\", \"typingTime\": \"3\", \"payload\": {\"content\": \"\", \"state\": \"mensajesIntroduccion_01inicial_inicial\", \"recipient_id\": \"3812585132088508\", \"entities\": {}, \"access_token\": \"EAAJjZAQWaAbgBAAxC53jaIzoxSpgY3qZBc0pYDlb5g3E58pTJ35vAzrsZBVSyiYPhpgZB3ZAeNqx18ImA0LZCcsqL96hFDqsE9fcXUk52ofVsqWeerVDKp0cGo2wvohq5ISdkCUX7ZByd4c80Y6BstQYbe5noQhC8L7wdtMuKyZAAgZDZD\"}}}'\n",
      "\n",
      "_________________________________________________________________________________________________________________________\n",
      "Respuesta del Nucleo Logico->  {'Respuesta': {'content': 'Un asistente virtual para atención ciudadana puedo responder dudas sobre tu agua potable', 'next_id': 'next', 'blockType': 'informativo', 'contentType': 'text', 'typingTime': '3', 'payload': {'content': '', 'state': 'mensajesIntroduccion_01inicial_inicial', 'recipient_id': '3812585132088508', 'entities': {}, 'access_token': 'EAAJjZAQWaAbgBAAxC53jaIzoxSpgY3qZBc0pYDlb5g3E58pTJ35vAzrsZBVSyiYPhpgZB3ZAeNqx18ImA0LZCcsqL96hFDqsE9fcXUk52ofVsqWeerVDKp0cGo2wvohq5ISdkCUX7ZByd4c80Y6BstQYbe5noQhC8L7wdtMuKyZAAgZDZD'}}}\n",
      "\n",
      "---------------------------------------------------------------------------\n",
      "mensaje enviado a la API de facebook:\n",
      " {'recipient_id': '3812585132088508', 'message_id': 'm_piI-BZuwqqmQOvqJv3wAnoDIHsg4Bwph1PFsDRmK-uGqCFiO_GBx42w_Xr70ZWaY4CNz0VP7K51jZ6By_I5fLQ'}\n",
      " [.] Got %r None\n",
      "\n",
      "_________________________________________________________________________________________________________________________\n",
      "Mesaje de la API de Facebook-> \n",
      " {'object': 'page', 'entry': [{'id': '430761350747124', 'time': 1601658073098, 'messaging': [{'sender': {'id': '3812585132088508'}, 'recipient': {'id': '430761350747124'}, 'timestamp': 1601658073237, 'read': {'watermark': 1601658072345}}]}]}\n"
     ]
    },
    {
     "name": "stderr",
     "output_type": "stream",
     "text": [
      "127.0.0.1 - - [02/Oct/2020 12:01:14] \"POST /apiREST/v1 HTTP/1.1\" 200 -\n"
     ]
    },
    {
     "name": "stdout",
     "output_type": "stream",
     "text": [
      "\n",
      "________________________________________read _______________________________________________________________________________\n",
      "Mensaje enviado al Nucleo Logico Read->  {\"payload\": {\"robot\": \"none\", \"id_face\": \"430761350747124\", \"recipient_id\": \"3812585132088508\", \"access_token\": \"none\", \"content\": \"\", \"type_resp\": \"read\", \"state\": \"none\", \"blocktype\": \"none\", \"opciones\": \"none\", \"entities\": {}}}\n",
      "hilo consume\n",
      "b'{\"Respuesta\": {\"content\": \"Te gustar\\\\u00eda saber c\\\\u00f3mo utilizarme\", \"next_id\": \"next\", \"blockType\": \"informativo\", \"contentType\": \"text\", \"typingTime\": \"3\", \"payload\": {\"content\": \"\", \"state\": \"mensajesIntroduccion_01inicial_inicial\", \"recipient_id\": \"3812585132088508\", \"entities\": {}, \"access_token\": \"EAAJjZAQWaAbgBAAxC53jaIzoxSpgY3qZBc0pYDlb5g3E58pTJ35vAzrsZBVSyiYPhpgZB3ZAeNqx18ImA0LZCcsqL96hFDqsE9fcXUk52ofVsqWeerVDKp0cGo2wvohq5ISdkCUX7ZByd4c80Y6BstQYbe5noQhC8L7wdtMuKyZAAgZDZD\"}}}'\n",
      "\n",
      "_________________________________________________________________________________________________________________________\n",
      "Respuesta del Nucleo Logico->  {'Respuesta': {'content': 'Te gustaría saber cómo utilizarme', 'next_id': 'next', 'blockType': 'informativo', 'contentType': 'text', 'typingTime': '3', 'payload': {'content': '', 'state': 'mensajesIntroduccion_01inicial_inicial', 'recipient_id': '3812585132088508', 'entities': {}, 'access_token': 'EAAJjZAQWaAbgBAAxC53jaIzoxSpgY3qZBc0pYDlb5g3E58pTJ35vAzrsZBVSyiYPhpgZB3ZAeNqx18ImA0LZCcsqL96hFDqsE9fcXUk52ofVsqWeerVDKp0cGo2wvohq5ISdkCUX7ZByd4c80Y6BstQYbe5noQhC8L7wdtMuKyZAAgZDZD'}}}\n",
      "\n",
      "---------------------------------------------------------------------------\n",
      "mensaje enviado a la API de facebook:\n",
      " {'recipient_id': '3812585132088508', 'message_id': 'm_QeT8yX7eue47n-am4shW2oDIHsg4Bwph1PFsDRmK-uEb_jNaVIYLQczF7rwBWGeotgDI3NKiKQIlv9tenqBVRQ'}\n",
      " [.] Got %r None\n",
      "\n",
      "_________________________________________________________________________________________________________________________\n",
      "Mesaje de la API de Facebook-> \n",
      " {'object': 'page', 'entry': [{'id': '430761350747124', 'time': 1601658078202, 'messaging': [{'sender': {'id': '3812585132088508'}, 'recipient': {'id': '430761350747124'}, 'timestamp': 1601658078348, 'read': {'watermark': 1601658077269}}]}]}\n",
      "\n",
      "________________________________________read _______________________________________________________________________________\n",
      "Mensaje enviado al Nucleo Logico Read->  {\"payload\": {\"robot\": \"none\", \"id_face\": \"430761350747124\", \"recipient_id\": \"3812585132088508\", \"access_token\": \"none\", \"content\": \"\", \"type_resp\": \"read\", \"state\": \"none\", \"blocktype\": \"none\", \"opciones\": \"none\", \"entities\": {}}}\n"
     ]
    },
    {
     "name": "stderr",
     "output_type": "stream",
     "text": [
      "127.0.0.1 - - [02/Oct/2020 12:01:20] \"POST /apiREST/v1 HTTP/1.1\" 200 -\n"
     ]
    },
    {
     "name": "stdout",
     "output_type": "stream",
     "text": [
      "hilo consume\n",
      "b'{\"Respuesta\": {\"content\": \"Toca uno de los botones azules para saber tu elecci\\\\u00f3n\", \"next_id\": \"mensajesIntroduccion2_01inicial_inicial,mensajePreMenu_01inicial_inicial\", \"blockType\": \"quickReply\", \"contentType\": \" \", \"typingTime\": \"5\", \"payload\": {\"content\": \"\", \"state\": \"menuIntroduccion_01inicial_inicial\", \"recipient_id\": \"3812585132088508\", \"entities\": {}, \"access_token\": \"EAAJjZAQWaAbgBAAxC53jaIzoxSpgY3qZBc0pYDlb5g3E58pTJ35vAzrsZBVSyiYPhpgZB3ZAeNqx18ImA0LZCcsqL96hFDqsE9fcXUk52ofVsqWeerVDKp0cGo2wvohq5ISdkCUX7ZByd4c80Y6BstQYbe5noQhC8L7wdtMuKyZAAgZDZD\"}, \"options\": [\"\\\\u00a1ok veamos!\", \"Prefiero ir al men\\\\u00fa\"], \"default_id\": \"mensajePreMenu_01inicial_inicial\", \"save_var\": \"0\"}}'\n",
      "\n",
      "_________________________________________________________________________________________________________________________\n",
      "Respuesta del Nucleo Logico->  {'Respuesta': {'content': 'Toca uno de los botones azules para saber tu elección', 'next_id': 'mensajesIntroduccion2_01inicial_inicial,mensajePreMenu_01inicial_inicial', 'blockType': 'quickReply', 'contentType': ' ', 'typingTime': '5', 'payload': {'content': '', 'state': 'menuIntroduccion_01inicial_inicial', 'recipient_id': '3812585132088508', 'entities': {}, 'access_token': 'EAAJjZAQWaAbgBAAxC53jaIzoxSpgY3qZBc0pYDlb5g3E58pTJ35vAzrsZBVSyiYPhpgZB3ZAeNqx18ImA0LZCcsqL96hFDqsE9fcXUk52ofVsqWeerVDKp0cGo2wvohq5ISdkCUX7ZByd4c80Y6BstQYbe5noQhC8L7wdtMuKyZAAgZDZD'}, 'options': ['¡ok veamos!', 'Prefiero ir al menú'], 'default_id': 'mensajePreMenu_01inicial_inicial', 'save_var': '0'}}\n",
      "\n",
      "---------------------------------------------------------------------------\n",
      "mensaje enviado a la API de facebook:\n",
      " {'recipient_id': '3812585132088508', 'message_id': 'm_Y6Z4ReAsFwyOHiqTD1Y3RYDIHsg4Bwph1PFsDRmK-uGjmMQNvz2-GP3G-350RjdoEBFriZni5g_d481RGVcp0A'}\n",
      " [.] Got %r None\n",
      "\n",
      "_________________________________________________________________________________________________________________________\n",
      "Mesaje de la API de Facebook-> \n",
      " {'object': 'page', 'entry': [{'id': '430761350747124', 'time': 1601658083563, 'messaging': [{'sender': {'id': '3812585132088508'}, 'recipient': {'id': '430761350747124'}, 'timestamp': 1601658083641, 'read': {'watermark': 1601658083276}}]}]}\n",
      "\n",
      "_________________________________________________________________________________________________________________________\n",
      "Mesaje de la API de Facebook-> \n",
      " {'object': 'page', 'entry': [{'id': '430761350747124', 'time': 1601658085353, 'messaging': [{'sender': {'id': '3812585132088508'}, 'recipient': {'id': '430761350747124'}, 'timestamp': 1601658085215, 'postback': {'title': '¡ok veamos!', 'payload': '¡ok veamos!'}}]}]}\n"
     ]
    },
    {
     "name": "stderr",
     "output_type": "stream",
     "text": [
      "127.0.0.1 - - [02/Oct/2020 12:01:29] \"POST /apiREST/v1 HTTP/1.1\" 200 -\n"
     ]
    },
    {
     "name": "stdout",
     "output_type": "stream",
     "text": [
      "\n",
      "________________________________________read _______________________________________________________________________________\n",
      "Mensaje enviado al Nucleo Logico Read->  {\"payload\": {\"robot\": \"none\", \"id_face\": \"430761350747124\", \"recipient_id\": \"3812585132088508\", \"access_token\": \"none\", \"content\": \"\", \"type_resp\": \"read\", \"state\": \"none\", \"blocktype\": \"none\", \"opciones\": \"none\", \"entities\": {}}}\n",
      "hilo consume\n"
     ]
    },
    {
     "name": "stderr",
     "output_type": "stream",
     "text": [
      "127.0.0.1 - - [02/Oct/2020 12:01:30] \"POST /apiREST/v1 HTTP/1.1\" 200 -\n"
     ]
    },
    {
     "name": "stdout",
     "output_type": "stream",
     "text": [
      "b'{\"payload\": {\"robot\": 337, \"id_face\": \"430761350747124\", \"recipient_id\": \"3812585132088508\", \"access_token\": \"EAAJjZAQWaAbgBAAxC53jaIzoxSpgY3qZBc0pYDlb5g3E58pTJ35vAzrsZBVSyiYPhpgZB3ZAeNqx18ImA0LZCcsqL96hFDqsE9fcXUk52ofVsqWeerVDKp0cGo2wvohq5ISdkCUX7ZByd4c80Y6BstQYbe5noQhC8L7wdtMuKyZAAgZDZD\", \"content\": \"\", \"type_resp\": \"read\", \"state\": \"none\", \"blocktype\": \"none\", \"opciones\": \"none\", \"entities\": {}}}'\n",
      " [.] Got %r None\n",
      "hilo consume\n",
      "______________________________________________no read__________________________________________________________________________\n",
      "\n",
      "Mensaje enviado al Nucleo Logico->  {\"payload\": {\"robot\": \"none\", \"id_face\": \"430761350747124\", \"recipient_id\": \"3812585132088508\", \"access_token\": \"none\", \"content\": \"\\u00a1ok veamos!\", \"type_resp\": \"postback\", \"state\": \"none\", \"blocktype\": \"none\", \"opciones\": \"none\", \"entities\": {}}}\n",
      "b'{\"Respuesta\": {\"content\": \"Soy un robot que funciona con un sistema autom\\\\u00e1tico llamado inteligencia artificial.\", \"next_id\": \"next\", \"blockType\": \"informativo\", \"contentType\": \"text\", \"typingTime\": \"3\", \"payload\": {\"content\": \"\", \"state\": \"mensajesIntroduccion2_01inicial_inicial\", \"recipient_id\": \"3812585132088508\", \"entities\": {\"qr_menuIntro\": \"\\\\u00a1ok veamos!\"}, \"access_token\": \"EAAJjZAQWaAbgBAAxC53jaIzoxSpgY3qZBc0pYDlb5g3E58pTJ35vAzrsZBVSyiYPhpgZB3ZAeNqx18ImA0LZCcsqL96hFDqsE9fcXUk52ofVsqWeerVDKp0cGo2wvohq5ISdkCUX7ZByd4c80Y6BstQYbe5noQhC8L7wdtMuKyZAAgZDZD\"}}}'\n",
      "\n",
      "_________________________________________________________________________________________________________________________\n",
      "Respuesta del Nucleo Logico->  {'Respuesta': {'content': 'Soy un robot que funciona con un sistema automático llamado inteligencia artificial.', 'next_id': 'next', 'blockType': 'informativo', 'contentType': 'text', 'typingTime': '3', 'payload': {'content': '', 'state': 'mensajesIntroduccion2_01inicial_inicial', 'recipient_id': '3812585132088508', 'entities': {'qr_menuIntro': '¡ok veamos!'}, 'access_token': 'EAAJjZAQWaAbgBAAxC53jaIzoxSpgY3qZBc0pYDlb5g3E58pTJ35vAzrsZBVSyiYPhpgZB3ZAeNqx18ImA0LZCcsqL96hFDqsE9fcXUk52ofVsqWeerVDKp0cGo2wvohq5ISdkCUX7ZByd4c80Y6BstQYbe5noQhC8L7wdtMuKyZAAgZDZD'}}}\n",
      "\n",
      "---------------------------------------------------------------------------\n",
      "mensaje enviado a la API de facebook:\n",
      " {'recipient_id': '3812585132088508', 'message_id': 'm_NkYqhKMK7-5LUXphng2-l4DIHsg4Bwph1PFsDRmK-uFPAGZjuUhgoKqsir16towY2sp3YyoAn2PUXuJPTn3uFg'}\n",
      " [.] Got %r None\n",
      "\n",
      "_________________________________________________________________________________________________________________________\n",
      "Mesaje de la API de Facebook-> \n",
      " {'object': 'page', 'entry': [{'id': '430761350747124', 'time': 1601658096323, 'messaging': [{'sender': {'id': '3812585132088508'}, 'recipient': {'id': '430761350747124'}, 'timestamp': 1601658096460, 'read': {'watermark': 1601658094627}}]}]}\n"
     ]
    },
    {
     "name": "stderr",
     "output_type": "stream",
     "text": [
      "127.0.0.1 - - [02/Oct/2020 12:01:40] \"POST /apiREST/v1 HTTP/1.1\" 200 -\n"
     ]
    },
    {
     "name": "stdout",
     "output_type": "stream",
     "text": [
      "\n",
      "________________________________________read _______________________________________________________________________________\n",
      "Mensaje enviado al Nucleo Logico Read->  {\"payload\": {\"robot\": \"none\", \"id_face\": \"430761350747124\", \"recipient_id\": \"3812585132088508\", \"access_token\": \"none\", \"content\": \"\", \"type_resp\": \"read\", \"state\": \"none\", \"blocktype\": \"none\", \"opciones\": \"none\", \"entities\": {}}}\n",
      "hilo consume\n",
      "b'{\"Respuesta\": {\"content\": \"Cada vez que escribas intentare entenderte\", \"next_id\": \"next\", \"blockType\": \"informativo\", \"contentType\": \"text\", \"typingTime\": \"3\", \"payload\": {\"content\": \"\", \"state\": \"mensajesIntroduccion2_01inicial_inicial\", \"recipient_id\": \"3812585132088508\", \"entities\": {\"qr_menuIntro\": \"\\\\u00a1ok veamos!\"}, \"access_token\": \"EAAJjZAQWaAbgBAAxC53jaIzoxSpgY3qZBc0pYDlb5g3E58pTJ35vAzrsZBVSyiYPhpgZB3ZAeNqx18ImA0LZCcsqL96hFDqsE9fcXUk52ofVsqWeerVDKp0cGo2wvohq5ISdkCUX7ZByd4c80Y6BstQYbe5noQhC8L7wdtMuKyZAAgZDZD\"}}}'\n",
      "\n",
      "_________________________________________________________________________________________________________________________\n",
      "Respuesta del Nucleo Logico->  {'Respuesta': {'content': 'Cada vez que escribas intentare entenderte', 'next_id': 'next', 'blockType': 'informativo', 'contentType': 'text', 'typingTime': '3', 'payload': {'content': '', 'state': 'mensajesIntroduccion2_01inicial_inicial', 'recipient_id': '3812585132088508', 'entities': {'qr_menuIntro': '¡ok veamos!'}, 'access_token': 'EAAJjZAQWaAbgBAAxC53jaIzoxSpgY3qZBc0pYDlb5g3E58pTJ35vAzrsZBVSyiYPhpgZB3ZAeNqx18ImA0LZCcsqL96hFDqsE9fcXUk52ofVsqWeerVDKp0cGo2wvohq5ISdkCUX7ZByd4c80Y6BstQYbe5noQhC8L7wdtMuKyZAAgZDZD'}}}\n",
      "\n",
      "---------------------------------------------------------------------------\n",
      "mensaje enviado a la API de facebook:\n",
      " {'recipient_id': '3812585132088508', 'message_id': 'm_zBgTurvuZ_PmKy_pM9uUTIDIHsg4Bwph1PFsDRmK-uELAA-HAuAwzzN_FqHLoudQpZfOFHqXP3yXW4SOcyu4xA'}\n",
      " [.] Got %r None\n",
      "\n",
      "_________________________________________________________________________________________________________________________\n",
      "Mesaje de la API de Facebook-> \n",
      " {'object': 'page', 'entry': [{'id': '430761350747124', 'time': 1601658106955, 'messaging': [{'sender': {'id': '3812585132088508'}, 'recipient': {'id': '430761350747124'}, 'timestamp': 1601658107061, 'read': {'watermark': 1601658102977}}]}]}\n"
     ]
    },
    {
     "name": "stderr",
     "output_type": "stream",
     "text": [
      "127.0.0.1 - - [02/Oct/2020 12:01:49] \"POST /apiREST/v1 HTTP/1.1\" 200 -\n"
     ]
    },
    {
     "name": "stdout",
     "output_type": "stream",
     "text": [
      "\n",
      "________________________________________read _______________________________________________________________________________\n",
      "Mensaje enviado al Nucleo Logico Read->  {\"payload\": {\"robot\": \"none\", \"id_face\": \"430761350747124\", \"recipient_id\": \"3812585132088508\", \"access_token\": \"none\", \"content\": \"\", \"type_resp\": \"read\", \"state\": \"none\", \"blocktype\": \"none\", \"opciones\": \"none\", \"entities\": {}}}\n",
      "hilo consume\n",
      "b'{\"Respuesta\": {\"content\": \"no logro comprenderte\", \"next_id\": \"next\", \"blockType\": \"informativo\", \"contentType\": \"text\", \"typingTime\": \"3\", \"payload\": {\"content\": \"\", \"state\": \"mensajesIntroduccion2_01inicial_inicial\", \"recipient_id\": \"3812585132088508\", \"entities\": {\"qr_menuIntro\": \"\\\\u00a1ok veamos!\"}, \"access_token\": \"EAAJjZAQWaAbgBAAxC53jaIzoxSpgY3qZBc0pYDlb5g3E58pTJ35vAzrsZBVSyiYPhpgZB3ZAeNqx18ImA0LZCcsqL96hFDqsE9fcXUk52ofVsqWeerVDKp0cGo2wvohq5ISdkCUX7ZByd4c80Y6BstQYbe5noQhC8L7wdtMuKyZAAgZDZD\"}}}'\n",
      "\n",
      "_________________________________________________________________________________________________________________________\n",
      "Respuesta del Nucleo Logico->  {'Respuesta': {'content': 'no logro comprenderte', 'next_id': 'next', 'blockType': 'informativo', 'contentType': 'text', 'typingTime': '3', 'payload': {'content': '', 'state': 'mensajesIntroduccion2_01inicial_inicial', 'recipient_id': '3812585132088508', 'entities': {'qr_menuIntro': '¡ok veamos!'}, 'access_token': 'EAAJjZAQWaAbgBAAxC53jaIzoxSpgY3qZBc0pYDlb5g3E58pTJ35vAzrsZBVSyiYPhpgZB3ZAeNqx18ImA0LZCcsqL96hFDqsE9fcXUk52ofVsqWeerVDKp0cGo2wvohq5ISdkCUX7ZByd4c80Y6BstQYbe5noQhC8L7wdtMuKyZAAgZDZD'}}}\n",
      "\n",
      "---------------------------------------------------------------------------\n",
      "mensaje enviado a la API de facebook:\n",
      " {'recipient_id': '3812585132088508', 'message_id': 'm_f0lcRoetX_cA64-2A2j4U4DIHsg4Bwph1PFsDRmK-uH1mjKvKAeMwhvQ4voBLBf9vjqfYKtYEW8PgqR2WxD0JQ'}\n",
      " [.] Got %r None\n",
      "\n",
      "_________________________________________________________________________________________________________________________\n",
      "Mesaje de la API de Facebook-> \n",
      " {'object': 'page', 'entry': [{'id': '430761350747124', 'time': 1601658119449, 'messaging': [{'sender': {'id': '3812585132088508'}, 'recipient': {'id': '430761350747124'}, 'timestamp': 1601658119583, 'read': {'watermark': 1601658112521}}]}]}\n"
     ]
    },
    {
     "name": "stderr",
     "output_type": "stream",
     "text": [
      "127.0.0.1 - - [02/Oct/2020 12:02:01] \"POST /apiREST/v1 HTTP/1.1\" 200 -\n"
     ]
    },
    {
     "name": "stdout",
     "output_type": "stream",
     "text": [
      "\n",
      "________________________________________read _______________________________________________________________________________\n",
      "Mensaje enviado al Nucleo Logico Read->  {\"payload\": {\"robot\": \"none\", \"id_face\": \"430761350747124\", \"recipient_id\": \"3812585132088508\", \"access_token\": \"none\", \"content\": \"\", \"type_resp\": \"read\", \"state\": \"none\", \"blocktype\": \"none\", \"opciones\": \"none\", \"entities\": {}}}\n",
      "hilo consume\n",
      "b'{\"Respuesta\": {\"content\": \"\\\\u00bfQu\\\\u00e9 deseas hacer?\", \"next_id\": \"NLPpersonalidad_01inicial_inicial\", \"blockType\": \"input\", \"contentType\": \"text\", \"typingTime\": \"1\", \"payload\": {\"content\": \"\", \"state\": \"pregunta_01inicial_inicial\", \"recipient_id\": \"3812585132088508\", \"entities\": {\"qr_menuIntro\": \"\\\\u00a1ok veamos!\"}, \"access_token\": \"EAAJjZAQWaAbgBAAxC53jaIzoxSpgY3qZBc0pYDlb5g3E58pTJ35vAzrsZBVSyiYPhpgZB3ZAeNqx18ImA0LZCcsqL96hFDqsE9fcXUk52ofVsqWeerVDKp0cGo2wvohq5ISdkCUX7ZByd4c80Y6BstQYbe5noQhC8L7wdtMuKyZAAgZDZD\"}, \"validacion\": \"*\", \"default_id\": \"NLPpersonalidad_01inicial_inicial\"}}'\n",
      "\n",
      "_________________________________________________________________________________________________________________________\n",
      "Respuesta del Nucleo Logico->  {'Respuesta': {'content': '¿Qué deseas hacer?', 'next_id': 'NLPpersonalidad_01inicial_inicial', 'blockType': 'input', 'contentType': 'text', 'typingTime': '1', 'payload': {'content': '', 'state': 'pregunta_01inicial_inicial', 'recipient_id': '3812585132088508', 'entities': {'qr_menuIntro': '¡ok veamos!'}, 'access_token': 'EAAJjZAQWaAbgBAAxC53jaIzoxSpgY3qZBc0pYDlb5g3E58pTJ35vAzrsZBVSyiYPhpgZB3ZAeNqx18ImA0LZCcsqL96hFDqsE9fcXUk52ofVsqWeerVDKp0cGo2wvohq5ISdkCUX7ZByd4c80Y6BstQYbe5noQhC8L7wdtMuKyZAAgZDZD'}, 'validacion': '*', 'default_id': 'NLPpersonalidad_01inicial_inicial'}}\n",
      "\n",
      "---------------------------------------------------------------------------\n",
      "mensaje enviado a la API de facebook:\n",
      " {'recipient_id': '3812585132088508', 'message_id': 'm_Hxg9at5kXcnLKJKy8nKD84DIHsg4Bwph1PFsDRmK-uHam8JN7yApjL87he6WVTV6F3bca-HEf2kvCAZ_iQeAbg'}\n",
      " [.] Got %r None\n",
      "\n",
      "_________________________________________________________________________________________________________________________\n",
      "Mesaje de la API de Facebook-> \n",
      " {'object': 'page', 'entry': [{'id': '430761350747124', 'time': 1601658128102, 'messaging': [{'sender': {'id': '3812585132088508'}, 'recipient': {'id': '430761350747124'}, 'timestamp': 1601658128212, 'read': {'watermark': 1601658127787}}]}]}\n"
     ]
    },
    {
     "name": "stderr",
     "output_type": "stream",
     "text": [
      "127.0.0.1 - - [02/Oct/2020 12:02:09] \"POST /apiREST/v1 HTTP/1.1\" 200 -\n"
     ]
    },
    {
     "name": "stdout",
     "output_type": "stream",
     "text": [
      "\n",
      "________________________________________read _______________________________________________________________________________\n",
      "Mensaje enviado al Nucleo Logico Read->  {\"payload\": {\"robot\": \"none\", \"id_face\": \"430761350747124\", \"recipient_id\": \"3812585132088508\", \"access_token\": \"none\", \"content\": \"\", \"type_resp\": \"read\", \"state\": \"none\", \"blocktype\": \"none\", \"opciones\": \"none\", \"entities\": {}}}\n",
      "hilo consume\n",
      "b'{\"payload\": {\"robot\": 337, \"id_face\": \"430761350747124\", \"recipient_id\": \"3812585132088508\", \"access_token\": \"EAAJjZAQWaAbgBAAxC53jaIzoxSpgY3qZBc0pYDlb5g3E58pTJ35vAzrsZBVSyiYPhpgZB3ZAeNqx18ImA0LZCcsqL96hFDqsE9fcXUk52ofVsqWeerVDKp0cGo2wvohq5ISdkCUX7ZByd4c80Y6BstQYbe5noQhC8L7wdtMuKyZAAgZDZD\", \"content\": \"\", \"type_resp\": \"read\", \"state\": \"none\", \"blocktype\": \"none\", \"opciones\": \"none\", \"entities\": {}}}'\n",
      " [.] Got %r None\n",
      "\n",
      "_________________________________________________________________________________________________________________________\n",
      "Mesaje de la API de Facebook-> \n",
      " {'object': 'page', 'entry': [{'id': '430761350747124', 'time': 1601658132386, 'messaging': [{'sender': {'id': '3812585132088508'}, 'recipient': {'id': '430761350747124'}, 'timestamp': 1601658132327, 'message': {'mid': 'm_w2cKlsC5S7kH4Pa5I5xBdoDIHsg4Bwph1PFsDRmK-uFrlR6GRWTx8PyfGpFq6uhWTIpKU53GrjYTRaYpvx0rHw', 'text': 'dormir'}}]}]}\n",
      "hilo consume\n",
      "\n",
      "______________________________________________no read__________________________________________________________________________\n"
     ]
    },
    {
     "name": "stderr",
     "output_type": "stream",
     "text": [
      "127.0.0.1 - - [02/Oct/2020 12:02:26] \"POST /apiREST/v1 HTTP/1.1\" 200 -\n"
     ]
    },
    {
     "name": "stdout",
     "output_type": "stream",
     "text": [
      "Mensaje enviado al Nucleo Logico->  {\"payload\": {\"robot\": \"none\", \"id_face\": \"430761350747124\", \"recipient_id\": \"3812585132088508\", \"access_token\": \"none\", \"content\": \"dormir\", \"type_resp\": \"message\", \"state\": \"none\", \"blocktype\": \"none\", \"opciones\": \"none\", \"entities\": {}}}\n",
      "\n",
      "_________________________________________________________________________________________________________________________\n",
      "Mesaje de la API de Facebook-> \n",
      " {'object': 'page', 'entry': [{'id': '430761350747124', 'time': 1601658376015, 'messaging': [{'sender': {'id': '3812585132088508'}, 'recipient': {'id': '430761350747124'}, 'timestamp': 1601658375953, 'message': {'mid': 'm_0E_W9Tely5QVOGrM7T9UoIDIHsg4Bwph1PFsDRmK-uHuzW5FP08qQ6krXJHAVF0yGUo0c8j9vdTf8EWAeZqcPQ', 'text': 'hola bot'}}]}]}\n",
      "hilo consume\n",
      "\n",
      "______________________________________________no read__________________________________________________________________________\n",
      "Mensaje enviado al Nucleo Logico->  {\"payload\": {\"robot\": \"none\", \"id_face\": \"430761350747124\", \"recipient_id\": \"3812585132088508\", \"access_token\": \"none\", \"content\": \"hola bot\", \"type_resp\": \"message\", \"state\": \"none\", \"blocktype\": \"none\", \"opciones\": \"none\", \"entities\": {}}}\n"
     ]
    },
    {
     "name": "stderr",
     "output_type": "stream",
     "text": [
      "127.0.0.1 - - [02/Oct/2020 12:06:22] \"POST /apiREST/v1 HTTP/1.1\" 200 -\n"
     ]
    },
    {
     "name": "stdout",
     "output_type": "stream",
     "text": [
      "\n",
      "_________________________________________________________________________________________________________________________\n",
      "Mesaje de la API de Facebook-> \n",
      " {'object': 'page', 'entry': [{'id': '430761350747124', 'time': 1601658478087, 'messaging': [{'sender': {'id': '3812585132088508'}, 'recipient': {'id': '430761350747124'}, 'timestamp': 1601658478001, 'message': {'mid': 'm_1c9VXlJatwY8GWYUw6E9H4DIHsg4Bwph1PFsDRmK-uH_fQQPdLySykTn6KsHseSxgciI9S6UXIEI0jXH9_ABuA', 'text': 'dormir'}}]}]}\n",
      "hilo consume\n",
      "\n",
      "______________________________________________no read__________________________________________________________________________\n",
      "Mensaje enviado al Nucleo Logico->  "
     ]
    },
    {
     "name": "stderr",
     "output_type": "stream",
     "text": [
      "127.0.0.1 - - [02/Oct/2020 12:08:03] \"POST /apiREST/v1 HTTP/1.1\" 200 -\n"
     ]
    },
    {
     "name": "stdout",
     "output_type": "stream",
     "text": [
      "{\"payload\": {\"robot\": \"none\", \"id_face\": \"430761350747124\", \"recipient_id\": \"3812585132088508\", \"access_token\": \"none\", \"content\": \"dormir\", \"type_resp\": \"message\", \"state\": \"none\", \"blocktype\": \"none\", \"opciones\": \"none\", \"entities\": {}}}\n",
      "b'{\"Respuesta\": {\"content\": \"\\\\u00bfC\\\\u00f3mo puedo ayudarte? \", \"next_id\": \"next\", \"blockType\": \"informativo\", \"contentType\": \"text\", \"typingTime\": \"3\", \"payload\": {\"content\": \"\", \"state\": \"mensajePreMenu_01inicial_inicial\", \"recipient_id\": \"3812585132088508\", \"entities\": {\"qr_menuIntro\": \"\\\\u00a1ok veamos!\", \"var_pregunta\": \"dormir\"}, \"access_token\": \"EAAJjZAQWaAbgBAAxC53jaIzoxSpgY3qZBc0pYDlb5g3E58pTJ35vAzrsZBVSyiYPhpgZB3ZAeNqx18ImA0LZCcsqL96hFDqsE9fcXUk52ofVsqWeerVDKp0cGo2wvohq5ISdkCUX7ZByd4c80Y6BstQYbe5noQhC8L7wdtMuKyZAAgZDZD\"}}}'\n",
      "\n",
      "_________________________________________________________________________________________________________________________\n",
      "Respuesta del Nucleo Logico->  {'Respuesta': {'content': '¿Cómo puedo ayudarte? ', 'next_id': 'next', 'blockType': 'informativo', 'contentType': 'text', 'typingTime': '3', 'payload': {'content': '', 'state': 'mensajePreMenu_01inicial_inicial', 'recipient_id': '3812585132088508', 'entities': {'qr_menuIntro': '¡ok veamos!', 'var_pregunta': 'dormir'}, 'access_token': 'EAAJjZAQWaAbgBAAxC53jaIzoxSpgY3qZBc0pYDlb5g3E58pTJ35vAzrsZBVSyiYPhpgZB3ZAeNqx18ImA0LZCcsqL96hFDqsE9fcXUk52ofVsqWeerVDKp0cGo2wvohq5ISdkCUX7ZByd4c80Y6BstQYbe5noQhC8L7wdtMuKyZAAgZDZD'}}}\n",
      "\n",
      "---------------------------------------------------------------------------\n",
      "mensaje enviado a la API de facebook:\n",
      " {'recipient_id': '3812585132088508', 'message_id': 'm_L61cWDEDSYAwO-OxeCx3qIDIHsg4Bwph1PFsDRmK-uGl6jJFA5mDTMCBkX2TSZt9ThiaM0PqiD1-tsw3g23D3Q'}\n",
      " [.] Got %r None\n",
      "\n",
      "_________________________________________________________________________________________________________________________\n",
      "Mesaje de la API de Facebook-> \n",
      " {'object': 'page', 'entry': [{'id': '430761350747124', 'time': 1601658498474, 'messaging': [{'sender': {'id': '3812585132088508'}, 'recipient': {'id': '430761350747124'}, 'timestamp': 1601658498551, 'read': {'watermark': 1601658496190}}]}]}\n"
     ]
    },
    {
     "name": "stderr",
     "output_type": "stream",
     "text": [
      "127.0.0.1 - - [02/Oct/2020 12:08:23] \"POST /apiREST/v1 HTTP/1.1\" 200 -\n"
     ]
    },
    {
     "name": "stdout",
     "output_type": "stream",
     "text": [
      "\n",
      "________________________________________read _______________________________________________________________________________\n",
      "Mensaje enviado al Nucleo Logico Read->  {\"payload\": {\"robot\": \"none\", \"id_face\": \"430761350747124\", \"recipient_id\": \"3812585132088508\", \"access_token\": \"none\", \"content\": \"\", \"type_resp\": \"read\", \"state\": \"none\", \"blocktype\": \"none\", \"opciones\": \"none\", \"entities\": {}}}\n",
      "hilo consume\n",
      "\n",
      "_________________________________________________________________________________________________________________________\n",
      "Mesaje de la API de Facebook-> \n",
      " {'object': 'page', 'entry': [{'id': '430761350747124', 'time': 1601658515813, 'messaging': [{'sender': {'id': '3812585132088508'}, 'recipient': {'id': '430761350747124'}, 'timestamp': 1601658515730, 'message': {'mid': 'm_jp6LECORE9kRM9e3mR_e3IDIHsg4Bwph1PFsDRmK-uG2Yryfej4ha33PVRMX6oCpuXteaG-lt6_WCzNlZBlPmA', 'text': 'hola'}}]}]}\n"
     ]
    },
    {
     "name": "stderr",
     "output_type": "stream",
     "text": [
      "127.0.0.1 - - [02/Oct/2020 12:08:43] \"POST /apiREST/v1 HTTP/1.1\" 200 -\n"
     ]
    },
    {
     "name": "stdout",
     "output_type": "stream",
     "text": [
      "hilo consume\n",
      "\n",
      "______________________________________________no read__________________________________________________________________________\n",
      "Mensaje enviado al Nucleo Logico->  {\"payload\": {\"robot\": \"none\", \"id_face\": \"430761350747124\", \"recipient_id\": \"3812585132088508\", \"access_token\": \"none\", \"content\": \"hola\", \"type_resp\": \"message\", \"state\": \"none\", \"blocktype\": \"none\", \"opciones\": \"none\", \"entities\": {}}}\n",
      "b'{\"Respuesta\": {\"content\": \"Selecciona una opci\\\\u00f3n\", \"next_id\": \"mensajesIntroduccion_01inicial_inicial,infoEdad_01inicial_inicial,infoColor_01inicial_inicial\", \"blockType\": \"quickReply\", \"contentType\": \" \", \"typingTime\": \"3\", \"payload\": {\"content\": \"\", \"state\": \"qrPersonalidad_01inicial_inicial\", \"recipient_id\": \"3812585132088508\", \"entities\": {\"qr_menuIntro\": \"\\\\u00a1ok veamos!\", \"var_pregunta\": \"dormir\"}, \"access_token\": \"EAAJjZAQWaAbgBAAxC53jaIzoxSpgY3qZBc0pYDlb5g3E58pTJ35vAzrsZBVSyiYPhpgZB3ZAeNqx18ImA0LZCcsqL96hFDqsE9fcXUk52ofVsqWeerVDKp0cGo2wvohq5ISdkCUX7ZByd4c80Y6BstQYbe5noQhC8L7wdtMuKyZAAgZDZD\"}, \"options\": [\"\\\\u00bfCon qui\\\\u00e9n estoy hablando?\", \"\\\\u00bfQu\\\\u00e9 edad tienes?\", \"\\\\u00bfCu\\\\u00e1l es tu color favorito?\"], \"default_id\": \"NLPpersonalidad_01inicial_inicial\", \"save_var\": \"0\"}}'\n",
      "\n",
      "_________________________________________________________________________________________________________________________\n",
      "Respuesta del Nucleo Logico->  {'Respuesta': {'content': 'Selecciona una opción', 'next_id': 'mensajesIntroduccion_01inicial_inicial,infoEdad_01inicial_inicial,infoColor_01inicial_inicial', 'blockType': 'quickReply', 'contentType': ' ', 'typingTime': '3', 'payload': {'content': '', 'state': 'qrPersonalidad_01inicial_inicial', 'recipient_id': '3812585132088508', 'entities': {'qr_menuIntro': '¡ok veamos!', 'var_pregunta': 'dormir'}, 'access_token': 'EAAJjZAQWaAbgBAAxC53jaIzoxSpgY3qZBc0pYDlb5g3E58pTJ35vAzrsZBVSyiYPhpgZB3ZAeNqx18ImA0LZCcsqL96hFDqsE9fcXUk52ofVsqWeerVDKp0cGo2wvohq5ISdkCUX7ZByd4c80Y6BstQYbe5noQhC8L7wdtMuKyZAAgZDZD'}, 'options': ['¿Con quién estoy hablando?', '¿Qué edad tienes?', '¿Cuál es tu color favorito?'], 'default_id': 'NLPpersonalidad_01inicial_inicial', 'save_var': '0'}}\n",
      "\n",
      "---------------------------------------------------------------------------\n",
      "mensaje enviado a la API de facebook:\n",
      " {'recipient_id': '3812585132088508', 'message_id': 'm_JXKbIU1RXh8TpCPM97taDoDIHsg4Bwph1PFsDRmK-uHBiz_smIcpdNx9_iNLU6BYh1rcMpp2pu3EEZN2eK1fRA'}\n",
      " [.] Got %r None\n",
      "\n",
      "_________________________________________________________________________________________________________________________\n",
      "Mesaje de la API de Facebook-> \n",
      " {'object': 'page', 'entry': [{'id': '430761350747124', 'time': 1601658531361, 'messaging': [{'sender': {'id': '3812585132088508'}, 'recipient': {'id': '430761350747124'}, 'timestamp': 1601658531486, 'read': {'watermark': 1601658531053}}]}]}\n",
      "\n",
      "_________________________________________________________________________________________________________________________\n",
      "Mesaje de la API de Facebook-> \n",
      " {'object': 'page', 'entry': [{'id': '430761350747124', 'time': 1601658534754, 'messaging': [{'sender': {'id': '3812585132088508'}, 'recipient': {'id': '430761350747124'}, 'timestamp': 1601658534594, 'postback': {'title': '¿Con quién estoy hablan...', 'payload': '¿Con quién estoy hablando?'}}]}]}\n",
      "\n",
      "________________________________________read _______________________________________________________________________________\n",
      "Mensaje enviado al Nucleo Logico Read->  {\"payload\": {\"robot\": \"none\", \"id_face\": \"430761350747124\", \"recipient_id\": \"3812585132088508\", \"access_token\": \"none\", \"content\": \"\", \"type_resp\": \"read\", \"state\": \"none\", \"blocktype\": \"none\", \"opciones\": \"none\", \"entities\": {}}}\n"
     ]
    },
    {
     "name": "stderr",
     "output_type": "stream",
     "text": [
      "127.0.0.1 - - [02/Oct/2020 12:09:08] \"POST /apiREST/v1 HTTP/1.1\" 200 -\n"
     ]
    },
    {
     "name": "stdout",
     "output_type": "stream",
     "text": [
      "hilo consume\n",
      "b'{\"payload\": {\"robot\": 337, \"id_face\": \"430761350747124\", \"recipient_id\": \"3812585132088508\", \"access_token\": \"EAAJjZAQWaAbgBAAxC53jaIzoxSpgY3qZBc0pYDlb5g3E58pTJ35vAzrsZBVSyiYPhpgZB3ZAeNqx18ImA0LZCcsqL96hFDqsE9fcXUk52ofVsqWeerVDKp0cGo2wvohq5ISdkCUX7ZByd4c80Y6BstQYbe5noQhC8L7wdtMuKyZAAgZDZD\", \"content\": \"\", \"type_resp\": \"read\", \"state\": \"none\", \"blocktype\": \"none\", \"opciones\": \"none\", \"entities\": {}}}'\n",
      " [.] Got %r None\n",
      "\n",
      "_________________________________________________________________________________________________________________________\n",
      "Mesaje de la API de Facebook-> \n",
      " {'object': 'page', 'entry': [{'id': '430761350747124', 'time': 1601658548964, 'messaging': [{'sender': {'id': '3812585132088508'}, 'recipient': {'id': '430761350747124'}, 'timestamp': 1601658534594, 'postback': {'title': '¿Con quién estoy hablan...', 'payload': '¿Con quién estoy hablando?'}}]}]}\n",
      "hilo consume\n",
      "______________________________________________no read__________________________________________________________________________"
     ]
    },
    {
     "name": "stderr",
     "output_type": "stream",
     "text": [
      "127.0.0.1 - - [02/Oct/2020 12:09:14] \"POST /apiREST/v1 HTTP/1.1\" 200 -\n"
     ]
    },
    {
     "name": "stdout",
     "output_type": "stream",
     "text": [
      "\n",
      "\n",
      "Mensaje enviado al Nucleo Logico->  {\"payload\": {\"robot\": \"none\", \"id_face\": \"430761350747124\", \"recipient_id\": \"3812585132088508\", \"access_token\": \"none\", \"content\": \"\\u00bfCon qui\\u00e9n estoy hablando?\", \"type_resp\": \"postback\", \"state\": \"none\", \"blocktype\": \"none\", \"opciones\": \"none\", \"entities\": {}}}\n",
      "b'{\"Respuesta\": {\"content\": \"\\\\u00a1Hola! Soy Niza.\", \"next_id\": \"next\", \"blockType\": \"informativo\", \"contentType\": \"text\", \"typingTime\": \"3\", \"payload\": {\"content\": \"\", \"state\": \"mensajesIntroduccion_01inicial_inicial\", \"recipient_id\": \"3812585132088508\", \"entities\": {\"qr_menuIntro\": \"\\\\u00a1ok veamos!\", \"var_pregunta\": \"dormir\", \"qr_personalidad\": \"\\\\u00bfCon qui\\\\u00e9n estoy hablando?\"}, \"access_token\": \"EAAJjZAQWaAbgBAAxC53jaIzoxSpgY3qZBc0pYDlb5g3E58pTJ35vAzrsZBVSyiYPhpgZB3ZAeNqx18ImA0LZCcsqL96hFDqsE9fcXUk52ofVsqWeerVDKp0cGo2wvohq5ISdkCUX7ZByd4c80Y6BstQYbe5noQhC8L7wdtMuKyZAAgZDZD\"}}}'\n",
      "\n",
      "_________________________________________________________________________________________________________________________\n",
      "Respuesta del Nucleo Logico->  {'Respuesta': {'content': '¡Hola! Soy Niza.', 'next_id': 'next', 'blockType': 'informativo', 'contentType': 'text', 'typingTime': '3', 'payload': {'content': '', 'state': 'mensajesIntroduccion_01inicial_inicial', 'recipient_id': '3812585132088508', 'entities': {'qr_menuIntro': '¡ok veamos!', 'var_pregunta': 'dormir', 'qr_personalidad': '¿Con quién estoy hablando?'}, 'access_token': 'EAAJjZAQWaAbgBAAxC53jaIzoxSpgY3qZBc0pYDlb5g3E58pTJ35vAzrsZBVSyiYPhpgZB3ZAeNqx18ImA0LZCcsqL96hFDqsE9fcXUk52ofVsqWeerVDKp0cGo2wvohq5ISdkCUX7ZByd4c80Y6BstQYbe5noQhC8L7wdtMuKyZAAgZDZD'}}}\n",
      "\n",
      "_________________________________________________________________________________________________________________________\n",
      "Mesaje de la API de Facebook-> \n",
      " {'object': 'page', 'entry': [{'id': '430761350747124', 'time': 1601658563204, 'messaging': [{'sender': {'id': '3812585132088508'}, 'recipient': {'id': '430761350747124'}, 'timestamp': 1601658534594, 'postback': {'title': '¿Con quién estoy hablan...', 'payload': '¿Con quién estoy hablando?'}}]}]}\n",
      "hilo consume\n",
      "\n",
      "______________________________________________no read__________________________________________________________________________\n",
      "Mensaje enviado al Nucleo Logico->  b'{\"Respuesta\": {\"content\": \"Un asistente virtual para atenci\\\\u00f3n ciudadana puedo responder dudas sobre tu agua potable\", \"next_id\": \"next\", \"blockType\": \"informativo\", \"contentType\": \"text\", \"typingTime\": \"3\", \"payload\": {\"content\": \"\", \"state\": \"mensajesIntroduccion_01inicial_inicial\", \"recipient_id\": \"3812585132088508\", \"entities\": {\"qr_menuIntro\": \"\\\\u00a1ok veamos!\", \"var_pregunta\": \"dormir\", \"qr_personalidad\": \"\\\\u00bfCon qui\\\\u00e9n estoy hablando?\"}, \"access_token\": \"EAAJjZAQWaAbgBAAxC53jaIzoxSpgY3qZBc0pYDlb5g3E58pTJ35vAzrsZBVSyiYPhpgZB3ZAeNqx18ImA0LZCcsqL96hFDqsE9fcXUk52ofVsqWeerVDKp0cGo2wvohq5ISdkCUX7ZByd4c80Y6BstQYbe5noQhC8L7wdtMuKyZAAgZDZD\"}}}'"
     ]
    },
    {
     "name": "stderr",
     "output_type": "stream",
     "text": [
      "127.0.0.1 - - [02/Oct/2020 12:09:29] \"POST /apiREST/v1 HTTP/1.1\" 200 -\n"
     ]
    },
    {
     "name": "stdout",
     "output_type": "stream",
     "text": [
      "{\"payload\": {\"robot\": \"none\", \"id_face\": \"430761350747124\", \"recipient_id\": \"3812585132088508\", \"access_token\": \"none\", \"content\": \"\\u00bfCon qui\\u00e9n estoy hablando?\", \"type_resp\": \"postback\", \"state\": \"none\", \"blocktype\": \"none\", \"opciones\": \"none\", \"entities\": {}}}\n",
      "\n",
      "_________________________________________________________________________________________________________________________\n",
      "Respuesta del Nucleo Logico->  {'Respuesta': {'content': 'Un asistente virtual para atención ciudadana puedo responder dudas sobre tu agua potable', 'next_id': 'next', 'blockType': 'informativo', 'contentType': 'text', 'typingTime': '3', 'payload': {'content': '', 'state': 'mensajesIntroduccion_01inicial_inicial', 'recipient_id': '3812585132088508', 'entities': {'qr_menuIntro': '¡ok veamos!', 'var_pregunta': 'dormir', 'qr_personalidad': '¿Con quién estoy hablando?'}, 'access_token': 'EAAJjZAQWaAbgBAAxC53jaIzoxSpgY3qZBc0pYDlb5g3E58pTJ35vAzrsZBVSyiYPhpgZB3ZAeNqx18ImA0LZCcsqL96hFDqsE9fcXUk52ofVsqWeerVDKp0cGo2wvohq5ISdkCUX7ZByd4c80Y6BstQYbe5noQhC8L7wdtMuKyZAAgZDZD'}}}\n",
      "\n",
      "\n",
      "---------------------------------------------------------------------------\n",
      "mensaje enviado a la API de facebook:\n",
      " {'recipient_id': '3812585132088508', 'message_id': 'm_BXBCgzMO8Ux_L3lNbuepHIDIHsg4Bwph1PFsDRmK-uGHLTNVqUGTtiYuwmIGXt4CQNVFyrGm-FSFd1xn1bjjHQ'}\n",
      " [.] Got %r None\n",
      "hilo consume\n",
      "\n",
      "______________________________________________no read__________________________________________________________________________b'{\"Respuesta\": {\"content\": \"Te gustar\\\\u00eda saber c\\\\u00f3mo utilizarme\", \"next_id\": \"next\", \"blockType\": \"informativo\", \"contentType\": \"text\", \"typingTime\": \"3\", \"payload\": {\"content\": \"\", \"state\": \"mensajesIntroduccion_01inicial_inicial\", \"recipient_id\": \"3812585132088508\", \"entities\": {\"qr_menuIntro\": \"\\\\u00a1ok veamos!\", \"var_pregunta\": \"dormir\", \"qr_personalidad\": \"\\\\u00bfCon qui\\\\u00e9n estoy hablando?\"}, \"access_token\": \"EAAJjZAQWaAbgBAAxC53jaIzoxSpgY3qZBc0pYDlb5g3E58pTJ35vAzrsZBVSyiYPhpgZB3ZAeNqx18ImA0LZCcsqL96hFDqsE9fcXUk52ofVsqWeerVDKp0cGo2wvohq5ISdkCUX7ZByd4c80Y6BstQYbe5noQhC8L7wdtMuKyZAAgZDZD\"}}}'\n",
      "\n",
      "_________________________________________________________________________________________________________________________\n",
      "Respuesta del Nucleo Logico->  {'Respuesta': {'content': 'Te gustaría saber cómo utilizarme', 'next_id': 'next', 'blockType': 'informativo', 'contentType': 'text', 'typingTime': '3', 'payload': {'content': '', 'state': 'mensajesIntroduccion_01inicial_inicial', 'recipient_id': '3812585132088508', 'entities': {'qr_menuIntro': '¡ok veamos!', 'var_pregunta': 'dormir', 'qr_personalidad': '¿Con quién estoy hablando?'}, 'access_token': 'EAAJjZAQWaAbgBAAxC53jaIzoxSpgY3qZBc0pYDlb5g3E58pTJ35vAzrsZBVSyiYPhpgZB3ZAeNqx18ImA0LZCcsqL96hFDqsE9fcXUk52ofVsqWeerVDKp0cGo2wvohq5ISdkCUX7ZByd4c80Y6BstQYbe5noQhC8L7wdtMuKyZAAgZDZD'}}}\n"
     ]
    },
    {
     "name": "stderr",
     "output_type": "stream",
     "text": [
      "127.0.0.1 - - [02/Oct/2020 12:09:32] \"POST /apiREST/v1 HTTP/1.1\" 200 -\n"
     ]
    },
    {
     "name": "stdout",
     "output_type": "stream",
     "text": [
      "\n",
      "Mensaje enviado al Nucleo Logico->  {\"payload\": {\"robot\": \"none\", \"id_face\": \"430761350747124\", \"recipient_id\": \"3812585132088508\", \"access_token\": \"none\", \"content\": \"\\u00bfCon qui\\u00e9n estoy hablando?\", \"type_resp\": \"postback\", \"state\": \"none\", \"blocktype\": \"none\", \"opciones\": \"none\", \"entities\": {}}}\n",
      "\n",
      "---------------------------------------------------------------------------\n",
      "mensaje enviado a la API de facebook:\n",
      " {'recipient_id': '3812585132088508', 'message_id': 'm_Ki4-bVL1jFuGolFA5OuO4IDIHsg4Bwph1PFsDRmK-uHhksk4q5ZRM2H9i06QbcLlzBbl8db7X_2YXBe9XYVnTg'}\n",
      " [.] Got %r None\n",
      "\n",
      "---------------------------------------------------------------------------\n",
      "mensaje enviado a la API de facebook:\n",
      " {'recipient_id': '3812585132088508', 'message_id': 'm_ccQ3hEer4_ASuIgklanDVYDIHsg4Bwph1PFsDRmK-uHcriJAhKelklKTdcFmQZf7ixompUwBRP2COir238_cbw'}\n",
      " [.] Got %r None\n",
      "\n",
      "_________________________________________________________________________________________________________________________\n",
      "Mesaje de la API de Facebook-> \n",
      " {'object': 'page', 'entry': [{'id': '430761350747124', 'time': 1601658581211, 'messaging': [{'sender': {'id': '3812585132088508'}, 'recipient': {'id': '430761350747124'}, 'timestamp': 1601658581343, 'read': {'watermark': 1601658579096}}]}]}\n"
     ]
    },
    {
     "name": "stderr",
     "output_type": "stream",
     "text": [
      "127.0.0.1 - - [02/Oct/2020 12:09:45] \"POST /apiREST/v1 HTTP/1.1\" 200 -\n"
     ]
    },
    {
     "name": "stdout",
     "output_type": "stream",
     "text": [
      "\n",
      "________________________________________read _______________________________________________________________________________\n",
      "Mensaje enviado al Nucleo Logico Read->  {\"payload\": {\"robot\": \"none\", \"id_face\": \"430761350747124\", \"recipient_id\": \"3812585132088508\", \"access_token\": \"none\", \"content\": \"\", \"type_resp\": \"read\", \"state\": \"none\", \"blocktype\": \"none\", \"opciones\": \"none\", \"entities\": {}}}\n",
      "hilo consume\n",
      "b'{\"Respuesta\": {\"content\": \"Toca uno de los botones azules para saber tu elecci\\\\u00f3n\", \"next_id\": \"mensajesIntroduccion2_01inicial_inicial,mensajePreMenu_01inicial_inicial\", \"blockType\": \"quickReply\", \"contentType\": \" \", \"typingTime\": \"5\", \"payload\": {\"content\": \"\", \"state\": \"menuIntroduccion_01inicial_inicial\", \"recipient_id\": \"3812585132088508\", \"entities\": {\"qr_menuIntro\": \"\\\\u00a1ok veamos!\", \"var_pregunta\": \"dormir\", \"qr_personalidad\": \"\\\\u00bfCon qui\\\\u00e9n estoy hablando?\"}, \"access_token\": \"EAAJjZAQWaAbgBAAxC53jaIzoxSpgY3qZBc0pYDlb5g3E58pTJ35vAzrsZBVSyiYPhpgZB3ZAeNqx18ImA0LZCcsqL96hFDqsE9fcXUk52ofVsqWeerVDKp0cGo2wvohq5ISdkCUX7ZByd4c80Y6BstQYbe5noQhC8L7wdtMuKyZAAgZDZD\"}, \"options\": [\"\\\\u00a1ok veamos!\", \"Prefiero ir al men\\\\u00fa\"], \"default_id\": \"mensajePreMenu_01inicial_inicial\", \"save_var\": \"\\\\u00a1ok veamos!\"}}'\n",
      "\n",
      "_________________________________________________________________________________________________________________________\n",
      "Respuesta del Nucleo Logico->  {'Respuesta': {'content': 'Toca uno de los botones azules para saber tu elección', 'next_id': 'mensajesIntroduccion2_01inicial_inicial,mensajePreMenu_01inicial_inicial', 'blockType': 'quickReply', 'contentType': ' ', 'typingTime': '5', 'payload': {'content': '', 'state': 'menuIntroduccion_01inicial_inicial', 'recipient_id': '3812585132088508', 'entities': {'qr_menuIntro': '¡ok veamos!', 'var_pregunta': 'dormir', 'qr_personalidad': '¿Con quién estoy hablando?'}, 'access_token': 'EAAJjZAQWaAbgBAAxC53jaIzoxSpgY3qZBc0pYDlb5g3E58pTJ35vAzrsZBVSyiYPhpgZB3ZAeNqx18ImA0LZCcsqL96hFDqsE9fcXUk52ofVsqWeerVDKp0cGo2wvohq5ISdkCUX7ZByd4c80Y6BstQYbe5noQhC8L7wdtMuKyZAAgZDZD'}, 'options': ['¡ok veamos!', 'Prefiero ir al menú'], 'default_id': 'mensajePreMenu_01inicial_inicial', 'save_var': '¡ok veamos!'}}\n",
      "\n",
      "---------------------------------------------------------------------------\n",
      "mensaje enviado a la API de facebook:\n",
      " {'recipient_id': '3812585132088508', 'message_id': 'm_hamSPKT4nUsSqBmMIia_74DIHsg4Bwph1PFsDRmK-uFQXXrRw6c_H0_LPVsklfDVlnsCyc62WuTzkPV93ECsAA'}\n",
      " [.] Got %r None\n",
      "\n",
      "_________________________________________________________________________________________________________________________\n",
      "Mesaje de la API de Facebook-> \n",
      " {'object': 'page', 'entry': [{'id': '430761350747124', 'time': 1601658593485, 'messaging': [{'sender': {'id': '3812585132088508'}, 'recipient': {'id': '430761350747124'}, 'timestamp': 1601658593641, 'read': {'watermark': 1601658590940}}]}]}\n",
      "\n",
      "_________________________________________________________________________________________________________________________\n",
      "Mesaje de la API de Facebook-> \n",
      " {'object': 'page', 'entry': [{'id': '430761350747124', 'time': 1601658595937, 'messaging': [{'sender': {'id': '3812585132088508'}, 'recipient': {'id': '430761350747124'}, 'timestamp': 1601658595780, 'postback': {'title': '¡ok veamos!', 'payload': '¡ok veamos!'}}]}]}\n"
     ]
    },
    {
     "name": "stderr",
     "output_type": "stream",
     "text": [
      "127.0.0.1 - - [02/Oct/2020 12:10:01] \"POST /apiREST/v1 HTTP/1.1\" 200 -\n"
     ]
    },
    {
     "name": "stdout",
     "output_type": "stream",
     "text": [
      "\n",
      "________________________________________read _______________________________________________________________________________\n",
      "Mensaje enviado al Nucleo Logico Read->  {\"payload\": {\"robot\": \"none\", \"id_face\": \"430761350747124\", \"recipient_id\": \"3812585132088508\", \"access_token\": \"none\", \"content\": \"\", \"type_resp\": \"read\", \"state\": \"none\", \"blocktype\": \"none\", \"opciones\": \"none\", \"entities\": {}}}\n",
      "hilo consume\n",
      "b'{\"payload\": {\"robot\": 337, \"id_face\": \"430761350747124\", \"recipient_id\": \"3812585132088508\", \"access_token\": \"EAAJjZAQWaAbgBAAxC53jaIzoxSpgY3qZBc0pYDlb5g3E58pTJ35vAzrsZBVSyiYPhpgZB3ZAeNqx18ImA0LZCcsqL96hFDqsE9fcXUk52ofVsqWeerVDKp0cGo2wvohq5ISdkCUX7ZByd4c80Y6BstQYbe5noQhC8L7wdtMuKyZAAgZDZD\", \"content\": \"\", \"type_resp\": \"read\", \"state\": \"none\", \"blocktype\": \"none\", \"opciones\": \"none\", \"entities\": {}}}'\n",
      " [.] Got %r None\n"
     ]
    },
    {
     "name": "stderr",
     "output_type": "stream",
     "text": [
      "127.0.0.1 - - [02/Oct/2020 12:10:02] \"POST /apiREST/v1 HTTP/1.1\" 200 -\n"
     ]
    },
    {
     "name": "stdout",
     "output_type": "stream",
     "text": [
      "hilo consume\n",
      "\n",
      "______________________________________________no read__________________________________________________________________________\n",
      "Mensaje enviado al Nucleo Logico->  {\"payload\": {\"robot\": \"none\", \"id_face\": \"430761350747124\", \"recipient_id\": \"3812585132088508\", \"access_token\": \"none\", \"content\": \"\\u00a1ok veamos!\", \"type_resp\": \"postback\", \"state\": \"none\", \"blocktype\": \"none\", \"opciones\": \"none\", \"entities\": {}}}\n",
      "b'{\"Respuesta\": {\"content\": \"Soy un robot que funciona con un sistema autom\\\\u00e1tico llamado inteligencia artificial.\", \"next_id\": \"next\", \"blockType\": \"informativo\", \"contentType\": \"text\", \"typingTime\": \"3\", \"payload\": {\"content\": \"\", \"state\": \"mensajesIntroduccion2_01inicial_inicial\", \"recipient_id\": \"3812585132088508\", \"entities\": {\"qr_menuIntro\": \"\\\\u00a1ok veamos!\", \"var_pregunta\": \"dormir\", \"qr_personalidad\": \"\\\\u00bfCon qui\\\\u00e9n estoy hablando?\"}, \"access_token\": \"EAAJjZAQWaAbgBAAxC53jaIzoxSpgY3qZBc0pYDlb5g3E58pTJ35vAzrsZBVSyiYPhpgZB3ZAeNqx18ImA0LZCcsqL96hFDqsE9fcXUk52ofVsqWeerVDKp0cGo2wvohq5ISdkCUX7ZByd4c80Y6BstQYbe5noQhC8L7wdtMuKyZAAgZDZD\"}}}'\n",
      "\n",
      "_________________________________________________________________________________________________________________________\n",
      "Respuesta del Nucleo Logico->  {'Respuesta': {'content': 'Soy un robot que funciona con un sistema automático llamado inteligencia artificial.', 'next_id': 'next', 'blockType': 'informativo', 'contentType': 'text', 'typingTime': '3', 'payload': {'content': '', 'state': 'mensajesIntroduccion2_01inicial_inicial', 'recipient_id': '3812585132088508', 'entities': {'qr_menuIntro': '¡ok veamos!', 'var_pregunta': 'dormir', 'qr_personalidad': '¿Con quién estoy hablando?'}, 'access_token': 'EAAJjZAQWaAbgBAAxC53jaIzoxSpgY3qZBc0pYDlb5g3E58pTJ35vAzrsZBVSyiYPhpgZB3ZAeNqx18ImA0LZCcsqL96hFDqsE9fcXUk52ofVsqWeerVDKp0cGo2wvohq5ISdkCUX7ZByd4c80Y6BstQYbe5noQhC8L7wdtMuKyZAAgZDZD'}}}\n",
      "\n",
      "---------------------------------------------------------------------------\n",
      "mensaje enviado a la API de facebook:\n",
      " {'recipient_id': '3812585132088508', 'message_id': 'm_DoBrXzSm3VqYuE6FVvyGjoDIHsg4Bwph1PFsDRmK-uGG7-IGeuLIobjyksb7bQW3pri7teEvBX1mSsPxKM30Lg'}\n",
      " [.] Got %r None\n",
      "\n",
      "_________________________________________________________________________________________________________________________\n",
      "Mesaje de la API de Facebook-> \n",
      " {'object': 'page', 'entry': [{'id': '430761350747124', 'time': 1601658609597, 'messaging': [{'sender': {'id': '3812585132088508'}, 'recipient': {'id': '430761350747124'}, 'timestamp': 1601658609721, 'read': {'watermark': 1601658607648}}]}]}\n"
     ]
    },
    {
     "name": "stderr",
     "output_type": "stream",
     "text": [
      "127.0.0.1 - - [02/Oct/2020 12:10:12] \"POST /apiREST/v1 HTTP/1.1\" 200 -\n"
     ]
    },
    {
     "name": "stdout",
     "output_type": "stream",
     "text": [
      "\n",
      "________________________________________read _______________________________________________________________________________\n",
      "Mensaje enviado al Nucleo Logico Read->  {\"payload\": {\"robot\": \"none\", \"id_face\": \"430761350747124\", \"recipient_id\": \"3812585132088508\", \"access_token\": \"none\", \"content\": \"\", \"type_resp\": \"read\", \"state\": \"none\", \"blocktype\": \"none\", \"opciones\": \"none\", \"entities\": {}}}\n",
      "hilo consume\n",
      "b'{\"Respuesta\": {\"content\": \"Cada vez que escribas intentare entenderte\", \"next_id\": \"next\", \"blockType\": \"informativo\", \"contentType\": \"text\", \"typingTime\": \"3\", \"payload\": {\"content\": \"\", \"state\": \"mensajesIntroduccion2_01inicial_inicial\", \"recipient_id\": \"3812585132088508\", \"entities\": {\"qr_menuIntro\": \"\\\\u00a1ok veamos!\", \"var_pregunta\": \"dormir\", \"qr_personalidad\": \"\\\\u00bfCon qui\\\\u00e9n estoy hablando?\"}, \"access_token\": \"EAAJjZAQWaAbgBAAxC53jaIzoxSpgY3qZBc0pYDlb5g3E58pTJ35vAzrsZBVSyiYPhpgZB3ZAeNqx18ImA0LZCcsqL96hFDqsE9fcXUk52ofVsqWeerVDKp0cGo2wvohq5ISdkCUX7ZByd4c80Y6BstQYbe5noQhC8L7wdtMuKyZAAgZDZD\"}}}'\n",
      "\n",
      "_________________________________________________________________________________________________________________________\n",
      "Respuesta del Nucleo Logico->  {'Respuesta': {'content': 'Cada vez que escribas intentare entenderte', 'next_id': 'next', 'blockType': 'informativo', 'contentType': 'text', 'typingTime': '3', 'payload': {'content': '', 'state': 'mensajesIntroduccion2_01inicial_inicial', 'recipient_id': '3812585132088508', 'entities': {'qr_menuIntro': '¡ok veamos!', 'var_pregunta': 'dormir', 'qr_personalidad': '¿Con quién estoy hablando?'}, 'access_token': 'EAAJjZAQWaAbgBAAxC53jaIzoxSpgY3qZBc0pYDlb5g3E58pTJ35vAzrsZBVSyiYPhpgZB3ZAeNqx18ImA0LZCcsqL96hFDqsE9fcXUk52ofVsqWeerVDKp0cGo2wvohq5ISdkCUX7ZByd4c80Y6BstQYbe5noQhC8L7wdtMuKyZAAgZDZD'}}}\n",
      "\n",
      "---------------------------------------------------------------------------\n",
      "mensaje enviado a la API de facebook:\n",
      " {'recipient_id': '3812585132088508', 'message_id': 'm_zprwv3qUDbBuaZQaOcFciIDIHsg4Bwph1PFsDRmK-uFZYVSjE_BmUhkv_m3brJco15a5QIYbYnSeyOa-Am4jfA'}\n",
      " [.] Got %r None\n",
      "\n",
      "_________________________________________________________________________________________________________________________\n",
      "Mesaje de la API de Facebook-> \n",
      " {'object': 'page', 'entry': [{'id': '430761350747124', 'time': 1601658624717, 'messaging': [{'sender': {'id': '3812585132088508'}, 'recipient': {'id': '430761350747124'}, 'timestamp': 1601658624823, 'read': {'watermark': 1601658619381}}]}]}\n",
      "\n",
      "________________________________________read _______________________________________________________________________________\n",
      "Mensaje enviado al Nucleo Logico Read->  {\"payload\": {\"robot\": \"none\", \"id_face\": \"430761350747124\", \"recipient_id\": \"3812585132088508\", \"access_token\": \"none\", \"content\": \"\", \"type_resp\": \"read\", \"state\": \"none\", \"blocktype\": \"none\", \"opciones\": \"none\", \"entities\": {}}}\n"
     ]
    },
    {
     "name": "stderr",
     "output_type": "stream",
     "text": [
      "127.0.0.1 - - [02/Oct/2020 12:10:27] \"POST /apiREST/v1 HTTP/1.1\" 200 -\n"
     ]
    },
    {
     "name": "stdout",
     "output_type": "stream",
     "text": [
      "hilo consume\n",
      "b'{\"Respuesta\": {\"content\": \"Cada vez que escribas intentare entenderte\", \"next_id\": \"next\", \"blockType\": \"informativo\", \"contentType\": \"text\", \"typingTime\": \"3\", \"payload\": {\"content\": \"\", \"state\": \"mensajesIntroduccion2_01inicial_inicial\", \"recipient_id\": \"3812585132088508\", \"entities\": {\"qr_menuIntro\": \"\\\\u00a1ok veamos!\", \"var_pregunta\": \"dormir\", \"qr_personalidad\": \"\\\\u00bfCon qui\\\\u00e9n estoy hablando?\"}, \"access_token\": \"EAAJjZAQWaAbgBAAxC53jaIzoxSpgY3qZBc0pYDlb5g3E58pTJ35vAzrsZBVSyiYPhpgZB3ZAeNqx18ImA0LZCcsqL96hFDqsE9fcXUk52ofVsqWeerVDKp0cGo2wvohq5ISdkCUX7ZByd4c80Y6BstQYbe5noQhC8L7wdtMuKyZAAgZDZD\"}}}'\n",
      "\n",
      "_________________________________________________________________________________________________________________________\n",
      "Respuesta del Nucleo Logico->  {'Respuesta': {'content': 'Cada vez que escribas intentare entenderte', 'next_id': 'next', 'blockType': 'informativo', 'contentType': 'text', 'typingTime': '3', 'payload': {'content': '', 'state': 'mensajesIntroduccion2_01inicial_inicial', 'recipient_id': '3812585132088508', 'entities': {'qr_menuIntro': '¡ok veamos!', 'var_pregunta': 'dormir', 'qr_personalidad': '¿Con quién estoy hablando?'}, 'access_token': 'EAAJjZAQWaAbgBAAxC53jaIzoxSpgY3qZBc0pYDlb5g3E58pTJ35vAzrsZBVSyiYPhpgZB3ZAeNqx18ImA0LZCcsqL96hFDqsE9fcXUk52ofVsqWeerVDKp0cGo2wvohq5ISdkCUX7ZByd4c80Y6BstQYbe5noQhC8L7wdtMuKyZAAgZDZD'}}}\n",
      "\n",
      "---------------------------------------------------------------------------\n",
      "mensaje enviado a la API de facebook:\n",
      "\n",
      "_________________________________________________________________________________________________________________________\n",
      "Mesaje de la API de Facebook-> \n",
      " {'object': 'page', 'entry': [{'id': '430761350747124', 'time': 1601658631794, 'messaging': [{'sender': {'id': '3812585132088508'}, 'recipient': {'id': '430761350747124'}, 'timestamp': 1601658631898, 'read': {'watermark': 1601658631548}}]}]}\n",
      " {'recipient_id': '3812585132088508', 'message_id': 'm_Bc4x_0SyHkeqFh12bnlcd4DIHsg4Bwph1PFsDRmK-uE8EJw3KBByBDRWjjU4iQ320ZR1VBaLzub7fW2ajNK5DA'}\n",
      " [.] Got %r None\n",
      "\n",
      "________________________________________read _______________________________________________________________________________\n",
      "Mensaje enviado al Nucleo Logico Read->  {\"payload\": {\"robot\": \"none\", \"id_face\": \"430761350747124\", \"recipient_id\": \"3812585132088508\", \"access_token\": \"none\", \"content\": \"\", \"type_resp\": \"read\", \"state\": \"none\", \"blocktype\": \"none\", \"opciones\": \"none\", \"entities\": {}}}\n"
     ]
    },
    {
     "name": "stderr",
     "output_type": "stream",
     "text": [
      "127.0.0.1 - - [02/Oct/2020 12:10:36] \"POST /apiREST/v1 HTTP/1.1\" 200 -\n"
     ]
    },
    {
     "name": "stdout",
     "output_type": "stream",
     "text": [
      "hilo consume\n",
      "b'{\"Respuesta\": {\"content\": \"Cada vez que escribas intentare entenderte\", \"next_id\": \"next\", \"blockType\": \"informativo\", \"contentType\": \"text\", \"typingTime\": \"3\", \"payload\": {\"content\": \"\", \"state\": \"mensajesIntroduccion2_01inicial_inicial\", \"recipient_id\": \"3812585132088508\", \"entities\": {\"qr_menuIntro\": \"\\\\u00a1ok veamos!\", \"var_pregunta\": \"dormir\", \"qr_personalidad\": \"\\\\u00bfCon qui\\\\u00e9n estoy hablando?\"}, \"access_token\": \"EAAJjZAQWaAbgBAAxC53jaIzoxSpgY3qZBc0pYDlb5g3E58pTJ35vAzrsZBVSyiYPhpgZB3ZAeNqx18ImA0LZCcsqL96hFDqsE9fcXUk52ofVsqWeerVDKp0cGo2wvohq5ISdkCUX7ZByd4c80Y6BstQYbe5noQhC8L7wdtMuKyZAAgZDZD\"}}}'\n",
      "\n",
      "_________________________________________________________________________________________________________________________\n",
      "Respuesta del Nucleo Logico->  {'Respuesta': {'content': 'Cada vez que escribas intentare entenderte', 'next_id': 'next', 'blockType': 'informativo', 'contentType': 'text', 'typingTime': '3', 'payload': {'content': '', 'state': 'mensajesIntroduccion2_01inicial_inicial', 'recipient_id': '3812585132088508', 'entities': {'qr_menuIntro': '¡ok veamos!', 'var_pregunta': 'dormir', 'qr_personalidad': '¿Con quién estoy hablando?'}, 'access_token': 'EAAJjZAQWaAbgBAAxC53jaIzoxSpgY3qZBc0pYDlb5g3E58pTJ35vAzrsZBVSyiYPhpgZB3ZAeNqx18ImA0LZCcsqL96hFDqsE9fcXUk52ofVsqWeerVDKp0cGo2wvohq5ISdkCUX7ZByd4c80Y6BstQYbe5noQhC8L7wdtMuKyZAAgZDZD'}}}\n",
      "\n",
      "---------------------------------------------------------------------------\n",
      "mensaje enviado a la API de facebook:\n",
      " {'recipient_id': '3812585132088508', 'message_id': 'm_YS2ssxaWYpT4O5FQZbdbpYDIHsg4Bwph1PFsDRmK-uH56FI6WALat0QrC9E5ihYxZ38nzdMj_uo3mQuRfsBnCg'}\n",
      " [.] Got %r None\n",
      "\n",
      "_________________________________________________________________________________________________________________________\n",
      "Mesaje de la API de Facebook-> \n",
      " {'object': 'page', 'entry': [{'id': '430761350747124', 'time': 1601658645498, 'messaging': [{'sender': {'id': '3812585132088508'}, 'recipient': {'id': '430761350747124'}, 'timestamp': 1601658645632, 'read': {'watermark': 1601658643544}}]}]}\n"
     ]
    },
    {
     "name": "stderr",
     "output_type": "stream",
     "text": [
      "127.0.0.1 - - [02/Oct/2020 12:10:53] \"POST /apiREST/v1 HTTP/1.1\" 200 -\n"
     ]
    },
    {
     "name": "stdout",
     "output_type": "stream",
     "text": [
      "\n",
      "________________________________________read _______________________________________________________________________________\n",
      "Mensaje enviado al Nucleo Logico Read->  {\"payload\": {\"robot\": \"none\", \"id_face\": \"430761350747124\", \"recipient_id\": \"3812585132088508\", \"access_token\": \"none\", \"content\": \"\", \"type_resp\": \"read\", \"state\": \"none\", \"blocktype\": \"none\", \"opciones\": \"none\", \"entities\": {}}}\n",
      "hilo consume\n",
      "b'{\"Respuesta\": {\"content\": \"Cada vez que escribas intentare entenderte\", \"next_id\": \"next\", \"blockType\": \"informativo\", \"contentType\": \"text\", \"typingTime\": \"3\", \"payload\": {\"content\": \"\", \"state\": \"mensajesIntroduccion2_01inicial_inicial\", \"recipient_id\": \"3812585132088508\", \"entities\": {\"qr_menuIntro\": \"\\\\u00a1ok veamos!\", \"var_pregunta\": \"dormir\", \"qr_personalidad\": \"\\\\u00bfCon qui\\\\u00e9n estoy hablando?\"}, \"access_token\": \"EAAJjZAQWaAbgBAAxC53jaIzoxSpgY3qZBc0pYDlb5g3E58pTJ35vAzrsZBVSyiYPhpgZB3ZAeNqx18ImA0LZCcsqL96hFDqsE9fcXUk52ofVsqWeerVDKp0cGo2wvohq5ISdkCUX7ZByd4c80Y6BstQYbe5noQhC8L7wdtMuKyZAAgZDZD\"}}}'\n",
      "\n",
      "_________________________________________________________________________________________________________________________\n",
      "Respuesta del Nucleo Logico->  {'Respuesta': {'content': 'Cada vez que escribas intentare entenderte', 'next_id': 'next', 'blockType': 'informativo', 'contentType': 'text', 'typingTime': '3', 'payload': {'content': '', 'state': 'mensajesIntroduccion2_01inicial_inicial', 'recipient_id': '3812585132088508', 'entities': {'qr_menuIntro': '¡ok veamos!', 'var_pregunta': 'dormir', 'qr_personalidad': '¿Con quién estoy hablando?'}, 'access_token': 'EAAJjZAQWaAbgBAAxC53jaIzoxSpgY3qZBc0pYDlb5g3E58pTJ35vAzrsZBVSyiYPhpgZB3ZAeNqx18ImA0LZCcsqL96hFDqsE9fcXUk52ofVsqWeerVDKp0cGo2wvohq5ISdkCUX7ZByd4c80Y6BstQYbe5noQhC8L7wdtMuKyZAAgZDZD'}}}\n",
      "\n",
      "---------------------------------------------------------------------------\n",
      "mensaje enviado a la API de facebook:\n",
      " {'recipient_id': '3812585132088508', 'message_id': 'm_elp3AaHb1s1pRU4DacLwF4DIHsg4Bwph1PFsDRmK-uGD0vJSmBy_jUryaMD0ANSyqLaS-Mb0xMASryoidzdfvg'}\n",
      " [.] Got %r None\n",
      "\n",
      "_________________________________________________________________________________________________________________________\n",
      "Mesaje de la API de Facebook-> \n",
      " {'object': 'page', 'entry': [{'id': '430761350747124', 'time': 1601658659897, 'messaging': [{'sender': {'id': '3812585132088508'}, 'recipient': {'id': '430761350747124'}, 'timestamp': 1601658660004, 'read': {'watermark': 1601658657569}}]}]}\n"
     ]
    },
    {
     "name": "stderr",
     "output_type": "stream",
     "text": [
      "127.0.0.1 - - [02/Oct/2020 12:11:02] \"POST /apiREST/v1 HTTP/1.1\" 200 -\n"
     ]
    },
    {
     "name": "stdout",
     "output_type": "stream",
     "text": [
      "\n",
      "________________________________________read _______________________________________________________________________________\n",
      "Mensaje enviado al Nucleo Logico Read->  {\"payload\": {\"robot\": \"none\", \"id_face\": \"430761350747124\", \"recipient_id\": \"3812585132088508\", \"access_token\": \"none\", \"content\": \"\", \"type_resp\": \"read\", \"state\": \"none\", \"blocktype\": \"none\", \"opciones\": \"none\", \"entities\": {}}}\n",
      "hilo consume\n",
      "b'{\"Respuesta\": {\"content\": \"Cada vez que escribas intentare entenderte\", \"next_id\": \"next\", \"blockType\": \"informativo\", \"contentType\": \"text\", \"typingTime\": \"3\", \"payload\": {\"content\": \"\", \"state\": \"mensajesIntroduccion2_01inicial_inicial\", \"recipient_id\": \"3812585132088508\", \"entities\": {\"qr_menuIntro\": \"\\\\u00a1ok veamos!\", \"var_pregunta\": \"dormir\", \"qr_personalidad\": \"\\\\u00bfCon qui\\\\u00e9n estoy hablando?\"}, \"access_token\": \"EAAJjZAQWaAbgBAAxC53jaIzoxSpgY3qZBc0pYDlb5g3E58pTJ35vAzrsZBVSyiYPhpgZB3ZAeNqx18ImA0LZCcsqL96hFDqsE9fcXUk52ofVsqWeerVDKp0cGo2wvohq5ISdkCUX7ZByd4c80Y6BstQYbe5noQhC8L7wdtMuKyZAAgZDZD\"}}}'\n",
      "\n",
      "_________________________________________________________________________________________________________________________\n",
      "Respuesta del Nucleo Logico->  {'Respuesta': {'content': 'Cada vez que escribas intentare entenderte', 'next_id': 'next', 'blockType': 'informativo', 'contentType': 'text', 'typingTime': '3', 'payload': {'content': '', 'state': 'mensajesIntroduccion2_01inicial_inicial', 'recipient_id': '3812585132088508', 'entities': {'qr_menuIntro': '¡ok veamos!', 'var_pregunta': 'dormir', 'qr_personalidad': '¿Con quién estoy hablando?'}, 'access_token': 'EAAJjZAQWaAbgBAAxC53jaIzoxSpgY3qZBc0pYDlb5g3E58pTJ35vAzrsZBVSyiYPhpgZB3ZAeNqx18ImA0LZCcsqL96hFDqsE9fcXUk52ofVsqWeerVDKp0cGo2wvohq5ISdkCUX7ZByd4c80Y6BstQYbe5noQhC8L7wdtMuKyZAAgZDZD'}}}\n",
      "\n",
      "---------------------------------------------------------------------------\n",
      "mensaje enviado a la API de facebook:\n",
      " {'recipient_id': '3812585132088508', 'message_id': 'm_ev08eQRhAL8ODyQGFUloJYDIHsg4Bwph1PFsDRmK-uHuEkpgSEmVvmtuEjRTMp3ch4mq2YYD1sSV4knG0nBQiw'}\n",
      " [.] Got %r None\n",
      "\n",
      "_________________________________________________________________________________________________________________________\n",
      "Mesaje de la API de Facebook-> \n",
      " {'object': 'page', 'entry': [{'id': '430761350747124', 'time': 1601658718393, 'messaging': [{'sender': {'id': '3812585132088508'}, 'recipient': {'id': '430761350747124'}, 'timestamp': 1601658718559, 'read': {'watermark': 1601658666754}}]}]}\n",
      "\n",
      "________________________________________read _______________________________________________________________________________\n",
      "Mensaje enviado al Nucleo Logico Read->  {\"payload\": {\"robot\": \"none\", \"id_face\": \"430761350747124\", \"recipient_id\": \"3812585132088508\", \"access_token\": \"none\", \"content\": \"\", \"type_resp\": \"read\", \"state\": \"none\", \"blocktype\": \"none\", \"opciones\": \"none\", \"entities\": {}}}"
     ]
    },
    {
     "name": "stderr",
     "output_type": "stream",
     "text": [
      "127.0.0.1 - - [02/Oct/2020 12:12:05] \"POST /apiREST/v1 HTTP/1.1\" 200 -\n"
     ]
    },
    {
     "name": "stdout",
     "output_type": "stream",
     "text": [
      "\n",
      "hilo consume\n",
      "b'{\"Respuesta\": {\"content\": \"Cada vez que escribas intentare entenderte\", \"next_id\": \"next\", \"blockType\": \"informativo\", \"contentType\": \"text\", \"typingTime\": \"3\", \"payload\": {\"content\": \"\", \"state\": \"mensajesIntroduccion2_01inicial_inicial\", \"recipient_id\": \"3812585132088508\", \"entities\": {\"qr_menuIntro\": \"\\\\u00a1ok veamos!\", \"var_pregunta\": \"dormir\", \"qr_personalidad\": \"\\\\u00bfCon qui\\\\u00e9n estoy hablando?\"}, \"access_token\": \"EAAJjZAQWaAbgBAAxC53jaIzoxSpgY3qZBc0pYDlb5g3E58pTJ35vAzrsZBVSyiYPhpgZB3ZAeNqx18ImA0LZCcsqL96hFDqsE9fcXUk52ofVsqWeerVDKp0cGo2wvohq5ISdkCUX7ZByd4c80Y6BstQYbe5noQhC8L7wdtMuKyZAAgZDZD\"}}}'\n",
      "\n",
      "_________________________________________________________________________________________________________________________\n",
      "Respuesta del Nucleo Logico->  {'Respuesta': {'content': 'Cada vez que escribas intentare entenderte', 'next_id': 'next', 'blockType': 'informativo', 'contentType': 'text', 'typingTime': '3', 'payload': {'content': '', 'state': 'mensajesIntroduccion2_01inicial_inicial', 'recipient_id': '3812585132088508', 'entities': {'qr_menuIntro': '¡ok veamos!', 'var_pregunta': 'dormir', 'qr_personalidad': '¿Con quién estoy hablando?'}, 'access_token': 'EAAJjZAQWaAbgBAAxC53jaIzoxSpgY3qZBc0pYDlb5g3E58pTJ35vAzrsZBVSyiYPhpgZB3ZAeNqx18ImA0LZCcsqL96hFDqsE9fcXUk52ofVsqWeerVDKp0cGo2wvohq5ISdkCUX7ZByd4c80Y6BstQYbe5noQhC8L7wdtMuKyZAAgZDZD'}}}\n",
      "\n",
      "---------------------------------------------------------------------------\n",
      "mensaje enviado a la API de facebook:\n",
      " {'recipient_id': '3812585132088508', 'message_id': 'm_rIBhqkj_XNpodK1dd9EOzIDIHsg4Bwph1PFsDRmK-uEHHHiujUNakaOvHkbmhDdLLYj_jzaIKxL5appuqERqxA'}\n",
      " [.] Got %r None\n",
      "\n",
      "_________________________________________________________________________________________________________________________\n",
      "Mesaje de la API de Facebook-> \n",
      " {'object': 'page', 'entry': [{'id': '430761350747124', 'time': 1601658807801, 'messaging': [{'sender': {'id': '3812585132088508'}, 'recipient': {'id': '430761350747124'}, 'timestamp': 1601658807958, 'read': {'watermark': 1601658733324}}]}]}\n",
      "\n",
      "________________________________________read _______________________________________________________________________________\n",
      "Mensaje enviado al Nucleo Logico Read->  {\"payload\": {\"robot\": \"none\", \"id_face\": \"430761350747124\", \"recipient_id\": \"3812585132088508\", \"access_token\": \"none\", \"content\": \"\", \"type_resp\": \"read\", \"state\": \"none\", \"blocktype\": \"none\", \"opciones\": \"none\", \"entities\": {}}}"
     ]
    },
    {
     "name": "stderr",
     "output_type": "stream",
     "text": [
      "127.0.0.1 - - [02/Oct/2020 12:13:44] \"POST /apiREST/v1 HTTP/1.1\" 200 -\n"
     ]
    },
    {
     "name": "stdout",
     "output_type": "stream",
     "text": [
      "\n",
      "hilo consume\n",
      "\n",
      "_________________________________________________________________________________________________________________________\n",
      "Mesaje de la API de Facebook-> \n",
      " {'object': 'page', 'entry': [{'id': '430761350747124', 'time': 1601658865110, 'messaging': [{'sender': {'id': '3812585132088508'}, 'recipient': {'id': '430761350747124'}, 'timestamp': 1601658864995, 'message': {'mid': 'm_f7JvvIVGT2RoJckUAZgtM4DIHsg4Bwph1PFsDRmK-uGOg59OQZeKxTfweyvFGkm2XnQ0ZpO8-PMHgFc7YiQS1Q', 'text': 'hola'}}]}]}\n"
     ]
    },
    {
     "name": "stderr",
     "output_type": "stream",
     "text": [
      "127.0.0.1 - - [02/Oct/2020 12:14:40] \"POST /apiREST/v1 HTTP/1.1\" 200 -\n"
     ]
    },
    {
     "name": "stdout",
     "output_type": "stream",
     "text": [
      "hilo consume\n",
      "\n",
      "______________________________________________no read__________________________________________________________________________\n",
      "Mensaje enviado al Nucleo Logico->  {\"payload\": {\"robot\": \"none\", \"id_face\": \"430761350747124\", \"recipient_id\": \"3812585132088508\", \"access_token\": \"none\", \"content\": \"hola\", \"type_resp\": \"message\", \"state\": \"none\", \"blocktype\": \"none\", \"opciones\": \"none\", \"entities\": {}}}\n",
      "\n",
      "_________________________________________________________________________________________________________________________\n",
      "Mesaje de la API de Facebook-> \n",
      " {'object': 'page', 'entry': [{'id': '430761350747124', 'time': 1601658898976, 'messaging': [{'sender': {'id': '3812585132088508'}, 'recipient': {'id': '430761350747124'}, 'timestamp': 1601658898899, 'message': {'mid': 'm_Hh8XF5BT8GPbSs56FGDxyYDIHsg4Bwph1PFsDRmK-uF3BvXm6QItVHlynRH_kTp9EmojaasDlDDVLwGbAV9eLQ', 'text': 'hi'}}]}]}\n"
     ]
    },
    {
     "name": "stderr",
     "output_type": "stream",
     "text": [
      "127.0.0.1 - - [02/Oct/2020 12:15:07] \"POST /apiREST/v1 HTTP/1.1\" 200 -\n"
     ]
    },
    {
     "name": "stdout",
     "output_type": "stream",
     "text": [
      "hilo consume\n",
      "b'{\"Respuesta\": {\"content\": \"\\\\u00a1Hola! Soy Niza.\", \"next_id\": \"next\", \"blockType\": \"informativo\", \"contentType\": \"text\", \"typingTime\": \"3\", \"payload\": {\"content\": \"\", \"state\": \"mensajesIntroduccion_01inicial_inicial\", \"recipient_id\": \"3812585132088508\", \"entities\": {}, \"access_token\": \"EAAJjZAQWaAbgBAAxC53jaIzoxSpgY3qZBc0pYDlb5g3E58pTJ35vAzrsZBVSyiYPhpgZB3ZAeNqx18ImA0LZCcsqL96hFDqsE9fcXUk52ofVsqWeerVDKp0cGo2wvohq5ISdkCUX7ZByd4c80Y6BstQYbe5noQhC8L7wdtMuKyZAAgZDZD\"}}}'\n",
      "\n",
      "_________________________________________________________________________________________________________________________\n",
      "Respuesta del Nucleo Logico->  {'Respuesta': {'content': '¡Hola! Soy Niza.', 'next_id': 'next', 'blockType': 'informativo', 'contentType': 'text', 'typingTime': '3', 'payload': {'content': '', 'state': 'mensajesIntroduccion_01inicial_inicial', 'recipient_id': '3812585132088508', 'entities': {}, 'access_token': 'EAAJjZAQWaAbgBAAxC53jaIzoxSpgY3qZBc0pYDlb5g3E58pTJ35vAzrsZBVSyiYPhpgZB3ZAeNqx18ImA0LZCcsqL96hFDqsE9fcXUk52ofVsqWeerVDKp0cGo2wvohq5ISdkCUX7ZByd4c80Y6BstQYbe5noQhC8L7wdtMuKyZAAgZDZD'}}}\n",
      "\n",
      "______________________________________________no read__________________________________________________________________________\n",
      "Mensaje enviado al Nucleo Logico->  {\"payload\": {\"robot\": \"none\", \"id_face\": \"430761350747124\", \"recipient_id\": \"3812585132088508\", \"access_token\": \"none\", \"content\": \"hi\", \"type_resp\": \"message\", \"state\": \"none\", \"blocktype\": \"none\", \"opciones\": \"none\", \"entities\": {}}}\n",
      "\n",
      "---------------------------------------------------------------------------\n",
      "mensaje enviado a la API de facebook:\n",
      " {'recipient_id': '3812585132088508', 'message_id': 'm_9BJW3VMLmNFZCVi0pMwEtoDIHsg4Bwph1PFsDRmK-uEKtklw1jdHUwM3d1bNmDE5D7WzQ5OcdRgnPUpbpbOhnQ'}\n",
      " [.] Got %r None\n",
      "\n",
      "_________________________________________________________________________________________________________________________\n",
      "Mesaje de la API de Facebook-> \n",
      " {'object': 'page', 'entry': [{'id': '430761350747124', 'time': 1601658914797, 'messaging': [{'sender': {'id': '3812585132088508'}, 'recipient': {'id': '430761350747124'}, 'timestamp': 1601658914908, 'read': {'watermark': 1601658912979}}]}]}\n",
      "\n",
      "________________________________________read _______________________________________________________________________________\n",
      "Mensaje enviado al Nucleo Logico Read->  {\"payload\": {\"robot\": \"none\", \"id_face\": \"430761350747124\", \"recipient_id\": \"3812585132088508\", \"access_token\": \"none\", \"content\": \"\", \"type_resp\": \"read\", \"state\": \"none\", \"blocktype\": \"none\", \"opciones\": \"none\", \"entities\": {}}}"
     ]
    },
    {
     "name": "stderr",
     "output_type": "stream",
     "text": [
      "127.0.0.1 - - [02/Oct/2020 12:15:19] \"POST /apiREST/v1 HTTP/1.1\" 200 -\n"
     ]
    },
    {
     "name": "stdout",
     "output_type": "stream",
     "text": [
      "\n",
      "hilo consume\n",
      "b'{\"Respuesta\": {\"content\": \"Un asistente virtual para atenci\\\\u00f3n ciudadana puedo responder dudas sobre tu agua potable\", \"next_id\": \"next\", \"blockType\": \"informativo\", \"contentType\": \"text\", \"typingTime\": \"3\", \"payload\": {\"content\": \"\", \"state\": \"mensajesIntroduccion_01inicial_inicial\", \"recipient_id\": \"3812585132088508\", \"entities\": {}, \"access_token\": \"EAAJjZAQWaAbgBAAxC53jaIzoxSpgY3qZBc0pYDlb5g3E58pTJ35vAzrsZBVSyiYPhpgZB3ZAeNqx18ImA0LZCcsqL96hFDqsE9fcXUk52ofVsqWeerVDKp0cGo2wvohq5ISdkCUX7ZByd4c80Y6BstQYbe5noQhC8L7wdtMuKyZAAgZDZD\"}}}'\n",
      "\n",
      "_________________________________________________________________________________________________________________________\n",
      "Respuesta del Nucleo Logico->  {'Respuesta': {'content': 'Un asistente virtual para atención ciudadana puedo responder dudas sobre tu agua potable', 'next_id': 'next', 'blockType': 'informativo', 'contentType': 'text', 'typingTime': '3', 'payload': {'content': '', 'state': 'mensajesIntroduccion_01inicial_inicial', 'recipient_id': '3812585132088508', 'entities': {}, 'access_token': 'EAAJjZAQWaAbgBAAxC53jaIzoxSpgY3qZBc0pYDlb5g3E58pTJ35vAzrsZBVSyiYPhpgZB3ZAeNqx18ImA0LZCcsqL96hFDqsE9fcXUk52ofVsqWeerVDKp0cGo2wvohq5ISdkCUX7ZByd4c80Y6BstQYbe5noQhC8L7wdtMuKyZAAgZDZD'}}}\n",
      "\n",
      "---------------------------------------------------------------------------\n",
      "mensaje enviado a la API de facebook:\n",
      " {'recipient_id': '3812585132088508', 'message_id': 'm_1vd0Gu-0DNIWZVaBK7O39YDIHsg4Bwph1PFsDRmK-uGZyUcxd5-LCpoiFC4VXHlzD31zIYu6UCVqm8Mnt4KgBg'}\n",
      " [.] Got %r None\n",
      "\n",
      "_________________________________________________________________________________________________________________________\n",
      "Mesaje de la API de Facebook-> \n",
      " {'object': 'page', 'entry': [{'id': '430761350747124', 'time': 1601658925881, 'messaging': [{'sender': {'id': '3812585132088508'}, 'recipient': {'id': '430761350747124'}, 'timestamp': 1601658925994, 'read': {'watermark': 1601658924134}}]}]}\n",
      "\n",
      "________________________________________read _______________________________________________________________________________"
     ]
    },
    {
     "name": "stderr",
     "output_type": "stream",
     "text": [
      "127.0.0.1 - - [02/Oct/2020 12:15:31] \"POST /apiREST/v1 HTTP/1.1\" 200 -\n"
     ]
    },
    {
     "name": "stdout",
     "output_type": "stream",
     "text": [
      "\n",
      "Mensaje enviado al Nucleo Logico Read->  {\"payload\": {\"robot\": \"none\", \"id_face\": \"430761350747124\", \"recipient_id\": \"3812585132088508\", \"access_token\": \"none\", \"content\": \"\", \"type_resp\": \"read\", \"state\": \"none\", \"blocktype\": \"none\", \"opciones\": \"none\", \"entities\": {}}}\n",
      "hilo consume\n",
      "b'{\"Respuesta\": {\"content\": \"Te gustar\\\\u00eda saber c\\\\u00f3mo utilizarme\", \"next_id\": \"next\", \"blockType\": \"informativo\", \"contentType\": \"text\", \"typingTime\": \"3\", \"payload\": {\"content\": \"\", \"state\": \"mensajesIntroduccion_01inicial_inicial\", \"recipient_id\": \"3812585132088508\", \"entities\": {}, \"access_token\": \"EAAJjZAQWaAbgBAAxC53jaIzoxSpgY3qZBc0pYDlb5g3E58pTJ35vAzrsZBVSyiYPhpgZB3ZAeNqx18ImA0LZCcsqL96hFDqsE9fcXUk52ofVsqWeerVDKp0cGo2wvohq5ISdkCUX7ZByd4c80Y6BstQYbe5noQhC8L7wdtMuKyZAAgZDZD\"}}}'\n",
      "\n",
      "_________________________________________________________________________________________________________________________\n",
      "Respuesta del Nucleo Logico->  {'Respuesta': {'content': 'Te gustaría saber cómo utilizarme', 'next_id': 'next', 'blockType': 'informativo', 'contentType': 'text', 'typingTime': '3', 'payload': {'content': '', 'state': 'mensajesIntroduccion_01inicial_inicial', 'recipient_id': '3812585132088508', 'entities': {}, 'access_token': 'EAAJjZAQWaAbgBAAxC53jaIzoxSpgY3qZBc0pYDlb5g3E58pTJ35vAzrsZBVSyiYPhpgZB3ZAeNqx18ImA0LZCcsqL96hFDqsE9fcXUk52ofVsqWeerVDKp0cGo2wvohq5ISdkCUX7ZByd4c80Y6BstQYbe5noQhC8L7wdtMuKyZAAgZDZD'}}}\n",
      "\n",
      "---------------------------------------------------------------------------\n",
      "mensaje enviado a la API de facebook:\n",
      " {'recipient_id': '3812585132088508', 'message_id': 'm_JQp1cn4KKSsEHkB4diB_CYDIHsg4Bwph1PFsDRmK-uEWboAY1WL9iOOkq-aE9aRGAg4hvCk4pQ_O0R9hMHOuIQ'}\n",
      " [.] Got %r None\n",
      "\n",
      "_________________________________________________________________________________________________________________________\n",
      "Mesaje de la API de Facebook-> \n",
      " {'object': 'page', 'entry': [{'id': '430761350747124', 'time': 1601658942234, 'messaging': [{'sender': {'id': '3812585132088508'}, 'recipient': {'id': '430761350747124'}, 'timestamp': 1601658942347, 'read': {'watermark': 1601658941853}}]}]}\n"
     ]
    },
    {
     "name": "stderr",
     "output_type": "stream",
     "text": [
      "127.0.0.1 - - [02/Oct/2020 12:15:48] \"POST /apiREST/v1 HTTP/1.1\" 200 -\n"
     ]
    },
    {
     "name": "stdout",
     "output_type": "stream",
     "text": [
      "\n",
      "________________________________________read _______________________________________________________________________________\n",
      "Mensaje enviado al Nucleo Logico Read->  {\"payload\": {\"robot\": \"none\", \"id_face\": \"430761350747124\", \"recipient_id\": \"3812585132088508\", \"access_token\": \"none\", \"content\": \"\", \"type_resp\": \"read\", \"state\": \"none\", \"blocktype\": \"none\", \"opciones\": \"none\", \"entities\": {}}}\n",
      "hilo consume\n",
      "b'{\"Respuesta\": {\"content\": \"Toca uno de los botones azules para saber tu elecci\\\\u00f3n\", \"next_id\": \"mensajesIntroduccion2_01inicial_inicial,mensajePreMenu_01inicial_inicial\", \"blockType\": \"quickReply\", \"contentType\": \" \", \"typingTime\": \"5\", \"payload\": {\"content\": \"\", \"state\": \"menuIntroduccion_01inicial_inicial\", \"recipient_id\": \"3812585132088508\", \"entities\": {}, \"access_token\": \"EAAJjZAQWaAbgBAAxC53jaIzoxSpgY3qZBc0pYDlb5g3E58pTJ35vAzrsZBVSyiYPhpgZB3ZAeNqx18ImA0LZCcsqL96hFDqsE9fcXUk52ofVsqWeerVDKp0cGo2wvohq5ISdkCUX7ZByd4c80Y6BstQYbe5noQhC8L7wdtMuKyZAAgZDZD\"}, \"options\": [\"\\\\u00a1ok veamos!\", \"Prefiero ir al men\\\\u00fa\"], \"default_id\": \"mensajePreMenu_01inicial_inicial\", \"save_var\": \"0\"}}'\n",
      "\n",
      "_________________________________________________________________________________________________________________________\n",
      "Respuesta del Nucleo Logico->  {'Respuesta': {'content': 'Toca uno de los botones azules para saber tu elección', 'next_id': 'mensajesIntroduccion2_01inicial_inicial,mensajePreMenu_01inicial_inicial', 'blockType': 'quickReply', 'contentType': ' ', 'typingTime': '5', 'payload': {'content': '', 'state': 'menuIntroduccion_01inicial_inicial', 'recipient_id': '3812585132088508', 'entities': {}, 'access_token': 'EAAJjZAQWaAbgBAAxC53jaIzoxSpgY3qZBc0pYDlb5g3E58pTJ35vAzrsZBVSyiYPhpgZB3ZAeNqx18ImA0LZCcsqL96hFDqsE9fcXUk52ofVsqWeerVDKp0cGo2wvohq5ISdkCUX7ZByd4c80Y6BstQYbe5noQhC8L7wdtMuKyZAAgZDZD'}, 'options': ['¡ok veamos!', 'Prefiero ir al menú'], 'default_id': 'mensajePreMenu_01inicial_inicial', 'save_var': '0'}}\n",
      "\n",
      "---------------------------------------------------------------------------\n",
      "mensaje enviado a la API de facebook:\n",
      " {'recipient_id': '3812585132088508', 'message_id': 'm_yE2n4Xl3eTNnaUaWR0ywZYDIHsg4Bwph1PFsDRmK-uHL6Kdpt1kdXqdtXbfedUZZGFtOsElR0s1tx2Y2YdLGcg'}\n",
      " [.] Got %r None\n",
      "\n",
      "_________________________________________________________________________________________________________________________\n",
      "Mesaje de la API de Facebook-> \n",
      " {'object': 'page', 'entry': [{'id': '430761350747124', 'time': 1601658964331, 'messaging': [{'sender': {'id': '3812585132088508'}, 'recipient': {'id': '430761350747124'}, 'timestamp': 1601658964471, 'read': {'watermark': 1601658963168}}]}]}\n",
      "\n",
      "_________________________________________________________________________________________________________________________\n",
      "Mesaje de la API de Facebook-> \n",
      " {'object': 'page', 'entry': [{'id': '430761350747124', 'time': 1601658966662, 'messaging': [{'sender': {'id': '3812585132088508'}, 'recipient': {'id': '430761350747124'}, 'timestamp': 1601658966512, 'postback': {'title': '¡ok veamos!', 'payload': '¡ok veamos!'}}]}]}\n",
      "hilo consume\n",
      "\n",
      "______________________________________________no read__________________________________________________________________________\n"
     ]
    },
    {
     "name": "stderr",
     "output_type": "stream",
     "text": [
      "127.0.0.1 - - [02/Oct/2020 12:16:16] \"POST /apiREST/v1 HTTP/1.1\" 200 -\n"
     ]
    },
    {
     "name": "stdout",
     "output_type": "stream",
     "text": [
      "Mensaje enviado al Nucleo Logico-> b'{\"Respuesta\": {\"content\": \"Soy un robot que funciona con un sistema autom\\\\u00e1tico llamado inteligencia artificial.\", \"next_id\": \"next\", \"blockType\": \"informativo\", \"contentType\": \"text\", \"typingTime\": \"3\", \"payload\": {\"content\": \"\", \"state\": \"mensajesIntroduccion2_01inicial_inicial\", \"recipient_id\": \"3812585132088508\", \"entities\": {\"qr_menuIntro\": \"\\\\u00a1ok veamos!\"}, \"access_token\": \"EAAJjZAQWaAbgBAAxC53jaIzoxSpgY3qZBc0pYDlb5g3E58pTJ35vAzrsZBVSyiYPhpgZB3ZAeNqx18ImA0LZCcsqL96hFDqsE9fcXUk52ofVsqWeerVDKp0cGo2wvohq5ISdkCUX7ZByd4c80Y6BstQYbe5noQhC8L7wdtMuKyZAAgZDZD\"}}}'\n",
      "\n",
      "_________________________________________________________________________________________________________________________\n",
      "Respuesta del Nucleo Logico->  {'Respuesta': {'content': 'Soy un robot que funciona con un sistema automático llamado inteligencia artificial.', 'next_id': 'next', 'blockType': 'informativo', 'contentType': 'text', 'typingTime': '3', 'payload': {'content': '', 'state': 'mensajesIntroduccion2_01inicial_inicial', 'recipient_id': '3812585132088508', 'entities': {'qr_menuIntro': '¡ok veamos!'}, 'access_token': 'EAAJjZAQWaAbgBAAxC53jaIzoxSpgY3qZBc0pYDlb5g3E58pTJ35vAzrsZBVSyiYPhpgZB3ZAeNqx18ImA0LZCcsqL96hFDqsE9fcXUk52ofVsqWeerVDKp0cGo2wvohq5ISdkCUX7ZByd4c80Y6BstQYbe5noQhC8L7wdtMuKyZAAgZDZD'}}}\n",
      " {\"payload\": {\"robot\": \"none\", \"id_face\": \"430761350747124\", \"recipient_id\": \"3812585132088508\", \"access_token\": \"none\", \"content\": \"\\u00a1ok veamos!\", \"type_resp\": \"postback\", \"state\": \"none\", \"blocktype\": \"none\", \"opciones\": \"none\", \"entities\": {}}}\n",
      "\n",
      "________________________________________read _______________________________________________________________________________\n",
      "Mensaje enviado al Nucleo Logico Read->  {\"payload\": {\"robot\": \"none\", \"id_face\": \"430761350747124\", \"recipient_id\": \"3812585132088508\", \"access_token\": \"none\", \"content\": \"\", \"type_resp\": \"read\", \"state\": \"none\", \"blocktype\": \"none\", \"opciones\": \"none\", \"entities\": {}}}\n",
      "hilo consume\n",
      "b'{\"Respuesta\": {\"content\": \"Cada vez que escribas intentare entenderte si algo se me dificulta siempre podre contactarte con un humano.\", \"next_id\": \"next\", \"blockType\": \"informativo\", \"contentType\": \"text\", \"typingTime\": \"3\", \"payload\": {\"content\": \"\", \"state\": \"mensajesIntroduccion2_01inicial_inicial\", \"recipient_id\": \"3812585132088508\", \"entities\": {\"qr_menuIntro\": \"\\\\u00a1ok veamos!\"}, \"access_token\": \"EAAJjZAQWaAbgBAAxC53jaIzoxSpgY3qZBc0pYDlb5g3E58pTJ35vAzrsZBVSyiYPhpgZB3ZAeNqx18ImA0LZCcsqL96hFDqsE9fcXUk52ofVsqWeerVDKp0cGo2wvohq5ISdkCUX7ZByd4c80Y6BstQYbe5noQhC8L7wdtMuKyZAAgZDZD\"}}}'\n",
      "\n",
      "_________________________________________________________________________________________________________________________\n",
      "Respuesta del Nucleo Logico->  {'Respuesta': {'content': 'Cada vez que escribas intentare entenderte si algo se me dificulta siempre podre contactarte con un humano.', 'next_id': 'next', 'blockType': 'informativo', 'contentType': 'text', 'typingTime': '3', 'payload': {'content': '', 'state': 'mensajesIntroduccion2_01inicial_inicial', 'recipient_id': '3812585132088508', 'entities': {'qr_menuIntro': '¡ok veamos!'}, 'access_token': 'EAAJjZAQWaAbgBAAxC53jaIzoxSpgY3qZBc0pYDlb5g3E58pTJ35vAzrsZBVSyiYPhpgZB3ZAeNqx18ImA0LZCcsqL96hFDqsE9fcXUk52ofVsqWeerVDKp0cGo2wvohq5ISdkCUX7ZByd4c80Y6BstQYbe5noQhC8L7wdtMuKyZAAgZDZD'}}}\n"
     ]
    },
    {
     "name": "stderr",
     "output_type": "stream",
     "text": [
      "127.0.0.1 - - [02/Oct/2020 12:16:17] \"POST /apiREST/v1 HTTP/1.1\" 200 -\n"
     ]
    },
    {
     "name": "stdout",
     "output_type": "stream",
     "text": [
      "\n",
      "---------------------------------------------------------------------------\n",
      "mensaje enviado a la API de facebook:\n",
      " {'recipient_id': '3812585132088508', 'message_id': 'm_Ocz9LarlngWc3J5ymeEDRoDIHsg4Bwph1PFsDRmK-uFaJrGqpnM36fsCWx5eEXFAwPy7L4UnPBUBQOqoKGyEDw'}\n",
      " [.] Got %r None\n",
      "\n",
      "---------------------------------------------------------------------------\n",
      "mensaje enviado a la API de facebook:\n",
      " {'recipient_id': '3812585132088508', 'message_id': 'm_LRM4Ko0xYeCETyJo7azXDIDIHsg4Bwph1PFsDRmK-uE4RzmUOIKQChZdn-UNGqNv2TnsEleTcdd-b0WrXNx6_Q'}\n",
      " [.] Got %r None\n",
      "\n",
      "_________________________________________________________________________________________________________________________\n",
      "Mesaje de la API de Facebook-> \n",
      " {'object': 'page', 'entry': [{'id': '430761350747124', 'time': 1601658983034, 'messaging': [{'sender': {'id': '3812585132088508'}, 'recipient': {'id': '430761350747124'}, 'timestamp': 1601658983209, 'read': {'watermark': 1601658982763}}]}]}\n",
      "\n",
      "________________________________________read _______________________________________________________________________________\n",
      "Mensaje enviado al Nucleo Logico Read->  {\"payload\": {\"robot\": \"none\", \"id_face\": \"430761350747124\", \"recipient_id\": \"3812585132088508\", \"access_token\": \"none\", \"content\": \"\", \"type_resp\": \"read\", \"state\": \"none\", \"blocktype\": \"none\", \"opciones\": \"none\", \"entities\": {}}}\n",
      "hilo consume\n",
      "b'{\"Respuesta\": {\"content\": \"\\\\u00bfQu\\\\u00e9 deseas hacer?\", \"next_id\": \"NLPpersonalidad_01inicial_inicial\", \"blockType\": \"input\", \"contentType\": \"text\", \"typingTime\": \"1\", \"payload\": {\"content\": \"\", \"state\": \"pregunta_01inicial_inicial\", \"recipient_id\": \"3812585132088508\", \"entities\": {\"qr_menuIntro\": \"\\\\u00a1ok veamos!\"}, \"access_token\": \"EAAJjZAQWaAbgBAAxC53jaIzoxSpgY3qZBc0pYDlb5g3E58pTJ35vAzrsZBVSyiYPhpgZB3ZAeNqx18ImA0LZCcsqL96hFDqsE9fcXUk52ofVsqWeerVDKp0cGo2wvohq5ISdkCUX7ZByd4c80Y6BstQYbe5noQhC8L7wdtMuKyZAAgZDZD\"}, \"validacion\": \".*\", \"default_id\": \"NLPpersonalidad_01inicial_inicial\"}}'\n",
      "\n",
      "_________________________________________________________________________________________________________________________\n",
      "Respuesta del Nucleo Logico->  {'Respuesta': {'content': '¿Qué deseas hacer?', 'next_id': 'NLPpersonalidad_01inicial_inicial', 'blockType': 'input', 'contentType': 'text', 'typingTime': '1', 'payload': {'content': '', 'state': 'pregunta_01inicial_inicial', 'recipient_id': '3812585132088508', 'entities': {'qr_menuIntro': '¡ok veamos!'}, 'access_token': 'EAAJjZAQWaAbgBAAxC53jaIzoxSpgY3qZBc0pYDlb5g3E58pTJ35vAzrsZBVSyiYPhpgZB3ZAeNqx18ImA0LZCcsqL96hFDqsE9fcXUk52ofVsqWeerVDKp0cGo2wvohq5ISdkCUX7ZByd4c80Y6BstQYbe5noQhC8L7wdtMuKyZAAgZDZD'}, 'validacion': '.*', 'default_id': 'NLPpersonalidad_01inicial_inicial'}}\n"
     ]
    },
    {
     "name": "stderr",
     "output_type": "stream",
     "text": [
      "127.0.0.1 - - [02/Oct/2020 12:16:29] \"POST /apiREST/v1 HTTP/1.1\" 200 -\n"
     ]
    },
    {
     "name": "stdout",
     "output_type": "stream",
     "text": [
      "\n",
      "---------------------------------------------------------------------------\n",
      "mensaje enviado a la API de facebook:\n",
      " {'recipient_id': '3812585132088508', 'message_id': 'm_l7qH9zAcSqfA_R67gXlyh4DIHsg4Bwph1PFsDRmK-uFCF4WgUgRSlg2SG8zKyhqxrqkuNv5-QalTFYlf9T-4iA'}\n",
      " [.] Got %r None\n",
      "\n",
      "_________________________________________________________________________________________________________________________\n",
      "Mesaje de la API de Facebook-> \n",
      " {'object': 'page', 'entry': [{'id': '430761350747124', 'time': 1601658996761, 'messaging': [{'sender': {'id': '3812585132088508'}, 'recipient': {'id': '430761350747124'}, 'timestamp': 1601658996859, 'read': {'watermark': 1601658995291}}]}]}\n",
      "\n",
      "_________________________________________________________________________________________________________________________\n",
      "\n",
      "________________________________________read _______________________________________________________________________________"
     ]
    },
    {
     "name": "stderr",
     "output_type": "stream",
     "text": [
      "127.0.0.1 - - [02/Oct/2020 12:16:46] \"POST /apiREST/v1 HTTP/1.1\" 200 -\n"
     ]
    },
    {
     "name": "stdout",
     "output_type": "stream",
     "text": [
      "\n",
      "Mesaje de la API de Facebook-> \n",
      " Mensaje enviado al Nucleo Logico Read->  {\"payload\": {\"robot\": \"none\", \"id_face\": \"430761350747124\", \"recipient_id\": \"3812585132088508\", \"access_token\": \"none\", \"content\": \"\", \"type_resp\": \"read\", \"state\": \"none\", \"blocktype\": \"none\", \"opciones\": \"none\", \"entities\": {}}}\n",
      "{'object': 'page', 'entry': [{'id': '430761350747124', 'time': 1601659004234, 'messaging': [{'sender': {'id': '3812585132088508'}, 'recipient': {'id': '430761350747124'}, 'timestamp': 1601659004138, 'message': {'mid': 'm_ET8mTMRtY-S9U4BHqw4vvIDIHsg4Bwph1PFsDRmK-uHSIp-cP62kij92HZ-q23UX7BGnYrtDUnRsqGed2HczJw', 'text': 'pruebas'}}]}]}hilo consume\n",
      "b'{\"payload\": {\"robot\": 339, \"id_face\": \"430761350747124\", \"recipient_id\": \"3812585132088508\", \"access_token\": \"EAAJjZAQWaAbgBAAxC53jaIzoxSpgY3qZBc0pYDlb5g3E58pTJ35vAzrsZBVSyiYPhpgZB3ZAeNqx18ImA0LZCcsqL96hFDqsE9fcXUk52ofVsqWeerVDKp0cGo2wvohq5ISdkCUX7ZByd4c80Y6BstQYbe5noQhC8L7wdtMuKyZAAgZDZD\", \"content\": \"\", \"type_resp\": \"read\", \"state\": \"none\", \"blocktype\": \"none\", \"opciones\": \"none\", \"entities\": {}}}'\n",
      "\n",
      " [.] Got %r None\n"
     ]
    },
    {
     "name": "stderr",
     "output_type": "stream",
     "text": [
      "127.0.0.1 - - [02/Oct/2020 12:16:57] \"POST /apiREST/v1 HTTP/1.1\" 200 -\n"
     ]
    },
    {
     "name": "stdout",
     "output_type": "stream",
     "text": [
      "hilo consume\n",
      "\n",
      "______________________________________________no read__________________________________________________________________________\n",
      "Mensaje enviado al Nucleo Logico->  {\"payload\": {\"robot\": \"none\", \"id_face\": \"430761350747124\", \"recipient_id\": \"3812585132088508\", \"access_token\": \"none\", \"content\": \"pruebas\", \"type_resp\": \"message\", \"state\": \"none\", \"blocktype\": \"none\", \"opciones\": \"none\", \"entities\": {}}}\n",
      "b'{\"Respuesta\": {\"content\": \"\\\\u00bfQu\\\\u00e9 te gustar\\\\u00eda hacer?\", \"next_id\": \"next\", \"blockType\": \"informativo\", \"contentType\": \"text\", \"typingTime\": \"3\", \"payload\": {\"content\": \"\", \"state\": \"mensajePreMenu_01inicial_inicial\", \"recipient_id\": \"3812585132088508\", \"entities\": {\"qr_menuIntro\": \"\\\\u00a1ok veamos!\", \"var_pregunta\": \"pruebas\"}, \"access_token\": \"EAAJjZAQWaAbgBAAxC53jaIzoxSpgY3qZBc0pYDlb5g3E58pTJ35vAzrsZBVSyiYPhpgZB3ZAeNqx18ImA0LZCcsqL96hFDqsE9fcXUk52ofVsqWeerVDKp0cGo2wvohq5ISdkCUX7ZByd4c80Y6BstQYbe5noQhC8L7wdtMuKyZAAgZDZD\"}}}'\n",
      "\n",
      "_________________________________________________________________________________________________________________________\n",
      "Respuesta del Nucleo Logico->  {'Respuesta': {'content': '¿Qué te gustaría hacer?', 'next_id': 'next', 'blockType': 'informativo', 'contentType': 'text', 'typingTime': '3', 'payload': {'content': '', 'state': 'mensajePreMenu_01inicial_inicial', 'recipient_id': '3812585132088508', 'entities': {'qr_menuIntro': '¡ok veamos!', 'var_pregunta': 'pruebas'}, 'access_token': 'EAAJjZAQWaAbgBAAxC53jaIzoxSpgY3qZBc0pYDlb5g3E58pTJ35vAzrsZBVSyiYPhpgZB3ZAeNqx18ImA0LZCcsqL96hFDqsE9fcXUk52ofVsqWeerVDKp0cGo2wvohq5ISdkCUX7ZByd4c80Y6BstQYbe5noQhC8L7wdtMuKyZAAgZDZD'}}}\n",
      "\n",
      "---------------------------------------------------------------------------\n",
      "mensaje enviado a la API de facebook:\n",
      " {'recipient_id': '3812585132088508', 'message_id': 'm_tidGUU87Va9igpcwgcS36IDIHsg4Bwph1PFsDRmK-uEjqpRHOHsJhrtg2SymxJ1HYA3yf--1tvtPNFhPkyc_vA'}\n",
      " [.] Got %r None\n",
      "\n",
      "_________________________________________________________________________________________________________________________\n",
      "Mesaje de la API de Facebook-> \n",
      " {'object': 'page', 'entry': [{'id': '430761350747124', 'time': 1601659038501, 'messaging': [{'sender': {'id': '3812585132088508'}, 'recipient': {'id': '430761350747124'}, 'timestamp': 1601659038631, 'read': {'watermark': 1601659034623}}]}]}\n",
      "\n",
      "________________________________________read _______________________________________________________________________________\n",
      "Mensaje enviado al Nucleo Logico Read->  {\"payload\": {\"robot\": \"none\", \"id_face\": \"430761350747124\", \"recipient_id\": \"3812585132088508\", \"access_token\": \"none\", \"content\": \"\", \"type_resp\": \"read\", \"state\": \"none\", \"blocktype\": \"none\", \"opciones\": \"none\", \"entities\": {}}}\n"
     ]
    },
    {
     "name": "stderr",
     "output_type": "stream",
     "text": [
      "127.0.0.1 - - [02/Oct/2020 12:17:23] \"POST /apiREST/v1 HTTP/1.1\" 200 -\n"
     ]
    },
    {
     "name": "stdout",
     "output_type": "stream",
     "text": [
      "hilo consume\n",
      "\n",
      "_________________________________________________________________________________________________________________________\n",
      "Mesaje de la API de Facebook-> \n",
      " {'object': 'page', 'entry': [{'id': '430761350747124', 'time': 1601659472992, 'messaging': [{'sender': {'id': '3812585132088508'}, 'recipient': {'id': '430761350747124'}, 'timestamp': 1601659472893, 'message': {'mid': 'm_KntvnAdgGDeWUVTN7ctLBYDIHsg4Bwph1PFsDRmK-uGvI8EAMw_78J633sr4sQ_bMmZN6PKq_jo9YI0CZBG1bw', 'text': 'dormir'}}]}]}\n"
     ]
    },
    {
     "name": "stderr",
     "output_type": "stream",
     "text": [
      "127.0.0.1 - - [02/Oct/2020 12:24:43] \"POST /apiREST/v1 HTTP/1.1\" 200 -\n"
     ]
    },
    {
     "name": "stdout",
     "output_type": "stream",
     "text": [
      "hilo consume\n",
      "______________________________________________no read__________________________________________________________________________\n",
      "Mensaje enviado al Nucleo Logico-> \n",
      " {\"payload\": {\"robot\": \"none\", \"id_face\": \"430761350747124\", \"recipient_id\": \"3812585132088508\", \"access_token\": \"none\", \"content\": \"dormir\", \"type_resp\": \"message\", \"state\": \"none\", \"blocktype\": \"none\", \"opciones\": \"none\", \"entities\": {}}}\n",
      "b'{\"Respuesta\": {\"content\": \"Selecciona una opci\\\\u00f3n\", \"next_id\": \"mensajesIntroduccion_01inicial_inicial,infoEdad_01inicial_inicial,infoColor_01inicial_inicial\", \"blockType\": \"quickReply\", \"contentType\": \" \", \"typingTime\": \"3\", \"payload\": {\"content\": \"\", \"state\": \"qrPersonalidad_01inicial_inicial\", \"recipient_id\": \"3812585132088508\", \"entities\": {\"qr_menuIntro\": \"\\\\u00a1ok veamos!\", \"var_pregunta\": \"pruebas\"}, \"access_token\": \"EAAJjZAQWaAbgBAAxC53jaIzoxSpgY3qZBc0pYDlb5g3E58pTJ35vAzrsZBVSyiYPhpgZB3ZAeNqx18ImA0LZCcsqL96hFDqsE9fcXUk52ofVsqWeerVDKp0cGo2wvohq5ISdkCUX7ZByd4c80Y6BstQYbe5noQhC8L7wdtMuKyZAAgZDZD\"}, \"options\": [\"\\\\u00bfCon qui\\\\u00e9n estoy hablando?\", \"\\\\u00bfQu\\\\u00e9 edad tienes?\", \"\\\\u00bfCu\\\\u00e1l es tu color favorito?\"], \"default_id\": \"NLPpersonalidad_01inicial_inicial\", \"save_var\": \"0\"}}'\n",
      "\n",
      "_________________________________________________________________________________________________________________________\n",
      "Respuesta del Nucleo Logico->  {'Respuesta': {'content': 'Selecciona una opción', 'next_id': 'mensajesIntroduccion_01inicial_inicial,infoEdad_01inicial_inicial,infoColor_01inicial_inicial', 'blockType': 'quickReply', 'contentType': ' ', 'typingTime': '3', 'payload': {'content': '', 'state': 'qrPersonalidad_01inicial_inicial', 'recipient_id': '3812585132088508', 'entities': {'qr_menuIntro': '¡ok veamos!', 'var_pregunta': 'pruebas'}, 'access_token': 'EAAJjZAQWaAbgBAAxC53jaIzoxSpgY3qZBc0pYDlb5g3E58pTJ35vAzrsZBVSyiYPhpgZB3ZAeNqx18ImA0LZCcsqL96hFDqsE9fcXUk52ofVsqWeerVDKp0cGo2wvohq5ISdkCUX7ZByd4c80Y6BstQYbe5noQhC8L7wdtMuKyZAAgZDZD'}, 'options': ['¿Con quién estoy hablando?', '¿Qué edad tienes?', '¿Cuál es tu color favorito?'], 'default_id': 'NLPpersonalidad_01inicial_inicial', 'save_var': '0'}}\n",
      "\n",
      "_________________________________________________________________________________________________________________________\n",
      "Mesaje de la API de Facebook-> \n",
      " {'object': 'page', 'entry': [{'id': '430761350747124', 'time': 1601659491683, 'messaging': [{'sender': {'id': '3812585132088508'}, 'recipient': {'id': '430761350747124'}, 'timestamp': 1601659491846, 'read': {'watermark': 1601659491295}}]}]}\n",
      "\n",
      "---------------------------------------------------------------------------\n",
      "mensaje enviado a la API de facebook:\n",
      " {'recipient_id': '3812585132088508', 'message_id': 'm_wCUgMmLLsNvUxas3mp7z-oDIHsg4Bwph1PFsDRmK-uFldCph-fOM7Ni58Czd-gGijd2yuBjSHzir7Ud0v8-6OA'}\n",
      " [.] Got %r None\n",
      "\n",
      "_________________________________________________________________________________________________________________________\n",
      "Mesaje de la API de Facebook-> \n",
      " {'object': 'page', 'entry': [{'id': '430761350747124', 'time': 1601659497257, 'messaging': [{'sender': {'id': '3812585132088508'}, 'recipient': {'id': '430761350747124'}, 'timestamp': 1601659497091, 'postback': {'title': '¿Con quién estoy hablan...', 'payload': '¿Con quién estoy hablando?'}}]}]}\n"
     ]
    },
    {
     "name": "stderr",
     "output_type": "stream",
     "text": [
      "127.0.0.1 - - [02/Oct/2020 12:24:58] \"POST /apiREST/v1 HTTP/1.1\" 200 -\n"
     ]
    },
    {
     "name": "stdout",
     "output_type": "stream",
     "text": [
      "\n",
      "________________________________________read _______________________________________________________________________________\n",
      "Mensaje enviado al Nucleo Logico Read->  {\"payload\": {\"robot\": \"none\", \"id_face\": \"430761350747124\", \"recipient_id\": \"3812585132088508\", \"access_token\": \"none\", \"content\": \"\", \"type_resp\": \"read\", \"state\": \"none\", \"blocktype\": \"none\", \"opciones\": \"none\", \"entities\": {}}}\n",
      "hilo consume\n",
      "b'{\"payload\": {\"robot\": 339, \"id_face\": \"430761350747124\", \"recipient_id\": \"3812585132088508\", \"access_token\": \"EAAJjZAQWaAbgBAAxC53jaIzoxSpgY3qZBc0pYDlb5g3E58pTJ35vAzrsZBVSyiYPhpgZB3ZAeNqx18ImA0LZCcsqL96hFDqsE9fcXUk52ofVsqWeerVDKp0cGo2wvohq5ISdkCUX7ZByd4c80Y6BstQYbe5noQhC8L7wdtMuKyZAAgZDZD\", \"content\": \"\", \"type_resp\": \"read\", \"state\": \"none\", \"blocktype\": \"none\", \"opciones\": \"none\", \"entities\": {}}}'\n",
      " [.] Got %r None\n",
      "hilo consume\n",
      "\n",
      "______________________________________________no read__________________________________________________________________________\n"
     ]
    },
    {
     "name": "stderr",
     "output_type": "stream",
     "text": [
      "127.0.0.1 - - [02/Oct/2020 12:25:08] \"POST /apiREST/v1 HTTP/1.1\" 200 -\n"
     ]
    },
    {
     "name": "stdout",
     "output_type": "stream",
     "text": [
      "Mensaje enviado al Nucleo Logico->  {\"payload\": {\"robot\": \"none\", \"id_face\": \"430761350747124\", \"recipient_id\": \"3812585132088508\", \"access_token\": \"none\", \"content\": \"\\u00bfCon qui\\u00e9n estoy hablando?\", \"type_resp\": \"postback\", \"state\": \"none\", \"blocktype\": \"none\", \"opciones\": \"none\", \"entities\": {}}}\n",
      "b'{\"Respuesta\": {\"content\": \"\\\\u00a1Hola! Soy Niza.\", \"next_id\": \"next\", \"blockType\": \"informativo\", \"contentType\": \"text\", \"typingTime\": \"3\", \"payload\": {\"content\": \"\", \"state\": \"mensajesIntroduccion_01inicial_inicial\", \"recipient_id\": \"3812585132088508\", \"entities\": {\"qr_menuIntro\": \"\\\\u00a1ok veamos!\", \"var_pregunta\": \"pruebas\", \"qr_personalidad\": \"\\\\u00bfCon qui\\\\u00e9n estoy hablando?\"}, \"access_token\": \"EAAJjZAQWaAbgBAAxC53jaIzoxSpgY3qZBc0pYDlb5g3E58pTJ35vAzrsZBVSyiYPhpgZB3ZAeNqx18ImA0LZCcsqL96hFDqsE9fcXUk52ofVsqWeerVDKp0cGo2wvohq5ISdkCUX7ZByd4c80Y6BstQYbe5noQhC8L7wdtMuKyZAAgZDZD\"}}}'\n",
      "\n",
      "_________________________________________________________________________________________________________________________\n",
      "Respuesta del Nucleo Logico->  {'Respuesta': {'content': '¡Hola! Soy Niza.', 'next_id': 'next', 'blockType': 'informativo', 'contentType': 'text', 'typingTime': '3', 'payload': {'content': '', 'state': 'mensajesIntroduccion_01inicial_inicial', 'recipient_id': '3812585132088508', 'entities': {'qr_menuIntro': '¡ok veamos!', 'var_pregunta': 'pruebas', 'qr_personalidad': '¿Con quién estoy hablando?'}, 'access_token': 'EAAJjZAQWaAbgBAAxC53jaIzoxSpgY3qZBc0pYDlb5g3E58pTJ35vAzrsZBVSyiYPhpgZB3ZAeNqx18ImA0LZCcsqL96hFDqsE9fcXUk52ofVsqWeerVDKp0cGo2wvohq5ISdkCUX7ZByd4c80Y6BstQYbe5noQhC8L7wdtMuKyZAAgZDZD'}}}\n",
      "\n",
      "---------------------------------------------------------------------------\n",
      "\n",
      "_________________________________________________________________________________________________________________________\n",
      "Mesaje de la API de Facebook-> \n",
      " {'object': 'page', 'entry': [{'id': '430761350747124', 'time': 1601659517463, 'messaging': [{'sender': {'id': '3812585132088508'}, 'recipient': {'id': '430761350747124'}, 'timestamp': 1601659517618, 'read': {'watermark': 1601659517173}}]}]}\n",
      "mensaje enviado a la API de facebook:\n",
      " {'recipient_id': '3812585132088508', 'message_id': 'm_25fjLWhNtQTUEDeOEbfEaYDIHsg4Bwph1PFsDRmK-uGkhBoZGOC7udmauRMPrq6d9ICUFbcPxrsIytb2DvDv7Q'}\n",
      " [.] Got %r None\n",
      "\n",
      "________________________________________read _______________________________________________________________________________\n",
      "Mensaje enviado al Nucleo Logico Read->  {\"payload\": {\"robot\": \"none\", \"id_face\": \"430761350747124\", \"recipient_id\": \"3812585132088508\", \"access_token\": \"none\", \"content\": \"\", \"type_resp\": \"read\", \"state\": \"none\", \"blocktype\": \"none\", \"opciones\": \"none\", \"entities\": {}}}\n",
      "hilo consume\n",
      "b'{\"Respuesta\": {\"content\": \"Un asistente virtual para atenci\\\\u00f3n ciudadana puedo responder dudas sobre tu agua potable\", \"next_id\": \"next\", \"blockType\": \"informativo\", \"contentType\": \"text\", \"typingTime\": \"3\", \"payload\": {\"content\": \"\", \"state\": \"mensajesIntroduccion_01inicial_inicial\", \"recipient_id\": \"3812585132088508\", \"entities\": {\"qr_menuIntro\": \"\\\\u00a1ok veamos!\", \"var_pregunta\": \"pruebas\", \"qr_personalidad\": \"\\\\u00bfCon qui\\\\u00e9n estoy hablando?\"}, \"access_token\": \"EAAJjZAQWaAbgBAAxC53jaIzoxSpgY3qZBc0pYDlb5g3E58pTJ35vAzrsZBVSyiYPhpgZB3ZAeNqx18ImA0LZCcsqL96hFDqsE9fcXUk52ofVsqWeerVDKp0cGo2wvohq5ISdkCUX7ZByd4c80Y6BstQYbe5noQhC8L7wdtMuKyZAAgZDZD\"}}}'\n",
      "\n",
      "_________________________________________________________________________________________________________________________\n",
      "Respuesta del Nucleo Logico->  {'Respuesta': {'content': 'Un asistente virtual para atención ciudadana puedo responder dudas sobre tu agua potable', 'next_id': 'next', 'blockType': 'informativo', 'contentType': 'text', 'typingTime': '3', 'payload': {'content': '', 'state': 'mensajesIntroduccion_01inicial_inicial', 'recipient_id': '3812585132088508', 'entities': {'qr_menuIntro': '¡ok veamos!', 'var_pregunta': 'pruebas', 'qr_personalidad': '¿Con quién estoy hablando?'}, 'access_token': 'EAAJjZAQWaAbgBAAxC53jaIzoxSpgY3qZBc0pYDlb5g3E58pTJ35vAzrsZBVSyiYPhpgZB3ZAeNqx18ImA0LZCcsqL96hFDqsE9fcXUk52ofVsqWeerVDKp0cGo2wvohq5ISdkCUX7ZByd4c80Y6BstQYbe5noQhC8L7wdtMuKyZAAgZDZD'}}}\n"
     ]
    },
    {
     "name": "stderr",
     "output_type": "stream",
     "text": [
      "127.0.0.1 - - [02/Oct/2020 12:25:33] \"POST /apiREST/v1 HTTP/1.1\" 200 -\n"
     ]
    },
    {
     "name": "stdout",
     "output_type": "stream",
     "text": [
      "\n",
      "---------------------------------------------------------------------------\n",
      "mensaje enviado a la API de facebook:\n",
      " {'recipient_id': '3812585132088508', 'message_id': 'm_vwqxUuF-ZQOG4YTdIKgsJIDIHsg4Bwph1PFsDRmK-uFD2rPFUgCyb5aeX81KeDo_GgAHsYqDaT-BZ8-1AMD7LA'}\n",
      " [.] Got %r None\n",
      "\n",
      "_________________________________________________________________________________________________________________________\n",
      "Mesaje de la API de Facebook-> \n",
      " {'object': 'page', 'entry': [{'id': '430761350747124', 'time': 1601659539283, 'messaging': [{'sender': {'id': '3812585132088508'}, 'recipient': {'id': '430761350747124'}, 'timestamp': 1601659539351, 'read': {'watermark': 1601659539028}}]}]}\n",
      "\n",
      "________________________________________read _______________________________________________________________________________\n",
      "Mensaje enviado al Nucleo Logico Read->  {\"payload\": {\"robot\": \"none\", \"id_face\": \"430761350747124\", \"recipient_id\": \"3812585132088508\", \"access_token\": \"none\", \"content\": \"\", \"type_resp\": \"read\", \"state\": \"none\", \"blocktype\": \"none\", \"opciones\": \"none\", \"entities\": {}}}\n",
      "hilo consume\n",
      "b'{\"Respuesta\": {\"content\": \"Te gustar\\\\u00eda saber c\\\\u00f3mo utilizarme\", \"next_id\": \"next\", \"blockType\": \"informativo\", \"contentType\": \"text\", \"typingTime\": \"3\", \"payload\": {\"content\": \"\", \"state\": \"mensajesIntroduccion_01inicial_inicial\", \"recipient_id\": \"3812585132088508\", \"entities\": {\"qr_menuIntro\": \"\\\\u00a1ok veamos!\", \"var_pregunta\": \"pruebas\", \"qr_personalidad\": \"\\\\u00bfCon qui\\\\u00e9n estoy hablando?\"}, \"access_token\": \"EAAJjZAQWaAbgBAAxC53jaIzoxSpgY3qZBc0pYDlb5g3E58pTJ35vAzrsZBVSyiYPhpgZB3ZAeNqx18ImA0LZCcsqL96hFDqsE9fcXUk52ofVsqWeerVDKp0cGo2wvohq5ISdkCUX7ZByd4c80Y6BstQYbe5noQhC8L7wdtMuKyZAAgZDZD\"}}}'"
     ]
    },
    {
     "name": "stderr",
     "output_type": "stream",
     "text": [
      "127.0.0.1 - - [02/Oct/2020 12:25:45] \"POST /apiREST/v1 HTTP/1.1\" 200 -\n"
     ]
    },
    {
     "name": "stdout",
     "output_type": "stream",
     "text": [
      "\n",
      "\n",
      "_________________________________________________________________________________________________________________________\n",
      "Respuesta del Nucleo Logico->  {'Respuesta': {'content': 'Te gustaría saber cómo utilizarme', 'next_id': 'next', 'blockType': 'informativo', 'contentType': 'text', 'typingTime': '3', 'payload': {'content': '', 'state': 'mensajesIntroduccion_01inicial_inicial', 'recipient_id': '3812585132088508', 'entities': {'qr_menuIntro': '¡ok veamos!', 'var_pregunta': 'pruebas', 'qr_personalidad': '¿Con quién estoy hablando?'}, 'access_token': 'EAAJjZAQWaAbgBAAxC53jaIzoxSpgY3qZBc0pYDlb5g3E58pTJ35vAzrsZBVSyiYPhpgZB3ZAeNqx18ImA0LZCcsqL96hFDqsE9fcXUk52ofVsqWeerVDKp0cGo2wvohq5ISdkCUX7ZByd4c80Y6BstQYbe5noQhC8L7wdtMuKyZAAgZDZD'}}}\n",
      "\n",
      "---------------------------------------------------------------------------\n",
      "mensaje enviado a la API de facebook:\n",
      " {'recipient_id': '3812585132088508', 'message_id': 'm_d83cSF7ltasBEckxe17jeYDIHsg4Bwph1PFsDRmK-uE6eg6F0jSIydlW29BArZAsho7f14S6ZIWAjFVDQw3u1w'}\n",
      " [.] Got %r None\n",
      "\n",
      "_________________________________________________________________________________________________________________________\n",
      "Mesaje de la API de Facebook-> \n",
      " {'object': 'page', 'entry': [{'id': '430761350747124', 'time': 1601659554883, 'messaging': [{'sender': {'id': '3812585132088508'}, 'recipient': {'id': '430761350747124'}, 'timestamp': 1601659555031, 'read': {'watermark': 1601659554441}}]}]}\n"
     ]
    },
    {
     "name": "stderr",
     "output_type": "stream",
     "text": [
      "127.0.0.1 - - [02/Oct/2020 12:25:58] \"POST /apiREST/v1 HTTP/1.1\" 200 -\n"
     ]
    },
    {
     "name": "stdout",
     "output_type": "stream",
     "text": [
      "\n",
      "________________________________________read _______________________________________________________________________________\n",
      "Mensaje enviado al Nucleo Logico Read->  {\"payload\": {\"robot\": \"none\", \"id_face\": \"430761350747124\", \"recipient_id\": \"3812585132088508\", \"access_token\": \"none\", \"content\": \"\", \"type_resp\": \"read\", \"state\": \"none\", \"blocktype\": \"none\", \"opciones\": \"none\", \"entities\": {}}}\n",
      "hilo consume\n",
      "b'{\"Respuesta\": {\"content\": \"Toca uno de los botones azules para saber tu elecci\\\\u00f3n\", \"next_id\": \"mensajesIntroduccion2_01inicial_inicial,mensajePreMenu_01inicial_inicial\", \"blockType\": \"quickReply\", \"contentType\": \" \", \"typingTime\": \"5\", \"payload\": {\"content\": \"\", \"state\": \"menuIntroduccion_01inicial_inicial\", \"recipient_id\": \"3812585132088508\", \"entities\": {\"qr_menuIntro\": \"\\\\u00a1ok veamos!\", \"var_pregunta\": \"pruebas\", \"qr_personalidad\": \"\\\\u00bfCon qui\\\\u00e9n estoy hablando?\"}, \"access_token\": \"EAAJjZAQWaAbgBAAxC53jaIzoxSpgY3qZBc0pYDlb5g3E58pTJ35vAzrsZBVSyiYPhpgZB3ZAeNqx18ImA0LZCcsqL96hFDqsE9fcXUk52ofVsqWeerVDKp0cGo2wvohq5ISdkCUX7ZByd4c80Y6BstQYbe5noQhC8L7wdtMuKyZAAgZDZD\"}, \"options\": [\"\\\\u00a1ok veamos!\", \"Prefiero ir al men\\\\u00fa\"], \"default_id\": \"mensajePreMenu_01inicial_inicial\", \"save_var\": \"\\\\u00a1ok veamos!\"}}'\n",
      "\n",
      "_________________________________________________________________________________________________________________________\n",
      "Respuesta del Nucleo Logico->  {'Respuesta': {'content': 'Toca uno de los botones azules para saber tu elección', 'next_id': 'mensajesIntroduccion2_01inicial_inicial,mensajePreMenu_01inicial_inicial', 'blockType': 'quickReply', 'contentType': ' ', 'typingTime': '5', 'payload': {'content': '', 'state': 'menuIntroduccion_01inicial_inicial', 'recipient_id': '3812585132088508', 'entities': {'qr_menuIntro': '¡ok veamos!', 'var_pregunta': 'pruebas', 'qr_personalidad': '¿Con quién estoy hablando?'}, 'access_token': 'EAAJjZAQWaAbgBAAxC53jaIzoxSpgY3qZBc0pYDlb5g3E58pTJ35vAzrsZBVSyiYPhpgZB3ZAeNqx18ImA0LZCcsqL96hFDqsE9fcXUk52ofVsqWeerVDKp0cGo2wvohq5ISdkCUX7ZByd4c80Y6BstQYbe5noQhC8L7wdtMuKyZAAgZDZD'}, 'options': ['¡ok veamos!', 'Prefiero ir al menú'], 'default_id': 'mensajePreMenu_01inicial_inicial', 'save_var': '¡ok veamos!'}}\n",
      "\n",
      "---------------------------------------------------------------------------\n",
      "mensaje enviado a la API de facebook:\n",
      " {'recipient_id': '3812585132088508', 'message_id': 'm_ugPwj6j7wn5S4AlgVDW6uIDIHsg4Bwph1PFsDRmK-uErzRuX7f5yncwZnJbSPRWx_Kxmmb0FqYE1zOL_ryxrig'}\n",
      " [.] Got %r None\n",
      "\n",
      "_________________________________________________________________________________________________________________________\n",
      "Mesaje de la API de Facebook-> \n",
      " {'object': 'page', 'entry': [{'id': '430761350747124', 'time': 1601659565567, 'messaging': [{'sender': {'id': '3812585132088508'}, 'recipient': {'id': '430761350747124'}, 'timestamp': 1601659565639, 'read': {'watermark': 1601659565194}}]}]}\n",
      "\n",
      "_________________________________________________________________________________________________________________________\n",
      "Mesaje de la API de Facebook-> \n",
      " {'object': 'page', 'entry': [{'id': '430761350747124', 'time': 1601659567111, 'messaging': [{'sender': {'id': '3812585132088508'}, 'recipient': {'id': '430761350747124'}, 'timestamp': 1601659566893, 'postback': {'title': '¡ok veamos!', 'payload': '¡ok veamos!'}}]}]}\n",
      "\n",
      "________________________________________read _______________________________________________________________________________\n",
      "Mensaje enviado al Nucleo Logico Read->  {\"payload\": {\"robot\": \"none\", \"id_face\": \"430761350747124\", \"recipient_id\": \"3812585132088508\", \"access_token\": \"none\", \"content\": \"\", \"type_resp\": \"read\", \"state\": \"none\", \"blocktype\": \"none\", \"opciones\": \"none\", \"entities\": {}}}\n",
      "hilo consume\n"
     ]
    },
    {
     "name": "stderr",
     "output_type": "stream",
     "text": [
      "127.0.0.1 - - [02/Oct/2020 12:26:10] \"POST /apiREST/v1 HTTP/1.1\" 200 -\n",
      "127.0.0.1 - - [02/Oct/2020 12:26:10] \"POST /apiREST/v1 HTTP/1.1\" 200 -\n"
     ]
    },
    {
     "name": "stdout",
     "output_type": "stream",
     "text": [
      "b'{\"payload\": {\"robot\": 339, \"id_face\": \"430761350747124\", \"recipient_id\": \"3812585132088508\", \"access_token\": \"EAAJjZAQWaAbgBAAxC53jaIzoxSpgY3qZBc0pYDlb5g3E58pTJ35vAzrsZBVSyiYPhpgZB3ZAeNqx18ImA0LZCcsqL96hFDqsE9fcXUk52ofVsqWeerVDKp0cGo2wvohq5ISdkCUX7ZByd4c80Y6BstQYbe5noQhC8L7wdtMuKyZAAgZDZD\", \"content\": \"\", \"type_resp\": \"read\", \"state\": \"none\", \"blocktype\": \"none\", \"opciones\": \"none\", \"entities\": {}}}'\n",
      " [.] Got %r None\n",
      "hilo consume\n",
      "\n",
      "______________________________________________no read__________________________________________________________________________\n",
      "Mensaje enviado al Nucleo Logico->  {\"payload\": {\"robot\": \"none\", \"id_face\": \"430761350747124\", \"recipient_id\": \"3812585132088508\", \"access_token\": \"none\", \"content\": \"\\u00a1ok veamos!\", \"type_resp\": \"postback\", \"state\": \"none\", \"blocktype\": \"none\", \"opciones\": \"none\", \"entities\": {}}}\n",
      "b'{\"Respuesta\": {\"content\": \"Soy un robot que funciona con un sistema autom\\\\u00e1tico llamado inteligencia artificial.\", \"next_id\": \"next\", \"blockType\": \"informativo\", \"contentType\": \"text\", \"typingTime\": \"3\", \"payload\": {\"content\": \"\", \"state\": \"mensajesIntroduccion2_01inicial_inicial\", \"recipient_id\": \"3812585132088508\", \"entities\": {\"qr_menuIntro\": \"\\\\u00a1ok veamos!\", \"var_pregunta\": \"pruebas\", \"qr_personalidad\": \"\\\\u00bfCon qui\\\\u00e9n estoy hablando?\"}, \"access_token\": \"EAAJjZAQWaAbgBAAxC53jaIzoxSpgY3qZBc0pYDlb5g3E58pTJ35vAzrsZBVSyiYPhpgZB3ZAeNqx18ImA0LZCcsqL96hFDqsE9fcXUk52ofVsqWeerVDKp0cGo2wvohq5ISdkCUX7ZByd4c80Y6BstQYbe5noQhC8L7wdtMuKyZAAgZDZD\"}}}'\n",
      "\n",
      "_________________________________________________________________________________________________________________________\n",
      "Respuesta del Nucleo Logico->  {'Respuesta': {'content': 'Soy un robot que funciona con un sistema automático llamado inteligencia artificial.', 'next_id': 'next', 'blockType': 'informativo', 'contentType': 'text', 'typingTime': '3', 'payload': {'content': '', 'state': 'mensajesIntroduccion2_01inicial_inicial', 'recipient_id': '3812585132088508', 'entities': {'qr_menuIntro': '¡ok veamos!', 'var_pregunta': 'pruebas', 'qr_personalidad': '¿Con quién estoy hablando?'}, 'access_token': 'EAAJjZAQWaAbgBAAxC53jaIzoxSpgY3qZBc0pYDlb5g3E58pTJ35vAzrsZBVSyiYPhpgZB3ZAeNqx18ImA0LZCcsqL96hFDqsE9fcXUk52ofVsqWeerVDKp0cGo2wvohq5ISdkCUX7ZByd4c80Y6BstQYbe5noQhC8L7wdtMuKyZAAgZDZD'}}}\n",
      "\n",
      "_________________________________________________________________________________________________________________________\n",
      "Mesaje de la API de Facebook-> \n",
      " {'object': 'page', 'entry': [{'id': '430761350747124', 'time': 1601659578062, 'messaging': [{'sender': {'id': '3812585132088508'}, 'recipient': {'id': '430761350747124'}, 'timestamp': 1601659578192, 'read': {'watermark': 1601659577808}}]}]}\n",
      "\n",
      "---------------------------------------------------------------------------\n",
      "mensaje enviado a la API de facebook:\n",
      " {'recipient_id': '3812585132088508', 'message_id': 'm_-NDzd2u4VRTvaSE5gwLqrYDIHsg4Bwph1PFsDRmK-uG08DATT9bnV_iiD39OL4yIKFRstUBxx0_Vxag6no2dJw'}\n",
      " [.] Got %r None\n"
     ]
    },
    {
     "name": "stderr",
     "output_type": "stream",
     "text": [
      "127.0.0.1 - - [02/Oct/2020 12:26:43] \"POST /apiREST/v1 HTTP/1.1\" 200 -\n"
     ]
    },
    {
     "name": "stdout",
     "output_type": "stream",
     "text": [
      "\n",
      "________________________________________read _______________________________________________________________________________\n",
      "Mensaje enviado al Nucleo Logico Read->  {\"payload\": {\"robot\": \"none\", \"id_face\": \"430761350747124\", \"recipient_id\": \"3812585132088508\", \"access_token\": \"none\", \"content\": \"\", \"type_resp\": \"read\", \"state\": \"none\", \"blocktype\": \"none\", \"opciones\": \"none\", \"entities\": {}}}\n",
      "hilo consume\n",
      "b'{\"Respuesta\": {\"content\": \"Cada vez que escribas intentare entenderte si algo se me dificulta siempre podre contactarte con un humano.\", \"next_id\": \"next\", \"blockType\": \"informativo\", \"contentType\": \"text\", \"typingTime\": \"3\", \"payload\": {\"content\": \"\", \"state\": \"mensajesIntroduccion2_01inicial_inicial\", \"recipient_id\": \"3812585132088508\", \"entities\": {\"qr_menuIntro\": \"\\\\u00a1ok veamos!\", \"var_pregunta\": \"pruebas\", \"qr_personalidad\": \"\\\\u00bfCon qui\\\\u00e9n estoy hablando?\"}, \"access_token\": \"EAAJjZAQWaAbgBAAxC53jaIzoxSpgY3qZBc0pYDlb5g3E58pTJ35vAzrsZBVSyiYPhpgZB3ZAeNqx18ImA0LZCcsqL96hFDqsE9fcXUk52ofVsqWeerVDKp0cGo2wvohq5ISdkCUX7ZByd4c80Y6BstQYbe5noQhC8L7wdtMuKyZAAgZDZD\"}}}'\n",
      "\n",
      "_________________________________________________________________________________________________________________________\n",
      "Respuesta del Nucleo Logico->  {'Respuesta': {'content': 'Cada vez que escribas intentare entenderte si algo se me dificulta siempre podre contactarte con un humano.', 'next_id': 'next', 'blockType': 'informativo', 'contentType': 'text', 'typingTime': '3', 'payload': {'content': '', 'state': 'mensajesIntroduccion2_01inicial_inicial', 'recipient_id': '3812585132088508', 'entities': {'qr_menuIntro': '¡ok veamos!', 'var_pregunta': 'pruebas', 'qr_personalidad': '¿Con quién estoy hablando?'}, 'access_token': 'EAAJjZAQWaAbgBAAxC53jaIzoxSpgY3qZBc0pYDlb5g3E58pTJ35vAzrsZBVSyiYPhpgZB3ZAeNqx18ImA0LZCcsqL96hFDqsE9fcXUk52ofVsqWeerVDKp0cGo2wvohq5ISdkCUX7ZByd4c80Y6BstQYbe5noQhC8L7wdtMuKyZAAgZDZD'}}}\n",
      "\n",
      "---------------------------------------------------------------------------\n",
      "mensaje enviado a la API de facebook:\n",
      " {'recipient_id': '3812585132088508', 'message_id': 'm_smVSeIj_BhRMxyqZTgMFJYDIHsg4Bwph1PFsDRmK-uHIMQLFQkx2VIGCcc9udC7ubMSjV0ILC77nFPnXVfWOgA'}\n",
      " [.] Got %r None\n",
      "\n",
      "_________________________________________________________________________________________________________________________\n",
      "Mesaje de la API de Facebook-> \n",
      " {'object': 'page', 'entry': [{'id': '430761350747124', 'time': 1601659616799, 'messaging': [{'sender': {'id': '3812585132088508'}, 'recipient': {'id': '430761350747124'}, 'timestamp': 1601659616963, 'read': {'watermark': 1601659615052}}]}]}\n",
      "\n",
      "________________________________________read _______________________________________________________________________________\n",
      "Mensaje enviado al Nucleo Logico Read->  {\"payload\": {\"robot\": \"none\", \"id_face\": \"430761350747124\", \"recipient_id\": \"3812585132088508\", \"access_token\": \"none\", \"content\": \"\", \"type_resp\": \"read\", \"state\": \"none\", \"blocktype\": \"none\", \"opciones\": \"none\", \"entities\": {}}}\n",
      "hilo consume\n",
      "b'{\"Respuesta\": {\"content\": \"\\\\u00bfQu\\\\u00e9 deseas hacer?\", \"next_id\": \"NLPpersonalidad_01inicial_inicial\", \"blockType\": \"input\", \"contentType\": \"text\", \"typingTime\": \"1\", \"payload\": {\"content\": \"\", \"state\": \"pregunta_01inicial_inicial\", \"recipient_id\": \"3812585132088508\", \"entities\": {\"qr_menuIntro\": \"\\\\u00a1ok veamos!\", \"var_pregunta\": \"pruebas\", \"qr_personalidad\": \"\\\\u00bfCon qui\\\\u00e9n estoy hablando?\"}, \"access_token\": \"EAAJjZAQWaAbgBAAxC53jaIzoxSpgY3qZBc0pYDlb5g3E58pTJ35vAzrsZBVSyiYPhpgZB3ZAeNqx18ImA0LZCcsqL96hFDqsE9fcXUk52ofVsqWeerVDKp0cGo2wvohq5ISdkCUX7ZByd4c80Y6BstQYbe5noQhC8L7wdtMuKyZAAgZDZD\"}, \"validacion\": \".*\", \"default_id\": \"NLPpersonalidad_01inicial_inicial\"}}'\n",
      "\n",
      "_________________________________________________________________________________________________________________________\n",
      "Respuesta del Nucleo Logico-> "
     ]
    },
    {
     "name": "stderr",
     "output_type": "stream",
     "text": [
      "127.0.0.1 - - [02/Oct/2020 12:27:04] \"POST /apiREST/v1 HTTP/1.1\" 200 -\n"
     ]
    },
    {
     "name": "stdout",
     "output_type": "stream",
     "text": [
      " {'Respuesta': {'content': '¿Qué deseas hacer?', 'next_id': 'NLPpersonalidad_01inicial_inicial', 'blockType': 'input', 'contentType': 'text', 'typingTime': '1', 'payload': {'content': '', 'state': 'pregunta_01inicial_inicial', 'recipient_id': '3812585132088508', 'entities': {'qr_menuIntro': '¡ok veamos!', 'var_pregunta': 'pruebas', 'qr_personalidad': '¿Con quién estoy hablando?'}, 'access_token': 'EAAJjZAQWaAbgBAAxC53jaIzoxSpgY3qZBc0pYDlb5g3E58pTJ35vAzrsZBVSyiYPhpgZB3ZAeNqx18ImA0LZCcsqL96hFDqsE9fcXUk52ofVsqWeerVDKp0cGo2wvohq5ISdkCUX7ZByd4c80Y6BstQYbe5noQhC8L7wdtMuKyZAAgZDZD'}, 'validacion': '.*', 'default_id': 'NLPpersonalidad_01inicial_inicial'}}\n",
      "\n",
      "---------------------------------------------------------------------------\n",
      "mensaje enviado a la API de facebook:\n",
      " {'recipient_id': '3812585132088508', 'message_id': 'm_lxYEUB8hnLSG1kf0YiaghIDIHsg4Bwph1PFsDRmK-uHTjbdrURCWjpX_xijoMDdV4VqvATc7v1IEFuJk4qOxFQ'}\n",
      " [.] Got %r None\n",
      "\n",
      "_________________________________________________________________________________________________________________________\n",
      "Mesaje de la API de Facebook-> \n",
      " {'object': 'page', 'entry': [{'id': '430761350747124', 'time': 1601659632412, 'messaging': [{'sender': {'id': '3812585132088508'}, 'recipient': {'id': '430761350747124'}, 'timestamp': 1601659632540, 'read': {'watermark': 1601659630599}}]}]}\n",
      "\n",
      "_________________________________________________________________________________________________________________________\n",
      "Mesaje de la API de Facebook-> \n",
      " {'object': 'page', 'entry': [{'id': '430761350747124', 'time': 1601659638510, 'messaging': [{'sender': {'id': '3812585132088508'}, 'recipient': {'id': '430761350747124'}, 'timestamp': 1601659638407, 'message': {'mid': 'm__zoO5icD70j93RleARMSToDIHsg4Bwph1PFsDRmK-uF-p8Xr6_BxLNYnbpwSZF6I9KLhvhqz-OcSfCVhqYx03w', 'text': 'dormir'}}]}]}\n",
      "\n",
      "________________________________________read _______________________________________________________________________________\n",
      "Mensaje enviado al Nucleo Logico Read->  {\"payload\": {\"robot\": \"none\", \"id_face\": \"430761350747124\", \"recipient_id\": \"3812585132088508\", \"access_token\": \"none\", \"content\": \"\", \"type_resp\": \"read\", \"state\": \"none\", \"blocktype\": \"none\", \"opciones\": \"none\", \"entities\": {}}}\n"
     ]
    },
    {
     "name": "stderr",
     "output_type": "stream",
     "text": [
      "127.0.0.1 - - [02/Oct/2020 12:27:20] \"POST /apiREST/v1 HTTP/1.1\" 200 -\n"
     ]
    },
    {
     "name": "stdout",
     "output_type": "stream",
     "text": [
      "hilo consume\n",
      "b'{\"payload\": {\"robot\": 339, \"id_face\": \"430761350747124\", \"recipient_id\": \"3812585132088508\", \"access_token\": \"EAAJjZAQWaAbgBAAxC53jaIzoxSpgY3qZBc0pYDlb5g3E58pTJ35vAzrsZBVSyiYPhpgZB3ZAeNqx18ImA0LZCcsqL96hFDqsE9fcXUk52ofVsqWeerVDKp0cGo2wvohq5ISdkCUX7ZByd4c80Y6BstQYbe5noQhC8L7wdtMuKyZAAgZDZD\", \"content\": \"\", \"type_resp\": \"read\", \"state\": \"none\", \"blocktype\": \"none\", \"opciones\": \"none\", \"entities\": {}}}'\n",
      " [.] Got %r None\n"
     ]
    },
    {
     "name": "stderr",
     "output_type": "stream",
     "text": [
      "127.0.0.1 - - [02/Oct/2020 12:27:22] \"POST /apiREST/v1 HTTP/1.1\" 200 -\n"
     ]
    },
    {
     "name": "stdout",
     "output_type": "stream",
     "text": [
      "hilo consume\n",
      "\n",
      "______________________________________________no read__________________________________________________________________________\n",
      "Mensaje enviado al Nucleo Logico->  {\"payload\": {\"robot\": \"none\", \"id_face\": \"430761350747124\", \"recipient_id\": \"3812585132088508\", \"access_token\": \"none\", \"content\": \"dormir\", \"type_resp\": \"message\", \"state\": \"none\", \"blocktype\": \"none\", \"opciones\": \"none\", \"entities\": {}}}\n",
      "b'{\"Respuesta\": {\"content\": \"\\\\u00bfC\\\\u00f3mo puedo ayudarte? \", \"next_id\": \"next\", \"blockType\": \"informativo\", \"contentType\": \"text\", \"typingTime\": \"3\", \"payload\": {\"content\": \"\", \"state\": \"mensajePreMenu_01inicial_inicial\", \"recipient_id\": \"3812585132088508\", \"entities\": {\"qr_menuIntro\": \"\\\\u00a1ok veamos!\", \"var_pregunta\": \"dormir\", \"qr_personalidad\": \"\\\\u00bfCon qui\\\\u00e9n estoy hablando?\"}, \"access_token\": \"EAAJjZAQWaAbgBAAxC53jaIzoxSpgY3qZBc0pYDlb5g3E58pTJ35vAzrsZBVSyiYPhpgZB3ZAeNqx18ImA0LZCcsqL96hFDqsE9fcXUk52ofVsqWeerVDKp0cGo2wvohq5ISdkCUX7ZByd4c80Y6BstQYbe5noQhC8L7wdtMuKyZAAgZDZD\"}}}'\n",
      "\n",
      "_________________________________________________________________________________________________________________________\n",
      "Respuesta del Nucleo Logico->  {'Respuesta': {'content': '¿Cómo puedo ayudarte? ', 'next_id': 'next', 'blockType': 'informativo', 'contentType': 'text', 'typingTime': '3', 'payload': {'content': '', 'state': 'mensajePreMenu_01inicial_inicial', 'recipient_id': '3812585132088508', 'entities': {'qr_menuIntro': '¡ok veamos!', 'var_pregunta': 'dormir', 'qr_personalidad': '¿Con quién estoy hablando?'}, 'access_token': 'EAAJjZAQWaAbgBAAxC53jaIzoxSpgY3qZBc0pYDlb5g3E58pTJ35vAzrsZBVSyiYPhpgZB3ZAeNqx18ImA0LZCcsqL96hFDqsE9fcXUk52ofVsqWeerVDKp0cGo2wvohq5ISdkCUX7ZByd4c80Y6BstQYbe5noQhC8L7wdtMuKyZAAgZDZD'}}}\n",
      "\n",
      "---------------------------------------------------------------------------\n",
      "mensaje enviado a la API de facebook:\n",
      " {'recipient_id': '3812585132088508', 'message_id': 'm_4exsJ6YNXDIVBHcNiLRgWYDIHsg4Bwph1PFsDRmK-uHQH8beLZ2pkfW2kLM_InmurcLcyefgCPfBM3D8IiEj6Q'}\n",
      " [.] Got %r None\n",
      "\n",
      "_________________________________________________________________________________________________________________________\n",
      "Mesaje de la API de Facebook-> \n",
      " {'object': 'page', 'entry': [{'id': '430761350747124', 'time': 1601659803825, 'messaging': [{'sender': {'id': '3812585132088508'}, 'recipient': {'id': '430761350747124'}, 'timestamp': 1601659803965, 'read': {'watermark': 1601659657567}}]}]}\n",
      "\n",
      "________________________________________read _______________________________________________________________________________\n",
      "Mensaje enviado al Nucleo Logico Read->  {\"payload\": {\"robot\": \"none\", \"id_face\": \"430761350747124\", \"recipient_id\": \"3812585132088508\", \"access_token\": \"none\", \"content\": \"\", \"type_resp\": \"read\", \"state\": \"none\", \"blocktype\": \"none\", \"opciones\": \"none\", \"entities\": {}}}\n",
      "hilo consume\n"
     ]
    },
    {
     "name": "stderr",
     "output_type": "stream",
     "text": [
      "127.0.0.1 - - [02/Oct/2020 12:30:16] \"POST /apiREST/v1 HTTP/1.1\" 200 -\n"
     ]
    },
    {
     "name": "stdout",
     "output_type": "stream",
     "text": [
      "\n",
      "_________________________________________________________________________________________________________________________\n",
      "Mesaje de la API de Facebook-> \n",
      " {'object': 'page', 'entry': [{'id': '430761350747124', 'time': 1601659972667, 'messaging': [{'sender': {'id': '3812585132088508'}, 'recipient': {'id': '430761350747124'}, 'timestamp': 1601659972615, 'message': {'mid': 'm_T16B5jMRc7PhLsDaXcw0SYDIHsg4Bwph1PFsDRmK-uE1YJwqUR--hsCy4g3spA47ZEerXwr2sNbrOP1e5Jr32g', 'text': 'hola'}}]}]}\n"
     ]
    },
    {
     "name": "stderr",
     "output_type": "stream",
     "text": [
      "[2020-10-02 12:33:10,093] ERROR in app: Exception on /apiREST/v1 [POST]\n",
      "Traceback (most recent call last):\n",
      "  File \"/home/oliverbupe/anaconda3/lib/python3.7/site-packages/flask/app.py\", line 2446, in wsgi_app\n",
      "    response = self.full_dispatch_request()\n",
      "  File \"/home/oliverbupe/anaconda3/lib/python3.7/site-packages/flask/app.py\", line 1951, in full_dispatch_request\n",
      "    rv = self.handle_user_exception(e)\n",
      "  File \"/home/oliverbupe/anaconda3/lib/python3.7/site-packages/flask/app.py\", line 1820, in handle_user_exception\n",
      "    reraise(exc_type, exc_value, tb)\n",
      "  File \"/home/oliverbupe/anaconda3/lib/python3.7/site-packages/flask/_compat.py\", line 39, in reraise\n",
      "    raise value\n",
      "  File \"/home/oliverbupe/anaconda3/lib/python3.7/site-packages/flask/app.py\", line 1949, in full_dispatch_request\n",
      "    rv = self.dispatch_request()\n",
      "  File \"/home/oliverbupe/anaconda3/lib/python3.7/site-packages/flask/app.py\", line 1935, in dispatch_request\n",
      "    return self.view_functions[rule.endpoint](**req.view_args)\n",
      "  File \"<ipython-input-13-7d123f23061a>\", line 38, in receive_message\n",
      "    N_C = Nucleo_Cliente2(nombreHilo)\n",
      "  File \"<ipython-input-12-f2727190537e>\", line 10, in __init__\n",
      "    self.connection = pika.BlockingConnection(pika.ConnectionParameters('localhost'))\n",
      "  File \"/home/oliverbupe/anaconda3/lib/python3.7/site-packages/pika/adapters/blocking_connection.py\", line 359, in __init__\n",
      "    self._impl = self._create_connection(parameters, _impl_class)\n",
      "  File \"/home/oliverbupe/anaconda3/lib/python3.7/site-packages/pika/adapters/blocking_connection.py\", line 450, in _create_connection\n",
      "    raise self._reap_last_connection_workflow_error(error)\n",
      "pika.exceptions.ProbableAuthenticationError: StreamLostError: (\"Stream connection lost: ConnectionResetError(104, 'Connection reset by peer')\",)\n",
      "127.0.0.1 - - [02/Oct/2020 12:33:12] \"POST /apiREST/v1 HTTP/1.1\" 500 -\n"
     ]
    },
    {
     "name": "stdout",
     "output_type": "stream",
     "text": [
      "\n",
      "_________________________________________________________________________________________________________________________\n",
      "Mesaje de la API de Facebook-> \n",
      " {'object': 'page', 'entry': [{'id': '430761350747124', 'time': 1601659992849, 'messaging': [{'sender': {'id': '3812585132088508'}, 'recipient': {'id': '430761350747124'}, 'timestamp': 1601659972615, 'message': {'mid': 'm_T16B5jMRc7PhLsDaXcw0SYDIHsg4Bwph1PFsDRmK-uE1YJwqUR--hsCy4g3spA47ZEerXwr2sNbrOP1e5Jr32g', 'text': 'hola'}}]}]}\n"
     ]
    },
    {
     "name": "stderr",
     "output_type": "stream",
     "text": [
      "127.0.0.1 - - [02/Oct/2020 12:33:18] \"POST /apiREST/v1 HTTP/1.1\" 200 -\n"
     ]
    },
    {
     "name": "stdout",
     "output_type": "stream",
     "text": [
      "hilo consume\n",
      "\n",
      "______________________________________________no read__________________________________________________________________________\n",
      "Mensaje enviado al Nucleo Logico->  {\"payload\": {\"robot\": \"none\", \"id_face\": \"430761350747124\", \"recipient_id\": \"3812585132088508\", \"access_token\": \"none\", \"content\": \"hola\", \"type_resp\": \"message\", \"state\": \"none\", \"blocktype\": \"none\", \"opciones\": \"none\", \"entities\": {}}}\n",
      "b'{\"Respuesta\": {\"content\": \"\\\\u00a1Hola! Soy Niza.\", \"next_id\": \"next\", \"blockType\": \"informativo\", \"contentType\": \"text\", \"typingTime\": \"3\", \"payload\": {\"content\": \"\", \"state\": \"mensajesIntroduccion_01inicial_inicial\", \"recipient_id\": \"3812585132088508\", \"entities\": {}, \"access_token\": \"EAAJjZAQWaAbgBAAxC53jaIzoxSpgY3qZBc0pYDlb5g3E58pTJ35vAzrsZBVSyiYPhpgZB3ZAeNqx18ImA0LZCcsqL96hFDqsE9fcXUk52ofVsqWeerVDKp0cGo2wvohq5ISdkCUX7ZByd4c80Y6BstQYbe5noQhC8L7wdtMuKyZAAgZDZD\"}}}'\n",
      "\n",
      "_________________________________________________________________________________________________________________________\n",
      "Respuesta del Nucleo Logico->  {'Respuesta': {'content': '¡Hola! Soy Niza.', 'next_id': 'next', 'blockType': 'informativo', 'contentType': 'text', 'typingTime': '3', 'payload': {'content': '', 'state': 'mensajesIntroduccion_01inicial_inicial', 'recipient_id': '3812585132088508', 'entities': {}, 'access_token': 'EAAJjZAQWaAbgBAAxC53jaIzoxSpgY3qZBc0pYDlb5g3E58pTJ35vAzrsZBVSyiYPhpgZB3ZAeNqx18ImA0LZCcsqL96hFDqsE9fcXUk52ofVsqWeerVDKp0cGo2wvohq5ISdkCUX7ZByd4c80Y6BstQYbe5noQhC8L7wdtMuKyZAAgZDZD'}}}\n",
      "\n",
      "---------------------------------------------------------------------------\n",
      "\n",
      "_________________________________________________________________________________________________________________________\n",
      "Mesaje de la API de Facebook-> \n",
      " {'object': 'page', 'entry': [{'id': '430761350747124', 'time': 1601660007423, 'messaging': [{'sender': {'id': '3812585132088508'}, 'recipient': {'id': '430761350747124'}, 'timestamp': 1601660007533, 'read': {'watermark': 1601660006944}}]}]}\n",
      "mensaje enviado a la API de facebook:\n",
      " {'recipient_id': '3812585132088508', 'message_id': 'm_4TRYovUDj_A3TOg0HWm_eoDIHsg4Bwph1PFsDRmK-uEEiICTlY5kAnrFr7PSgVARWGfGjk2pR71ytQd-VcOMIA'}\n",
      " [.] Got %r None\n"
     ]
    },
    {
     "name": "stderr",
     "output_type": "stream",
     "text": [
      "127.0.0.1 - - [02/Oct/2020 12:33:32] \"POST /apiREST/v1 HTTP/1.1\" 200 -\n"
     ]
    },
    {
     "name": "stdout",
     "output_type": "stream",
     "text": [
      "\n",
      "________________________________________read _______________________________________________________________________________\n",
      "Mensaje enviado al Nucleo Logico Read->  {\"payload\": {\"robot\": \"none\", \"id_face\": \"430761350747124\", \"recipient_id\": \"3812585132088508\", \"access_token\": \"none\", \"content\": \"\", \"type_resp\": \"read\", \"state\": \"none\", \"blocktype\": \"none\", \"opciones\": \"none\", \"entities\": {}}}\n",
      "hilo consume\n",
      "b'{\"Respuesta\": {\"content\": \"Un asistente virtual para atenci\\\\u00f3n ciudadana puedo responder dudas sobre tu agua potable\", \"next_id\": \"next\", \"blockType\": \"informativo\", \"contentType\": \"text\", \"typingTime\": \"3\", \"payload\": {\"content\": \"\", \"state\": \"mensajesIntroduccion_01inicial_inicial\", \"recipient_id\": \"3812585132088508\", \"entities\": {}, \"access_token\": \"EAAJjZAQWaAbgBAAxC53jaIzoxSpgY3qZBc0pYDlb5g3E58pTJ35vAzrsZBVSyiYPhpgZB3ZAeNqx18ImA0LZCcsqL96hFDqsE9fcXUk52ofVsqWeerVDKp0cGo2wvohq5ISdkCUX7ZByd4c80Y6BstQYbe5noQhC8L7wdtMuKyZAAgZDZD\"}}}'\n",
      "\n",
      "_________________________________________________________________________________________________________________________\n",
      "Respuesta del Nucleo Logico->  {'Respuesta': {'content': 'Un asistente virtual para atención ciudadana puedo responder dudas sobre tu agua potable', 'next_id': 'next', 'blockType': 'informativo', 'contentType': 'text', 'typingTime': '3', 'payload': {'content': '', 'state': 'mensajesIntroduccion_01inicial_inicial', 'recipient_id': '3812585132088508', 'entities': {}, 'access_token': 'EAAJjZAQWaAbgBAAxC53jaIzoxSpgY3qZBc0pYDlb5g3E58pTJ35vAzrsZBVSyiYPhpgZB3ZAeNqx18ImA0LZCcsqL96hFDqsE9fcXUk52ofVsqWeerVDKp0cGo2wvohq5ISdkCUX7ZByd4c80Y6BstQYbe5noQhC8L7wdtMuKyZAAgZDZD'}}}\n",
      "\n",
      "---------------------------------------------------------------------------\n",
      "mensaje enviado a la API de facebook:\n",
      " {'recipient_id': '3812585132088508', 'message_id': 'm_jeOXhGMN6FyRtYsNjho48oDIHsg4Bwph1PFsDRmK-uHj8f10lmvDbU2NOjE9AvzToMtrV6V58XN_9en26y7RCQ'}\n",
      " [.] Got %r None\n",
      "\n",
      "_________________________________________________________________________________________________________________________\n",
      "Mesaje de la API de Facebook-> \n",
      " {'object': 'page', 'entry': [{'id': '430761350747124', 'time': 1601660019452, 'messaging': [{'sender': {'id': '3812585132088508'}, 'recipient': {'id': '430761350747124'}, 'timestamp': 1601660019588, 'read': {'watermark': 1601660018131}}]}]}\n"
     ]
    },
    {
     "name": "stderr",
     "output_type": "stream",
     "text": [
      "127.0.0.1 - - [02/Oct/2020 12:33:57] \"POST /apiREST/v1 HTTP/1.1\" 200 -\n"
     ]
    },
    {
     "name": "stdout",
     "output_type": "stream",
     "text": [
      "\n",
      "________________________________________read _______________________________________________________________________________\n",
      "Mensaje enviado al Nucleo Logico Read->  {\"payload\": {\"robot\": \"none\", \"id_face\": \"430761350747124\", \"recipient_id\": \"3812585132088508\", \"access_token\": \"none\", \"content\": \"\", \"type_resp\": \"read\", \"state\": \"none\", \"blocktype\": \"none\", \"opciones\": \"none\", \"entities\": {}}}\n",
      "hilo consume\n",
      "b'{\"Respuesta\": {\"content\": \"Te gustar\\\\u00eda saber c\\\\u00f3mo utilizarme\", \"next_id\": \"next\", \"blockType\": \"informativo\", \"contentType\": \"text\", \"typingTime\": \"3\", \"payload\": {\"content\": \"\", \"state\": \"mensajesIntroduccion_01inicial_inicial\", \"recipient_id\": \"3812585132088508\", \"entities\": {}, \"access_token\": \"EAAJjZAQWaAbgBAAxC53jaIzoxSpgY3qZBc0pYDlb5g3E58pTJ35vAzrsZBVSyiYPhpgZB3ZAeNqx18ImA0LZCcsqL96hFDqsE9fcXUk52ofVsqWeerVDKp0cGo2wvohq5ISdkCUX7ZByd4c80Y6BstQYbe5noQhC8L7wdtMuKyZAAgZDZD\"}}}'\n",
      "\n",
      "_________________________________________________________________________________________________________________________\n",
      "Respuesta del Nucleo Logico->  {'Respuesta': {'content': 'Te gustaría saber cómo utilizarme', 'next_id': 'next', 'blockType': 'informativo', 'contentType': 'text', 'typingTime': '3', 'payload': {'content': '', 'state': 'mensajesIntroduccion_01inicial_inicial', 'recipient_id': '3812585132088508', 'entities': {}, 'access_token': 'EAAJjZAQWaAbgBAAxC53jaIzoxSpgY3qZBc0pYDlb5g3E58pTJ35vAzrsZBVSyiYPhpgZB3ZAeNqx18ImA0LZCcsqL96hFDqsE9fcXUk52ofVsqWeerVDKp0cGo2wvohq5ISdkCUX7ZByd4c80Y6BstQYbe5noQhC8L7wdtMuKyZAAgZDZD'}}}\n",
      "\n",
      "---------------------------------------------------------------------------\n",
      "mensaje enviado a la API de facebook:\n",
      " {'recipient_id': '3812585132088508', 'message_id': 'm_UIb9KOlPR9pYiQhaNn74CoDIHsg4Bwph1PFsDRmK-uGIIQafR6eWbZViQ4jgVO6az_876Ib-XMUDQh2NXsS-yw'}\n",
      " [.] Got %r None\n",
      "\n",
      "_________________________________________________________________________________________________________________________\n",
      "Mesaje de la API de Facebook-> \n",
      " {'object': 'page', 'entry': [{'id': '430761350747124', 'time': 1601660053211, 'messaging': [{'sender': {'id': '3812585132088508'}, 'recipient': {'id': '430761350747124'}, 'timestamp': 1601660053334, 'read': {'watermark': 1601660051190}}]}]}\n",
      "\n",
      "________________________________________read _______________________________________________________________________________\n",
      "Mensaje enviado al Nucleo Logico Read->  {\"payload\": {\"robot\": \"none\", \"id_face\": \"430761350747124\", \"recipient_id\": \"3812585132088508\", \"access_token\": \"none\", \"content\": \"\", \"type_resp\": \"read\", \"state\": \"none\", \"blocktype\": \"none\", \"opciones\": \"none\", \"entities\": {}}}\n"
     ]
    },
    {
     "name": "stderr",
     "output_type": "stream",
     "text": [
      "127.0.0.1 - - [02/Oct/2020 12:34:22] \"POST /apiREST/v1 HTTP/1.1\" 200 -\n"
     ]
    },
    {
     "name": "stdout",
     "output_type": "stream",
     "text": [
      "hilo consume\n",
      "b'{\"Respuesta\": {\"content\": \"Toca uno de los botones azules para saber tu elecci\\\\u00f3n\", \"next_id\": \"mensajesIntroduccion2_01inicial_inicial,mensajePreMenu_01inicial_inicial\", \"blockType\": \"quickReply\", \"contentType\": \" \", \"typingTime\": \"5\", \"payload\": {\"content\": \"\", \"state\": \"menuIntroduccion_01inicial_inicial\", \"recipient_id\": \"3812585132088508\", \"entities\": {}, \"access_token\": \"EAAJjZAQWaAbgBAAxC53jaIzoxSpgY3qZBc0pYDlb5g3E58pTJ35vAzrsZBVSyiYPhpgZB3ZAeNqx18ImA0LZCcsqL96hFDqsE9fcXUk52ofVsqWeerVDKp0cGo2wvohq5ISdkCUX7ZByd4c80Y6BstQYbe5noQhC8L7wdtMuKyZAAgZDZD\"}, \"options\": [\"\\\\u00a1ok veamos!\", \"Prefiero ir al men\\\\u00fa\"], \"default_id\": \"mensajePreMenu_01inicial_inicial\", \"save_var\": \"0\"}}'\n",
      "\n",
      "_________________________________________________________________________________________________________________________\n",
      "Respuesta del Nucleo Logico->  {'Respuesta': {'content': 'Toca uno de los botones azules para saber tu elección', 'next_id': 'mensajesIntroduccion2_01inicial_inicial,mensajePreMenu_01inicial_inicial', 'blockType': 'quickReply', 'contentType': ' ', 'typingTime': '5', 'payload': {'content': '', 'state': 'menuIntroduccion_01inicial_inicial', 'recipient_id': '3812585132088508', 'entities': {}, 'access_token': 'EAAJjZAQWaAbgBAAxC53jaIzoxSpgY3qZBc0pYDlb5g3E58pTJ35vAzrsZBVSyiYPhpgZB3ZAeNqx18ImA0LZCcsqL96hFDqsE9fcXUk52ofVsqWeerVDKp0cGo2wvohq5ISdkCUX7ZByd4c80Y6BstQYbe5noQhC8L7wdtMuKyZAAgZDZD'}, 'options': ['¡ok veamos!', 'Prefiero ir al menú'], 'default_id': 'mensajePreMenu_01inicial_inicial', 'save_var': '0'}}\n",
      "\n",
      "---------------------------------------------------------------------------\n",
      "mensaje enviado a la API de facebook:\n",
      " {'recipient_id': '3812585132088508', 'message_id': 'm_Rl_INBZzUwPZCOjetUsLz4DIHsg4Bwph1PFsDRmK-uEpjZf3sPALDMKgDzaL5e_31U6tKK3BU4Z_OLgWBBjhiQ'}\n",
      " [.] Got %r None\n",
      "\n",
      "_________________________________________________________________________________________________________________________\n",
      "Mesaje de la API de Facebook-> \n",
      " {'object': 'page', 'entry': [{'id': '430761350747124', 'time': 1601660069116, 'messaging': [{'sender': {'id': '3812585132088508'}, 'recipient': {'id': '430761350747124'}, 'timestamp': 1601660069246, 'read': {'watermark': 1601660067377}}]}]}\n",
      "\n",
      "_________________________________________________________________________________________________________________________\n",
      "Mesaje de la API de Facebook-> \n",
      " {'object': 'page', 'entry': [{'id': '430761350747124', 'time': 1601660070591, 'messaging': [{'sender': {'id': '3812585132088508'}, 'recipient': {'id': '430761350747124'}, 'timestamp': 1601660070382, 'postback': {'title': '¡ok veamos!', 'payload': '¡ok veamos!'}}]}]}\n"
     ]
    },
    {
     "name": "stderr",
     "output_type": "stream",
     "text": [
      "127.0.0.1 - - [02/Oct/2020 12:34:34] \"POST /apiREST/v1 HTTP/1.1\" 200 -\n"
     ]
    },
    {
     "name": "stdout",
     "output_type": "stream",
     "text": [
      "\n",
      "________________________________________read _______________________________________________________________________________\n",
      "Mensaje enviado al Nucleo Logico Read->  {\"payload\": {\"robot\": \"none\", \"id_face\": \"430761350747124\", \"recipient_id\": \"3812585132088508\", \"access_token\": \"none\", \"content\": \"\", \"type_resp\": \"read\", \"state\": \"none\", \"blocktype\": \"none\", \"opciones\": \"none\", \"entities\": {}}}\n",
      "hilo consume\n",
      "______________________________________________no read__________________________________________________________________________\n",
      "Mensaje enviado al Nucleo Logico->  {\"payload\": {\"robot\": \"none\", \"id_face\": \"430761350747124\", \"recipient_id\": \"3812585132088508\", \"access_token\": \"none\", \"content\": \"\\u00a1ok veamos!\", \"type_resp\": \"postback\", \"state\": \"none\", \"blocktype\": \"none\", \"opciones\": \"none\", \"entities\": {}}}\n",
      "\n",
      "hilo consume\n",
      "b'{\"payload\": {\"robot\": 340, \"id_face\": \"430761350747124\", \"recipient_id\": \"3812585132088508\", \"access_token\": \"EAAJjZAQWaAbgBAAxC53jaIzoxSpgY3qZBc0pYDlb5g3E58pTJ35vAzrsZBVSyiYPhpgZB3ZAeNqx18ImA0LZCcsqL96hFDqsE9fcXUk52ofVsqWeerVDKp0cGo2wvohq5ISdkCUX7ZByd4c80Y6BstQYbe5noQhC8L7wdtMuKyZAAgZDZD\", \"content\": \"\", \"type_resp\": \"read\", \"state\": \"none\", \"blocktype\": \"none\", \"opciones\": \"none\", \"entities\": {}}}'\n",
      " [.] Got %r None\n"
     ]
    },
    {
     "name": "stderr",
     "output_type": "stream",
     "text": [
      "127.0.0.1 - - [02/Oct/2020 12:34:35] \"POST /apiREST/v1 HTTP/1.1\" 200 -\n"
     ]
    },
    {
     "name": "stdout",
     "output_type": "stream",
     "text": [
      "b'{\"Respuesta\": {\"content\": \"Soy un robot que funciona con un sistema autom\\\\u00e1tico llamado inteligencia artificial.\", \"next_id\": \"next\", \"blockType\": \"informativo\", \"contentType\": \"text\", \"typingTime\": \"3\", \"payload\": {\"content\": \"\", \"state\": \"mensajesIntroduccion2_01inicial_inicial\", \"recipient_id\": \"3812585132088508\", \"entities\": {\"qr_menuIntro\": \"\\\\u00a1ok veamos!\"}, \"access_token\": \"EAAJjZAQWaAbgBAAxC53jaIzoxSpgY3qZBc0pYDlb5g3E58pTJ35vAzrsZBVSyiYPhpgZB3ZAeNqx18ImA0LZCcsqL96hFDqsE9fcXUk52ofVsqWeerVDKp0cGo2wvohq5ISdkCUX7ZByd4c80Y6BstQYbe5noQhC8L7wdtMuKyZAAgZDZD\"}}}'\n",
      "\n",
      "_________________________________________________________________________________________________________________________\n",
      "Respuesta del Nucleo Logico->  {'Respuesta': {'content': 'Soy un robot que funciona con un sistema automático llamado inteligencia artificial.', 'next_id': 'next', 'blockType': 'informativo', 'contentType': 'text', 'typingTime': '3', 'payload': {'content': '', 'state': 'mensajesIntroduccion2_01inicial_inicial', 'recipient_id': '3812585132088508', 'entities': {'qr_menuIntro': '¡ok veamos!'}, 'access_token': 'EAAJjZAQWaAbgBAAxC53jaIzoxSpgY3qZBc0pYDlb5g3E58pTJ35vAzrsZBVSyiYPhpgZB3ZAeNqx18ImA0LZCcsqL96hFDqsE9fcXUk52ofVsqWeerVDKp0cGo2wvohq5ISdkCUX7ZByd4c80Y6BstQYbe5noQhC8L7wdtMuKyZAAgZDZD'}}}\n",
      "\n",
      "---------------------------------------------------------------------------\n",
      "mensaje enviado a la API de facebook:\n",
      " {'recipient_id': '3812585132088508', 'message_id': 'm_yMAjHdcGzFY9vtKNFH8be4DIHsg4Bwph1PFsDRmK-uGwS02u1hC2CKFZzRXHz9JR3u8EHc--citQy2kJzOo7Tg'}\n",
      " [.] Got %r None\n",
      "\n",
      "_________________________________________________________________________________________________________________________\n",
      "Mesaje de la API de Facebook-> \n",
      " {'object': 'page', 'entry': [{'id': '430761350747124', 'time': 1601660081274, 'messaging': [{'sender': {'id': '3812585132088508'}, 'recipient': {'id': '430761350747124'}, 'timestamp': 1601660081395, 'read': {'watermark': 1601660079892}}]}]}\n",
      "\n",
      "________________________________________read _______________________________________________________________________________\n",
      "Mensaje enviado al Nucleo Logico Read->  "
     ]
    },
    {
     "name": "stderr",
     "output_type": "stream",
     "text": [
      "127.0.0.1 - - [02/Oct/2020 12:34:49] \"POST /apiREST/v1 HTTP/1.1\" 200 -\n"
     ]
    },
    {
     "name": "stdout",
     "output_type": "stream",
     "text": [
      "{\"payload\": {\"robot\": \"none\", \"id_face\": \"430761350747124\", \"recipient_id\": \"3812585132088508\", \"access_token\": \"none\", \"content\": \"\", \"type_resp\": \"read\", \"state\": \"none\", \"blocktype\": \"none\", \"opciones\": \"none\", \"entities\": {}}}\n",
      "hilo consume\n",
      "b'{\"Respuesta\": {\"content\": \"Cada vez que escribas intentare entenderte si algo se me dificulta siempre podre contactarte con un humano.\", \"next_id\": \"next\", \"blockType\": \"informativo\", \"contentType\": \"text\", \"typingTime\": \"3\", \"payload\": {\"content\": \"\", \"state\": \"mensajesIntroduccion2_01inicial_inicial\", \"recipient_id\": \"3812585132088508\", \"entities\": {\"qr_menuIntro\": \"\\\\u00a1ok veamos!\"}, \"access_token\": \"EAAJjZAQWaAbgBAAxC53jaIzoxSpgY3qZBc0pYDlb5g3E58pTJ35vAzrsZBVSyiYPhpgZB3ZAeNqx18ImA0LZCcsqL96hFDqsE9fcXUk52ofVsqWeerVDKp0cGo2wvohq5ISdkCUX7ZByd4c80Y6BstQYbe5noQhC8L7wdtMuKyZAAgZDZD\"}}}'\n",
      "\n",
      "_________________________________________________________________________________________________________________________\n",
      "Respuesta del Nucleo Logico->  {'Respuesta': {'content': 'Cada vez que escribas intentare entenderte si algo se me dificulta siempre podre contactarte con un humano.', 'next_id': 'next', 'blockType': 'informativo', 'contentType': 'text', 'typingTime': '3', 'payload': {'content': '', 'state': 'mensajesIntroduccion2_01inicial_inicial', 'recipient_id': '3812585132088508', 'entities': {'qr_menuIntro': '¡ok veamos!'}, 'access_token': 'EAAJjZAQWaAbgBAAxC53jaIzoxSpgY3qZBc0pYDlb5g3E58pTJ35vAzrsZBVSyiYPhpgZB3ZAeNqx18ImA0LZCcsqL96hFDqsE9fcXUk52ofVsqWeerVDKp0cGo2wvohq5ISdkCUX7ZByd4c80Y6BstQYbe5noQhC8L7wdtMuKyZAAgZDZD'}}}\n",
      "\n",
      "---------------------------------------------------------------------------\n",
      "mensaje enviado a la API de facebook:\n",
      " {'recipient_id': '3812585132088508', 'message_id': 'm_kTUwP-p8jjPhIX5jYfZnA4DIHsg4Bwph1PFsDRmK-uFC8NyvHaeR5x3QffBT4cpP_DVVn-DWTDtjzmMGI3rEOQ'}\n",
      "_________________________________________________________________________________________________________________________\n",
      "Mesaje de la API de Facebook-> \n",
      " {'object': 'page', 'entry': [{'id': '430761350747124', 'time': 1601660097142, 'messaging': [{'sender': {'id': '3812585132088508'}, 'recipient': {'id': '430761350747124'}, 'timestamp': 1601660097207, 'read': {'watermark': 1601660096844}}]}]}\n",
      "\n",
      " [.] Got %r None\n",
      "\n",
      "________________________________________read _______________________________________________________________________________\n",
      "Mensaje enviado al Nucleo Logico Read->  {\"payload\": {\"robot\": \"none\", \"id_face\": \"430761350747124\", \"recipient_id\": \"3812585132088508\", \"access_token\": \"none\", \"content\": \"\", \"type_resp\": \"read\", \"state\": \"none\", \"blocktype\": \"none\", \"opciones\": \"none\", \"entities\": {}}}"
     ]
    },
    {
     "name": "stderr",
     "output_type": "stream",
     "text": [
      "127.0.0.1 - - [02/Oct/2020 12:35:02] \"POST /apiREST/v1 HTTP/1.1\" 200 -\n"
     ]
    },
    {
     "name": "stdout",
     "output_type": "stream",
     "text": [
      "\n",
      "hilo consume\n",
      "b'{\"Respuesta\": {\"content\": \"\\\\u00bfQu\\\\u00e9 deseas hacer?\", \"next_id\": \"NLPpersonalidad_01inicial_inicial\", \"blockType\": \"input\", \"contentType\": \"text\", \"typingTime\": \"1\", \"payload\": {\"content\": \"\", \"state\": \"pregunta_01inicial_inicial\", \"recipient_id\": \"3812585132088508\", \"entities\": {\"qr_menuIntro\": \"\\\\u00a1ok veamos!\"}, \"access_token\": \"EAAJjZAQWaAbgBAAxC53jaIzoxSpgY3qZBc0pYDlb5g3E58pTJ35vAzrsZBVSyiYPhpgZB3ZAeNqx18ImA0LZCcsqL96hFDqsE9fcXUk52ofVsqWeerVDKp0cGo2wvohq5ISdkCUX7ZByd4c80Y6BstQYbe5noQhC8L7wdtMuKyZAAgZDZD\"}, \"validacion\": \".*\", \"default_id\": \"NLPpersonalidad_01inicial_inicial\"}}'\n",
      "\n",
      "_________________________________________________________________________________________________________________________\n",
      "Respuesta del Nucleo Logico->  {'Respuesta': {'content': '¿Qué deseas hacer?', 'next_id': 'NLPpersonalidad_01inicial_inicial', 'blockType': 'input', 'contentType': 'text', 'typingTime': '1', 'payload': {'content': '', 'state': 'pregunta_01inicial_inicial', 'recipient_id': '3812585132088508', 'entities': {'qr_menuIntro': '¡ok veamos!'}, 'access_token': 'EAAJjZAQWaAbgBAAxC53jaIzoxSpgY3qZBc0pYDlb5g3E58pTJ35vAzrsZBVSyiYPhpgZB3ZAeNqx18ImA0LZCcsqL96hFDqsE9fcXUk52ofVsqWeerVDKp0cGo2wvohq5ISdkCUX7ZByd4c80Y6BstQYbe5noQhC8L7wdtMuKyZAAgZDZD'}, 'validacion': '.*', 'default_id': 'NLPpersonalidad_01inicial_inicial'}}\n",
      "\n",
      "---------------------------------------------------------------------------\n",
      "mensaje enviado a la API de facebook:\n",
      " {'recipient_id': '3812585132088508', 'message_id': 'm_Ej5qNJZExAgduNfSGgSkIIDIHsg4Bwph1PFsDRmK-uFocu61y2S2_mQEVkXfy_yi_53Yc25qEtcTV8tfSEtS7Q'}\n",
      " [.] Got %r None\n",
      "\n",
      "_________________________________________________________________________________________________________________________\n",
      "Mesaje de la API de Facebook-> \n",
      " {'object': 'page', 'entry': [{'id': '430761350747124', 'time': 1601660110184, 'messaging': [{'sender': {'id': '3812585132088508'}, 'recipient': {'id': '430761350747124'}, 'timestamp': 1601660110280, 'read': {'watermark': 1601660109082}}]}]}\n",
      "\n",
      "_________________________________________________________________________________________________________________________\n",
      "Mesaje de la API de Facebook-> \n",
      " {'object': 'page', 'entry': [{'id': '430761350747124', 'time': 1601660115077, 'messaging': [{'sender': {'id': '3812585132088508'}, 'recipient': {'id': '430761350747124'}, 'timestamp': 1601660114991, 'message': {'mid': 'm_ZQakxKFJ_RPxlWDhRoJ7H4DIHsg4Bwph1PFsDRmK-uEMs5BpZtM2O08J5tue93jZXs1X8UR-Tl3wvrqqefDSUQ', 'text': 'pruebas'}}]}]}\n"
     ]
    },
    {
     "name": "stderr",
     "output_type": "stream",
     "text": [
      "127.0.0.1 - - [02/Oct/2020 12:35:20] \"POST /apiREST/v1 HTTP/1.1\" 200 -\n"
     ]
    },
    {
     "name": "stdout",
     "output_type": "stream",
     "text": [
      "\n",
      "________________________________________read _______________________________________________________________________________\n",
      "Mensaje enviado al Nucleo Logico Read->  {\"payload\": {\"robot\": \"none\", \"id_face\": \"430761350747124\", \"recipient_id\": \"3812585132088508\", \"access_token\": \"none\", \"content\": \"\", \"type_resp\": \"read\", \"state\": \"none\", \"blocktype\": \"none\", \"opciones\": \"none\", \"entities\": {}}}\n",
      "hilo consume\n",
      "b'{\"payload\": {\"robot\": 340, \"id_face\": \"430761350747124\", \"recipient_id\": \"3812585132088508\", \"access_token\": \"EAAJjZAQWaAbgBAAxC53jaIzoxSpgY3qZBc0pYDlb5g3E58pTJ35vAzrsZBVSyiYPhpgZB3ZAeNqx18ImA0LZCcsqL96hFDqsE9fcXUk52ofVsqWeerVDKp0cGo2wvohq5ISdkCUX7ZByd4c80Y6BstQYbe5noQhC8L7wdtMuKyZAAgZDZD\", \"content\": \"\", \"type_resp\": \"read\", \"state\": \"none\", \"blocktype\": \"none\", \"opciones\": \"none\", \"entities\": {}}}'\n",
      " [.] Got %r"
     ]
    },
    {
     "name": "stderr",
     "output_type": "stream",
     "text": [
      "127.0.0.1 - - [02/Oct/2020 12:35:22] \"POST /apiREST/v1 HTTP/1.1\" 200 -\n"
     ]
    },
    {
     "name": "stdout",
     "output_type": "stream",
     "text": [
      " None\n",
      "hilo consume\n",
      "______________________________________________no read__________________________________________________________________________\n",
      "Mensaje enviado al Nucleo Logico->  {\"payload\": {\"robot\": \"none\", \"id_face\": \"430761350747124\", \"recipient_id\": \"3812585132088508\", \"access_token\": \"none\", \"content\": \"pruebas\", \"type_resp\": \"message\", \"state\": \"none\", \"blocktype\": \"none\", \"opciones\": \"none\", \"entities\": {}}}\n",
      "\n",
      "b'{\"Respuesta\": {\"content\": \"Mmmm yo tengo 21 a\\\\u00f1os con 6 meses\", \"next_id\": \"mensajePreMenu_01inicial_inicial\", \"blockType\": \"informativo\", \"contentType\": \"text\", \"typingTime\": \"3\", \"payload\": {\"content\": \"\", \"state\": \"infoEdad_01inicial_inicial\", \"recipient_id\": \"3812585132088508\", \"entities\": {\"qr_menuIntro\": \"\\\\u00a1ok veamos!\", \"var_pregunta\": \"pruebas\"}, \"access_token\": \"EAAJjZAQWaAbgBAAxC53jaIzoxSpgY3qZBc0pYDlb5g3E58pTJ35vAzrsZBVSyiYPhpgZB3ZAeNqx18ImA0LZCcsqL96hFDqsE9fcXUk52ofVsqWeerVDKp0cGo2wvohq5ISdkCUX7ZByd4c80Y6BstQYbe5noQhC8L7wdtMuKyZAAgZDZD\"}}}'\n",
      "\n",
      "_________________________________________________________________________________________________________________________\n",
      "Respuesta del Nucleo Logico->  {'Respuesta': {'content': 'Mmmm yo tengo 21 años con 6 meses', 'next_id': 'mensajePreMenu_01inicial_inicial', 'blockType': 'informativo', 'contentType': 'text', 'typingTime': '3', 'payload': {'content': '', 'state': 'infoEdad_01inicial_inicial', 'recipient_id': '3812585132088508', 'entities': {'qr_menuIntro': '¡ok veamos!', 'var_pregunta': 'pruebas'}, 'access_token': 'EAAJjZAQWaAbgBAAxC53jaIzoxSpgY3qZBc0pYDlb5g3E58pTJ35vAzrsZBVSyiYPhpgZB3ZAeNqx18ImA0LZCcsqL96hFDqsE9fcXUk52ofVsqWeerVDKp0cGo2wvohq5ISdkCUX7ZByd4c80Y6BstQYbe5noQhC8L7wdtMuKyZAAgZDZD'}}}\n",
      "\n",
      "---------------------------------------------------------------------------\n",
      "mensaje enviado a la API de facebook:\n",
      " {'recipient_id': '3812585132088508', 'message_id': 'm_M97YeW9_lxgbvSwDPm30t4DIHsg4Bwph1PFsDRmK-uE_0HZsqzvS5sU8Zi0_CI6FjuKO7Kv3bauDjdTsuorXtw'}\n",
      " [.] Got %r None\n",
      "\n",
      "_________________________________________________________________________________________________________________________\n",
      "Mesaje de la API de Facebook-> \n",
      " {'object': 'page', 'entry': [{'id': '430761350747124', 'time': 1601660170002, 'messaging': [{'sender': {'id': '3812585132088508'}, 'recipient': {'id': '430761350747124'}, 'timestamp': 1601660170098, 'read': {'watermark': 1601660143925}}]}]}\n",
      "\n",
      "________________________________________read _______________________________________________________________________________\n",
      "Mensaje enviado al Nucleo Logico Read-> "
     ]
    },
    {
     "name": "stderr",
     "output_type": "stream",
     "text": [
      "127.0.0.1 - - [02/Oct/2020 12:36:24] \"POST /apiREST/v1 HTTP/1.1\" 200 -\n"
     ]
    },
    {
     "name": "stdout",
     "output_type": "stream",
     "text": [
      " {\"payload\": {\"robot\": \"none\", \"id_face\": \"430761350747124\", \"recipient_id\": \"3812585132088508\", \"access_token\": \"none\", \"content\": \"\", \"type_resp\": \"read\", \"state\": \"none\", \"blocktype\": \"none\", \"opciones\": \"none\", \"entities\": {}}}\n",
      "hilo consume\n",
      "\n",
      "_________________________________________________________________________________________________________________________\n",
      "Mesaje de la API de Facebook-> \n",
      " {'object': 'page', 'entry': [{'id': '430761350747124', 'time': 1601660236076, 'messaging': [{'sender': {'id': '3812585132088508'}, 'recipient': {'id': '430761350747124'}, 'timestamp': 1601660235979, 'message': {'mid': 'm_-aS-N5WIo5Q6zwUL5a42AIDIHsg4Bwph1PFsDRmK-uHdC-C2GYay2JoXIYPW9WXpW-qaOPJL8kNdRAMBq6I0KA', 'text': 'ok'}}]}]}\n",
      "hilo consume\n",
      "b'{\"Respuesta\": {\"content\": \"\\\\u00bfQu\\\\u00e9 te gustar\\\\u00eda hacer?\", \"next_id\": \"next\", \"blockType\": \"informativo\", \"contentType\": \"text\", \"typingTime\": \"3\", \"payload\": {\"content\": \"\", \"state\": \"mensajePreMenu_01inicial_inicial\", \"recipient_id\": \"3812585132088508\", \"entities\": {\"qr_menuIntro\": \"\\\\u00a1ok veamos!\", \"var_pregunta\": \"pruebas\"}, \"access_token\": \"EAAJjZAQWaAbgBAAxC53jaIzoxSpgY3qZBc0pYDlb5g3E58pTJ35vAzrsZBVSyiYPhpgZB3ZAeNqx18ImA0LZCcsqL96hFDqsE9fcXUk52ofVsqWeerVDKp0cGo2wvohq5ISdkCUX7ZByd4c80Y6BstQYbe5noQhC8L7wdtMuKyZAAgZDZD\"}}}'\n",
      "\n",
      "_________________________________________________________________________________________________________________________\n",
      "Respuesta del Nucleo Logico->  {'Respuesta': {'content': '¿Qué te gustaría hacer?', 'next_id': 'next', 'blockType': 'informativo', 'contentType': 'text', 'typingTime': '3', 'payload': {'content': '', 'state': 'mensajePreMenu_01inicial_inicial', 'recipient_id': '3812585132088508', 'entities': {'qr_menuIntro': '¡ok veamos!', 'var_pregunta': 'pruebas'}, 'access_token': 'EAAJjZAQWaAbgBAAxC53jaIzoxSpgY3qZBc0pYDlb5g3E58pTJ35vAzrsZBVSyiYPhpgZB3ZAeNqx18ImA0LZCcsqL96hFDqsE9fcXUk52ofVsqWeerVDKp0cGo2wvohq5ISdkCUX7ZByd4c80Y6BstQYbe5noQhC8L7wdtMuKyZAAgZDZD'}}}\n",
      "\n",
      "______________________________________________no read__________________________________________________________________________"
     ]
    },
    {
     "name": "stderr",
     "output_type": "stream",
     "text": [
      "127.0.0.1 - - [02/Oct/2020 12:37:35] \"POST /apiREST/v1 HTTP/1.1\" 200 -\n"
     ]
    },
    {
     "name": "stdout",
     "output_type": "stream",
     "text": [
      "\n",
      "Mensaje enviado al Nucleo Logico->  {\"payload\": {\"robot\": \"none\", \"id_face\": \"430761350747124\", \"recipient_id\": \"3812585132088508\", \"access_token\": \"none\", \"content\": \"ok\", \"type_resp\": \"message\", \"state\": \"none\", \"blocktype\": \"none\", \"opciones\": \"none\", \"entities\": {}}}\n",
      "\n",
      "---------------------------------------------------------------------------\n",
      "mensaje enviado a la API de facebook:\n",
      " {'recipient_id': '3812585132088508', 'message_id': 'm_4KCzvCmBzKkAwpuV1FQ0J4DIHsg4Bwph1PFsDRmK-uGbuj3tYkop-WradLFzHta2Iat3ywq8wXsHIE2SszbIIw'}\n",
      " [.] Got %r None\n",
      "\n",
      "_________________________________________________________________________________________________________________________\n",
      "Mesaje de la API de Facebook-> \n",
      " {'object': 'page', 'entry': [{'id': '430761350747124', 'time': 1601660271152, 'messaging': [{'sender': {'id': '3812585132088508'}, 'recipient': {'id': '430761350747124'}, 'timestamp': 1601660271307, 'read': {'watermark': 1601660269494}}]}]}\n",
      "\n",
      "________________________________________read _______________________________________________________________________________\n",
      "Mensaje enviado al Nucleo Logico Read->  {\"payload\": {\"robot\": \"none\", \"id_face\": \"430761350747124\", \"recipient_id\": \"3812585132088508\", \"access_token\": \"none\", \"content\": \"\", \"type_resp\": \"read\", \"state\": \"none\", \"blocktype\": \"none\", \"opciones\": \"none\", \"entities\": {}}}\n",
      "hilo consume\n",
      "b'{\"Respuesta\": {\"content\": \"Selecciona una opci\\\\u00f3n\", \"next_id\": \"mensajesIntroduccion_01inicial_inicial,infoEdad_01inicial_inicial,infoColor_01inicial_inicial\", \"blockType\": \"quickReply\", \"contentType\": \" \", \"typingTime\": \"3\", \"payload\": {\"content\": \"\", \"state\": \"qrPersonalidad_01inicial_inicial\", \"recipient_id\": \"3812585132088508\", \"entities\": {\"qr_menuIntro\": \"\\\\u00a1ok veamos!\", \"var_pregunta\": \"pruebas\"}, \"access_token\": \"EAAJjZAQWaAbgBAAxC53jaIzoxSpgY3qZBc0pYDlb5g3E58pTJ35vAzrsZBVSyiYPhpgZB3ZAeNqx18ImA0LZCcsqL96hFDqsE9fcXUk52ofVsqWeerVDKp0cGo2wvohq5ISdkCUX7ZByd4c80Y6BstQYbe5noQhC8L7wdtMuKyZAAgZDZD\"}, \"options\": [\"\\\\u00bfCon qui\\\\u00e9n estoy hablando?\", \"\\\\u00bfQu\\\\u00e9 edad tienes?\", \"\\\\u00bfCu\\\\u00e1l es tu color favorito?\"], \"default_id\": \"NLPpersonalidad_01inicial_inicial\", \"save_var\": \"0\"}}'\n",
      "\n",
      "_________________________________________________________________________________________________________________________\n",
      "Respuesta del Nucleo Logico->  {'Respuesta': {'content': 'Selecciona una opción', 'next_id': 'mensajesIntroduccion_01inicial_inicial,infoEdad_01inicial_inicial,infoColor_01inicial_inicial', 'blockType': 'quickReply', 'contentType': ' ', 'typingTime': '3', 'payload': {'content': '', 'state': 'qrPersonalidad_01inicial_inicial', 'recipient_id': '3812585132088508', 'entities': {'qr_menuIntro': '¡ok veamos!', 'var_pregunta': 'pruebas'}, 'access_token': 'EAAJjZAQWaAbgBAAxC53jaIzoxSpgY3qZBc0pYDlb5g3E58pTJ35vAzrsZBVSyiYPhpgZB3ZAeNqx18ImA0LZCcsqL96hFDqsE9fcXUk52ofVsqWeerVDKp0cGo2wvohq5ISdkCUX7ZByd4c80Y6BstQYbe5noQhC8L7wdtMuKyZAAgZDZD'}, 'options': ['¿Con quién estoy hablando?', '¿Qué edad tienes?', '¿Cuál es tu color favorito?'], 'default_id': 'NLPpersonalidad_01inicial_inicial', 'save_var': '0'}}\n"
     ]
    },
    {
     "name": "stderr",
     "output_type": "stream",
     "text": [
      "127.0.0.1 - - [02/Oct/2020 12:37:59] \"POST /apiREST/v1 HTTP/1.1\" 200 -\n"
     ]
    },
    {
     "name": "stdout",
     "output_type": "stream",
     "text": [
      "\n",
      "_________________________________________________________________________________________________________________________\n",
      "Mesaje de la API de Facebook-> \n",
      " {'object': 'page', 'entry': [{'id': '430761350747124', 'time': 1601660283246, 'messaging': [{'sender': {'id': '3812585132088508'}, 'recipient': {'id': '430761350747124'}, 'timestamp': 1601660283179, 'message': {'mid': 'm_VqgTQrH3OpNhLyQRnjtjzIDIHsg4Bwph1PFsDRmK-uEREG62vHOxmjjmAvvbmI8v84MDXCmZHeItxNP83D7tgw', 'text': 'pruebas'}}]}]}\n"
     ]
    },
    {
     "name": "stderr",
     "output_type": "stream",
     "text": [
      "127.0.0.1 - - [02/Oct/2020 12:38:11] \"POST /apiREST/v1 HTTP/1.1\" 200 -\n"
     ]
    },
    {
     "name": "stdout",
     "output_type": "stream",
     "text": [
      "hilo consume\n",
      "\n",
      "______________________________________________no read__________________________________________________________________________\n",
      "Mensaje enviado al Nucleo Logico->  {\"payload\": {\"robot\": \"none\", \"id_face\": \"430761350747124\", \"recipient_id\": \"3812585132088508\", \"access_token\": \"none\", \"content\": \"pruebas\", \"type_resp\": \"message\", \"state\": \"none\", \"blocktype\": \"none\", \"opciones\": \"none\", \"entities\": {}}}\n",
      "\n",
      "---------------------------------------------------------------------------\n",
      "mensaje enviado a la API de facebook:\n",
      " {'recipient_id': '3812585132088508', 'message_id': 'm_cg-bT_1PotdbLhv5LoXpyYDIHsg4Bwph1PFsDRmK-uFts6J1-9qC451T-3wxHlha4E_xv4nZzooWAGCJCKNuRg'}\n",
      " [.] Got %r None\n",
      "b'{\"Respuesta\": {\"content\": \"Mmmm yo tengo 21 a\\\\u00f1os con 6 meses\", \"next_id\": \"mensajePreMenu_01inicial_inicial\", \"blockType\": \"informativo\", \"contentType\": \"text\", \"typingTime\": \"3\", \"payload\": {\"content\": \"\", \"state\": \"infoEdad_01inicial_inicial\", \"recipient_id\": \"3812585132088508\", \"entities\": {\"qr_menuIntro\": \"\\\\u00a1ok veamos!\", \"var_pregunta\": \"pruebas\", \"qr_personalidad\": \"pruebas\"}, \"access_token\": \"EAAJjZAQWaAbgBAAxC53jaIzoxSpgY3qZBc0pYDlb5g3E58pTJ35vAzrsZBVSyiYPhpgZB3ZAeNqx18ImA0LZCcsqL96hFDqsE9fcXUk52ofVsqWeerVDKp0cGo2wvohq5ISdkCUX7ZByd4c80Y6BstQYbe5noQhC8L7wdtMuKyZAAgZDZD\"}}}'\n",
      "\n",
      "_________________________________________________________________________________________________________________________\n",
      "Respuesta del Nucleo Logico->  {'Respuesta': {'content': 'Mmmm yo tengo 21 años con 6 meses', 'next_id': 'mensajePreMenu_01inicial_inicial', 'blockType': 'informativo', 'contentType': 'text', 'typingTime': '3', 'payload': {'content': '', 'state': 'infoEdad_01inicial_inicial', 'recipient_id': '3812585132088508', 'entities': {'qr_menuIntro': '¡ok veamos!', 'var_pregunta': 'pruebas', 'qr_personalidad': 'pruebas'}, 'access_token': 'EAAJjZAQWaAbgBAAxC53jaIzoxSpgY3qZBc0pYDlb5g3E58pTJ35vAzrsZBVSyiYPhpgZB3ZAeNqx18ImA0LZCcsqL96hFDqsE9fcXUk52ofVsqWeerVDKp0cGo2wvohq5ISdkCUX7ZByd4c80Y6BstQYbe5noQhC8L7wdtMuKyZAAgZDZD'}}}\n",
      "\n",
      "_________________________________________________________________________________________________________________________\n",
      "Mesaje de la API de Facebook-> \n",
      " {'object': 'page', 'entry': [{'id': '430761350747124', 'time': 1601660293098, 'messaging': [{'sender': {'id': '3812585132088508'}, 'recipient': {'id': '430761350747124'}, 'timestamp': 1601660293249, 'read': {'watermark': 1601660291179}}]}]}\n",
      "\n",
      "_________________________________________________________________________________________________________________________\n",
      "Mesaje de la API de Facebook-> \n",
      " {'object': 'page', 'entry': [{'id': '430761350747124', 'time': 1601660295153, 'messaging': [{'sender': {'id': '3812585132088508'}, 'recipient': {'id': '430761350747124'}, 'timestamp': 1601660295005, 'postback': {'title': '¿Con quién estoy hablan...', 'payload': '¿Con quién estoy hablando?'}}]}]}\n"
     ]
    },
    {
     "name": "stderr",
     "output_type": "stream",
     "text": [
      "127.0.0.1 - - [02/Oct/2020 12:38:22] \"POST /apiREST/v1 HTTP/1.1\" 200 -\n"
     ]
    },
    {
     "name": "stdout",
     "output_type": "stream",
     "text": [
      "\n",
      "________________________________________read _______________________________________________________________________________\n",
      "Mensaje enviado al Nucleo Logico Read->  {\"payload\": {\"robot\": \"none\", \"id_face\": \"430761350747124\", \"recipient_id\": \"3812585132088508\", \"access_token\": \"none\", \"content\": \"\", \"type_resp\": \"read\", \"state\": \"none\", \"blocktype\": \"none\", \"opciones\": \"none\", \"entities\": {}}}\n",
      "hilo consume\n",
      "b'{\"Respuesta\": {\"content\": \"\\\\u00bfAhora en qu\\\\u00e9 puedo ayudarte?\", \"next_id\": \"next\", \"blockType\": \"informativo\", \"contentType\": \"text\", \"typingTime\": \"3\", \"payload\": {\"content\": \"\", \"state\": \"mensajePreMenu_01inicial_inicial\", \"recipient_id\": \"3812585132088508\", \"entities\": {\"qr_menuIntro\": \"\\\\u00a1ok veamos!\", \"var_pregunta\": \"pruebas\", \"qr_personalidad\": \"pruebas\"}, \"access_token\": \"EAAJjZAQWaAbgBAAxC53jaIzoxSpgY3qZBc0pYDlb5g3E58pTJ35vAzrsZBVSyiYPhpgZB3ZAeNqx18ImA0LZCcsqL96hFDqsE9fcXUk52ofVsqWeerVDKp0cGo2wvohq5ISdkCUX7ZByd4c80Y6BstQYbe5noQhC8L7wdtMuKyZAAgZDZD\"}}}'\n",
      "\n",
      "_________________________________________________________________________________________________________________________\n",
      "Respuesta del Nucleo Logico->  {'Respuesta': {'content': '¿Ahora en qué puedo ayudarte?', 'next_id': 'next', 'blockType': 'informativo', 'contentType': 'text', 'typingTime': '3', 'payload': {'content': '', 'state': 'mensajePreMenu_01inicial_inicial', 'recipient_id': '3812585132088508', 'entities': {'qr_menuIntro': '¡ok veamos!', 'var_pregunta': 'pruebas', 'qr_personalidad': 'pruebas'}, 'access_token': 'EAAJjZAQWaAbgBAAxC53jaIzoxSpgY3qZBc0pYDlb5g3E58pTJ35vAzrsZBVSyiYPhpgZB3ZAeNqx18ImA0LZCcsqL96hFDqsE9fcXUk52ofVsqWeerVDKp0cGo2wvohq5ISdkCUX7ZByd4c80Y6BstQYbe5noQhC8L7wdtMuKyZAAgZDZD'}}}\n",
      "\n",
      "---------------------------------------------------------------------------\n",
      "mensaje enviado a la API de facebook:\n",
      " {'recipient_id': '3812585132088508', 'message_id': 'm_2o3T77bs3TjGmtQvhkC8PYDIHsg4Bwph1PFsDRmK-uFASJfuq-1dkfw01dI_jHwF6n_VahKQaWQBUgTSbGG-xw'}\n",
      " [.] Got %r None\n"
     ]
    },
    {
     "name": "stderr",
     "output_type": "stream",
     "text": [
      "127.0.0.1 - - [02/Oct/2020 12:38:24] \"POST /apiREST/v1 HTTP/1.1\" 200 -\n"
     ]
    },
    {
     "name": "stdout",
     "output_type": "stream",
     "text": [
      "hilo consume\n",
      "b'{\"Respuesta\": {\"content\": \"Selecciona una opci\\\\u00f3n\", \"next_id\": \"mensajesIntroduccion_01inicial_inicial,infoEdad_01inicial_inicial,infoColor_01inicial_inicial\", \"blockType\": \"quickReply\", \"contentType\": \" \", \"typingTime\": \"3\", \"payload\": {\"content\": \"\", \"state\": \"qrPersonalidad_01inicial_inicial\", \"recipient_id\": \"3812585132088508\", \"entities\": {\"qr_menuIntro\": \"\\\\u00a1ok veamos!\", \"var_pregunta\": \"pruebas\", \"qr_personalidad\": \"pruebas\"}, \"access_token\": \"EAAJjZAQWaAbgBAAxC53jaIzoxSpgY3qZBc0pYDlb5g3E58pTJ35vAzrsZBVSyiYPhpgZB3ZAeNqx18ImA0LZCcsqL96hFDqsE9fcXUk52ofVsqWeerVDKp0cGo2wvohq5ISdkCUX7ZByd4c80Y6BstQYbe5noQhC8L7wdtMuKyZAAgZDZD\"}, \"options\": [\"\\\\u00bfCon qui\\\\u00e9n estoy hablando?\", \"\\\\u00bfQu\\\\u00e9 edad tienes?\", \"\\\\u00bfCu\\\\u00e1l es tu color favorito?\"], \"default_id\": \"NLPpersonalidad_01inicial_inicial\", \"save_var\": \"pruebas\"}}'\n",
      "______________________________________________no read__________________________________________________________________________\n",
      "Mensaje enviado al Nucleo Logico->  {\"payload\": {\"robot\": \"none\", \"id_face\": \"430761350747124\", \"recipient_id\": \"3812585132088508\", \"access_token\": \"none\", \"content\": \"\\u00bfCon qui\\u00e9n estoy hablando?\", \"type_resp\": \"postback\", \"state\": \"none\", \"blocktype\": \"none\", \"opciones\": \"none\", \"entities\": {}}}\n",
      "\n",
      "\n",
      "_________________________________________________________________________________________________________________________\n",
      "Respuesta del Nucleo Logico->  {'Respuesta': {'content': 'Selecciona una opción', 'next_id': 'mensajesIntroduccion_01inicial_inicial,infoEdad_01inicial_inicial,infoColor_01inicial_inicial', 'blockType': 'quickReply', 'contentType': ' ', 'typingTime': '3', 'payload': {'content': '', 'state': 'qrPersonalidad_01inicial_inicial', 'recipient_id': '3812585132088508', 'entities': {'qr_menuIntro': '¡ok veamos!', 'var_pregunta': 'pruebas', 'qr_personalidad': 'pruebas'}, 'access_token': 'EAAJjZAQWaAbgBAAxC53jaIzoxSpgY3qZBc0pYDlb5g3E58pTJ35vAzrsZBVSyiYPhpgZB3ZAeNqx18ImA0LZCcsqL96hFDqsE9fcXUk52ofVsqWeerVDKp0cGo2wvohq5ISdkCUX7ZByd4c80Y6BstQYbe5noQhC8L7wdtMuKyZAAgZDZD'}, 'options': ['¿Con quién estoy hablando?', '¿Qué edad tienes?', '¿Cuál es tu color favorito?'], 'default_id': 'NLPpersonalidad_01inicial_inicial', 'save_var': 'pruebas'}}\n",
      "\n",
      "_________________________________________________________________________________________________________________________\n",
      "\n",
      "---------------------------------------------------------------------------\n",
      "mensaje enviado a la API de facebook:\n",
      " {'recipient_id': '3812585132088508', 'message_id': 'm_XeBSBrQDLO7BnqxPEDsaLIDIHsg4Bwph1PFsDRmK-uHunLkhMw7L0uCXhdVJXz--JuoKVSXYVWs1ZkSPMCGTqQ'}Mesaje de la API de Facebook-> \n",
      " {'object': 'page', 'entry': [{'id': '430761350747124', 'time': 1601660310102, 'messaging': [{'sender': {'id': '3812585132088508'}, 'recipient': {'id': '430761350747124'}, 'timestamp': 1601660310266, 'read': {'watermark': 1601660303121}}]}]}\n",
      "\n",
      "\n",
      "_________________________________________________________________________________________________________________________ [.] Got %r\n",
      "Mesaje de la API de Facebook-> \n",
      " {'object': 'page', 'entry': [{'id': '430761350747124', 'time': 1601660311202, 'messaging': [{'sender': {'id': '3812585132088508'}, 'recipient': {'id': '430761350747124'}, 'timestamp': 1601660311284, 'read': {'watermark': 1601660310962}}]}]}\n",
      " None\n",
      "\n",
      "_________________________________________________________________________________________________________________________\n",
      "Mesaje de la API de Facebook-> \n",
      " {'object': 'page', 'entry': [{'id': '430761350747124', 'time': 1601660315661, 'messaging': [{'sender': {'id': '3812585132088508'}, 'recipient': {'id': '430761350747124'}, 'timestamp': 1601660315776, 'read': {'watermark': 1601660315306}}]}]}\n",
      "\n",
      "---------------------------------------------------------------------------\n",
      "mensaje enviado a la API de facebook:\n",
      " {'recipient_id': '3812585132088508', 'message_id': 'm_C_K49NPkj-LMD79TtlLqSoDIHsg4Bwph1PFsDRmK-uG01euq5AltaGtAFCVEGjkRQYpzt_QAojKsaYTdFH81tg'}\n",
      " [.] Got %r None\n"
     ]
    },
    {
     "name": "stderr",
     "output_type": "stream",
     "text": [
      "127.0.0.1 - - [02/Oct/2020 12:38:39] \"POST /apiREST/v1 HTTP/1.1\" 200 -\n"
     ]
    },
    {
     "name": "stdout",
     "output_type": "stream",
     "text": [
      "\n",
      "________________________________________read _______________________________________________________________________________\n",
      "Mensaje enviado al Nucleo Logico Read->  {\"payload\": {\"robot\": \"none\", \"id_face\": \"430761350747124\", \"recipient_id\": \"3812585132088508\", \"access_token\": \"none\", \"content\": \"\", \"type_resp\": \"read\", \"state\": \"none\", \"blocktype\": \"none\", \"opciones\": \"none\", \"entities\": {}}}\n",
      "hilo consume\n",
      "b'{\"payload\": {\"robot\": 340, \"id_face\": \"430761350747124\", \"recipient_id\": \"3812585132088508\", \"access_token\": \"EAAJjZAQWaAbgBAAxC53jaIzoxSpgY3qZBc0pYDlb5g3E58pTJ35vAzrsZBVSyiYPhpgZB3ZAeNqx18ImA0LZCcsqL96hFDqsE9fcXUk52ofVsqWeerVDKp0cGo2wvohq5ISdkCUX7ZByd4c80Y6BstQYbe5noQhC8L7wdtMuKyZAAgZDZD\", \"content\": \"\", \"type_resp\": \"read\", \"state\": \"none\", \"blocktype\": \"none\", \"opciones\": \"none\", \"entities\": {}}}'\n",
      "________________________________________read _______________________________________________________________________________\n",
      " [.] Got %r None\n",
      "\n",
      "Mensaje enviado al Nucleo Logico Read->  {\"payload\": {\"robot\": \"none\", \"id_face\": \"430761350747124\", \"recipient_id\": \"3812585132088508\", \"access_token\": \"none\", \"content\": \"\", \"type_resp\": \"read\", \"state\": \"none\", \"blocktype\": \"none\", \"opciones\": \"none\", \"entities\": {}}}\n",
      "hilo consume\n",
      "b'{\"payload\": {\"robot\": 340, \"id_face\": \"430761350747124\", \"recipient_id\": \"3812585132088508\", \"access_token\": \"EAAJjZAQWaAbgBAAxC53jaIzoxSpgY3qZBc0pYDlb5g3E58pTJ35vAzrsZBVSyiYPhpgZB3ZAeNqx18ImA0LZCcsqL96hFDqsE9fcXUk52ofVsqWeerVDKp0cGo2wvohq5ISdkCUX7ZByd4c80Y6BstQYbe5noQhC8L7wdtMuKyZAAgZDZD\", \"content\": \"\", \"type_resp\": \"read\", \"state\": \"none\", \"blocktype\": \"none\", \"opciones\": \"none\", \"entities\": {}}}'\n",
      " [.] Got %r None\n"
     ]
    },
    {
     "name": "stderr",
     "output_type": "stream",
     "text": [
      "127.0.0.1 - - [02/Oct/2020 12:38:42] \"POST /apiREST/v1 HTTP/1.1\" 200 -\n"
     ]
    },
    {
     "name": "stdout",
     "output_type": "stream",
     "text": [
      "\n",
      "________________________________________read _______________________________________________________________________________\n",
      "Mensaje enviado al Nucleo Logico Read->  {\"payload\": {\"robot\": \"none\", \"id_face\": \"430761350747124\", \"recipient_id\": \"3812585132088508\", \"access_token\": \"none\", \"content\": \"\", \"type_resp\": \"read\", \"state\": \"none\", \"blocktype\": \"none\", \"opciones\": \"none\", \"entities\": {}}}\n",
      "hilo consume\n",
      "\n",
      "_________________________________________________________________________________________________________________________\n",
      "Mesaje de la API de Facebook-> \n",
      " {'object': 'page', 'entry': [{'id': '430761350747124', 'time': 1601660326224, 'messaging': [{'sender': {'id': '3812585132088508'}, 'recipient': {'id': '430761350747124'}, 'timestamp': 1601660326007, 'postback': {'title': '¿Cuál es tu color favor...', 'payload': '¿Cuál es tu color favorito?'}}]}]}\n",
      "b'{\"payload\": {\"robot\": 340, \"id_face\": \"430761350747124\", \"recipient_id\": \"3812585132088508\", \"access_token\": \"EAAJjZAQWaAbgBAAxC53jaIzoxSpgY3qZBc0pYDlb5g3E58pTJ35vAzrsZBVSyiYPhpgZB3ZAeNqx18ImA0LZCcsqL96hFDqsE9fcXUk52ofVsqWeerVDKp0cGo2wvohq5ISdkCUX7ZByd4c80Y6BstQYbe5noQhC8L7wdtMuKyZAAgZDZD\", \"content\": \"\", \"type_resp\": \"read\", \"state\": \"none\", \"blocktype\": \"none\", \"opciones\": \"none\", \"entities\": {}}}'\n",
      " [.] Got %r None\n"
     ]
    },
    {
     "name": "stderr",
     "output_type": "stream",
     "text": [
      "127.0.0.1 - - [02/Oct/2020 12:38:46] \"POST /apiREST/v1 HTTP/1.1\" 200 -\n",
      "127.0.0.1 - - [02/Oct/2020 12:38:58] \"POST /apiREST/v1 HTTP/1.1\" 200 -\n"
     ]
    },
    {
     "name": "stdout",
     "output_type": "stream",
     "text": [
      "hilo consume\n",
      "\n",
      "______________________________________________no read__________________________________________________________________________\n",
      "Mensaje enviado al Nucleo Logico->  {\"payload\": {\"robot\": \"none\", \"id_face\": \"430761350747124\", \"recipient_id\": \"3812585132088508\", \"access_token\": \"none\", \"content\": \"\\u00bfCu\\u00e1l es tu color favorito?\", \"type_resp\": \"postback\", \"state\": \"none\", \"blocktype\": \"none\", \"opciones\": \"none\", \"entities\": {}}}\n",
      "b'{\"Respuesta\": {\"content\": \"Mi color favorito es el azul porque me recuerda el cielo y el mar.\", \"next_id\": \"mensajePreMenu_01inicial_inicial\", \"blockType\": \"informativo\", \"contentType\": \"text\", \"typingTime\": \"3\", \"payload\": {\"content\": \"\", \"state\": \"infoColor_01inicial_inicial\", \"recipient_id\": \"3812585132088508\", \"entities\": {\"qr_menuIntro\": \"\\\\u00a1ok veamos!\", \"var_pregunta\": \"pruebas\", \"qr_personalidad\": \"\\\\u00bfCu\\\\u00e1l es tu color favorito?\"}, \"access_token\": \"EAAJjZAQWaAbgBAAxC53jaIzoxSpgY3qZBc0pYDlb5g3E58pTJ35vAzrsZBVSyiYPhpgZB3ZAeNqx18ImA0LZCcsqL96hFDqsE9fcXUk52ofVsqWeerVDKp0cGo2wvohq5ISdkCUX7ZByd4c80Y6BstQYbe5noQhC8L7wdtMuKyZAAgZDZD\"}}}'\n",
      "\n",
      "_________________________________________________________________________________________________________________________\n",
      "Respuesta del Nucleo Logico->  {'Respuesta': {'content': 'Mi color favorito es el azul porque me recuerda el cielo y el mar.', 'next_id': 'mensajePreMenu_01inicial_inicial', 'blockType': 'informativo', 'contentType': 'text', 'typingTime': '3', 'payload': {'content': '', 'state': 'infoColor_01inicial_inicial', 'recipient_id': '3812585132088508', 'entities': {'qr_menuIntro': '¡ok veamos!', 'var_pregunta': 'pruebas', 'qr_personalidad': '¿Cuál es tu color favorito?'}, 'access_token': 'EAAJjZAQWaAbgBAAxC53jaIzoxSpgY3qZBc0pYDlb5g3E58pTJ35vAzrsZBVSyiYPhpgZB3ZAeNqx18ImA0LZCcsqL96hFDqsE9fcXUk52ofVsqWeerVDKp0cGo2wvohq5ISdkCUX7ZByd4c80Y6BstQYbe5noQhC8L7wdtMuKyZAAgZDZD'}}}\n",
      "\n",
      "---------------------------------------------------------------------------\n",
      "mensaje enviado a la API de facebook:\n",
      " {'recipient_id': '3812585132088508', 'message_id': 'm_1DujXP7lLx560gY3HiSxdoDIHsg4Bwph1PFsDRmK-uERSe0028kyuVTczdUxcUvXM4O4VhblMs-UwQwcVphaCQ'}\n",
      " [.] Got %r None\n",
      "\n",
      "_________________________________________________________________________________________________________________________\n",
      "Mesaje de la API de Facebook-> \n",
      " {'object': 'page', 'entry': [{'id': '430761350747124', 'time': 1601660402601, 'messaging': [{'sender': {'id': '3812585132088508'}, 'recipient': {'id': '430761350747124'}, 'timestamp': 1601660402718, 'read': {'watermark': 1601660368894}}]}]}\n"
     ]
    },
    {
     "name": "stderr",
     "output_type": "stream",
     "text": [
      "[2020-10-02 12:40:19,165] ERROR in app: Exception on /apiREST/v1 [POST]\n",
      "Traceback (most recent call last):\n",
      "  File \"/home/oliverbupe/anaconda3/lib/python3.7/site-packages/flask/app.py\", line 2446, in wsgi_app\n",
      "    response = self.full_dispatch_request()\n",
      "  File \"/home/oliverbupe/anaconda3/lib/python3.7/site-packages/flask/app.py\", line 1951, in full_dispatch_request\n",
      "    rv = self.handle_user_exception(e)\n",
      "  File \"/home/oliverbupe/anaconda3/lib/python3.7/site-packages/flask/app.py\", line 1820, in handle_user_exception\n",
      "    reraise(exc_type, exc_value, tb)\n",
      "  File \"/home/oliverbupe/anaconda3/lib/python3.7/site-packages/flask/_compat.py\", line 39, in reraise\n",
      "    raise value\n",
      "  File \"/home/oliverbupe/anaconda3/lib/python3.7/site-packages/flask/app.py\", line 1949, in full_dispatch_request\n",
      "    rv = self.dispatch_request()\n",
      "  File \"/home/oliverbupe/anaconda3/lib/python3.7/site-packages/flask/app.py\", line 1935, in dispatch_request\n",
      "    return self.view_functions[rule.endpoint](**req.view_args)\n",
      "  File \"<ipython-input-13-7d123f23061a>\", line 31, in receive_message\n",
      "    N_C = Nucleo_Cliente2(nombreHilo)\n",
      "  File \"<ipython-input-12-f2727190537e>\", line 10, in __init__\n",
      "    self.connection = pika.BlockingConnection(pika.ConnectionParameters('localhost'))\n",
      "  File \"/home/oliverbupe/anaconda3/lib/python3.7/site-packages/pika/adapters/blocking_connection.py\", line 359, in __init__\n",
      "    self._impl = self._create_connection(parameters, _impl_class)\n",
      "  File \"/home/oliverbupe/anaconda3/lib/python3.7/site-packages/pika/adapters/blocking_connection.py\", line 450, in _create_connection\n",
      "    raise self._reap_last_connection_workflow_error(error)\n",
      "pika.exceptions.ProbableAccessDeniedError: StreamLostError: (\"Stream connection lost: ConnectionResetError(104, 'Connection reset by peer')\",)\n",
      "127.0.0.1 - - [02/Oct/2020 12:40:23] \"POST /apiREST/v1 HTTP/1.1\" 500 -\n"
     ]
    },
    {
     "name": "stdout",
     "output_type": "stream",
     "text": [
      "\n",
      "_________________________________________________________________________________________________________________________\n",
      "Mesaje de la API de Facebook-> \n",
      " {'object': 'page', 'entry': [{'id': '430761350747124', 'time': 1601660432664, 'messaging': [{'sender': {'id': '3812585132088508'}, 'recipient': {'id': '430761350747124'}, 'timestamp': 1601660432592, 'message': {'mid': 'm_NQW7UfrekaCnUKaa0kyTM4DIHsg4Bwph1PFsDRmK-uHkXUYallQgoKi43YjeNedqnzstY7CGlCJV9o8OtfK1CQ', 'text': 'ok'}}]}]}\n",
      "hilo consume\n",
      "______________________________________________no read__________________________________________________________________________\n",
      "\n",
      "b'{\"Respuesta\": {\"content\": \"\\\\u00bfAhora en qu\\\\u00e9 puedo ayudarte?\", \"next_id\": \"next\", \"blockType\": \"informativo\", \"contentType\": \"text\", \"typingTime\": \"3\", \"payload\": {\"content\": \"\", \"state\": \"mensajePreMenu_01inicial_inicial\", \"recipient_id\": \"3812585132088508\", \"entities\": {\"qr_menuIntro\": \"\\\\u00a1ok veamos!\", \"var_pregunta\": \"pruebas\", \"qr_personalidad\": \"\\\\u00bfCu\\\\u00e1l es tu color favorito?\"}, \"access_token\": \"EAAJjZAQWaAbgBAAxC53jaIzoxSpgY3qZBc0pYDlb5g3E58pTJ35vAzrsZBVSyiYPhpgZB3ZAeNqx18ImA0LZCcsqL96hFDqsE9fcXUk52ofVsqWeerVDKp0cGo2wvohq5ISdkCUX7ZByd4c80Y6BstQYbe5noQhC8L7wdtMuKyZAAgZDZD\"}}}'\n",
      "\n",
      "_________________________________________________________________________________________________________________________\n",
      "Respuesta del Nucleo Logico->  {'Respuesta': {'content': '¿Ahora en qué puedo ayudarte?', 'next_id': 'next', 'blockType': 'informativo', 'contentType': 'text', 'typingTime': '3', 'payload': {'content': '', 'state': 'mensajePreMenu_01inicial_inicial', 'recipient_id': '3812585132088508', 'entities': {'qr_menuIntro': '¡ok veamos!', 'var_pregunta': 'pruebas', 'qr_personalidad': '¿Cuál es tu color favorito?'}, 'access_token': 'EAAJjZAQWaAbgBAAxC53jaIzoxSpgY3qZBc0pYDlb5g3E58pTJ35vAzrsZBVSyiYPhpgZB3ZAeNqx18ImA0LZCcsqL96hFDqsE9fcXUk52ofVsqWeerVDKp0cGo2wvohq5ISdkCUX7ZByd4c80Y6BstQYbe5noQhC8L7wdtMuKyZAAgZDZD'}}}\n",
      "Mensaje enviado al Nucleo Logico-> "
     ]
    },
    {
     "name": "stderr",
     "output_type": "stream",
     "text": [
      "127.0.0.1 - - [02/Oct/2020 12:40:42] \"POST /apiREST/v1 HTTP/1.1\" 200 -\n"
     ]
    },
    {
     "name": "stdout",
     "output_type": "stream",
     "text": [
      " {\"payload\": {\"robot\": \"none\", \"id_face\": \"430761350747124\", \"recipient_id\": \"3812585132088508\", \"access_token\": \"none\", \"content\": \"ok\", \"type_resp\": \"message\", \"state\": \"none\", \"blocktype\": \"none\", \"opciones\": \"none\", \"entities\": {}}}\n",
      "\n",
      "---------------------------------------------------------------------------\n",
      "mensaje enviado a la API de facebook:\n",
      " {'recipient_id': '3812585132088508', 'message_id': 'm_Rjfzq5W7WivJA2xmgEP5Y4DIHsg4Bwph1PFsDRmK-uFw5ZbFJgNSN7hyFwyopeRmrudgpGoAYGLYuChJPb6amw'}\n",
      " [.] Got %r None\n",
      "\n",
      "_________________________________________________________________________________________________________________________\n",
      "Mesaje de la API de Facebook-> \n",
      " {'object': 'page', 'entry': [{'id': '430761350747124', 'time': 1601660555123, 'messaging': [{'sender': {'id': '3812585132088508'}, 'recipient': {'id': '430761350747124'}, 'timestamp': 1601660555269, 'read': {'watermark': 1601660458208}}]}]}\n",
      "\n",
      "________________________________________read _______________________________________________________________________________\n",
      "Mensaje enviado al Nucleo Logico Read->  {\"payload\": {\"robot\": \"none\", \"id_face\": \"430761350747124\", \"recipient_id\": \"3812585132088508\", \"access_token\": \"none\", \"content\": \"\", \"type_resp\": \"read\", \"state\": \"none\", \"blocktype\": \"none\", \"opciones\": \"none\", \"entities\": {}}}\n",
      "hilo consume"
     ]
    },
    {
     "name": "stderr",
     "output_type": "stream",
     "text": [
      "127.0.0.1 - - [02/Oct/2020 12:42:43] \"POST /apiREST/v1 HTTP/1.1\" 200 -\n"
     ]
    },
    {
     "name": "stdout",
     "output_type": "stream",
     "text": [
      "\n",
      "b'{\"Respuesta\": {\"content\": \"Selecciona una opci\\\\u00f3n\", \"next_id\": \"mensajesIntroduccion_01inicial_inicial,infoEdad_01inicial_inicial,infoColor_01inicial_inicial\", \"blockType\": \"quickReply\", \"contentType\": \" \", \"typingTime\": \"3\", \"payload\": {\"content\": \"\", \"state\": \"qrPersonalidad_01inicial_inicial\", \"recipient_id\": \"3812585132088508\", \"entities\": {\"qr_menuIntro\": \"\\\\u00a1ok veamos!\", \"var_pregunta\": \"pruebas\", \"qr_personalidad\": \"\\\\u00bfCu\\\\u00e1l es tu color favorito?\"}, \"access_token\": \"EAAJjZAQWaAbgBAAxC53jaIzoxSpgY3qZBc0pYDlb5g3E58pTJ35vAzrsZBVSyiYPhpgZB3ZAeNqx18ImA0LZCcsqL96hFDqsE9fcXUk52ofVsqWeerVDKp0cGo2wvohq5ISdkCUX7ZByd4c80Y6BstQYbe5noQhC8L7wdtMuKyZAAgZDZD\"}, \"options\": [\"\\\\u00bfCon qui\\\\u00e9n estoy hablando?\", \"\\\\u00bfQu\\\\u00e9 edad tienes?\", \"\\\\u00bfCu\\\\u00e1l es tu color favorito?\"], \"default_id\": \"NLPpersonalidad_01inicial_inicial\", \"save_var\": \"\\\\u00bfCu\\\\u00e1l es tu color favorito?\"}}'\n",
      "\n",
      "_________________________________________________________________________________________________________________________\n",
      "Respuesta del Nucleo Logico->  {'Respuesta': {'content': 'Selecciona una opción', 'next_id': 'mensajesIntroduccion_01inicial_inicial,infoEdad_01inicial_inicial,infoColor_01inicial_inicial', 'blockType': 'quickReply', 'contentType': ' ', 'typingTime': '3', 'payload': {'content': '', 'state': 'qrPersonalidad_01inicial_inicial', 'recipient_id': '3812585132088508', 'entities': {'qr_menuIntro': '¡ok veamos!', 'var_pregunta': 'pruebas', 'qr_personalidad': '¿Cuál es tu color favorito?'}, 'access_token': 'EAAJjZAQWaAbgBAAxC53jaIzoxSpgY3qZBc0pYDlb5g3E58pTJ35vAzrsZBVSyiYPhpgZB3ZAeNqx18ImA0LZCcsqL96hFDqsE9fcXUk52ofVsqWeerVDKp0cGo2wvohq5ISdkCUX7ZByd4c80Y6BstQYbe5noQhC8L7wdtMuKyZAAgZDZD'}, 'options': ['¿Con quién estoy hablando?', '¿Qué edad tienes?', '¿Cuál es tu color favorito?'], 'default_id': 'NLPpersonalidad_01inicial_inicial', 'save_var': '¿Cuál es tu color favorito?'}}\n",
      "\n",
      "---------------------------------------------------------------------------\n",
      "mensaje enviado a la API de facebook:\n",
      " {'recipient_id': '3812585132088508', 'message_id': 'm_s_p4EBp5oKcb4jvdEje4wIDIHsg4Bwph1PFsDRmK-uEE0F1nHi54k4qsF19id7JAUxKjT2UYgej72S-CguEx0w'}\n",
      " [.] Got %r None\n",
      "\n",
      "_________________________________________________________________________________________________________________________\n",
      "Mesaje de la API de Facebook-> \n",
      " {'object': 'page', 'entry': [{'id': '430761350747124', 'time': 1601660573802, 'messaging': [{'sender': {'id': '3812585132088508'}, 'recipient': {'id': '430761350747124'}, 'timestamp': 1601660573877, 'read': {'watermark': 1601660573412}}]}]}\n",
      "\n",
      "_________________________________________________________________________________________________________________________\n",
      "Mesaje de la API de Facebook-> \n",
      " {'object': 'page', 'entry': [{'id': '430761350747124', 'time': 1601660576068, 'messaging': [{'sender': {'id': '3812585132088508'}, 'recipient': {'id': '430761350747124'}, 'timestamp': 1601660575925, 'postback': {'title': '¿Con quién estoy hablan...', 'payload': '¿Con quién estoy hablando?'}}]}]}\n",
      "\n",
      "________________________________________read _______________________________________________________________________________\n",
      "Mensaje enviado al Nucleo Logico Read->  {\"payload\": {\"robot\": \"none\", \"id_face\": \"430761350747124\", \"recipient_id\": \"3812585132088508\", \"access_token\": \"none\", \"content\": \"\", \"type_resp\": \"read\", \"state\": \"none\", \"blocktype\": \"none\", \"opciones\": \"none\", \"entities\": {}}}\n",
      "hilo consume\n",
      "b'{\"payload\": {\"robot\": 340, \"id_face\": \"430761350747124\", \"recipient_id\": \"3812585132088508\", \"access_token\": \"EAAJjZAQWaAbgBAAxC53jaIzoxSpgY3qZBc0pYDlb5g3E58pTJ35vAzrsZBVSyiYPhpgZB3ZAeNqx18ImA0LZCcsqL96hFDqsE9fcXUk52ofVsqWeerVDKp0cGo2wvohq5ISdkCUX7ZByd4c80Y6BstQYbe5noQhC8L7wdtMuKyZAAgZDZD\", \"content\": \"\", \"type_resp\": \"read\", \"state\": \"none\", \"blocktype\": \"none\", \"opciones\": \"none\", \"entities\": {}}}'\n",
      " [.] Got %r None\n"
     ]
    },
    {
     "name": "stderr",
     "output_type": "stream",
     "text": [
      "127.0.0.1 - - [02/Oct/2020 12:43:02] \"POST /apiREST/v1 HTTP/1.1\" 200 -\n",
      "127.0.0.1 - - [02/Oct/2020 12:43:03] \"POST /apiREST/v1 HTTP/1.1\" 200 -\n"
     ]
    },
    {
     "name": "stdout",
     "output_type": "stream",
     "text": [
      "hilo consume\n",
      "b'{\"Respuesta\": {\"content\": \"\\\\u00a1Hola! Soy Niza.\", \"next_id\": \"next\", \"blockType\": \"informativo\", \"contentType\": \"text\", \"typingTime\": \"3\", \"payload\": {\"content\": \"\", \"state\": \"mensajesIntroduccion_01inicial_inicial\", \"recipient_id\": \"3812585132088508\", \"entities\": {\"qr_menuIntro\": \"\\\\u00a1ok veamos!\", \"var_pregunta\": \"pruebas\", \"qr_personalidad\": \"\\\\u00bfCon qui\\\\u00e9n estoy hablando?\"}, \"access_token\": \"EAAJjZAQWaAbgBAAxC53jaIzoxSpgY3qZBc0pYDlb5g3E58pTJ35vAzrsZBVSyiYPhpgZB3ZAeNqx18ImA0LZCcsqL96hFDqsE9fcXUk52ofVsqWeerVDKp0cGo2wvohq5ISdkCUX7ZByd4c80Y6BstQYbe5noQhC8L7wdtMuKyZAAgZDZD\"}}}'\n",
      "______________________________________________no read__________________________________________________________________________\n",
      "\n",
      "\n",
      "_________________________________________________________________________________________________________________________Mensaje enviado al Nucleo Logico->  {\"payload\": {\"robot\": \"none\", \"id_face\": \"430761350747124\", \"recipient_id\": \"3812585132088508\", \"access_token\": \"none\", \"content\": \"\\u00bfCon qui\\u00e9n estoy hablando?\", \"type_resp\": \"postback\", \"state\": \"none\", \"blocktype\": \"none\", \"opciones\": \"none\", \"entities\": {}}}\n",
      "\n",
      "Respuesta del Nucleo Logico->  {'Respuesta': {'content': '¡Hola! Soy Niza.', 'next_id': 'next', 'blockType': 'informativo', 'contentType': 'text', 'typingTime': '3', 'payload': {'content': '', 'state': 'mensajesIntroduccion_01inicial_inicial', 'recipient_id': '3812585132088508', 'entities': {'qr_menuIntro': '¡ok veamos!', 'var_pregunta': 'pruebas', 'qr_personalidad': '¿Con quién estoy hablando?'}, 'access_token': 'EAAJjZAQWaAbgBAAxC53jaIzoxSpgY3qZBc0pYDlb5g3E58pTJ35vAzrsZBVSyiYPhpgZB3ZAeNqx18ImA0LZCcsqL96hFDqsE9fcXUk52ofVsqWeerVDKp0cGo2wvohq5ISdkCUX7ZByd4c80Y6BstQYbe5noQhC8L7wdtMuKyZAAgZDZD'}}}\n",
      "\n",
      "---------------------------------------------------------------------------\n",
      "mensaje enviado a la API de facebook:\n",
      " {'recipient_id': '3812585132088508', 'message_id': 'm_TQfCwATK2rnqX43eZsioE4DIHsg4Bwph1PFsDRmK-uEKuU0jvRryjHEtLFk-etlRMAKnt7fQ1UDpngeV-YT7xQ'}\n",
      " [.] Got %r None\n",
      "\n",
      "_________________________________________________________________________________________________________________________\n",
      "Mesaje de la API de Facebook-> \n",
      " {'object': 'page', 'entry': [{'id': '430761350747124', 'time': 1601660598558, 'messaging': [{'sender': {'id': '3812585132088508'}, 'recipient': {'id': '430761350747124'}, 'timestamp': 1601660598678, 'read': {'watermark': 1601660596444}}]}]}\n",
      "\n",
      "________________________________________read _______________________________________________________________________________\n",
      "Mensaje enviado al Nucleo Logico Read->  {\"payload\": {\"robot\": \"none\", \"id_face\": \"430761350747124\", \"recipient_id\": \"3812585132088508\", \"access_token\": \"none\", \"content\": \"\", \"type_resp\": \"read\", \"state\": \"none\", \"blocktype\": \"none\", \"opciones\": \"none\", \"entities\": {}}}\n",
      "hilo consume"
     ]
    },
    {
     "name": "stderr",
     "output_type": "stream",
     "text": [
      "127.0.0.1 - - [02/Oct/2020 12:43:34] \"POST /apiREST/v1 HTTP/1.1\" 200 -\n"
     ]
    },
    {
     "name": "stdout",
     "output_type": "stream",
     "text": [
      "\n",
      "b'{\"Respuesta\": {\"content\": \"Un asistente virtual para atenci\\\\u00f3n ciudadana puedo responder dudas sobre tu agua potable\", \"next_id\": \"next\", \"blockType\": \"informativo\", \"contentType\": \"text\", \"typingTime\": \"3\", \"payload\": {\"content\": \"\", \"state\": \"mensajesIntroduccion_01inicial_inicial\", \"recipient_id\": \"3812585132088508\", \"entities\": {\"qr_menuIntro\": \"\\\\u00a1ok veamos!\", \"var_pregunta\": \"pruebas\", \"qr_personalidad\": \"\\\\u00bfCon qui\\\\u00e9n estoy hablando?\"}, \"access_token\": \"EAAJjZAQWaAbgBAAxC53jaIzoxSpgY3qZBc0pYDlb5g3E58pTJ35vAzrsZBVSyiYPhpgZB3ZAeNqx18ImA0LZCcsqL96hFDqsE9fcXUk52ofVsqWeerVDKp0cGo2wvohq5ISdkCUX7ZByd4c80Y6BstQYbe5noQhC8L7wdtMuKyZAAgZDZD\"}}}'\n",
      "\n",
      "_________________________________________________________________________________________________________________________\n",
      "Respuesta del Nucleo Logico->  {'Respuesta': {'content': 'Un asistente virtual para atención ciudadana puedo responder dudas sobre tu agua potable', 'next_id': 'next', 'blockType': 'informativo', 'contentType': 'text', 'typingTime': '3', 'payload': {'content': '', 'state': 'mensajesIntroduccion_01inicial_inicial', 'recipient_id': '3812585132088508', 'entities': {'qr_menuIntro': '¡ok veamos!', 'var_pregunta': 'pruebas', 'qr_personalidad': '¿Con quién estoy hablando?'}, 'access_token': 'EAAJjZAQWaAbgBAAxC53jaIzoxSpgY3qZBc0pYDlb5g3E58pTJ35vAzrsZBVSyiYPhpgZB3ZAeNqx18ImA0LZCcsqL96hFDqsE9fcXUk52ofVsqWeerVDKp0cGo2wvohq5ISdkCUX7ZByd4c80Y6BstQYbe5noQhC8L7wdtMuKyZAAgZDZD'}}}\n",
      "\n",
      "---------------------------------------------------------------------------\n",
      "mensaje enviado a la API de facebook:\n",
      " {'recipient_id': '3812585132088508', 'message_id': 'm_jdL0AWOhYKeKj9WYcEBAwYDIHsg4Bwph1PFsDRmK-uEZqxPRnG6IjqGuZSP03CGoS7lpMquF2r9fZzOeJICIxQ'}\n",
      " [.] Got %r None\n",
      "\n",
      "_________________________________________________________________________________________________________________________\n",
      "Mesaje de la API de Facebook-> \n",
      " {'object': 'page', 'entry': [{'id': '430761350747124', 'time': 1601660623722, 'messaging': [{'sender': {'id': '3812585132088508'}, 'recipient': {'id': '430761350747124'}, 'timestamp': 1601660623822, 'read': {'watermark': 1601660621201}}]}]}\n"
     ]
    },
    {
     "name": "stderr",
     "output_type": "stream",
     "text": [
      "127.0.0.1 - - [02/Oct/2020 12:43:48] \"POST /apiREST/v1 HTTP/1.1\" 200 -\n"
     ]
    },
    {
     "name": "stdout",
     "output_type": "stream",
     "text": [
      "\n",
      "________________________________________read _______________________________________________________________________________\n",
      "Mensaje enviado al Nucleo Logico Read->  {\"payload\": {\"robot\": \"none\", \"id_face\": \"430761350747124\", \"recipient_id\": \"3812585132088508\", \"access_token\": \"none\", \"content\": \"\", \"type_resp\": \"read\", \"state\": \"none\", \"blocktype\": \"none\", \"opciones\": \"none\", \"entities\": {}}}\n",
      "hilo consume\n",
      "b'{\"Respuesta\": {\"content\": \"Te gustar\\\\u00eda saber c\\\\u00f3mo utilizarme\", \"next_id\": \"next\", \"blockType\": \"informativo\", \"contentType\": \"text\", \"typingTime\": \"3\", \"payload\": {\"content\": \"\", \"state\": \"mensajesIntroduccion_01inicial_inicial\", \"recipient_id\": \"3812585132088508\", \"entities\": {\"qr_menuIntro\": \"\\\\u00a1ok veamos!\", \"var_pregunta\": \"pruebas\", \"qr_personalidad\": \"\\\\u00bfCon qui\\\\u00e9n estoy hablando?\"}, \"access_token\": \"EAAJjZAQWaAbgBAAxC53jaIzoxSpgY3qZBc0pYDlb5g3E58pTJ35vAzrsZBVSyiYPhpgZB3ZAeNqx18ImA0LZCcsqL96hFDqsE9fcXUk52ofVsqWeerVDKp0cGo2wvohq5ISdkCUX7ZByd4c80Y6BstQYbe5noQhC8L7wdtMuKyZAAgZDZD\"}}}'\n",
      "\n",
      "_________________________________________________________________________________________________________________________\n",
      "Respuesta del Nucleo Logico->  {'Respuesta': {'content': 'Te gustaría saber cómo utilizarme', 'next_id': 'next', 'blockType': 'informativo', 'contentType': 'text', 'typingTime': '3', 'payload': {'content': '', 'state': 'mensajesIntroduccion_01inicial_inicial', 'recipient_id': '3812585132088508', 'entities': {'qr_menuIntro': '¡ok veamos!', 'var_pregunta': 'pruebas', 'qr_personalidad': '¿Con quién estoy hablando?'}, 'access_token': 'EAAJjZAQWaAbgBAAxC53jaIzoxSpgY3qZBc0pYDlb5g3E58pTJ35vAzrsZBVSyiYPhpgZB3ZAeNqx18ImA0LZCcsqL96hFDqsE9fcXUk52ofVsqWeerVDKp0cGo2wvohq5ISdkCUX7ZByd4c80Y6BstQYbe5noQhC8L7wdtMuKyZAAgZDZD'}}}\n",
      "\n",
      "---------------------------------------------------------------------------\n",
      "mensaje enviado a la API de facebook:\n",
      " {'recipient_id': '3812585132088508', 'message_id': 'm_CHwtNVAAdnRwIo3lbtYLZIDIHsg4Bwph1PFsDRmK-uHchClOf0gxqQJZe4QgsS6KpMpgRMdfxRcGyjUkfhMjaQ'}\n",
      " [.] Got %r None\n",
      "\n",
      "_________________________________________________________________________________________________________________________\n",
      "Mesaje de la API de Facebook-> \n",
      " {'object': 'page', 'entry': [{'id': '430761350747124', 'time': 1601660668393, 'messaging': [{'sender': {'id': '3812585132088508'}, 'recipient': {'id': '430761350747124'}, 'timestamp': 1601660668454, 'read': {'watermark': 1601660639533}}]}]}\n",
      "\n",
      "________________________________________read _______________________________________________________________________________\n",
      "Mensaje enviado al Nucleo Logico Read->  {\"payload\": {\"robot\": \"none\", \"id_face\": \"430761350747124\", \"recipient_id\": \"3812585132088508\", \"access_token\": \"none\", \"content\": \"\", \"type_resp\": \"read\", \"state\": \"none\", \"blocktype\": \"none\", \"opciones\": \"none\", \"entities\": {}}}\n",
      "hilo consume\n"
     ]
    },
    {
     "name": "stderr",
     "output_type": "stream",
     "text": [
      "127.0.0.1 - - [02/Oct/2020 12:44:33] \"POST /apiREST/v1 HTTP/1.1\" 200 -\n"
     ]
    },
    {
     "name": "stdout",
     "output_type": "stream",
     "text": [
      "b'{\"Respuesta\": {\"content\": \"Toca uno de los botones azules para saber tu elecci\\\\u00f3n\", \"next_id\": \"mensajesIntroduccion2_01inicial_inicial,mensajePreMenu_01inicial_inicial\", \"blockType\": \"quickReply\", \"contentType\": \" \", \"typingTime\": \"5\", \"payload\": {\"content\": \"\", \"state\": \"menuIntroduccion_01inicial_inicial\", \"recipient_id\": \"3812585132088508\", \"entities\": {\"qr_menuIntro\": \"\\\\u00a1ok veamos!\", \"var_pregunta\": \"pruebas\", \"qr_personalidad\": \"\\\\u00bfCon qui\\\\u00e9n estoy hablando?\"}, \"access_token\": \"EAAJjZAQWaAbgBAAxC53jaIzoxSpgY3qZBc0pYDlb5g3E58pTJ35vAzrsZBVSyiYPhpgZB3ZAeNqx18ImA0LZCcsqL96hFDqsE9fcXUk52ofVsqWeerVDKp0cGo2wvohq5ISdkCUX7ZByd4c80Y6BstQYbe5noQhC8L7wdtMuKyZAAgZDZD\"}, \"options\": [\"\\\\u00a1ok veamos!\", \"Prefiero ir al men\\\\u00fa\"], \"default_id\": \"mensajePreMenu_01inicial_inicial\", \"save_var\": \"\\\\u00a1ok veamos!\"}}'\n",
      "\n",
      "_________________________________________________________________________________________________________________________\n",
      "Respuesta del Nucleo Logico->  {'Respuesta': {'content': 'Toca uno de los botones azules para saber tu elección', 'next_id': 'mensajesIntroduccion2_01inicial_inicial,mensajePreMenu_01inicial_inicial', 'blockType': 'quickReply', 'contentType': ' ', 'typingTime': '5', 'payload': {'content': '', 'state': 'menuIntroduccion_01inicial_inicial', 'recipient_id': '3812585132088508', 'entities': {'qr_menuIntro': '¡ok veamos!', 'var_pregunta': 'pruebas', 'qr_personalidad': '¿Con quién estoy hablando?'}, 'access_token': 'EAAJjZAQWaAbgBAAxC53jaIzoxSpgY3qZBc0pYDlb5g3E58pTJ35vAzrsZBVSyiYPhpgZB3ZAeNqx18ImA0LZCcsqL96hFDqsE9fcXUk52ofVsqWeerVDKp0cGo2wvohq5ISdkCUX7ZByd4c80Y6BstQYbe5noQhC8L7wdtMuKyZAAgZDZD'}, 'options': ['¡ok veamos!', 'Prefiero ir al menú'], 'default_id': 'mensajePreMenu_01inicial_inicial', 'save_var': '¡ok veamos!'}}\n",
      "\n",
      "---------------------------------------------------------------------------\n",
      "mensaje enviado a la API de facebook:\n",
      " {'recipient_id': '3812585132088508', 'message_id': 'm_bcWWwpxSqvA3txPnQ1SY0YDIHsg4Bwph1PFsDRmK-uGJ37tUO4UVqv5fxrPWTzQLG2VX0qhmXksGIVoHpji0MA'}\n",
      " [.] Got %r None\n",
      "\n",
      "_________________________________________________________________________________________________________________________\n",
      "Mesaje de la API de Facebook-> \n",
      " {'object': 'page', 'entry': [{'id': '430761350747124', 'time': 1601660683702, 'messaging': [{'sender': {'id': '3812585132088508'}, 'recipient': {'id': '430761350747124'}, 'timestamp': 1601660683862, 'read': {'watermark': 1601660683385}}]}]}\n",
      "\n",
      "_________________________________________________________________________________________________________________________\n",
      "Mesaje de la API de Facebook-> \n",
      " {'object': 'page', 'entry': [{'id': '430761350747124', 'time': 1601660686211, 'messaging': [{'sender': {'id': '3812585132088508'}, 'recipient': {'id': '430761350747124'}, 'timestamp': 1601660686067, 'postback': {'title': '¡ok veamos!', 'payload': '¡ok veamos!'}}]}]}\n",
      "\n",
      "_________________________________________________________________________________________________________________________\n",
      "Mesaje de la API de Facebook-> \n",
      " {'object': 'page', 'entry': [{'id': '430761350747124', 'time': 1601660700384, 'messaging': [{'sender': {'id': '3812585132088508'}, 'recipient': {'id': '430761350747124'}, 'timestamp': 1601660686067, 'postback': {'title': '¡ok veamos!', 'payload': '¡ok veamos!'}}]}]}\n"
     ]
    },
    {
     "name": "stderr",
     "output_type": "stream",
     "text": [
      "[2020-10-02 12:45:05,186] ERROR in app: Exception on /apiREST/v1 [POST]\n",
      "Traceback (most recent call last):\n",
      "  File \"/home/oliverbupe/anaconda3/lib/python3.7/site-packages/flask/app.py\", line 2446, in wsgi_app\n",
      "    response = self.full_dispatch_request()\n",
      "  File \"/home/oliverbupe/anaconda3/lib/python3.7/site-packages/flask/app.py\", line 1951, in full_dispatch_request\n",
      "    rv = self.handle_user_exception(e)\n",
      "  File \"/home/oliverbupe/anaconda3/lib/python3.7/site-packages/flask/app.py\", line 1820, in handle_user_exception\n",
      "    reraise(exc_type, exc_value, tb)\n",
      "  File \"/home/oliverbupe/anaconda3/lib/python3.7/site-packages/flask/_compat.py\", line 39, in reraise\n",
      "    raise value\n",
      "  File \"/home/oliverbupe/anaconda3/lib/python3.7/site-packages/flask/app.py\", line 1949, in full_dispatch_request\n",
      "    rv = self.dispatch_request()\n",
      "  File \"/home/oliverbupe/anaconda3/lib/python3.7/site-packages/flask/app.py\", line 1935, in dispatch_request\n",
      "    return self.view_functions[rule.endpoint](**req.view_args)\n",
      "  File \"<ipython-input-13-7d123f23061a>\", line 31, in receive_message\n",
      "    N_C = Nucleo_Cliente2(nombreHilo)\n",
      "  File \"<ipython-input-12-f2727190537e>\", line 10, in __init__\n",
      "    self.connection = pika.BlockingConnection(pika.ConnectionParameters('localhost'))\n",
      "  File \"/home/oliverbupe/anaconda3/lib/python3.7/site-packages/pika/adapters/blocking_connection.py\", line 359, in __init__\n",
      "    self._impl = self._create_connection(parameters, _impl_class)\n",
      "  File \"/home/oliverbupe/anaconda3/lib/python3.7/site-packages/pika/adapters/blocking_connection.py\", line 450, in _create_connection\n",
      "    raise self._reap_last_connection_workflow_error(error)\n",
      "pika.exceptions.ProbableAccessDeniedError: StreamLostError: (\"Stream connection lost: ConnectionResetError(104, 'Connection reset by peer')\",)\n",
      "127.0.0.1 - - [02/Oct/2020 12:45:09] \"POST /apiREST/v1 HTTP/1.1\" 500 -\n"
     ]
    },
    {
     "name": "stdout",
     "output_type": "stream",
     "text": [
      "hilo consume\n",
      "b'{\"Respuesta\": {\"content\": \"Soy un robot que funciona con un sistema autom\\\\u00e1tico llamado inteligencia artificial.\", \"next_id\": \"next\", \"blockType\": \"informativo\", \"contentType\": \"text\", \"typingTime\": \"3\", \"payload\": {\"content\": \"\", \"state\": \"mensajesIntroduccion2_01inicial_inicial\", \"recipient_id\": \"3812585132088508\", \"entities\": {\"qr_menuIntro\": \"\\\\u00a1ok veamos!\", \"var_pregunta\": \"pruebas\", \"qr_personalidad\": \"\\\\u00bfCon qui\\\\u00e9n estoy hablando?\"}, \"access_token\": \"EAAJjZAQWaAbgBAAxC53jaIzoxSpgY3qZBc0pYDlb5g3E58pTJ35vAzrsZBVSyiYPhpgZB3ZAeNqx18ImA0LZCcsqL96hFDqsE9fcXUk52ofVsqWeerVDKp0cGo2wvohq5ISdkCUX7ZByd4c80Y6BstQYbe5noQhC8L7wdtMuKyZAAgZDZD\"}}}'\n",
      "\n",
      "_________________________________________________________________________________________________________________________\n",
      "Respuesta del Nucleo Logico->  {'Respuesta': {'content': 'Soy un robot que funciona con un sistema automático llamado inteligencia artificial.', 'next_id': 'next', 'blockType': 'informativo', 'contentType': 'text', 'typingTime': '3', 'payload': {'content': '', 'state': 'mensajesIntroduccion2_01inicial_inicial', 'recipient_id': '3812585132088508', 'entities': {'qr_menuIntro': '¡ok veamos!', 'var_pregunta': 'pruebas', 'qr_personalidad': '¿Con quién estoy hablando?'}, 'access_token': 'EAAJjZAQWaAbgBAAxC53jaIzoxSpgY3qZBc0pYDlb5g3E58pTJ35vAzrsZBVSyiYPhpgZB3ZAeNqx18ImA0LZCcsqL96hFDqsE9fcXUk52ofVsqWeerVDKp0cGo2wvohq5ISdkCUX7ZByd4c80Y6BstQYbe5noQhC8L7wdtMuKyZAAgZDZD'}}}\n",
      "\n",
      "______________________________________________no read__________________________________________________________________________\n",
      "Mensaje enviado al Nucleo Logico-> "
     ]
    },
    {
     "name": "stderr",
     "output_type": "stream",
     "text": [
      "127.0.0.1 - - [02/Oct/2020 12:45:15] \"POST /apiREST/v1 HTTP/1.1\" 200 -\n"
     ]
    },
    {
     "name": "stdout",
     "output_type": "stream",
     "text": [
      "\n",
      "_________________________________________________________________________________________________________________________\n",
      "Mesaje de la API de Facebook-> \n",
      " {'object': 'page', 'entry': [{'id': '430761350747124', 'time': 1601660714650, 'messaging': [{'sender': {'id': '3812585132088508'}, 'recipient': {'id': '430761350747124'}, 'timestamp': 1601660686067, 'postback': {'title': '¡ok veamos!', 'payload': '¡ok veamos!'}}]}]}\n",
      " {\"payload\": {\"robot\": \"none\", \"id_face\": \"430761350747124\", \"recipient_id\": \"3812585132088508\", \"access_token\": \"none\", \"content\": \"\\u00a1ok veamos!\", \"type_resp\": \"postback\", \"state\": \"none\", \"blocktype\": \"none\", \"opciones\": \"none\", \"entities\": {}}}\n"
     ]
    },
    {
     "name": "stderr",
     "output_type": "stream",
     "text": [
      "127.0.0.1 - - [02/Oct/2020 12:45:18] \"POST /apiREST/v1 HTTP/1.1\" 200 -\n"
     ]
    },
    {
     "name": "stdout",
     "output_type": "stream",
     "text": [
      "hilo consume\n",
      "\n",
      "______________________________________________no read__________________________________________________________________________\n",
      "Mensaje enviado al Nucleo Logico->  {\"payload\": {\"robot\": \"none\", \"id_face\": \"430761350747124\", \"recipient_id\": \"3812585132088508\", \"access_token\": \"none\", \"content\": \"\\u00a1ok veamos!\", \"type_resp\": \"postback\", \"state\": \"none\", \"blocktype\": \"none\", \"opciones\": \"none\", \"entities\": {}}}\n",
      "b'{\"Respuesta\": {\"content\": \"Cada vez que escribas intentare entenderte si algo se me dificulta siempre podre contactarte con un humano.\", \"next_id\": \"next\", \"blockType\": \"informativo\", \"contentType\": \"text\", \"typingTime\": \"3\", \"payload\": {\"content\": \"\", \"state\": \"mensajesIntroduccion2_01inicial_inicial\", \"recipient_id\": \"3812585132088508\", \"entities\": {\"qr_menuIntro\": \"\\\\u00a1ok veamos!\", \"var_pregunta\": \"pruebas\", \"qr_personalidad\": \"\\\\u00bfCon qui\\\\u00e9n estoy hablando?\"}, \"access_token\": \"EAAJjZAQWaAbgBAAxC53jaIzoxSpgY3qZBc0pYDlb5g3E58pTJ35vAzrsZBVSyiYPhpgZB3ZAeNqx18ImA0LZCcsqL96hFDqsE9fcXUk52ofVsqWeerVDKp0cGo2wvohq5ISdkCUX7ZByd4c80Y6BstQYbe5noQhC8L7wdtMuKyZAAgZDZD\"}}}'\n",
      "\n",
      "_________________________________________________________________________________________________________________________"
     ]
    },
    {
     "name": "stderr",
     "output_type": "stream",
     "text": [
      "127.0.0.1 - - [02/Oct/2020 12:45:22] \"POST /apiREST/v1 HTTP/1.1\" 200 -\n"
     ]
    },
    {
     "name": "stdout",
     "output_type": "stream",
     "text": [
      "\n",
      "Respuesta del Nucleo Logico->  {'Respuesta': {'content': 'Cada vez que escribas intentare entenderte si algo se me dificulta siempre podre contactarte con un humano.', 'next_id': 'next', 'blockType': 'informativo', 'contentType': 'text', 'typingTime': '3', 'payload': {'content': '', 'state': 'mensajesIntroduccion2_01inicial_inicial', 'recipient_id': '3812585132088508', 'entities': {'qr_menuIntro': '¡ok veamos!', 'var_pregunta': 'pruebas', 'qr_personalidad': '¿Con quién estoy hablando?'}, 'access_token': 'EAAJjZAQWaAbgBAAxC53jaIzoxSpgY3qZBc0pYDlb5g3E58pTJ35vAzrsZBVSyiYPhpgZB3ZAeNqx18ImA0LZCcsqL96hFDqsE9fcXUk52ofVsqWeerVDKp0cGo2wvohq5ISdkCUX7ZByd4c80Y6BstQYbe5noQhC8L7wdtMuKyZAAgZDZD'}}}\n",
      "hilo consume\n",
      "______________________________________________no read__________________________________________________________________________\n",
      "\n",
      "Mensaje enviado al Nucleo Logico->  {\"payload\": {\"robot\": \"none\", \"id_face\": \"430761350747124\", \"recipient_id\": \"3812585132088508\", \"access_token\": \"none\", \"content\": \"\\u00a1ok veamos!\", \"type_resp\": \"postback\", \"state\": \"none\", \"blocktype\": \"none\", \"opciones\": \"none\", \"entities\": {}}}\n",
      "b'{\"Respuesta\": {\"content\": \"\\\\u00bfQu\\\\u00e9 deseas hacer?\", \"next_id\": \"NLPpersonalidad_01inicial_inicial\", \"blockType\": \"input\", \"contentType\": \"text\", \"typingTime\": \"1\", \"payload\": {\"content\": \"\", \"state\": \"pregunta_01inicial_inicial\", \"recipient_id\": \"3812585132088508\", \"entities\": {\"qr_menuIntro\": \"\\\\u00a1ok veamos!\", \"var_pregunta\": \"pruebas\", \"qr_personalidad\": \"\\\\u00bfCon qui\\\\u00e9n estoy hablando?\"}, \"access_token\": \"EAAJjZAQWaAbgBAAxC53jaIzoxSpgY3qZBc0pYDlb5g3E58pTJ35vAzrsZBVSyiYPhpgZB3ZAeNqx18ImA0LZCcsqL96hFDqsE9fcXUk52ofVsqWeerVDKp0cGo2wvohq5ISdkCUX7ZByd4c80Y6BstQYbe5noQhC8L7wdtMuKyZAAgZDZD\"}, \"validacion\": \".*\", \"default_id\": \"NLPpersonalidad_01inicial_inicial\"}}'\n",
      "\n",
      "_________________________________________________________________________________________________________________________\n",
      "Respuesta del Nucleo Logico->  {'Respuesta': {'content': '¿Qué deseas hacer?', 'next_id': 'NLPpersonalidad_01inicial_inicial', 'blockType': 'input', 'contentType': 'text', 'typingTime': '1', 'payload': {'content': '', 'state': 'pregunta_01inicial_inicial', 'recipient_id': '3812585132088508', 'entities': {'qr_menuIntro': '¡ok veamos!', 'var_pregunta': 'pruebas', 'qr_personalidad': '¿Con quién estoy hablando?'}, 'access_token': 'EAAJjZAQWaAbgBAAxC53jaIzoxSpgY3qZBc0pYDlb5g3E58pTJ35vAzrsZBVSyiYPhpgZB3ZAeNqx18ImA0LZCcsqL96hFDqsE9fcXUk52ofVsqWeerVDKp0cGo2wvohq5ISdkCUX7ZByd4c80Y6BstQYbe5noQhC8L7wdtMuKyZAAgZDZD'}, 'validacion': '.*', 'default_id': 'NLPpersonalidad_01inicial_inicial'}}\n",
      "\n",
      "---------------------------------------------------------------------------\n",
      "mensaje enviado a la API de facebook:\n",
      " {'recipient_id': '3812585132088508', 'message_id': 'm_EGYlGvmOglusi06DN255WoDIHsg4Bwph1PFsDRmK-uF1zwjrmNahgIerbQ2authiAbyVa4j463uMNmHpTwLqnA'}\n",
      " [.] Got %r None\n",
      "\n",
      "_________________________________________________________________________________________________________________________\n",
      "Mesaje de la API de Facebook-> \n",
      " {'object': 'page', 'entry': [{'id': '430761350747124', 'time': 1601660727817, 'messaging': [{'sender': {'id': '3812585132088508'}, 'recipient': {'id': '430761350747124'}, 'timestamp': 1601660727966, 'read': {'watermark': 1601660727397}}]}]}\n",
      "\n",
      "---------------------------------------------------------------------------\n",
      "mensaje enviado a la API de facebook:\n",
      " {'recipient_id': '3812585132088508', 'message_id': 'm_X0NNp0vZkMTpaPi5sUhaXYDIHsg4Bwph1PFsDRmK-uH3ukcIZDtORq5hgN77XLlIjfXN1pGSKjVwD7N1ZCmmnQ'}\n",
      " [.] Got %r None\n",
      "\n",
      "_________________________________________________________________________________________________________________________\n",
      "Mesaje de la API de Facebook-> \n",
      " {'object': 'page', 'entry': [{'id': '430761350747124', 'time': 1601660728341, 'messaging': [{'sender': {'id': '3812585132088508'}, 'recipient': {'id': '430761350747124'}, 'timestamp': 1601660728456, 'read': {'watermark': 1601660728131}}]}]}\n",
      "\n",
      "________________________________________read _______________________________________________________________________________\n",
      "Mensaje enviado al Nucleo Logico Read->  {\"payload\": {\"robot\": \"none\", \"id_face\": \"430761350747124\", \"recipient_id\": \"3812585132088508\", \"access_token\": \"none\", \"content\": \"\", \"type_resp\": \"read\", \"state\": \"none\", \"blocktype\": \"none\", \"opciones\": \"none\", \"entities\": {}}}\n",
      "hilo consume\n",
      "\n",
      "________________________________________read _______________________________________________________________________________\n",
      "Mensaje enviado al Nucleo Logico Read->  {\"payload\": {\"robot\": \"none\", \"id_face\": \"430761350747124\", \"recipient_id\": \"3812585132088508\", \"access_token\": \"none\", \"content\": \"\", \"type_resp\": \"read\", \"state\": \"none\", \"blocktype\": \"none\", \"opciones\": \"none\", \"entities\": {}}}\n"
     ]
    },
    {
     "name": "stderr",
     "output_type": "stream",
     "text": [
      "127.0.0.1 - - [02/Oct/2020 12:45:33] \"POST /apiREST/v1 HTTP/1.1\" 200 -\n",
      "127.0.0.1 - - [02/Oct/2020 12:45:33] \"POST /apiREST/v1 HTTP/1.1\" 200 -\n"
     ]
    },
    {
     "name": "stdout",
     "output_type": "stream",
     "text": [
      "hilo consume\n",
      "b'{\"payload\": {\"robot\": 340, \"id_face\": \"430761350747124\", \"recipient_id\": \"3812585132088508\", \"access_token\": \"EAAJjZAQWaAbgBAAxC53jaIzoxSpgY3qZBc0pYDlb5g3E58pTJ35vAzrsZBVSyiYPhpgZB3ZAeNqx18ImA0LZCcsqL96hFDqsE9fcXUk52ofVsqWeerVDKp0cGo2wvohq5ISdkCUX7ZByd4c80Y6BstQYbe5noQhC8L7wdtMuKyZAAgZDZD\", \"content\": \"\", \"type_resp\": \"read\", \"state\": \"none\", \"blocktype\": \"none\", \"opciones\": \"none\", \"entities\": {}}}'\n",
      " [.] Got %rb'{\"payload\": {\"robot\": 340, \"id_face\": \"430761350747124\", \"recipient_id\": \"3812585132088508\", \"access_token\": \"EAAJjZAQWaAbgBAAxC53jaIzoxSpgY3qZBc0pYDlb5g3E58pTJ35vAzrsZBVSyiYPhpgZB3ZAeNqx18ImA0LZCcsqL96hFDqsE9fcXUk52ofVsqWeerVDKp0cGo2wvohq5ISdkCUX7ZByd4c80Y6BstQYbe5noQhC8L7wdtMuKyZAAgZDZD\", \"content\": \"\", \"type_resp\": \"read\", \"state\": \"none\", \"blocktype\": \"none\", \"opciones\": \"none\", \"entities\": {}}}'\n",
      "  [.] Got %r None\n",
      "---------------------------------------------------------------------------\n",
      "mensaje enviado a la API de facebook:\n",
      " {'recipient_id': '3812585132088508', 'message_id': 'm_79zrXauie1UojrjnMnJAzYDIHsg4Bwph1PFsDRmK-uHkHmZBkLXQhZ7s6JXFhN-GPzB-1YaoRCEF_1-QMGLFNA'}\n",
      " [.] Got %r None\n",
      "None\n",
      "\n",
      "\n",
      "_________________________________________________________________________________________________________________________\n",
      "Mesaje de la API de Facebook-> \n",
      " {'object': 'page', 'entry': [{'id': '430761350747124', 'time': 1601660744794, 'messaging': [{'sender': {'id': '3812585132088508'}, 'recipient': {'id': '430761350747124'}, 'timestamp': 1601660744945, 'read': {'watermark': 1601660733037}}]}]}\n",
      "\n",
      "_________________________________________________________________________________________________________________________\n",
      "Mesaje de la API de Facebook-> \n",
      " {'object': 'page', 'entry': [{'id': '430761350747124', 'time': 1601660750325, 'messaging': [{'sender': {'id': '3812585132088508'}, 'recipient': {'id': '430761350747124'}, 'timestamp': 1601660750269, 'message': {'mid': 'm_r6yq_IlWcW_fpSuAhdrPhoDIHsg4Bwph1PFsDRmK-uGQfPGBnWfsQ7G6y5HGtk9a1_PkbinuXAFS2VCT3bRRTw', 'text': 'pruebas'}}]}]}\n",
      "\n",
      "________________________________________read _______________________________________________________________________________\n",
      "Mensaje enviado al Nucleo Logico Read->  {\"payload\": {\"robot\": \"none\", \"id_face\": \"430761350747124\", \"recipient_id\": \"3812585132088508\", \"access_token\": \"none\", \"content\": \"\", \"type_resp\": \"read\", \"state\": \"none\", \"blocktype\": \"none\", \"opciones\": \"none\", \"entities\": {}}}\n",
      "hilo consume\n"
     ]
    },
    {
     "name": "stderr",
     "output_type": "stream",
     "text": [
      "127.0.0.1 - - [02/Oct/2020 12:45:57] \"POST /apiREST/v1 HTTP/1.1\" 200 -\n"
     ]
    },
    {
     "name": "stdout",
     "output_type": "stream",
     "text": [
      "b'{\"payload\": {\"robot\": 340, \"id_face\": \"430761350747124\", \"recipient_id\": \"3812585132088508\", \"access_token\": \"EAAJjZAQWaAbgBAAxC53jaIzoxSpgY3qZBc0pYDlb5g3E58pTJ35vAzrsZBVSyiYPhpgZB3ZAeNqx18ImA0LZCcsqL96hFDqsE9fcXUk52ofVsqWeerVDKp0cGo2wvohq5ISdkCUX7ZByd4c80Y6BstQYbe5noQhC8L7wdtMuKyZAAgZDZD\", \"content\": \"\", \"type_resp\": \"read\", \"state\": \"none\", \"blocktype\": \"none\", \"opciones\": \"none\", \"entities\": {}}}'\n",
      " [.] Got %r None\n"
     ]
    },
    {
     "name": "stderr",
     "output_type": "stream",
     "text": [
      "127.0.0.1 - - [02/Oct/2020 12:46:00] \"POST /apiREST/v1 HTTP/1.1\" 200 -\n"
     ]
    },
    {
     "name": "stdout",
     "output_type": "stream",
     "text": [
      "hilo consume\n",
      "______________________________________________no read__________________________________________________________________________\n",
      "\n",
      "Mensaje enviado al Nucleo Logico->  {\"payload\": {\"robot\": \"none\", \"id_face\": \"430761350747124\", \"recipient_id\": \"3812585132088508\", \"access_token\": \"none\", \"content\": \"pruebas\", \"type_resp\": \"message\", \"state\": \"none\", \"blocktype\": \"none\", \"opciones\": \"none\", \"entities\": {}}}\n",
      "b'{\"Respuesta\": {\"content\": \"Mmmm yo tengo 21 a\\\\u00f1os con 6 meses\", \"next_id\": \"mensajePreMenu_01inicial_inicial\", \"blockType\": \"informativo\", \"contentType\": \"text\", \"typingTime\": \"3\", \"payload\": {\"content\": \"\", \"state\": \"infoEdad_01inicial_inicial\", \"recipient_id\": \"3812585132088508\", \"entities\": {\"qr_menuIntro\": \"\\\\u00a1ok veamos!\", \"var_pregunta\": \"pruebas\", \"qr_personalidad\": \"\\\\u00bfCon qui\\\\u00e9n estoy hablando?\"}, \"access_token\": \"EAAJjZAQWaAbgBAAxC53jaIzoxSpgY3qZBc0pYDlb5g3E58pTJ35vAzrsZBVSyiYPhpgZB3ZAeNqx18ImA0LZCcsqL96hFDqsE9fcXUk52ofVsqWeerVDKp0cGo2wvohq5ISdkCUX7ZByd4c80Y6BstQYbe5noQhC8L7wdtMuKyZAAgZDZD\"}}}'\n",
      "\n",
      "_________________________________________________________________________________________________________________________\n",
      "Respuesta del Nucleo Logico->  {'Respuesta': {'content': 'Mmmm yo tengo 21 años con 6 meses', 'next_id': 'mensajePreMenu_01inicial_inicial', 'blockType': 'informativo', 'contentType': 'text', 'typingTime': '3', 'payload': {'content': '', 'state': 'infoEdad_01inicial_inicial', 'recipient_id': '3812585132088508', 'entities': {'qr_menuIntro': '¡ok veamos!', 'var_pregunta': 'pruebas', 'qr_personalidad': '¿Con quién estoy hablando?'}, 'access_token': 'EAAJjZAQWaAbgBAAxC53jaIzoxSpgY3qZBc0pYDlb5g3E58pTJ35vAzrsZBVSyiYPhpgZB3ZAeNqx18ImA0LZCcsqL96hFDqsE9fcXUk52ofVsqWeerVDKp0cGo2wvohq5ISdkCUX7ZByd4c80Y6BstQYbe5noQhC8L7wdtMuKyZAAgZDZD'}}}\n",
      "\n",
      "---------------------------------------------------------------------------\n",
      "mensaje enviado a la API de facebook:\n",
      " {'recipient_id': '3812585132088508', 'message_id': 'm_buS5jYqCWz9ISV5GFxcbYYDIHsg4Bwph1PFsDRmK-uEz8h5D3rZjQwwILlf68GlfSm75cd0iNHnJElkWFxB3pQ'}\n",
      " [.] Got %r None\n",
      "\n",
      "_________________________________________________________________________________________________________________________\n",
      "Mesaje de la API de Facebook-> \n",
      " {'object': 'page', 'entry': [{'id': '430761350747124', 'time': 1601660778781, 'messaging': [{'sender': {'id': '3812585132088508'}, 'recipient': {'id': '430761350747124'}, 'timestamp': 1601660778893, 'read': {'watermark': 1601660777138}}]}]}"
     ]
    },
    {
     "name": "stderr",
     "output_type": "stream",
     "text": [
      "127.0.0.1 - - [02/Oct/2020 12:46:28] \"POST /apiREST/v1 HTTP/1.1\" 200 -\n"
     ]
    },
    {
     "name": "stdout",
     "output_type": "stream",
     "text": [
      "\n",
      "\n",
      "________________________________________read _______________________________________________________________________________\n",
      "Mensaje enviado al Nucleo Logico Read->  {\"payload\": {\"robot\": \"none\", \"id_face\": \"430761350747124\", \"recipient_id\": \"3812585132088508\", \"access_token\": \"none\", \"content\": \"\", \"type_resp\": \"read\", \"state\": \"none\", \"blocktype\": \"none\", \"opciones\": \"none\", \"entities\": {}}}\n",
      "hilo consume\n",
      "b'{\"Respuesta\": {\"content\": \"\\\\u00bfQu\\\\u00e9 te gustar\\\\u00eda hacer?\", \"next_id\": \"next\", \"blockType\": \"informativo\", \"contentType\": \"text\", \"typingTime\": \"3\", \"payload\": {\"content\": \"\", \"state\": \"mensajePreMenu_01inicial_inicial\", \"recipient_id\": \"3812585132088508\", \"entities\": {\"qr_menuIntro\": \"\\\\u00a1ok veamos!\", \"var_pregunta\": \"pruebas\", \"qr_personalidad\": \"\\\\u00bfCon qui\\\\u00e9n estoy hablando?\"}, \"access_token\": \"EAAJjZAQWaAbgBAAxC53jaIzoxSpgY3qZBc0pYDlb5g3E58pTJ35vAzrsZBVSyiYPhpgZB3ZAeNqx18ImA0LZCcsqL96hFDqsE9fcXUk52ofVsqWeerVDKp0cGo2wvohq5ISdkCUX7ZByd4c80Y6BstQYbe5noQhC8L7wdtMuKyZAAgZDZD\"}}}'\n",
      "\n",
      "_________________________________________________________________________________________________________________________\n",
      "Respuesta del Nucleo Logico->  {'Respuesta': {'content': '¿Qué te gustaría hacer?', 'next_id': 'next', 'blockType': 'informativo', 'contentType': 'text', 'typingTime': '3', 'payload': {'content': '', 'state': 'mensajePreMenu_01inicial_inicial', 'recipient_id': '3812585132088508', 'entities': {'qr_menuIntro': '¡ok veamos!', 'var_pregunta': 'pruebas', 'qr_personalidad': '¿Con quién estoy hablando?'}, 'access_token': 'EAAJjZAQWaAbgBAAxC53jaIzoxSpgY3qZBc0pYDlb5g3E58pTJ35vAzrsZBVSyiYPhpgZB3ZAeNqx18ImA0LZCcsqL96hFDqsE9fcXUk52ofVsqWeerVDKp0cGo2wvohq5ISdkCUX7ZByd4c80Y6BstQYbe5noQhC8L7wdtMuKyZAAgZDZD'}}}\n",
      "\n",
      "---------------------------------------------------------------------------\n",
      "mensaje enviado a la API de facebook:\n",
      " {'recipient_id': '3812585132088508', 'message_id': 'm_fFrvXXMMcVT2eY32qhecuIDIHsg4Bwph1PFsDRmK-uGxktywaSkgMRaCKW-Kbqp7jya1hEMQj5C9RJvO--gjXQ'}\n",
      " [.] Got %r None\n",
      "\n",
      "_________________________________________________________________________________________________________________________\n",
      "Mesaje de la API de Facebook-> \n",
      " {'object': 'page', 'entry': [{'id': '430761350747124', 'time': 1601660822601, 'messaging': [{'sender': {'id': '3812585132088508'}, 'recipient': {'id': '430761350747124'}, 'timestamp': 1601660822756, 'read': {'watermark': 1601660822286}}]}]}\n",
      "\n",
      "________________________________________read _______________________________________________________________________________\n",
      "Mensaje enviado al Nucleo Logico Read->  {\"payload\": {\"robot\": \"none\", \"id_face\": \"430761350747124\", \"recipient_id\": \"3812585132088508\", \"access_token\": \"none\", \"content\": \"\", \"type_resp\": \"read\", \"state\": \"none\", \"blocktype\": \"none\", \"opciones\": \"none\", \"entities\": {}}}\n",
      "hilo consume\n"
     ]
    },
    {
     "name": "stderr",
     "output_type": "stream",
     "text": [
      "127.0.0.1 - - [02/Oct/2020 12:47:11] \"POST /apiREST/v1 HTTP/1.1\" 200 -\n"
     ]
    },
    {
     "name": "stdout",
     "output_type": "stream",
     "text": [
      "b'{\"Respuesta\": {\"content\": \"Selecciona una opci\\\\u00f3n\", \"next_id\": \"mensajesIntroduccion_01inicial_inicial,infoEdad_01inicial_inicial,infoColor_01inicial_inicial\", \"blockType\": \"quickReply\", \"contentType\": \" \", \"typingTime\": \"3\", \"payload\": {\"content\": \"\", \"state\": \"qrPersonalidad_01inicial_inicial\", \"recipient_id\": \"3812585132088508\", \"entities\": {\"qr_menuIntro\": \"\\\\u00a1ok veamos!\", \"var_pregunta\": \"pruebas\", \"qr_personalidad\": \"\\\\u00bfCon qui\\\\u00e9n estoy hablando?\"}, \"access_token\": \"EAAJjZAQWaAbgBAAxC53jaIzoxSpgY3qZBc0pYDlb5g3E58pTJ35vAzrsZBVSyiYPhpgZB3ZAeNqx18ImA0LZCcsqL96hFDqsE9fcXUk52ofVsqWeerVDKp0cGo2wvohq5ISdkCUX7ZByd4c80Y6BstQYbe5noQhC8L7wdtMuKyZAAgZDZD\"}, \"options\": [\"\\\\u00bfCon qui\\\\u00e9n estoy hablando?\", \"\\\\u00bfQu\\\\u00e9 edad tienes?\", \"\\\\u00bfCu\\\\u00e1l es tu color favorito?\"], \"default_id\": \"NLPpersonalidad_01inicial_inicial\", \"save_var\": \"\\\\u00bfCon qui\\\\u00e9n estoy hablando?\"}}'\n",
      "\n",
      "_________________________________________________________________________________________________________________________\n",
      "Respuesta del Nucleo Logico->  {'Respuesta': {'content': 'Selecciona una opción', 'next_id': 'mensajesIntroduccion_01inicial_inicial,infoEdad_01inicial_inicial,infoColor_01inicial_inicial', 'blockType': 'quickReply', 'contentType': ' ', 'typingTime': '3', 'payload': {'content': '', 'state': 'qrPersonalidad_01inicial_inicial', 'recipient_id': '3812585132088508', 'entities': {'qr_menuIntro': '¡ok veamos!', 'var_pregunta': 'pruebas', 'qr_personalidad': '¿Con quién estoy hablando?'}, 'access_token': 'EAAJjZAQWaAbgBAAxC53jaIzoxSpgY3qZBc0pYDlb5g3E58pTJ35vAzrsZBVSyiYPhpgZB3ZAeNqx18ImA0LZCcsqL96hFDqsE9fcXUk52ofVsqWeerVDKp0cGo2wvohq5ISdkCUX7ZByd4c80Y6BstQYbe5noQhC8L7wdtMuKyZAAgZDZD'}, 'options': ['¿Con quién estoy hablando?', '¿Qué edad tienes?', '¿Cuál es tu color favorito?'], 'default_id': 'NLPpersonalidad_01inicial_inicial', 'save_var': '¿Con quién estoy hablando?'}}\n",
      "\n",
      "---------------------------------------------------------------------------\n",
      "mensaje enviado a la API de facebook:\n",
      " {'recipient_id': '3812585132088508', 'message_id': 'm_KFMVxlwiRptwwpkQIgbnv4DIHsg4Bwph1PFsDRmK-uFNKInakjIKJbHhGcgE_2seI3OVdOb9drbWBPd9O-COOg'}\n",
      " [.] Got %r None\n",
      "\n",
      "_________________________________________________________________________________________________________________________\n",
      "Mesaje de la API de Facebook-> \n",
      " {'object': 'page', 'entry': [{'id': '430761350747124', 'time': 1601660845441, 'messaging': [{'sender': {'id': '3812585132088508'}, 'recipient': {'id': '430761350747124'}, 'timestamp': 1601660845533, 'read': {'watermark': 1601660845143}}]}]}\n",
      "\n",
      "________________________________________read _______________________________________________________________________________"
     ]
    },
    {
     "name": "stderr",
     "output_type": "stream",
     "text": [
      "127.0.0.1 - - [02/Oct/2020 12:47:34] \"POST /apiREST/v1 HTTP/1.1\" 200 -\n"
     ]
    },
    {
     "name": "stdout",
     "output_type": "stream",
     "text": [
      "\n",
      "Mensaje enviado al Nucleo Logico Read->  {\"payload\": {\"robot\": \"none\", \"id_face\": \"430761350747124\", \"recipient_id\": \"3812585132088508\", \"access_token\": \"none\", \"content\": \"\", \"type_resp\": \"read\", \"state\": \"none\", \"blocktype\": \"none\", \"opciones\": \"none\", \"entities\": {}}}\n",
      "hilo consume\n",
      "b'{\"payload\": {\"robot\": 340, \"id_face\": \"430761350747124\", \"recipient_id\": \"3812585132088508\", \"access_token\": \"EAAJjZAQWaAbgBAAxC53jaIzoxSpgY3qZBc0pYDlb5g3E58pTJ35vAzrsZBVSyiYPhpgZB3ZAeNqx18ImA0LZCcsqL96hFDqsE9fcXUk52ofVsqWeerVDKp0cGo2wvohq5ISdkCUX7ZByd4c80Y6BstQYbe5noQhC8L7wdtMuKyZAAgZDZD\", \"content\": \"\", \"type_resp\": \"read\", \"state\": \"none\", \"blocktype\": \"none\", \"opciones\": \"none\", \"entities\": {}}}'\n",
      " [.] Got %r None\n",
      "\n",
      "_________________________________________________________________________________________________________________________\n",
      "Mesaje de la API de Facebook-> \n",
      " {'object': 'page', 'entry': [{'id': '430761350747124', 'time': 1601660928078, 'messaging': [{'sender': {'id': '3812585132088508'}, 'recipient': {'id': '430761350747124'}, 'timestamp': 1601660927887, 'postback': {'title': '¿Con quién estoy hablan...', 'payload': '¿Con quién estoy hablando?'}}]}]}\n",
      "hilo consume\n",
      "\n",
      "______________________________________________no read__________________________________________________________________________"
     ]
    },
    {
     "name": "stderr",
     "output_type": "stream",
     "text": [
      "127.0.0.1 - - [02/Oct/2020 12:48:55] \"POST /apiREST/v1 HTTP/1.1\" 200 -\n"
     ]
    },
    {
     "name": "stdout",
     "output_type": "stream",
     "text": [
      "\n",
      "Mensaje enviado al Nucleo Logico->  {\"payload\": {\"robot\": \"none\", \"id_face\": \"430761350747124\", \"recipient_id\": \"3812585132088508\", \"access_token\": \"none\", \"content\": \"\\u00bfCon qui\\u00e9n estoy hablando?\", \"type_resp\": \"postback\", \"state\": \"none\", \"blocktype\": \"none\", \"opciones\": \"none\", \"entities\": {}}}\n",
      "b'{\"Respuesta\": {\"content\": \"\\\\u00a1Hola! Soy Niza.\", \"next_id\": \"next\", \"blockType\": \"informativo\", \"contentType\": \"text\", \"typingTime\": \"3\", \"payload\": {\"content\": \"\", \"state\": \"mensajesIntroduccion_01inicial_inicial\", \"recipient_id\": \"3812585132088508\", \"entities\": {\"qr_menuIntro\": \"\\\\u00a1ok veamos!\", \"var_pregunta\": \"pruebas\", \"qr_personalidad\": \"\\\\u00bfCon qui\\\\u00e9n estoy hablando?\"}, \"access_token\": \"EAAJjZAQWaAbgBAAxC53jaIzoxSpgY3qZBc0pYDlb5g3E58pTJ35vAzrsZBVSyiYPhpgZB3ZAeNqx18ImA0LZCcsqL96hFDqsE9fcXUk52ofVsqWeerVDKp0cGo2wvohq5ISdkCUX7ZByd4c80Y6BstQYbe5noQhC8L7wdtMuKyZAAgZDZD\"}}}'\n",
      "\n",
      "_________________________________________________________________________________________________________________________\n",
      "Respuesta del Nucleo Logico->  {'Respuesta': {'content': '¡Hola! Soy Niza.', 'next_id': 'next', 'blockType': 'informativo', 'contentType': 'text', 'typingTime': '3', 'payload': {'content': '', 'state': 'mensajesIntroduccion_01inicial_inicial', 'recipient_id': '3812585132088508', 'entities': {'qr_menuIntro': '¡ok veamos!', 'var_pregunta': 'pruebas', 'qr_personalidad': '¿Con quién estoy hablando?'}, 'access_token': 'EAAJjZAQWaAbgBAAxC53jaIzoxSpgY3qZBc0pYDlb5g3E58pTJ35vAzrsZBVSyiYPhpgZB3ZAeNqx18ImA0LZCcsqL96hFDqsE9fcXUk52ofVsqWeerVDKp0cGo2wvohq5ISdkCUX7ZByd4c80Y6BstQYbe5noQhC8L7wdtMuKyZAAgZDZD'}}}\n",
      "\n",
      "---------------------------------------------------------------------------\n",
      "mensaje enviado a la API de facebook:\n",
      " {'recipient_id': '3812585132088508', 'message_id': 'm_m8T8KXKPgu52SWTCLm-GwoDIHsg4Bwph1PFsDRmK-uE95exsGC2D9F2GoylypBQP_rrbu_23LkAdfpsT1Uoixg'}\n",
      " [.] Got %r None\n",
      "\n",
      "_________________________________________________________________________________________________________________________\n",
      "Mesaje de la API de Facebook-> \n",
      " {'object': 'page', 'entry': [{'id': '430761350747124', 'time': 1601660954463, 'messaging': [{'sender': {'id': '3812585132088508'}, 'recipient': {'id': '430761350747124'}, 'timestamp': 1601660954729, 'read': {'watermark': 1601660949364}}]}]}\n",
      "\n",
      "________________________________________read _______________________________________________________________________________\n",
      "Mensaje enviado al Nucleo Logico Read->  {\"payload\": {\"robot\": \"none\", \"id_face\": \"430761350747124\", \"recipient_id\": \"3812585132088508\", \"access_token\": \"none\", \"content\": \"\", \"type_resp\": \"read\", \"state\": \"none\", \"blocktype\": \"none\", \"opciones\": \"none\", \"entities\": {}}}\n"
     ]
    },
    {
     "name": "stderr",
     "output_type": "stream",
     "text": [
      "127.0.0.1 - - [02/Oct/2020 12:49:28] \"POST /apiREST/v1 HTTP/1.1\" 200 -\n"
     ]
    },
    {
     "name": "stdout",
     "output_type": "stream",
     "text": [
      "hilo consume\n",
      "b'{\"Respuesta\": {\"content\": \"Un asistente virtual para atenci\\\\u00f3n ciudadana puedo responder dudas sobre tu agua potable\", \"next_id\": \"next\", \"blockType\": \"informativo\", \"contentType\": \"text\", \"typingTime\": \"3\", \"payload\": {\"content\": \"\", \"state\": \"mensajesIntroduccion_01inicial_inicial\", \"recipient_id\": \"3812585132088508\", \"entities\": {\"qr_menuIntro\": \"\\\\u00a1ok veamos!\", \"var_pregunta\": \"pruebas\", \"qr_personalidad\": \"\\\\u00bfCon qui\\\\u00e9n estoy hablando?\"}, \"access_token\": \"EAAJjZAQWaAbgBAAxC53jaIzoxSpgY3qZBc0pYDlb5g3E58pTJ35vAzrsZBVSyiYPhpgZB3ZAeNqx18ImA0LZCcsqL96hFDqsE9fcXUk52ofVsqWeerVDKp0cGo2wvohq5ISdkCUX7ZByd4c80Y6BstQYbe5noQhC8L7wdtMuKyZAAgZDZD\"}}}'\n",
      "\n",
      "_________________________________________________________________________________________________________________________\n",
      "Respuesta del Nucleo Logico->  {'Respuesta': {'content': 'Un asistente virtual para atención ciudadana puedo responder dudas sobre tu agua potable', 'next_id': 'next', 'blockType': 'informativo', 'contentType': 'text', 'typingTime': '3', 'payload': {'content': '', 'state': 'mensajesIntroduccion_01inicial_inicial', 'recipient_id': '3812585132088508', 'entities': {'qr_menuIntro': '¡ok veamos!', 'var_pregunta': 'pruebas', 'qr_personalidad': '¿Con quién estoy hablando?'}, 'access_token': 'EAAJjZAQWaAbgBAAxC53jaIzoxSpgY3qZBc0pYDlb5g3E58pTJ35vAzrsZBVSyiYPhpgZB3ZAeNqx18ImA0LZCcsqL96hFDqsE9fcXUk52ofVsqWeerVDKp0cGo2wvohq5ISdkCUX7ZByd4c80Y6BstQYbe5noQhC8L7wdtMuKyZAAgZDZD'}}}\n",
      "\n",
      "---------------------------------------------------------------------------\n",
      "mensaje enviado a la API de facebook:\n",
      " {'recipient_id': '3812585132088508', 'message_id': 'm_RlaxD_gxpwnMGdqsH4PBiIDIHsg4Bwph1PFsDRmK-uH1yEz8wArY3YwPlxhFe3dNHx-SHsWv5g1-cIXXRvuG7g'}\n",
      " [.] Got %r None\n",
      "\n",
      "_________________________________________________________________________________________________________________________\n",
      "Mesaje de la API de Facebook-> \n",
      " {'object': 'page', 'entry': [{'id': '430761350747124', 'time': 1601661062210, 'messaging': [{'sender': {'id': '3812585132088508'}, 'recipient': {'id': '430761350747124'}, 'timestamp': 1601661062267, 'read': {'watermark': 1601661000193}}]}]}\n",
      "\n",
      "________________________________________read _______________________________________________________________________________\n",
      "Mensaje enviado al Nucleo Logico Read->  {\"payload\": {\"robot\": \"none\", \"id_face\": \"430761350747124\", \"recipient_id\": \"3812585132088508\", \"access_token\": \"none\", \"content\": \"\", \"type_resp\": \"read\", \"state\": \"none\", \"blocktype\": \"none\", \"opciones\": \"none\", \"entities\": {}}}\n",
      "hilo consume\n"
     ]
    },
    {
     "name": "stderr",
     "output_type": "stream",
     "text": [
      "127.0.0.1 - - [02/Oct/2020 12:51:07] \"POST /apiREST/v1 HTTP/1.1\" 200 -\n"
     ]
    },
    {
     "name": "stdout",
     "output_type": "stream",
     "text": [
      "b'{\"Respuesta\": {\"content\": \"Te gustar\\\\u00eda saber c\\\\u00f3mo utilizarme\", \"next_id\": \"next\", \"blockType\": \"informativo\", \"contentType\": \"text\", \"typingTime\": \"3\", \"payload\": {\"content\": \"\", \"state\": \"mensajesIntroduccion_01inicial_inicial\", \"recipient_id\": \"3812585132088508\", \"entities\": {\"qr_menuIntro\": \"\\\\u00a1ok veamos!\", \"var_pregunta\": \"pruebas\", \"qr_personalidad\": \"\\\\u00bfCon qui\\\\u00e9n estoy hablando?\"}, \"access_token\": \"EAAJjZAQWaAbgBAAxC53jaIzoxSpgY3qZBc0pYDlb5g3E58pTJ35vAzrsZBVSyiYPhpgZB3ZAeNqx18ImA0LZCcsqL96hFDqsE9fcXUk52ofVsqWeerVDKp0cGo2wvohq5ISdkCUX7ZByd4c80Y6BstQYbe5noQhC8L7wdtMuKyZAAgZDZD\"}}}'\n",
      "\n",
      "_________________________________________________________________________________________________________________________\n",
      "Respuesta del Nucleo Logico->  {'Respuesta': {'content': 'Te gustaría saber cómo utilizarme', 'next_id': 'next', 'blockType': 'informativo', 'contentType': 'text', 'typingTime': '3', 'payload': {'content': '', 'state': 'mensajesIntroduccion_01inicial_inicial', 'recipient_id': '3812585132088508', 'entities': {'qr_menuIntro': '¡ok veamos!', 'var_pregunta': 'pruebas', 'qr_personalidad': '¿Con quién estoy hablando?'}, 'access_token': 'EAAJjZAQWaAbgBAAxC53jaIzoxSpgY3qZBc0pYDlb5g3E58pTJ35vAzrsZBVSyiYPhpgZB3ZAeNqx18ImA0LZCcsqL96hFDqsE9fcXUk52ofVsqWeerVDKp0cGo2wvohq5ISdkCUX7ZByd4c80Y6BstQYbe5noQhC8L7wdtMuKyZAAgZDZD'}}}\n",
      "\n",
      "_________________________________________________________________________________________________________________________\n",
      "---------------------------------------------------------------------------\n",
      "mensaje enviado a la API de facebook:\n",
      "\n",
      " {'recipient_id': '3812585132088508', 'message_id': 'm_gFLYShAxQ3hf5XnLirlxtoDIHsg4Bwph1PFsDRmK-uENKKjV-xR4I8wrSBVtTCtaFpxGj1FSZp5PVqwKSI6__g'}\n",
      " [.] Got %r None\n",
      "Mesaje de la API de Facebook-> \n",
      " {'object': 'page', 'entry': [{'id': '430761350747124', 'time': 1601661077784, 'messaging': [{'sender': {'id': '3812585132088508'}, 'recipient': {'id': '430761350747124'}, 'timestamp': 1601661077845, 'read': {'watermark': 1601661077137}}]}]}\n"
     ]
    },
    {
     "name": "stderr",
     "output_type": "stream",
     "text": [
      "127.0.0.1 - - [02/Oct/2020 12:51:41] \"POST /apiREST/v1 HTTP/1.1\" 200 -\n"
     ]
    },
    {
     "name": "stdout",
     "output_type": "stream",
     "text": [
      "\n",
      "________________________________________read _______________________________________________________________________________\n",
      "Mensaje enviado al Nucleo Logico Read->  {\"payload\": {\"robot\": \"none\", \"id_face\": \"430761350747124\", \"recipient_id\": \"3812585132088508\", \"access_token\": \"none\", \"content\": \"\", \"type_resp\": \"read\", \"state\": \"none\", \"blocktype\": \"none\", \"opciones\": \"none\", \"entities\": {}}}\n",
      "hilo consume\n",
      "b'{\"Respuesta\": {\"content\": \"Toca uno de los botones azules para saber tu elecci\\\\u00f3n\", \"next_id\": \"mensajesIntroduccion2_01inicial_inicial,mensajePreMenu_01inicial_inicial\", \"blockType\": \"quickReply\", \"contentType\": \" \", \"typingTime\": \"5\", \"payload\": {\"content\": \"\", \"state\": \"menuIntroduccion_01inicial_inicial\", \"recipient_id\": \"3812585132088508\", \"entities\": {\"qr_menuIntro\": \"\\\\u00a1ok veamos!\", \"var_pregunta\": \"pruebas\", \"qr_personalidad\": \"\\\\u00bfCon qui\\\\u00e9n estoy hablando?\"}, \"access_token\": \"EAAJjZAQWaAbgBAAxC53jaIzoxSpgY3qZBc0pYDlb5g3E58pTJ35vAzrsZBVSyiYPhpgZB3ZAeNqx18ImA0LZCcsqL96hFDqsE9fcXUk52ofVsqWeerVDKp0cGo2wvohq5ISdkCUX7ZByd4c80Y6BstQYbe5noQhC8L7wdtMuKyZAAgZDZD\"}, \"options\": [\"\\\\u00a1ok veamos!\", \"Prefiero ir al men\\\\u00fa\"], \"default_id\": \"mensajePreMenu_01inicial_inicial\", \"save_var\": \"\\\\u00a1ok veamos!\"}}'\n",
      "\n",
      "_________________________________________________________________________________________________________________________\n",
      "Respuesta del Nucleo Logico->  {'Respuesta': {'content': 'Toca uno de los botones azules para saber tu elección', 'next_id': 'mensajesIntroduccion2_01inicial_inicial,mensajePreMenu_01inicial_inicial', 'blockType': 'quickReply', 'contentType': ' ', 'typingTime': '5', 'payload': {'content': '', 'state': 'menuIntroduccion_01inicial_inicial', 'recipient_id': '3812585132088508', 'entities': {'qr_menuIntro': '¡ok veamos!', 'var_pregunta': 'pruebas', 'qr_personalidad': '¿Con quién estoy hablando?'}, 'access_token': 'EAAJjZAQWaAbgBAAxC53jaIzoxSpgY3qZBc0pYDlb5g3E58pTJ35vAzrsZBVSyiYPhpgZB3ZAeNqx18ImA0LZCcsqL96hFDqsE9fcXUk52ofVsqWeerVDKp0cGo2wvohq5ISdkCUX7ZByd4c80Y6BstQYbe5noQhC8L7wdtMuKyZAAgZDZD'}, 'options': ['¡ok veamos!', 'Prefiero ir al menú'], 'default_id': 'mensajePreMenu_01inicial_inicial', 'save_var': '¡ok veamos!'}}\n",
      "\n",
      "---------------------------------------------------------------------------\n",
      "mensaje enviado a la API de facebook:\n",
      " {'recipient_id': '3812585132088508', 'message_id': 'm_yaR0f2Du0CQPQM2Ot6E4LoDIHsg4Bwph1PFsDRmK-uHrQEwGx04GaQx5NqHXt5y7x93Iv_xIY3sbS8NlstZQ-Q'}\n",
      " [.] Got %r None\n",
      "\n",
      "_________________________________________________________________________________________________________________________\n",
      "Mesaje de la API de Facebook-> \n",
      " {'object': 'page', 'entry': [{'id': '430761350747124', 'time': 1601661115609, 'messaging': [{'sender': {'id': '3812585132088508'}, 'recipient': {'id': '430761350747124'}, 'timestamp': 1601661115669, 'read': {'watermark': 1601661115223}}]}]}\n",
      "\n",
      "________________________________________read _______________________________________________________________________________\n",
      "Mensaje enviado al Nucleo Logico Read->  {\"payload\": {\"robot\": \"none\", \"id_face\": \"430761350747124\", \"recipient_id\": \"3812585132088508\", \"access_token\": \"none\", \"content\": \"\", \"type_resp\": \"read\", \"state\": \"none\", \"blocktype\": \"none\", \"opciones\": \"none\", \"entities\": {}}}\n"
     ]
    },
    {
     "name": "stderr",
     "output_type": "stream",
     "text": [
      "127.0.0.1 - - [02/Oct/2020 12:52:07] \"POST /apiREST/v1 HTTP/1.1\" 200 -\n"
     ]
    },
    {
     "name": "stdout",
     "output_type": "stream",
     "text": [
      "hilo consume\n",
      "b'{\"payload\": {\"robot\": 340, \"id_face\": \"430761350747124\", \"recipient_id\": \"3812585132088508\", \"access_token\": \"EAAJjZAQWaAbgBAAxC53jaIzoxSpgY3qZBc0pYDlb5g3E58pTJ35vAzrsZBVSyiYPhpgZB3ZAeNqx18ImA0LZCcsqL96hFDqsE9fcXUk52ofVsqWeerVDKp0cGo2wvohq5ISdkCUX7ZByd4c80Y6BstQYbe5noQhC8L7wdtMuKyZAAgZDZD\", \"content\": \"\", \"type_resp\": \"read\", \"state\": \"none\", \"blocktype\": \"none\", \"opciones\": \"none\", \"entities\": {}}}'\n",
      " [.] Got %r None\n",
      "\n",
      "_________________________________________________________________________________________________________________________\n",
      "Mesaje de la API de Facebook-> \n",
      " {'object': 'page', 'entry': [{'id': '430761350747124', 'time': 1601661148324, 'messaging': [{'sender': {'id': '3812585132088508'}, 'recipient': {'id': '430761350747124'}, 'timestamp': 1601661148176, 'postback': {'title': '¡ok veamos!', 'payload': '¡ok veamos!'}}]}]}\n",
      "hilo consume\n",
      "\n",
      "______________________________________________no read__________________________________________________________________________b'{\"Respuesta\": {\"content\": \"Soy un robot que funciona con un sistema autom\\\\u00e1tico llamado inteligencia artificial.\", \"next_id\": \"next\", \"blockType\": \"informativo\", \"contentType\": \"text\", \"typingTime\": \"3\", \"payload\": {\"content\": \"\", \"state\": \"mensajesIntroduccion2_01inicial_inicial\", \"recipient_id\": \"3812585132088508\", \"entities\": {\"qr_menuIntro\": \"\\\\u00a1ok veamos!\", \"var_pregunta\": \"pruebas\", \"qr_personalidad\": \"\\\\u00bfCon qui\\\\u00e9n estoy hablando?\"}, \"access_token\": \"EAAJjZAQWaAbgBAAxC53jaIzoxSpgY3qZBc0pYDlb5g3E58pTJ35vAzrsZBVSyiYPhpgZB3ZAeNqx18ImA0LZCcsqL96hFDqsE9fcXUk52ofVsqWeerVDKp0cGo2wvohq5ISdkCUX7ZByd4c80Y6BstQYbe5noQhC8L7wdtMuKyZAAgZDZD\"}}}'\n"
     ]
    },
    {
     "name": "stderr",
     "output_type": "stream",
     "text": [
      "127.0.0.1 - - [02/Oct/2020 12:52:43] \"POST /apiREST/v1 HTTP/1.1\" 200 -\n"
     ]
    },
    {
     "name": "stdout",
     "output_type": "stream",
     "text": [
      "\n",
      "_________________________________________________________________________________________________________________________\n",
      "Respuesta del Nucleo Logico->  {'Respuesta': {'content': 'Soy un robot que funciona con un sistema automático llamado inteligencia artificial.', 'next_id': 'next', 'blockType': 'informativo', 'contentType': 'text', 'typingTime': '3', 'payload': {'content': '', 'state': 'mensajesIntroduccion2_01inicial_inicial', 'recipient_id': '3812585132088508', 'entities': {'qr_menuIntro': '¡ok veamos!', 'var_pregunta': 'pruebas', 'qr_personalidad': '¿Con quién estoy hablando?'}, 'access_token': 'EAAJjZAQWaAbgBAAxC53jaIzoxSpgY3qZBc0pYDlb5g3E58pTJ35vAzrsZBVSyiYPhpgZB3ZAeNqx18ImA0LZCcsqL96hFDqsE9fcXUk52ofVsqWeerVDKp0cGo2wvohq5ISdkCUX7ZByd4c80Y6BstQYbe5noQhC8L7wdtMuKyZAAgZDZD'}}}\n",
      "Mensaje enviado al Nucleo Logico-> \n",
      " {\"payload\": {\"robot\": \"none\", \"id_face\": \"430761350747124\", \"recipient_id\": \"3812585132088508\", \"access_token\": \"none\", \"content\": \"\\u00a1ok veamos!\", \"type_resp\": \"postback\", \"state\": \"none\", \"blocktype\": \"none\", \"opciones\": \"none\", \"entities\": {}}}\n",
      "\n",
      "_________________________________________________________________________________________________________________________\n",
      "Mesaje de la API de Facebook-> \n",
      " {'object': 'page', 'entry': [{'id': '430761350747124', 'time': 1601661162534, 'messaging': [{'sender': {'id': '3812585132088508'}, 'recipient': {'id': '430761350747124'}, 'timestamp': 1601661148176, 'postback': {'title': '¡ok veamos!', 'payload': '¡ok veamos!'}}]}]}\n"
     ]
    },
    {
     "name": "stderr",
     "output_type": "stream",
     "text": [
      "127.0.0.1 - - [02/Oct/2020 12:52:52] \"POST /apiREST/v1 HTTP/1.1\" 200 -\n"
     ]
    },
    {
     "name": "stdout",
     "output_type": "stream",
     "text": [
      "hilo consume\n",
      "\n",
      "______________________________________________no read__________________________________________________________________________\n",
      "Mensaje enviado al Nucleo Logico->  {\"payload\": {\"robot\": \"none\", \"id_face\": \"430761350747124\", \"recipient_id\": \"3812585132088508\", \"access_token\": \"none\", \"content\": \"\\u00a1ok veamos!\", \"type_resp\": \"postback\", \"state\": \"none\", \"blocktype\": \"none\", \"opciones\": \"none\", \"entities\": {}}}\n",
      "b'{\"Respuesta\": {\"content\": \"Cada vez que escribas intentare entenderte si algo se me dificulta siempre podre contactarte con un humano.\", \"next_id\": \"next\", \"blockType\": \"informativo\", \"contentType\": \"text\", \"typingTime\": \"3\", \"payload\": {\"content\": \"\", \"state\": \"mensajesIntroduccion2_01inicial_inicial\", \"recipient_id\": \"3812585132088508\", \"entities\": {\"qr_menuIntro\": \"\\\\u00a1ok veamos!\", \"var_pregunta\": \"pruebas\", \"qr_personalidad\": \"\\\\u00bfCon qui\\\\u00e9n estoy hablando?\"}, \"access_token\": \"EAAJjZAQWaAbgBAAxC53jaIzoxSpgY3qZBc0pYDlb5g3E58pTJ35vAzrsZBVSyiYPhpgZB3ZAeNqx18ImA0LZCcsqL96hFDqsE9fcXUk52ofVsqWeerVDKp0cGo2wvohq5ISdkCUX7ZByd4c80Y6BstQYbe5noQhC8L7wdtMuKyZAAgZDZD\"}}}'\n",
      "\n",
      "_________________________________________________________________________________________________________________________\n",
      "Respuesta del Nucleo Logico->  {'Respuesta': {'content': 'Cada vez que escribas intentare entenderte si algo se me dificulta siempre podre contactarte con un humano.', 'next_id': 'next', 'blockType': 'informativo', 'contentType': 'text', 'typingTime': '3', 'payload': {'content': '', 'state': 'mensajesIntroduccion2_01inicial_inicial', 'recipient_id': '3812585132088508', 'entities': {'qr_menuIntro': '¡ok veamos!', 'var_pregunta': 'pruebas', 'qr_personalidad': '¿Con quién estoy hablando?'}, 'access_token': 'EAAJjZAQWaAbgBAAxC53jaIzoxSpgY3qZBc0pYDlb5g3E58pTJ35vAzrsZBVSyiYPhpgZB3ZAeNqx18ImA0LZCcsqL96hFDqsE9fcXUk52ofVsqWeerVDKp0cGo2wvohq5ISdkCUX7ZByd4c80Y6BstQYbe5noQhC8L7wdtMuKyZAAgZDZD'}}}\n",
      "\n",
      "_________________________________________________________________________________________________________________________\n",
      "Mesaje de la API de Facebook-> \n",
      " {'object': 'page', 'entry': [{'id': '430761350747124', 'time': 1601661174062, 'messaging': [{'sender': {'id': '3812585132088508'}, 'recipient': {'id': '430761350747124'}, 'timestamp': 1601661174216, 'read': {'watermark': 1601661173731}}]}]}\n",
      "\n",
      "---------------------------------------------------------------------------\n",
      "mensaje enviado a la API de facebook:\n",
      " {'recipient_id': '3812585132088508', 'message_id': 'm_SUb4g-gYhMjYR8wCbs3UAYDIHsg4Bwph1PFsDRmK-uE62ds2cFpY6zoOOJhDMXJWWGl1mwEV42gIgEqSrUV5-w'}\n",
      " [.] Got %r None\n",
      "\n",
      "________________________________________read _______________________________________________________________________________\n",
      "Mensaje enviado al Nucleo Logico Read->  "
     ]
    },
    {
     "name": "stderr",
     "output_type": "stream",
     "text": [
      "127.0.0.1 - - [02/Oct/2020 12:53:07] \"POST /apiREST/v1 HTTP/1.1\" 200 -\n"
     ]
    },
    {
     "name": "stdout",
     "output_type": "stream",
     "text": [
      "{\"payload\": {\"robot\": \"none\", \"id_face\": \"430761350747124\", \"recipient_id\": \"3812585132088508\", \"access_token\": \"none\", \"content\": \"\", \"type_resp\": \"read\", \"state\": \"none\", \"blocktype\": \"none\", \"opciones\": \"none\", \"entities\": {}}}\n",
      "hilo consume\n",
      "b'{\"Respuesta\": {\"content\": \"\\\\u00bfQu\\\\u00e9 deseas hacer?\", \"next_id\": \"NLPpersonalidad_01inicial_inicial\", \"blockType\": \"input\", \"contentType\": \"text\", \"typingTime\": \"1\", \"payload\": {\"content\": \"\", \"state\": \"pregunta_01inicial_inicial\", \"recipient_id\": \"3812585132088508\", \"entities\": {\"qr_menuIntro\": \"\\\\u00a1ok veamos!\", \"var_pregunta\": \"pruebas\", \"qr_personalidad\": \"\\\\u00bfCon qui\\\\u00e9n estoy hablando?\"}, \"access_token\": \"EAAJjZAQWaAbgBAAxC53jaIzoxSpgY3qZBc0pYDlb5g3E58pTJ35vAzrsZBVSyiYPhpgZB3ZAeNqx18ImA0LZCcsqL96hFDqsE9fcXUk52ofVsqWeerVDKp0cGo2wvohq5ISdkCUX7ZByd4c80Y6BstQYbe5noQhC8L7wdtMuKyZAAgZDZD\"}, \"validacion\": \".*\", \"default_id\": \"NLPpersonalidad_01inicial_inicial\"}}'\n",
      "\n",
      "_________________________________________________________________________________________________________________________\n",
      "Respuesta del Nucleo Logico->  {'Respuesta': {'content': '¿Qué deseas hacer?', 'next_id': 'NLPpersonalidad_01inicial_inicial', 'blockType': 'input', 'contentType': 'text', 'typingTime': '1', 'payload': {'content': '', 'state': 'pregunta_01inicial_inicial', 'recipient_id': '3812585132088508', 'entities': {'qr_menuIntro': '¡ok veamos!', 'var_pregunta': 'pruebas', 'qr_personalidad': '¿Con quién estoy hablando?'}, 'access_token': 'EAAJjZAQWaAbgBAAxC53jaIzoxSpgY3qZBc0pYDlb5g3E58pTJ35vAzrsZBVSyiYPhpgZB3ZAeNqx18ImA0LZCcsqL96hFDqsE9fcXUk52ofVsqWeerVDKp0cGo2wvohq5ISdkCUX7ZByd4c80Y6BstQYbe5noQhC8L7wdtMuKyZAAgZDZD'}, 'validacion': '.*', 'default_id': 'NLPpersonalidad_01inicial_inicial'}}\n",
      "\n",
      "---------------------------------------------------------------------------\n",
      "mensaje enviado a la API de facebook:\n",
      " {'recipient_id': '3812585132088508', 'message_id': 'm_i-18QKT_glQa8gKcVXBtr4DIHsg4Bwph1PFsDRmK-uHWTex0JRCXxRmKYHQQfTzaGSlNBZ5EIfLVrDARHFcr6A'}\n",
      " [.] Got %r None\n",
      "\n",
      "_________________________________________________________________________________________________________________________\n",
      "Mesaje de la API de Facebook-> \n",
      " {'object': 'page', 'entry': [{'id': '430761350747124', 'time': 1601661193743, 'messaging': [{'sender': {'id': '3812585132088508'}, 'recipient': {'id': '430761350747124'}, 'timestamp': 1601661193871, 'read': {'watermark': 1601661191501}}]}]}\n",
      "\n",
      "---------------------------------------------------------------------------\n",
      "mensaje enviado a la API de facebook:\n",
      " {'recipient_id': '3812585132088508', 'message_id': 'm_pfyk5He_yKxWfBCqef1a5IDIHsg4Bwph1PFsDRmK-uH_ysgh62go-turK7AQVJsYto7oJI98ViM0Vb2GqhUg_w'}\n",
      " [.] Got %r None\n",
      "\n",
      "_________________________________________________________________________________________________________________________\n",
      "Mesaje de la API de Facebook-> \n",
      " {'object': 'page', 'entry': [{'id': '430761350747124', 'time': 1601661200781, 'messaging': [{'sender': {'id': '3812585132088508'}, 'recipient': {'id': '430761350747124'}, 'timestamp': 1601661200858, 'read': {'watermark': 1601661200475}}]}]}\n",
      "\n",
      "________________________________________read _______________________________________________________________________________\n",
      "Mensaje enviado al Nucleo Logico Read->  "
     ]
    },
    {
     "name": "stderr",
     "output_type": "stream",
     "text": [
      "127.0.0.1 - - [02/Oct/2020 12:53:23] \"POST /apiREST/v1 HTTP/1.1\" 200 -\n"
     ]
    },
    {
     "name": "stdout",
     "output_type": "stream",
     "text": [
      "{\"payload\": {\"robot\": \"none\", \"id_face\": \"430761350747124\", \"recipient_id\": \"3812585132088508\", \"access_token\": \"none\", \"content\": \"\", \"type_resp\": \"read\", \"state\": \"none\", \"blocktype\": \"none\", \"opciones\": \"none\", \"entities\": {}}}\n",
      "hilo consume\n",
      "b'{\"payload\": {\"robot\": 340, \"id_face\": \"430761350747124\", \"recipient_id\": \"3812585132088508\", \"access_token\": \"EAAJjZAQWaAbgBAAxC53jaIzoxSpgY3qZBc0pYDlb5g3E58pTJ35vAzrsZBVSyiYPhpgZB3ZAeNqx18ImA0LZCcsqL96hFDqsE9fcXUk52ofVsqWeerVDKp0cGo2wvohq5ISdkCUX7ZByd4c80Y6BstQYbe5noQhC8L7wdtMuKyZAAgZDZD\", \"content\": \"\", \"type_resp\": \"read\", \"state\": \"none\", \"blocktype\": \"none\", \"opciones\": \"none\", \"entities\": {}}}'\n",
      " [.] Got %r None\n",
      "\n",
      "________________________________________read _______________________________________________________________________________\n"
     ]
    },
    {
     "name": "stderr",
     "output_type": "stream",
     "text": [
      "127.0.0.1 - - [02/Oct/2020 12:53:35] \"POST /apiREST/v1 HTTP/1.1\" 200 -\n"
     ]
    },
    {
     "name": "stdout",
     "output_type": "stream",
     "text": [
      "Mensaje enviado al Nucleo Logico Read->  {\"payload\": {\"robot\": \"none\", \"id_face\": \"430761350747124\", \"recipient_id\": \"3812585132088508\", \"access_token\": \"none\", \"content\": \"\", \"type_resp\": \"read\", \"state\": \"none\", \"blocktype\": \"none\", \"opciones\": \"none\", \"entities\": {}}}\n",
      "\n",
      "_________________________________________________________________________________________________________________________hilo consume\n"
     ]
    },
    {
     "name": "stderr",
     "output_type": "stream",
     "text": [
      "127.0.0.1 - - [02/Oct/2020 12:53:44] \"POST /apiREST/v1 HTTP/1.1\" 200 -\n"
     ]
    },
    {
     "name": "stdout",
     "output_type": "stream",
     "text": [
      "b'{\"payload\": {\"robot\": 340, \"id_face\": \"430761350747124\", \"recipient_id\": \"3812585132088508\", \"access_token\": \"EAAJjZAQWaAbgBAAxC53jaIzoxSpgY3qZBc0pYDlb5g3E58pTJ35vAzrsZBVSyiYPhpgZB3ZAeNqx18ImA0LZCcsqL96hFDqsE9fcXUk52ofVsqWeerVDKp0cGo2wvohq5ISdkCUX7ZByd4c80Y6BstQYbe5noQhC8L7wdtMuKyZAAgZDZD\", \"content\": \"\", \"type_resp\": \"read\", \"state\": \"none\", \"blocktype\": \"none\", \"opciones\": \"none\", \"entities\": {}}}'\n",
      " [.] Got %r None\n",
      "\n",
      "Mesaje de la API de Facebook-> \n",
      " {'object': 'page', 'entry': [{'id': '430761350747124', 'time': 1601661213832, 'messaging': [{'sender': {'id': '3812585132088508'}, 'recipient': {'id': '430761350747124'}, 'timestamp': 1601661213766, 'message': {'mid': 'm_UH7LGo4jwCEiXNJQvqTj3IDIHsg4Bwph1PFsDRmK-uFRcC7zoNdC2ysZH532_yvn5EejtPfvNtI7OIGfkUTAVQ', 'text': '¿cómo te llamas?'}}]}]}\n",
      "hilo consume\n",
      "\n",
      "______________________________________________no read__________________________________________________________________________\n",
      "Mensaje enviado al Nucleo Logico->  {\"payload\": {\"robot\": \"none\", \"id_face\": \"430761350747124\", \"recipient_id\": \"3812585132088508\", \"access_token\": \"none\", \"content\": \"\\u00bfc\\u00f3mo te llamas?\", \"type_resp\": \"message\", \"state\": \"none\", \"blocktype\": \"none\", \"opciones\": \"none\", \"entities\": {}}}\n",
      "b'{\"Respuesta\": {\"content\": \"Mmmm yo tengo 21 a\\\\u00f1os con 6 meses\", \"next_id\": \"mensajePreMenu_01inicial_inicial\", \"blockType\": \"informativo\", \"contentType\": \"text\", \"typingTime\": \"3\", \"payload\": {\"content\": \"\", \"state\": \"infoEdad_01inicial_inicial\", \"recipient_id\": \"3812585132088508\", \"entities\": {\"qr_menuIntro\": \"\\\\u00a1ok veamos!\", \"var_pregunta\": \"\\\\u00bfc\\\\u00f3mo te llamas?\", \"qr_personalidad\": \"\\\\u00bfCon qui\\\\u00e9n estoy hablando?\"}, \"access_token\": \"EAAJjZAQWaAbgBAAxC53jaIzoxSpgY3qZBc0pYDlb5g3E58pTJ35vAzrsZBVSyiYPhpgZB3ZAeNqx18ImA0LZCcsqL96hFDqsE9fcXUk52ofVsqWeerVDKp0cGo2wvohq5ISdkCUX7ZByd4c80Y6BstQYbe5noQhC8L7wdtMuKyZAAgZDZD\"}}}'\n",
      "\n",
      "_________________________________________________________________________________________________________________________\n",
      "Respuesta del Nucleo Logico->  {'Respuesta': {'content': 'Mmmm yo tengo 21 años con 6 meses', 'next_id': 'mensajePreMenu_01inicial_inicial', 'blockType': 'informativo', 'contentType': 'text', 'typingTime': '3', 'payload': {'content': '', 'state': 'infoEdad_01inicial_inicial', 'recipient_id': '3812585132088508', 'entities': {'qr_menuIntro': '¡ok veamos!', 'var_pregunta': '¿cómo te llamas?', 'qr_personalidad': '¿Con quién estoy hablando?'}, 'access_token': 'EAAJjZAQWaAbgBAAxC53jaIzoxSpgY3qZBc0pYDlb5g3E58pTJ35vAzrsZBVSyiYPhpgZB3ZAeNqx18ImA0LZCcsqL96hFDqsE9fcXUk52ofVsqWeerVDKp0cGo2wvohq5ISdkCUX7ZByd4c80Y6BstQYbe5noQhC8L7wdtMuKyZAAgZDZD'}}}\n",
      "\n",
      "---------------------------------------------------------------------------\n",
      "mensaje enviado a la API de facebook:\n",
      " {'recipient_id': '3812585132088508', 'message_id': 'm_PkJuD60Tb-r1aRzTmVeJlYDIHsg4Bwph1PFsDRmK-uEBqfXzCcvGgl4qhfNQEL5dkuC5gEAWJKrw3gf-fMXnUA'}\n",
      " [.] Got %r None\n",
      "\n",
      "_________________________________________________________________________________________________________________________\n",
      "Mesaje de la API de Facebook-> \n",
      " {'object': 'page', 'entry': [{'id': '430761350747124', 'time': 1601661237193, 'messaging': [{'sender': {'id': '3812585132088508'}, 'recipient': {'id': '430761350747124'}, 'timestamp': 1601661237254, 'read': {'watermark': 1601661235160}}]}]}\n"
     ]
    },
    {
     "name": "stderr",
     "output_type": "stream",
     "text": [
      "127.0.0.1 - - [02/Oct/2020 12:54:06] \"POST /apiREST/v1 HTTP/1.1\" 200 -\n"
     ]
    },
    {
     "name": "stdout",
     "output_type": "stream",
     "text": [
      "\n",
      "________________________________________read _______________________________________________________________________________\n",
      "Mensaje enviado al Nucleo Logico Read->  {\"payload\": {\"robot\": \"none\", \"id_face\": \"430761350747124\", \"recipient_id\": \"3812585132088508\", \"access_token\": \"none\", \"content\": \"\", \"type_resp\": \"read\", \"state\": \"none\", \"blocktype\": \"none\", \"opciones\": \"none\", \"entities\": {}}}\n",
      "hilo consume\n",
      "b'{\"Respuesta\": {\"content\": \"\\\\u00bfQu\\\\u00e9 te gustar\\\\u00eda hacer?\", \"next_id\": \"next\", \"blockType\": \"informativo\", \"contentType\": \"text\", \"typingTime\": \"3\", \"payload\": {\"content\": \"\", \"state\": \"mensajePreMenu_01inicial_inicial\", \"recipient_id\": \"3812585132088508\", \"entities\": {\"qr_menuIntro\": \"\\\\u00a1ok veamos!\", \"var_pregunta\": \"\\\\u00bfc\\\\u00f3mo te llamas?\", \"qr_personalidad\": \"\\\\u00bfCon qui\\\\u00e9n estoy hablando?\"}, \"access_token\": \"EAAJjZAQWaAbgBAAxC53jaIzoxSpgY3qZBc0pYDlb5g3E58pTJ35vAzrsZBVSyiYPhpgZB3ZAeNqx18ImA0LZCcsqL96hFDqsE9fcXUk52ofVsqWeerVDKp0cGo2wvohq5ISdkCUX7ZByd4c80Y6BstQYbe5noQhC8L7wdtMuKyZAAgZDZD\"}}}'\n",
      "\n",
      "_________________________________________________________________________________________________________________________\n",
      "Respuesta del Nucleo Logico->  {'Respuesta': {'content': '¿Qué te gustaría hacer?', 'next_id': 'next', 'blockType': 'informativo', 'contentType': 'text', 'typingTime': '3', 'payload': {'content': '', 'state': 'mensajePreMenu_01inicial_inicial', 'recipient_id': '3812585132088508', 'entities': {'qr_menuIntro': '¡ok veamos!', 'var_pregunta': '¿cómo te llamas?', 'qr_personalidad': '¿Con quién estoy hablando?'}, 'access_token': 'EAAJjZAQWaAbgBAAxC53jaIzoxSpgY3qZBc0pYDlb5g3E58pTJ35vAzrsZBVSyiYPhpgZB3ZAeNqx18ImA0LZCcsqL96hFDqsE9fcXUk52ofVsqWeerVDKp0cGo2wvohq5ISdkCUX7ZByd4c80Y6BstQYbe5noQhC8L7wdtMuKyZAAgZDZD'}}}\n",
      "\n",
      "---------------------------------------------------------------------------\n",
      "mensaje enviado a la API de facebook:\n",
      " {'recipient_id': '3812585132088508', 'message_id': 'm_itgzBYZsF34tNlRZsr73mIDIHsg4Bwph1PFsDRmK-uEkUJkAAMKsnW03tqWdEgx4lnT4YsDOiuCr7Fbth4jAXw'}\n",
      " [.] Got %r None\n",
      "\n",
      "_________________________________________________________________________________________________________________________\n",
      "Mesaje de la API de Facebook-> \n",
      " {'object': 'page', 'entry': [{'id': '430761350747124', 'time': 1601661252462, 'messaging': [{'sender': {'id': '3812585132088508'}, 'recipient': {'id': '430761350747124'}, 'timestamp': 1601661252597, 'read': {'watermark': 1601661252158}}]}]}\n",
      "\n",
      "________________________________________read _______________________________________________________________________________\n",
      "Mensaje enviado al Nucleo Logico Read->  {\"payload\": {\"robot\": \"none\", \"id_face\": \"430761350747124\", \"recipient_id\": \"3812585132088508\", \"access_token\": \"none\", \"content\": \"\", \"type_resp\": \"read\", \"state\": \"none\", \"blocktype\": \"none\", \"opciones\": \"none\", \"entities\": {}}}\n",
      "hilo consume\n",
      "b'{\"Respuesta\": {\"content\": \"Selecciona una opci\\\\u00f3n\", \"next_id\": \"mensajesIntroduccion_01inicial_inicial,infoEdad_01inicial_inicial,infoColor_01inicial_inicial\", \"blockType\": \"quickReply\", \"contentType\": \" \", \"typingTime\": \"3\", \"payload\": {\"content\": \"\", \"state\": \"qrPersonalidad_01inicial_inicial\", \"recipient_id\": \"3812585132088508\", \"entities\": {\"qr_menuIntro\": \"\\\\u00a1ok veamos!\", \"var_pregunta\": \"\\\\u00bfc\\\\u00f3mo te llamas?\", \"qr_personalidad\": \"\\\\u00bfCon qui\\\\u00e9n estoy hablando?\"}, \"access_token\": \"EAAJjZAQWaAbgBAAxC53jaIzoxSpgY3qZBc0pYDlb5g3E58pTJ35vAzrsZBVSyiYPhpgZB3ZAeNqx18ImA0LZCcsqL96hFDqsE9fcXUk52ofVsqWeerVDKp0cGo2wvohq5ISdkCUX7ZByd4c80Y6BstQYbe5noQhC8L7wdtMuKyZAAgZDZD\"}, \"options\": [\"\\\\u00bfCon qui\\\\u00e9n estoy hablando?\", \"\\\\u00bfQu\\\\u00e9 edad tienes?\", \"\\\\u00bfCu\\\\u00e1l es tu color favorito?\"], \"default_id\": \"NLPpersonalidad_01inicial_inicial\", \"save_var\": \"\\\\u00bfCon qui\\\\u00e9n estoy hablando?\"}}'\n",
      "\n",
      "_________________________________________________________________________________________________________________________\n",
      "Respuesta del Nucleo Logico->  {'Respuesta': {'content': 'Selecciona una opción', 'next_id': 'mensajesIntroduccion_01inicial_inicial,infoEdad_01inicial_inicial,infoColor_01inicial_inicial', 'blockType': 'quickReply', 'contentType': ' ', 'typingTime': '3', 'payload': {'content': '', 'state': 'qrPersonalidad_01inicial_inicial', 'recipient_id': '3812585132088508', 'entities': {'qr_menuIntro': '¡ok veamos!', 'var_pregunta': '¿cómo te llamas?', 'qr_personalidad': '¿Con quién estoy hablando?'}, 'access_token': 'EAAJjZAQWaAbgBAAxC53jaIzoxSpgY3qZBc0pYDlb5g3E58pTJ35vAzrsZBVSyiYPhpgZB3ZAeNqx18ImA0LZCcsqL96hFDqsE9fcXUk52ofVsqWeerVDKp0cGo2wvohq5ISdkCUX7ZByd4c80Y6BstQYbe5noQhC8L7wdtMuKyZAAgZDZD'}, 'options': ['¿Con quién estoy hablando?', '¿Qué edad tienes?', '¿Cuál es tu color favorito?'], 'default_id': 'NLPpersonalidad_01inicial_inicial', 'save_var': '¿Con quién estoy hablando?'}}\n"
     ]
    },
    {
     "name": "stderr",
     "output_type": "stream",
     "text": [
      "127.0.0.1 - - [02/Oct/2020 12:54:23] \"POST /apiREST/v1 HTTP/1.1\" 200 -\n"
     ]
    },
    {
     "name": "stdout",
     "output_type": "stream",
     "text": [
      "\n",
      "---------------------------------------------------------------------------\n",
      "mensaje enviado a la API de facebook:\n",
      " {'recipient_id': '3812585132088508', 'message_id': 'm_Et0kRpQjvcYUzA1H1BKa8YDIHsg4Bwph1PFsDRmK-uEDcwKmUbJGqUXnJgL3EJBas-vzcjR_zaAq4r09M--rJg'}\n",
      " [.] Got %r None\n",
      "\n",
      "_________________________________________________________________________________________________________________________\n",
      "Mesaje de la API de Facebook-> \n",
      " {'object': 'page', 'entry': [{'id': '430761350747124', 'time': 1601661296809, 'messaging': [{'sender': {'id': '3812585132088508'}, 'recipient': {'id': '430761350747124'}, 'timestamp': 1601661296934, 'read': {'watermark': 1601661280431}}]}]}\n",
      "\n",
      "________________________________________read _______________________________________________________________________________\n",
      "Mensaje enviado al Nucleo Logico Read->  {\"payload\": {\"robot\": \"none\", \"id_face\": \"430761350747124\", \"recipient_id\": \"3812585132088508\", \"access_token\": \"none\", \"content\": \"\", \"type_resp\": \"read\", \"state\": \"none\", \"blocktype\": \"none\", \"opciones\": \"none\", \"entities\": {}}}\n",
      "\n",
      "_________________________________________________________________________________________________________________________\n",
      "Mesaje de la API de Facebook-> \n",
      "hilo consume\n",
      "b'{\"payload\": {\"robot\": 340, \"id_face\": \"430761350747124\", \"recipient_id\": \"3812585132088508\", \"access_token\": \"EAAJjZAQWaAbgBAAxC53jaIzoxSpgY3qZBc0pYDlb5g3E58pTJ35vAzrsZBVSyiYPhpgZB3ZAeNqx18ImA0LZCcsqL96hFDqsE9fcXUk52ofVsqWeerVDKp0cGo2wvohq5ISdkCUX7ZByd4c80Y6BstQYbe5noQhC8L7wdtMuKyZAAgZDZD\", \"content\": \"\", \"type_resp\": \"read\", \"state\": \"none\", \"blocktype\": \"none\", \"opciones\": \"none\", \"entities\": {}}}'\n",
      " [.] Got %r None\n",
      " {'object': 'page', 'entry': [{'id': '430761350747124', 'time': 1601661311144, 'messaging': [{'sender': {'id': '3812585132088508'}, 'recipient': {'id': '430761350747124'}, 'timestamp': 1601661311082, 'message': {'mid': 'm_R5zsevx-KlbWXTHiZIMx5YDIHsg4Bwph1PFsDRmK-uF5AMrWL7PMlXs1cPLSW0nzgZ9KBw_MyWuuPcN7xQK7yQ', 'text': '¿quin eres?'}}]}]}\n"
     ]
    },
    {
     "name": "stderr",
     "output_type": "stream",
     "text": [
      "127.0.0.1 - - [02/Oct/2020 12:55:13] \"POST /apiREST/v1 HTTP/1.1\" 200 -\n",
      "127.0.0.1 - - [02/Oct/2020 12:55:22] \"POST /apiREST/v1 HTTP/1.1\" 200 -\n"
     ]
    },
    {
     "name": "stdout",
     "output_type": "stream",
     "text": [
      "hilo consume\n",
      "\n",
      "______________________________________________no read__________________________________________________________________________\n",
      "Mensaje enviado al Nucleo Logico->  {\"payload\": {\"robot\": \"none\", \"id_face\": \"430761350747124\", \"recipient_id\": \"3812585132088508\", \"access_token\": \"none\", \"content\": \"\\u00bfquin eres?\", \"type_resp\": \"message\", \"state\": \"none\", \"blocktype\": \"none\", \"opciones\": \"none\", \"entities\": {}}}\n",
      "b'{\"Respuesta\": {\"content\": \"Mmmm yo tengo 21 a\\\\u00f1os con 6 meses\", \"next_id\": \"mensajePreMenu_01inicial_inicial\", \"blockType\": \"informativo\", \"contentType\": \"text\", \"typingTime\": \"3\", \"payload\": {\"content\": \"\", \"state\": \"infoEdad_01inicial_inicial\", \"recipient_id\": \"3812585132088508\", \"entities\": {\"qr_menuIntro\": \"\\\\u00a1ok veamos!\", \"var_pregunta\": \"\\\\u00bfc\\\\u00f3mo te llamas?\", \"qr_personalidad\": \"\\\\u00bfquin eres?\"}, \"access_token\": \"EAAJjZAQWaAbgBAAxC53jaIzoxSpgY3qZBc0pYDlb5g3E58pTJ35vAzrsZBVSyiYPhpgZB3ZAeNqx18ImA0LZCcsqL96hFDqsE9fcXUk52ofVsqWeerVDKp0cGo2wvohq5ISdkCUX7ZByd4c80Y6BstQYbe5noQhC8L7wdtMuKyZAAgZDZD\"}}}'\n",
      "\n",
      "_________________________________________________________________________________________________________________________\n",
      "Respuesta del Nucleo Logico->  {'Respuesta': {'content': 'Mmmm yo tengo 21 años con 6 meses', 'next_id': 'mensajePreMenu_01inicial_inicial', 'blockType': 'informativo', 'contentType': 'text', 'typingTime': '3', 'payload': {'content': '', 'state': 'infoEdad_01inicial_inicial', 'recipient_id': '3812585132088508', 'entities': {'qr_menuIntro': '¡ok veamos!', 'var_pregunta': '¿cómo te llamas?', 'qr_personalidad': '¿quin eres?'}, 'access_token': 'EAAJjZAQWaAbgBAAxC53jaIzoxSpgY3qZBc0pYDlb5g3E58pTJ35vAzrsZBVSyiYPhpgZB3ZAeNqx18ImA0LZCcsqL96hFDqsE9fcXUk52ofVsqWeerVDKp0cGo2wvohq5ISdkCUX7ZByd4c80Y6BstQYbe5noQhC8L7wdtMuKyZAAgZDZD'}}}\n",
      "\n",
      "---------------------------------------------------------------------------\n",
      "mensaje enviado a la API de facebook:\n",
      " {'recipient_id': '3812585132088508', 'message_id': 'm_BxpDSEdNPaWXD86nuD1OqIDIHsg4Bwph1PFsDRmK-uE7sLsfFLaNzwHb8C5NDqWPZgB0thfRrLkX7BfQPe3ssA'}\n",
      " [.] Got %r None\n",
      "\n",
      "_________________________________________________________________________________________________________________________\n",
      "Mesaje de la API de Facebook-> \n",
      " {'object': 'page', 'entry': [{'id': '430761350747124', 'time': 1601661336654, 'messaging': [{'sender': {'id': '3812585132088508'}, 'recipient': {'id': '430761350747124'}, 'timestamp': 1601661336776, 'read': {'watermark': 1601661334457}}]}]}\n",
      "\n",
      "________________________________________read _______________________________________________________________________________\n",
      "Mensaje enviado al Nucleo Logico Read-> "
     ]
    },
    {
     "name": "stderr",
     "output_type": "stream",
     "text": [
      "127.0.0.1 - - [02/Oct/2020 12:55:53] \"POST /apiREST/v1 HTTP/1.1\" 200 -\n"
     ]
    },
    {
     "name": "stdout",
     "output_type": "stream",
     "text": [
      " {\"payload\": {\"robot\": \"none\", \"id_face\": \"430761350747124\", \"recipient_id\": \"3812585132088508\", \"access_token\": \"none\", \"content\": \"\", \"type_resp\": \"read\", \"state\": \"none\", \"blocktype\": \"none\", \"opciones\": \"none\", \"entities\": {}}}\n",
      "hilo consume\n",
      "b'{\"Respuesta\": {\"content\": \"\\\\u00bfQu\\\\u00e9 te gustar\\\\u00eda hacer?\", \"next_id\": \"next\", \"blockType\": \"informativo\", \"contentType\": \"text\", \"typingTime\": \"3\", \"payload\": {\"content\": \"\", \"state\": \"mensajePreMenu_01inicial_inicial\", \"recipient_id\": \"3812585132088508\", \"entities\": {\"qr_menuIntro\": \"\\\\u00a1ok veamos!\", \"var_pregunta\": \"\\\\u00bfc\\\\u00f3mo te llamas?\", \"qr_personalidad\": \"\\\\u00bfquin eres?\"}, \"access_token\": \"EAAJjZAQWaAbgBAAxC53jaIzoxSpgY3qZBc0pYDlb5g3E58pTJ35vAzrsZBVSyiYPhpgZB3ZAeNqx18ImA0LZCcsqL96hFDqsE9fcXUk52ofVsqWeerVDKp0cGo2wvohq5ISdkCUX7ZByd4c80Y6BstQYbe5noQhC8L7wdtMuKyZAAgZDZD\"}}}'\n",
      "\n",
      "_________________________________________________________________________________________________________________________\n",
      "Respuesta del Nucleo Logico->  {'Respuesta': {'content': '¿Qué te gustaría hacer?', 'next_id': 'next', 'blockType': 'informativo', 'contentType': 'text', 'typingTime': '3', 'payload': {'content': '', 'state': 'mensajePreMenu_01inicial_inicial', 'recipient_id': '3812585132088508', 'entities': {'qr_menuIntro': '¡ok veamos!', 'var_pregunta': '¿cómo te llamas?', 'qr_personalidad': '¿quin eres?'}, 'access_token': 'EAAJjZAQWaAbgBAAxC53jaIzoxSpgY3qZBc0pYDlb5g3E58pTJ35vAzrsZBVSyiYPhpgZB3ZAeNqx18ImA0LZCcsqL96hFDqsE9fcXUk52ofVsqWeerVDKp0cGo2wvohq5ISdkCUX7ZByd4c80Y6BstQYbe5noQhC8L7wdtMuKyZAAgZDZD'}}}\n",
      "\n",
      "---------------------------------------------------------------------------\n",
      "mensaje enviado a la API de facebook:\n",
      " {'recipient_id': '3812585132088508', 'message_id': 'm_53V46Xnm63n6_9lEZ1t0SoDIHsg4Bwph1PFsDRmK-uGegTKeP_tbrHFXTiFq7fI8AI84aKIfRC4XmS1ZrEnkOQ'}\n",
      " [.] Got %r None\n",
      "\n",
      "_________________________________________________________________________________________________________________________\n",
      "Mesaje de la API de Facebook-> \n",
      " {'object': 'page', 'entry': [{'id': '430761350747124', 'time': 1601661366499, 'messaging': [{'sender': {'id': '3812585132088508'}, 'recipient': {'id': '430761350747124'}, 'timestamp': 1601661366636, 'read': {'watermark': 1601661363697}}]}]}\n",
      "\n",
      "________________________________________read _______________________________________________________________________________\n",
      "Mensaje enviado al Nucleo Logico Read->  {\"payload\": {\"robot\": \"none\", \"id_face\": \"430761350747124\", \"recipient_id\": \"3812585132088508\", \"access_token\": \"none\", \"content\": \"\", \"type_resp\": \"read\", \"state\": \"none\", \"blocktype\": \"none\", \"opciones\": \"none\", \"entities\": {}}}\n",
      "hilo consume\n"
     ]
    },
    {
     "name": "stderr",
     "output_type": "stream",
     "text": [
      "127.0.0.1 - - [02/Oct/2020 12:56:17] \"POST /apiREST/v1 HTTP/1.1\" 200 -\n"
     ]
    },
    {
     "name": "stdout",
     "output_type": "stream",
     "text": [
      "b'{\"Respuesta\": {\"content\": \"Selecciona una opci\\\\u00f3n\", \"next_id\": \"mensajesIntroduccion_01inicial_inicial,infoEdad_01inicial_inicial,infoColor_01inicial_inicial\", \"blockType\": \"quickReply\", \"contentType\": \" \", \"typingTime\": \"3\", \"payload\": {\"content\": \"\", \"state\": \"qrPersonalidad_01inicial_inicial\", \"recipient_id\": \"3812585132088508\", \"entities\": {\"qr_menuIntro\": \"\\\\u00a1ok veamos!\", \"var_pregunta\": \"\\\\u00bfc\\\\u00f3mo te llamas?\", \"qr_personalidad\": \"\\\\u00bfquin eres?\"}, \"access_token\": \"EAAJjZAQWaAbgBAAxC53jaIzoxSpgY3qZBc0pYDlb5g3E58pTJ35vAzrsZBVSyiYPhpgZB3ZAeNqx18ImA0LZCcsqL96hFDqsE9fcXUk52ofVsqWeerVDKp0cGo2wvohq5ISdkCUX7ZByd4c80Y6BstQYbe5noQhC8L7wdtMuKyZAAgZDZD\"}, \"options\": [\"\\\\u00bfCon qui\\\\u00e9n estoy hablando?\", \"\\\\u00bfQu\\\\u00e9 edad tienes?\", \"\\\\u00bfCu\\\\u00e1l es tu color favorito?\"], \"default_id\": \"NLPpersonalidad_01inicial_inicial\", \"save_var\": \"\\\\u00bfquin eres?\"}}'\n",
      "\n",
      "_________________________________________________________________________________________________________________________\n",
      "Respuesta del Nucleo Logico->  {'Respuesta': {'content': 'Selecciona una opción', 'next_id': 'mensajesIntroduccion_01inicial_inicial,infoEdad_01inicial_inicial,infoColor_01inicial_inicial', 'blockType': 'quickReply', 'contentType': ' ', 'typingTime': '3', 'payload': {'content': '', 'state': 'qrPersonalidad_01inicial_inicial', 'recipient_id': '3812585132088508', 'entities': {'qr_menuIntro': '¡ok veamos!', 'var_pregunta': '¿cómo te llamas?', 'qr_personalidad': '¿quin eres?'}, 'access_token': 'EAAJjZAQWaAbgBAAxC53jaIzoxSpgY3qZBc0pYDlb5g3E58pTJ35vAzrsZBVSyiYPhpgZB3ZAeNqx18ImA0LZCcsqL96hFDqsE9fcXUk52ofVsqWeerVDKp0cGo2wvohq5ISdkCUX7ZByd4c80Y6BstQYbe5noQhC8L7wdtMuKyZAAgZDZD'}, 'options': ['¿Con quién estoy hablando?', '¿Qué edad tienes?', '¿Cuál es tu color favorito?'], 'default_id': 'NLPpersonalidad_01inicial_inicial', 'save_var': '¿quin eres?'}}\n",
      "\n",
      "---------------------------------------------------------------------------\n",
      "mensaje enviado a la API de facebook:\n",
      " {'recipient_id': '3812585132088508', 'message_id': 'm_ypcW5P1wc2qQxAkZvLCRIoDIHsg4Bwph1PFsDRmK-uGr4kwCM3sx5JDSLd3j1a4cAngeJv3SAEi_0m7eEVbGfg'}\n",
      " [.] Got %r None\n",
      "\n",
      "_________________________________________________________________________________________________________________________\n",
      "Mesaje de la API de Facebook-> \n",
      " {'object': 'page', 'entry': [{'id': '430761350747124', 'time': 1601661408395, 'messaging': [{'sender': {'id': '3812585132088508'}, 'recipient': {'id': '430761350747124'}, 'timestamp': 1601661408518, 'read': {'watermark': 1601661385834}}]}]}\n"
     ]
    },
    {
     "name": "stderr",
     "output_type": "stream",
     "text": [
      "127.0.0.1 - - [02/Oct/2020 12:57:00] \"POST /apiREST/v1 HTTP/1.1\" 200 -\n"
     ]
    },
    {
     "name": "stdout",
     "output_type": "stream",
     "text": [
      "\n",
      "________________________________________read _______________________________________________________________________________\n",
      "Mensaje enviado al Nucleo Logico Read->  {\"payload\": {\"robot\": \"none\", \"id_face\": \"430761350747124\", \"recipient_id\": \"3812585132088508\", \"access_token\": \"none\", \"content\": \"\", \"type_resp\": \"read\", \"state\": \"none\", \"blocktype\": \"none\", \"opciones\": \"none\", \"entities\": {}}}\n",
      "hilo consume\n",
      "b'{\"payload\": {\"robot\": 340, \"id_face\": \"430761350747124\", \"recipient_id\": \"3812585132088508\", \"access_token\": \"EAAJjZAQWaAbgBAAxC53jaIzoxSpgY3qZBc0pYDlb5g3E58pTJ35vAzrsZBVSyiYPhpgZB3ZAeNqx18ImA0LZCcsqL96hFDqsE9fcXUk52ofVsqWeerVDKp0cGo2wvohq5ISdkCUX7ZByd4c80Y6BstQYbe5noQhC8L7wdtMuKyZAAgZDZD\", \"content\": \"\", \"type_resp\": \"read\", \"state\": \"none\", \"blocktype\": \"none\", \"opciones\": \"none\", \"entities\": {}}}'\n",
      " [.] Got %r None\n",
      "\n",
      "_________________________________________________________________________________________________________________________\n",
      "Mesaje de la API de Facebook-> \n",
      " {'object': 'page', 'entry': [{'id': '430761350747124', 'time': 1601661534053, 'messaging': [{'sender': {'id': '3812585132088508'}, 'recipient': {'id': '430761350747124'}, 'timestamp': 1601661533975, 'message': {'mid': 'm_xwU8BwI-KBG1-ywMOX2zbIDIHsg4Bwph1PFsDRmK-uHjiV4Kqz0i9wa6JdZFh8boIKTCNZ7fCYZc05XoWmbXWA', 'text': '¿quién eres?'}}]}]}\n"
     ]
    },
    {
     "name": "stderr",
     "output_type": "stream",
     "text": [
      "127.0.0.1 - - [02/Oct/2020 12:59:06] \"POST /apiREST/v1 HTTP/1.1\" 200 -\n"
     ]
    },
    {
     "name": "stdout",
     "output_type": "stream",
     "text": [
      "hilo consume\n",
      "______________________________________________no read__________________________________________________________________________\n",
      "Mensaje enviado al Nucleo Logico->  {\"payload\": {\"robot\": \"none\", \"id_face\": \"430761350747124\", \"recipient_id\": \"3812585132088508\", \"access_token\": \"none\", \"content\": \"\\u00bfqui\\u00e9n eres?\", \"type_resp\": \"message\", \"state\": \"none\", \"blocktype\": \"none\", \"opciones\": \"none\", \"entities\": {}}}\n",
      "\n",
      "b'{\"nlp\": \"nlp\"}'\n",
      "\n",
      "_________________________________________________________________________________________________________________________\n",
      "Respuesta del Nucleo Logico->  {'nlp': 'nlp'}\n",
      "Error run : 'Respuesta'\n",
      "\n",
      "_________________________________________________________________________________________________________________________\n",
      "Mesaje de la API de Facebook-> \n",
      " {'object': 'page', 'entry': [{'id': '430761350747124', 'time': 1601661688680, 'messaging': [{'sender': {'id': '3812585132088508'}, 'recipient': {'id': '430761350747124'}, 'timestamp': 1601661688590, 'message': {'mid': 'm_BLg-wiTI-v5RlsFYiRmAb4DIHsg4Bwph1PFsDRmK-uG0d0tlNYkGx0HMUbJvHyCZ82PsJkubxreaQwBUsK2qbQ', 'text': 'hola'}}]}]}\n"
     ]
    },
    {
     "name": "stderr",
     "output_type": "stream",
     "text": [
      "127.0.0.1 - - [02/Oct/2020 13:01:37] \"POST /apiREST/v1 HTTP/1.1\" 200 -\n"
     ]
    },
    {
     "name": "stdout",
     "output_type": "stream",
     "text": [
      "hilo consume\n",
      "\n",
      "______________________________________________no read__________________________________________________________________________\n",
      "Mensaje enviado al Nucleo Logico->  {\"payload\": {\"robot\": \"none\", \"id_face\": \"430761350747124\", \"recipient_id\": \"3812585132088508\", \"access_token\": \"none\", \"content\": \"hola\", \"type_resp\": \"message\", \"state\": \"none\", \"blocktype\": \"none\", \"opciones\": \"none\", \"entities\": {}}}\n",
      "b'{\"nlp\": \"nlp\"}'\n",
      "\n",
      "_________________________________________________________________________________________________________________________\n",
      "Respuesta del Nucleo Logico->  {'nlp': 'nlp'}\n",
      "Error run : 'Respuesta'\n",
      "\n",
      "_________________________________________________________________________________________________________________________\n",
      "Mesaje de la API de Facebook-> \n",
      " {'object': 'page', 'entry': [{'id': '430761350747124', 'time': 1601661728061, 'messaging': [{'sender': {'id': '3812585132088508'}, 'recipient': {'id': '430761350747124'}, 'timestamp': 1601661727983, 'message': {'mid': 'm_JgPMXJ8aAcYqoVHATFH4DIDIHsg4Bwph1PFsDRmK-uGr85bBAYU52BocW-ExdKSEO2viKveXebmCpKv-hBhrnw', 'text': '¿cuántos años tienes?'}}]}]}\n"
     ]
    },
    {
     "name": "stderr",
     "output_type": "stream",
     "text": [
      "127.0.0.1 - - [02/Oct/2020 13:02:17] \"POST /apiREST/v1 HTTP/1.1\" 200 -\n"
     ]
    },
    {
     "name": "stdout",
     "output_type": "stream",
     "text": [
      "hilo consume\n",
      "\n",
      "______________________________________________no read__________________________________________________________________________\n",
      "Mensaje enviado al Nucleo Logico->  {\"payload\": {\"robot\": \"none\", \"id_face\": \"430761350747124\", \"recipient_id\": \"3812585132088508\", \"access_token\": \"none\", \"content\": \"\\u00bfcu\\u00e1ntos a\\u00f1os tienes?\", \"type_resp\": \"message\", \"state\": \"none\", \"blocktype\": \"none\", \"opciones\": \"none\", \"entities\": {}}}\n",
      "b'{\"Respuesta\": {\"content\": \"Mmmm yo tengo 21 a\\\\u00f1os con 6 meses\", \"next_id\": \"mensajePreMenu_01inicial_inicial\", \"blockType\": \"informativo\", \"contentType\": \"text\", \"typingTime\": \"3\", \"payload\": {\"content\": \"\", \"state\": \"infoEdad_01inicial_inicial\", \"recipient_id\": \"3812585132088508\", \"entities\": {\"qr_menuIntro\": \"\\\\u00a1ok veamos!\", \"var_pregunta\": \"\\\\u00bfc\\\\u00f3mo te llamas?\", \"qr_personalidad\": \"\\\\u00bfcu\\\\u00e1ntos a\\\\u00f1os tienes?\"}, \"access_token\": \"EAAJjZAQWaAbgBAAxC53jaIzoxSpgY3qZBc0pYDlb5g3E58pTJ35vAzrsZBVSyiYPhpgZB3ZAeNqx18ImA0LZCcsqL96hFDqsE9fcXUk52ofVsqWeerVDKp0cGo2wvohq5ISdkCUX7ZByd4c80Y6BstQYbe5noQhC8L7wdtMuKyZAAgZDZD\"}}}'\n",
      "\n",
      "_________________________________________________________________________________________________________________________\n",
      "Respuesta del Nucleo Logico->  {'Respuesta': {'content': 'Mmmm yo tengo 21 años con 6 meses', 'next_id': 'mensajePreMenu_01inicial_inicial', 'blockType': 'informativo', 'contentType': 'text', 'typingTime': '3', 'payload': {'content': '', 'state': 'infoEdad_01inicial_inicial', 'recipient_id': '3812585132088508', 'entities': {'qr_menuIntro': '¡ok veamos!', 'var_pregunta': '¿cómo te llamas?', 'qr_personalidad': '¿cuántos años tienes?'}, 'access_token': 'EAAJjZAQWaAbgBAAxC53jaIzoxSpgY3qZBc0pYDlb5g3E58pTJ35vAzrsZBVSyiYPhpgZB3ZAeNqx18ImA0LZCcsqL96hFDqsE9fcXUk52ofVsqWeerVDKp0cGo2wvohq5ISdkCUX7ZByd4c80Y6BstQYbe5noQhC8L7wdtMuKyZAAgZDZD'}}}\n",
      "\n",
      "---------------------------------------------------------------------------\n",
      "mensaje enviado a la API de facebook:\n",
      " {'recipient_id': '3812585132088508', 'message_id': 'm_mz8KfMv2skhl2kM0-2F7A4DIHsg4Bwph1PFsDRmK-uH3nd5pvpO7Qy2LNKUuADQq92cwqCIaNjYLHgwYOHC_aQ'}\n",
      " [.] Got %r None\n",
      "\n",
      "_________________________________________________________________________________________________________________________\n",
      "Mesaje de la API de Facebook-> \n",
      " {'object': 'page', 'entry': [{'id': '430761350747124', 'time': 1601661752329, 'messaging': [{'sender': {'id': '3812585132088508'}, 'recipient': {'id': '430761350747124'}, 'timestamp': 1601661752476, 'read': {'watermark': 1601661747425}}]}]}\n",
      "\n",
      "________________________________________read _______________________________________________________________________________\n",
      "Mensaje enviado al Nucleo Logico Read->  {\"payload\": {\"robot\": \"none\", \"id_face\": \"430761350747124\", \"recipient_id\": \"3812585132088508\", \"access_token\": \"none\", \"content\": \"\", \"type_resp\": \"read\", \"state\": \"none\", \"blocktype\": \"none\", \"opciones\": \"none\", \"entities\": {}}}\n"
     ]
    },
    {
     "name": "stderr",
     "output_type": "stream",
     "text": [
      "127.0.0.1 - - [02/Oct/2020 13:02:53] \"POST /apiREST/v1 HTTP/1.1\" 200 -\n"
     ]
    },
    {
     "name": "stdout",
     "output_type": "stream",
     "text": [
      "hilo consume\n",
      "b'{\"Respuesta\": {\"content\": \"\\\\u00bfQu\\\\u00e9 te gustar\\\\u00eda hacer?\", \"next_id\": \"next\", \"blockType\": \"informativo\", \"contentType\": \"text\", \"typingTime\": \"3\", \"payload\": {\"content\": \"\", \"state\": \"mensajePreMenu_01inicial_inicial\", \"recipient_id\": \"3812585132088508\", \"entities\": {\"qr_menuIntro\": \"\\\\u00a1ok veamos!\", \"var_pregunta\": \"\\\\u00bfc\\\\u00f3mo te llamas?\", \"qr_personalidad\": \"\\\\u00bfcu\\\\u00e1ntos a\\\\u00f1os tienes?\"}, \"access_token\": \"EAAJjZAQWaAbgBAAxC53jaIzoxSpgY3qZBc0pYDlb5g3E58pTJ35vAzrsZBVSyiYPhpgZB3ZAeNqx18ImA0LZCcsqL96hFDqsE9fcXUk52ofVsqWeerVDKp0cGo2wvohq5ISdkCUX7ZByd4c80Y6BstQYbe5noQhC8L7wdtMuKyZAAgZDZD\"}}}'\n",
      "\n",
      "_________________________________________________________________________________________________________________________\n",
      "Respuesta del Nucleo Logico->  {'Respuesta': {'content': '¿Qué te gustaría hacer?', 'next_id': 'next', 'blockType': 'informativo', 'contentType': 'text', 'typingTime': '3', 'payload': {'content': '', 'state': 'mensajePreMenu_01inicial_inicial', 'recipient_id': '3812585132088508', 'entities': {'qr_menuIntro': '¡ok veamos!', 'var_pregunta': '¿cómo te llamas?', 'qr_personalidad': '¿cuántos años tienes?'}, 'access_token': 'EAAJjZAQWaAbgBAAxC53jaIzoxSpgY3qZBc0pYDlb5g3E58pTJ35vAzrsZBVSyiYPhpgZB3ZAeNqx18ImA0LZCcsqL96hFDqsE9fcXUk52ofVsqWeerVDKp0cGo2wvohq5ISdkCUX7ZByd4c80Y6BstQYbe5noQhC8L7wdtMuKyZAAgZDZD'}}}\n",
      "\n",
      "---------------------------------------------------------------------------\n",
      "mensaje enviado a la API de facebook:\n",
      " {'recipient_id': '3812585132088508', 'message_id': 'm_VMdd_NBiNgUCdaWHQj_hdIDIHsg4Bwph1PFsDRmK-uEDClYMmuvzb2IgvETFCiG_BZIywweMMZxmk4GelW5VbA'}\n",
      " [.] Got %r None\n",
      "\n",
      "_________________________________________________________________________________________________________________________\n",
      "Mesaje de la API de Facebook-> \n",
      " {'object': 'page', 'entry': [{'id': '430761350747124', 'time': 1601661794433, 'messaging': [{'sender': {'id': '3812585132088508'}, 'recipient': {'id': '430761350747124'}, 'timestamp': 1601661794504, 'read': {'watermark': 1601661790409}}]}]}\n",
      "\n",
      "________________________________________read _______________________________________________________________________________"
     ]
    },
    {
     "name": "stderr",
     "output_type": "stream",
     "text": [
      "127.0.0.1 - - [02/Oct/2020 13:03:24] \"POST /apiREST/v1 HTTP/1.1\" 200 -\n"
     ]
    },
    {
     "name": "stdout",
     "output_type": "stream",
     "text": [
      "\n",
      "Mensaje enviado al Nucleo Logico Read->  {\"payload\": {\"robot\": \"none\", \"id_face\": \"430761350747124\", \"recipient_id\": \"3812585132088508\", \"access_token\": \"none\", \"content\": \"\", \"type_resp\": \"read\", \"state\": \"none\", \"blocktype\": \"none\", \"opciones\": \"none\", \"entities\": {}}}\n",
      "hilo consume\n",
      "b'{\"Respuesta\": {\"content\": \"Selecciona una opci\\\\u00f3n\", \"next_id\": \"mensajesIntroduccion_01inicial_inicial,infoEdad_01inicial_inicial,infoColor_01inicial_inicial\", \"blockType\": \"quickReply\", \"contentType\": \" \", \"typingTime\": \"3\", \"payload\": {\"content\": \"\", \"state\": \"qrPersonalidad_01inicial_inicial\", \"recipient_id\": \"3812585132088508\", \"entities\": {\"qr_menuIntro\": \"\\\\u00a1ok veamos!\", \"var_pregunta\": \"\\\\u00bfc\\\\u00f3mo te llamas?\", \"qr_personalidad\": \"\\\\u00bfcu\\\\u00e1ntos a\\\\u00f1os tienes?\"}, \"access_token\": \"EAAJjZAQWaAbgBAAxC53jaIzoxSpgY3qZBc0pYDlb5g3E58pTJ35vAzrsZBVSyiYPhpgZB3ZAeNqx18ImA0LZCcsqL96hFDqsE9fcXUk52ofVsqWeerVDKp0cGo2wvohq5ISdkCUX7ZByd4c80Y6BstQYbe5noQhC8L7wdtMuKyZAAgZDZD\"}, \"options\": [\"\\\\u00bfCon qui\\\\u00e9n estoy hablando?\", \"\\\\u00bfQu\\\\u00e9 edad tienes?\", \"\\\\u00bfCu\\\\u00e1l es tu color favorito?\"], \"default_id\": \"NLPpersonalidad_01inicial_inicial\", \"save_var\": \"\\\\u00bfcu\\\\u00e1ntos a\\\\u00f1os tienes?\"}}'\n",
      "\n",
      "_________________________________________________________________________________________________________________________\n",
      "Respuesta del Nucleo Logico->  {'Respuesta': {'content': 'Selecciona una opción', 'next_id': 'mensajesIntroduccion_01inicial_inicial,infoEdad_01inicial_inicial,infoColor_01inicial_inicial', 'blockType': 'quickReply', 'contentType': ' ', 'typingTime': '3', 'payload': {'content': '', 'state': 'qrPersonalidad_01inicial_inicial', 'recipient_id': '3812585132088508', 'entities': {'qr_menuIntro': '¡ok veamos!', 'var_pregunta': '¿cómo te llamas?', 'qr_personalidad': '¿cuántos años tienes?'}, 'access_token': 'EAAJjZAQWaAbgBAAxC53jaIzoxSpgY3qZBc0pYDlb5g3E58pTJ35vAzrsZBVSyiYPhpgZB3ZAeNqx18ImA0LZCcsqL96hFDqsE9fcXUk52ofVsqWeerVDKp0cGo2wvohq5ISdkCUX7ZByd4c80Y6BstQYbe5noQhC8L7wdtMuKyZAAgZDZD'}, 'options': ['¿Con quién estoy hablando?', '¿Qué edad tienes?', '¿Cuál es tu color favorito?'], 'default_id': 'NLPpersonalidad_01inicial_inicial', 'save_var': '¿cuántos años tienes?'}}\n",
      "\n",
      "---------------------------------------------------------------------------\n",
      "mensaje enviado a la API de facebook:\n",
      " {'recipient_id': '3812585132088508', 'message_id': 'm_12AU5oAhXcv_BPnvKMybKYDIHsg4Bwph1PFsDRmK-uFFr_QoXz-vuJcRsTnO-x8zB0q_IS4bZHTtpl3rZWCROw'}\n",
      " [.] Got %r None\n",
      "\n",
      "_________________________________________________________________________________________________________________________\n",
      "Mesaje de la API de Facebook-> \n",
      " {'object': 'page', 'entry': [{'id': '430761350747124', 'time': 1601661893373, 'messaging': [{'sender': {'id': '3812585132088508'}, 'recipient': {'id': '430761350747124'}, 'timestamp': 1601661893491, 'read': {'watermark': 1601661825711}}]}]}\n",
      "\n",
      "________________________________________read _______________________________________________________________________________\n",
      "Mensaje enviado al Nucleo Logico Read->  {\"payload\": {\"robot\": \"none\", \"id_face\": \"430761350747124\", \"recipient_id\": \"3812585132088508\", \"access_token\": \"none\", \"content\": \"\", \"type_resp\": \"read\", \"state\": \"none\", \"blocktype\": \"none\", \"opciones\": \"none\", \"entities\": {}}}\n",
      "hilo consume\n",
      "b'{\"payload\": {\"robot\": 340, \"id_face\": \"430761350747124\", \"recipient_id\": \"3812585132088508\", \"access_token\": \"EAAJjZAQWaAbgBAAxC53jaIzoxSpgY3qZBc0pYDlb5g3E58pTJ35vAzrsZBVSyiYPhpgZB3ZAeNqx18ImA0LZCcsqL96hFDqsE9fcXUk52ofVsqWeerVDKp0cGo2wvohq5ISdkCUX7ZByd4c80Y6BstQYbe5noQhC8L7wdtMuKyZAAgZDZD\", \"content\": \"\", \"type_resp\": \"read\", \"state\": \"none\", \"blocktype\": \"none\", \"opciones\": \"none\", \"entities\": {}}}'\n",
      " [.] Got %r None\n"
     ]
    },
    {
     "name": "stderr",
     "output_type": "stream",
     "text": [
      "127.0.0.1 - - [02/Oct/2020 13:04:59] \"POST /apiREST/v1 HTTP/1.1\" 200 -\n"
     ]
    },
    {
     "name": "stdout",
     "output_type": "stream",
     "text": [
      "\n",
      "_________________________________________________________________________________________________________________________\n",
      "Mesaje de la API de Facebook-> \n",
      " {'object': 'page', 'entry': [{'id': '430761350747124', 'time': 1601662104009, 'messaging': [{'sender': {'id': '3812585132088508'}, 'recipient': {'id': '430761350747124'}, 'timestamp': 1601662103805, 'postback': {'title': '¿Con quién estoy hablan...', 'payload': '¿Con quién estoy hablando?'}}]}]}\n"
     ]
    },
    {
     "name": "stderr",
     "output_type": "stream",
     "text": [
      "127.0.0.1 - - [02/Oct/2020 13:08:25] \"POST /apiREST/v1 HTTP/1.1\" 200 -\n"
     ]
    },
    {
     "name": "stdout",
     "output_type": "stream",
     "text": [
      "hilo consume\n",
      "\n",
      "______________________________________________no read__________________________________________________________________________\n",
      "Mensaje enviado al Nucleo Logico->  {\"payload\": {\"robot\": \"none\", \"id_face\": \"430761350747124\", \"recipient_id\": \"3812585132088508\", \"access_token\": \"none\", \"content\": \"\\u00bfCon qui\\u00e9n estoy hablando?\", \"type_resp\": \"postback\", \"state\": \"none\", \"blocktype\": \"none\", \"opciones\": \"none\", \"entities\": {}}}\n",
      "b'{\"Respuesta\": {\"content\": \"\\\\u00a1Hola! Soy Niza.\", \"next_id\": \"next\", \"blockType\": \"informativo\", \"contentType\": \"text\", \"typingTime\": \"3\", \"payload\": {\"content\": \"\", \"state\": \"mensajesIntroduccion_01inicial_inicial\", \"recipient_id\": \"3812585132088508\", \"entities\": {\"qr_menuIntro\": \"\\\\u00a1ok veamos!\", \"var_pregunta\": \"\\\\u00bfc\\\\u00f3mo te llamas?\", \"qr_personalidad\": \"\\\\u00bfCon qui\\\\u00e9n estoy hablando?\"}, \"access_token\": \"EAAJjZAQWaAbgBAAxC53jaIzoxSpgY3qZBc0pYDlb5g3E58pTJ35vAzrsZBVSyiYPhpgZB3ZAeNqx18ImA0LZCcsqL96hFDqsE9fcXUk52ofVsqWeerVDKp0cGo2wvohq5ISdkCUX7ZByd4c80Y6BstQYbe5noQhC8L7wdtMuKyZAAgZDZD\"}}}'\n",
      "\n",
      "_________________________________________________________________________________________________________________________\n",
      "Respuesta del Nucleo Logico->  {'Respuesta': {'content': '¡Hola! Soy Niza.', 'next_id': 'next', 'blockType': 'informativo', 'contentType': 'text', 'typingTime': '3', 'payload': {'content': '', 'state': 'mensajesIntroduccion_01inicial_inicial', 'recipient_id': '3812585132088508', 'entities': {'qr_menuIntro': '¡ok veamos!', 'var_pregunta': '¿cómo te llamas?', 'qr_personalidad': '¿Con quién estoy hablando?'}, 'access_token': 'EAAJjZAQWaAbgBAAxC53jaIzoxSpgY3qZBc0pYDlb5g3E58pTJ35vAzrsZBVSyiYPhpgZB3ZAeNqx18ImA0LZCcsqL96hFDqsE9fcXUk52ofVsqWeerVDKp0cGo2wvohq5ISdkCUX7ZByd4c80Y6BstQYbe5noQhC8L7wdtMuKyZAAgZDZD'}}}\n",
      "\n",
      "---------------------------------------------------------------------------\n",
      "mensaje enviado a la API de facebook:\n",
      " {'recipient_id': '3812585132088508', 'message_id': 'm_AlNVsoOjWpxqut_N9RK9HoDIHsg4Bwph1PFsDRmK-uGsvGsXdvhDKnWmjiHvwhzolkDOwj5UY9ctUe2FiR0ojw'}\n",
      " [.] Got %r None\n",
      "\n",
      "_________________________________________________________________________________________________________________________\n",
      "Mesaje de la API de Facebook-> \n",
      " {'object': 'page', 'entry': [{'id': '430761350747124', 'time': 1601662108786, 'messaging': [{'sender': {'id': '3812585132088508'}, 'recipient': {'id': '430761350747124'}, 'timestamp': 1601662108850, 'read': {'watermark': 1601662108457}}]}]}\n"
     ]
    },
    {
     "name": "stderr",
     "output_type": "stream",
     "text": [
      "127.0.0.1 - - [02/Oct/2020 13:08:30] \"POST /apiREST/v1 HTTP/1.1\" 200 -\n"
     ]
    },
    {
     "name": "stdout",
     "output_type": "stream",
     "text": [
      "\n",
      "________________________________________read _______________________________________________________________________________\n",
      "Mensaje enviado al Nucleo Logico Read->  {\"payload\": {\"robot\": \"none\", \"id_face\": \"430761350747124\", \"recipient_id\": \"3812585132088508\", \"access_token\": \"none\", \"content\": \"\", \"type_resp\": \"read\", \"state\": \"none\", \"blocktype\": \"none\", \"opciones\": \"none\", \"entities\": {}}}\n",
      "hilo consume\n",
      "b'{\"Respuesta\": {\"content\": \"Un asistente virtual para atenci\\\\u00f3n ciudadana puedo responder dudas sobre tu agua potable\", \"next_id\": \"next\", \"blockType\": \"informativo\", \"contentType\": \"text\", \"typingTime\": \"3\", \"payload\": {\"content\": \"\", \"state\": \"mensajesIntroduccion_01inicial_inicial\", \"recipient_id\": \"3812585132088508\", \"entities\": {\"qr_menuIntro\": \"\\\\u00a1ok veamos!\", \"var_pregunta\": \"\\\\u00bfc\\\\u00f3mo te llamas?\", \"qr_personalidad\": \"\\\\u00bfCon qui\\\\u00e9n estoy hablando?\"}, \"access_token\": \"EAAJjZAQWaAbgBAAxC53jaIzoxSpgY3qZBc0pYDlb5g3E58pTJ35vAzrsZBVSyiYPhpgZB3ZAeNqx18ImA0LZCcsqL96hFDqsE9fcXUk52ofVsqWeerVDKp0cGo2wvohq5ISdkCUX7ZByd4c80Y6BstQYbe5noQhC8L7wdtMuKyZAAgZDZD\"}}}'\n",
      "\n",
      "_________________________________________________________________________________________________________________________\n",
      "Respuesta del Nucleo Logico->  {'Respuesta': {'content': 'Un asistente virtual para atención ciudadana puedo responder dudas sobre tu agua potable', 'next_id': 'next', 'blockType': 'informativo', 'contentType': 'text', 'typingTime': '3', 'payload': {'content': '', 'state': 'mensajesIntroduccion_01inicial_inicial', 'recipient_id': '3812585132088508', 'entities': {'qr_menuIntro': '¡ok veamos!', 'var_pregunta': '¿cómo te llamas?', 'qr_personalidad': '¿Con quién estoy hablando?'}, 'access_token': 'EAAJjZAQWaAbgBAAxC53jaIzoxSpgY3qZBc0pYDlb5g3E58pTJ35vAzrsZBVSyiYPhpgZB3ZAeNqx18ImA0LZCcsqL96hFDqsE9fcXUk52ofVsqWeerVDKp0cGo2wvohq5ISdkCUX7ZByd4c80Y6BstQYbe5noQhC8L7wdtMuKyZAAgZDZD'}}}\n",
      "\n",
      "---------------------------------------------------------------------------\n",
      "mensaje enviado a la API de facebook:\n",
      " {'recipient_id': '3812585132088508', 'message_id': 'm_jteAPWoLKG5KGoC12gf5noDIHsg4Bwph1PFsDRmK-uGZQ4fQNR6j4TVN3Y-Ry4kZ-bdS8T-Q4rV26bca7hgeVA'}\n",
      " [.] Got %r None\n",
      "\n",
      "_________________________________________________________________________________________________________________________\n",
      "Mesaje de la API de Facebook-> \n",
      " {'object': 'page', 'entry': [{'id': '430761350747124', 'time': 1601662132022, 'messaging': [{'sender': {'id': '3812585132088508'}, 'recipient': {'id': '430761350747124'}, 'timestamp': 1601662132164, 'read': {'watermark': 1601662113803}}]}]}\n",
      "\n",
      "________________________________________read _______________________________________________________________________________\n",
      "Mensaje enviado al Nucleo Logico Read->  {\"payload\": {\"robot\": \"none\", \"id_face\": \"430761350747124\", \"recipient_id\": \"3812585132088508\", \"access_token\": \"none\", \"content\": \"\", \"type_resp\": \"read\", \"state\": \"none\", \"blocktype\": \"none\", \"opciones\": \"none\", \"entities\": {}}}\n",
      "hilo consume\n",
      "b'{\"Respuesta\": {\"content\": \"Te gustar\\\\u00eda saber c\\\\u00f3mo utilizarme\", \"next_id\": \"next\", \"blockType\": \"informativo\", \"contentType\": \"text\", \"typingTime\": \"3\", \"payload\": {\"content\": \"\", \"state\": \"mensajesIntroduccion_01inicial_inicial\", \"recipient_id\": \"3812585132088508\", \"entities\": {\"qr_menuIntro\": \"\\\\u00a1ok veamos!\", \"var_pregunta\": \"\\\\u00bfc\\\\u00f3mo te llamas?\", \"qr_personalidad\": \"\\\\u00bfCon qui\\\\u00e9n estoy hablando?\"}, \"access_token\": \"EAAJjZAQWaAbgBAAxC53jaIzoxSpgY3qZBc0pYDlb5g3E58pTJ35vAzrsZBVSyiYPhpgZB3ZAeNqx18ImA0LZCcsqL96hFDqsE9fcXUk52ofVsqWeerVDKp0cGo2wvohq5ISdkCUX7ZByd4c80Y6BstQYbe5noQhC8L7wdtMuKyZAAgZDZD\"}}}'"
     ]
    },
    {
     "name": "stderr",
     "output_type": "stream",
     "text": [
      "127.0.0.1 - - [02/Oct/2020 13:08:54] \"POST /apiREST/v1 HTTP/1.1\" 200 -\n"
     ]
    },
    {
     "name": "stdout",
     "output_type": "stream",
     "text": [
      "\n",
      "\n",
      "_________________________________________________________________________________________________________________________\n",
      "Respuesta del Nucleo Logico->  {'Respuesta': {'content': 'Te gustaría saber cómo utilizarme', 'next_id': 'next', 'blockType': 'informativo', 'contentType': 'text', 'typingTime': '3', 'payload': {'content': '', 'state': 'mensajesIntroduccion_01inicial_inicial', 'recipient_id': '3812585132088508', 'entities': {'qr_menuIntro': '¡ok veamos!', 'var_pregunta': '¿cómo te llamas?', 'qr_personalidad': '¿Con quién estoy hablando?'}, 'access_token': 'EAAJjZAQWaAbgBAAxC53jaIzoxSpgY3qZBc0pYDlb5g3E58pTJ35vAzrsZBVSyiYPhpgZB3ZAeNqx18ImA0LZCcsqL96hFDqsE9fcXUk52ofVsqWeerVDKp0cGo2wvohq5ISdkCUX7ZByd4c80Y6BstQYbe5noQhC8L7wdtMuKyZAAgZDZD'}}}\n",
      "\n",
      "---------------------------------------------------------------------------\n",
      "mensaje enviado a la API de facebook:\n",
      " {'recipient_id': '3812585132088508', 'message_id': 'm_4RdNoa6AA_SuFTO1F9qvuoDIHsg4Bwph1PFsDRmK-uE0bA6fAMbRRocrnhQkEit7-quHIgoY2LWaYfeMck9hWw'}\n",
      " [.] Got %r None\n",
      "\n",
      "_________________________________________________________________________________________________________________________\n",
      "Mesaje de la API de Facebook-> \n",
      " {'object': 'page', 'entry': [{'id': '430761350747124', 'time': 1601662164962, 'messaging': [{'sender': {'id': '3812585132088508'}, 'recipient': {'id': '430761350747124'}, 'timestamp': 1601662165117, 'read': {'watermark': 1601662140533}}]}]}\n",
      "\n",
      "________________________________________read _______________________________________________________________________________\n",
      "Mensaje enviado al Nucleo Logico Read->  {\"payload\": {\"robot\": \"none\", \"id_face\": \"430761350747124\", \"recipient_id\": \"3812585132088508\", \"access_token\": \"none\", \"content\": \"\", \"type_resp\": \"read\", \"state\": \"none\", \"blocktype\": \"none\", \"opciones\": \"none\", \"entities\": {}}}\n",
      "hilo consume\n"
     ]
    },
    {
     "name": "stderr",
     "output_type": "stream",
     "text": [
      "127.0.0.1 - - [02/Oct/2020 13:09:28] \"POST /apiREST/v1 HTTP/1.1\" 200 -\n"
     ]
    },
    {
     "name": "stdout",
     "output_type": "stream",
     "text": [
      "b'{\"Respuesta\": {\"content\": \"Toca uno de los botones azules para saber tu elecci\\\\u00f3n\", \"next_id\": \"mensajesIntroduccion2_01inicial_inicial,mensajePreMenu_01inicial_inicial\", \"blockType\": \"quickReply\", \"contentType\": \" \", \"typingTime\": \"5\", \"payload\": {\"content\": \"\", \"state\": \"menuIntroduccion_01inicial_inicial\", \"recipient_id\": \"3812585132088508\", \"entities\": {\"qr_menuIntro\": \"\\\\u00a1ok veamos!\", \"var_pregunta\": \"\\\\u00bfc\\\\u00f3mo te llamas?\", \"qr_personalidad\": \"\\\\u00bfCon qui\\\\u00e9n estoy hablando?\"}, \"access_token\": \"EAAJjZAQWaAbgBAAxC53jaIzoxSpgY3qZBc0pYDlb5g3E58pTJ35vAzrsZBVSyiYPhpgZB3ZAeNqx18ImA0LZCcsqL96hFDqsE9fcXUk52ofVsqWeerVDKp0cGo2wvohq5ISdkCUX7ZByd4c80Y6BstQYbe5noQhC8L7wdtMuKyZAAgZDZD\"}, \"options\": [\"\\\\u00a1ok veamos!\", \"Prefiero ir al men\\\\u00fa\"], \"default_id\": \"mensajePreMenu_01inicial_inicial\", \"save_var\": \"\\\\u00a1ok veamos!\"}}'\n",
      "\n",
      "_________________________________________________________________________________________________________________________\n",
      "Respuesta del Nucleo Logico->  {'Respuesta': {'content': 'Toca uno de los botones azules para saber tu elección', 'next_id': 'mensajesIntroduccion2_01inicial_inicial,mensajePreMenu_01inicial_inicial', 'blockType': 'quickReply', 'contentType': ' ', 'typingTime': '5', 'payload': {'content': '', 'state': 'menuIntroduccion_01inicial_inicial', 'recipient_id': '3812585132088508', 'entities': {'qr_menuIntro': '¡ok veamos!', 'var_pregunta': '¿cómo te llamas?', 'qr_personalidad': '¿Con quién estoy hablando?'}, 'access_token': 'EAAJjZAQWaAbgBAAxC53jaIzoxSpgY3qZBc0pYDlb5g3E58pTJ35vAzrsZBVSyiYPhpgZB3ZAeNqx18ImA0LZCcsqL96hFDqsE9fcXUk52ofVsqWeerVDKp0cGo2wvohq5ISdkCUX7ZByd4c80Y6BstQYbe5noQhC8L7wdtMuKyZAAgZDZD'}, 'options': ['¡ok veamos!', 'Prefiero ir al menú'], 'default_id': 'mensajePreMenu_01inicial_inicial', 'save_var': '¡ok veamos!'}}\n",
      "\n",
      "---------------------------------------------------------------------------\n",
      "mensaje enviado a la API de facebook:\n",
      " {'recipient_id': '3812585132088508', 'message_id': 'm_CpuEcsHG9euZ_EDqIs05DIDIHsg4Bwph1PFsDRmK-uF0JSm3sKS4OekVA1ocrSFWkCl_S5LeF4ZYDrpeY3clDg'}\n",
      " [.] Got %r None\n",
      "\n",
      "_________________________________________________________________________________________________________________________\n",
      "Mesaje de la API de Facebook-> \n",
      " {'object': 'page', 'entry': [{'id': '430761350747124', 'time': 1601662206396, 'messaging': [{'sender': {'id': '3812585132088508'}, 'recipient': {'id': '430761350747124'}, 'timestamp': 1601662206493, 'read': {'watermark': 1601662172883}}]}]}\n",
      "\n",
      "________________________________________read _______________________________________________________________________________\n",
      "Mensaje enviado al Nucleo Logico Read->  {\"payload\": {\"robot\": \"none\", \"id_face\": \"430761350747124\", \"recipient_id\": \"3812585132088508\", \"access_token\": \"none\", \"content\": \"\", \"type_resp\": \"read\", \"state\": \"none\", \"blocktype\": \"none\", \"opciones\": \"none\", \"entities\": {}}}\n",
      "hilo consume\n"
     ]
    },
    {
     "name": "stderr",
     "output_type": "stream",
     "text": [
      "127.0.0.1 - - [02/Oct/2020 13:10:08] \"POST /apiREST/v1 HTTP/1.1\" 200 -\n"
     ]
    },
    {
     "name": "stdout",
     "output_type": "stream",
     "text": [
      "b'{\"payload\": {\"robot\": 340, \"id_face\": \"430761350747124\", \"recipient_id\": \"3812585132088508\", \"access_token\": \"EAAJjZAQWaAbgBAAxC53jaIzoxSpgY3qZBc0pYDlb5g3E58pTJ35vAzrsZBVSyiYPhpgZB3ZAeNqx18ImA0LZCcsqL96hFDqsE9fcXUk52ofVsqWeerVDKp0cGo2wvohq5ISdkCUX7ZByd4c80Y6BstQYbe5noQhC8L7wdtMuKyZAAgZDZD\", \"content\": \"\", \"type_resp\": \"read\", \"state\": \"none\", \"blocktype\": \"none\", \"opciones\": \"none\", \"entities\": {}}}'\n",
      " [.] Got %r None\n",
      "\n",
      "_________________________________________________________________________________________________________________________\n",
      "Mesaje de la API de Facebook-> \n",
      " {'object': 'page', 'entry': [{'id': '430761350747124', 'time': 1601662209738, 'messaging': [{'sender': {'id': '3812585132088508'}, 'recipient': {'id': '430761350747124'}, 'timestamp': 1601662209598, 'postback': {'title': '¡ok veamos!', 'payload': '¡ok veamos!'}}]}]}\n"
     ]
    },
    {
     "name": "stderr",
     "output_type": "stream",
     "text": [
      "127.0.0.1 - - [02/Oct/2020 13:10:12] \"POST /apiREST/v1 HTTP/1.1\" 200 -\n"
     ]
    },
    {
     "name": "stdout",
     "output_type": "stream",
     "text": [
      "hilo consume\n",
      "\n",
      "______________________________________________no read__________________________________________________________________________\n",
      "Mensaje enviado al Nucleo Logico->  {\"payload\": {\"robot\": \"none\", \"id_face\": \"430761350747124\", \"recipient_id\": \"3812585132088508\", \"access_token\": \"none\", \"content\": \"\\u00a1ok veamos!\", \"type_resp\": \"postback\", \"state\": \"none\", \"blocktype\": \"none\", \"opciones\": \"none\", \"entities\": {}}}\n",
      "b'{\"Respuesta\": {\"content\": \"Soy un robot que funciona con un sistema autom\\\\u00e1tico llamado inteligencia artificial.\", \"next_id\": \"next\", \"blockType\": \"informativo\", \"contentType\": \"text\", \"typingTime\": \"3\", \"payload\": {\"content\": \"\", \"state\": \"mensajesIntroduccion2_01inicial_inicial\", \"recipient_id\": \"3812585132088508\", \"entities\": {\"qr_menuIntro\": \"\\\\u00a1ok veamos!\", \"var_pregunta\": \"\\\\u00bfc\\\\u00f3mo te llamas?\", \"qr_personalidad\": \"\\\\u00bfCon qui\\\\u00e9n estoy hablando?\"}, \"access_token\": \"EAAJjZAQWaAbgBAAxC53jaIzoxSpgY3qZBc0pYDlb5g3E58pTJ35vAzrsZBVSyiYPhpgZB3ZAeNqx18ImA0LZCcsqL96hFDqsE9fcXUk52ofVsqWeerVDKp0cGo2wvohq5ISdkCUX7ZByd4c80Y6BstQYbe5noQhC8L7wdtMuKyZAAgZDZD\"}}}'\n",
      "\n",
      "_________________________________________________________________________________________________________________________\n",
      "Respuesta del Nucleo Logico->  {'Respuesta': {'content': 'Soy un robot que funciona con un sistema automático llamado inteligencia artificial.', 'next_id': 'next', 'blockType': 'informativo', 'contentType': 'text', 'typingTime': '3', 'payload': {'content': '', 'state': 'mensajesIntroduccion2_01inicial_inicial', 'recipient_id': '3812585132088508', 'entities': {'qr_menuIntro': '¡ok veamos!', 'var_pregunta': '¿cómo te llamas?', 'qr_personalidad': '¿Con quién estoy hablando?'}, 'access_token': 'EAAJjZAQWaAbgBAAxC53jaIzoxSpgY3qZBc0pYDlb5g3E58pTJ35vAzrsZBVSyiYPhpgZB3ZAeNqx18ImA0LZCcsqL96hFDqsE9fcXUk52ofVsqWeerVDKp0cGo2wvohq5ISdkCUX7ZByd4c80Y6BstQYbe5noQhC8L7wdtMuKyZAAgZDZD'}}}\n",
      "\n",
      "---------------------------------------------------------------------------\n",
      "mensaje enviado a la API de facebook:\n",
      " {'recipient_id': '3812585132088508', 'message_id': 'm_O7JAp3C5xDLaj65nZ9hJKYDIHsg4Bwph1PFsDRmK-uE5sOqthLjnQlKI92zbPJhWXYqQwcXGEe4v_Z1XGZ0kgw'}\n",
      " [.] Got %r None\n",
      "\n",
      "_________________________________________________________________________________________________________________________\n",
      "Mesaje de la API de Facebook-> \n",
      " {'object': 'page', 'entry': [{'id': '430761350747124', 'time': 1601662226527, 'messaging': [{'sender': {'id': '3812585132088508'}, 'recipient': {'id': '430761350747124'}, 'timestamp': 1601662226706, 'read': {'watermark': 1601662220506}}]}]}\n",
      "\n",
      "________________________________________read _______________________________________________________________________________\n",
      "Mensaje enviado al Nucleo Logico Read->  {\"payload\": {\"robot\": \"none\", \"id_face\": \"430761350747124\", \"recipient_id\": \"3812585132088508\", \"access_token\": \"none\", \"content\": \"\", \"type_resp\": \"read\", \"state\": \"none\", \"blocktype\": \"none\", \"opciones\": \"none\", \"entities\": {}}}"
     ]
    },
    {
     "name": "stderr",
     "output_type": "stream",
     "text": [
      "127.0.0.1 - - [02/Oct/2020 13:10:30] \"POST /apiREST/v1 HTTP/1.1\" 200 -\n"
     ]
    },
    {
     "name": "stdout",
     "output_type": "stream",
     "text": [
      "\n",
      "hilo consume\n",
      "b'{\"Respuesta\": {\"content\": \"Cada vez que escribas intentare entenderte si algo se me dificulta siempre podre contactarte con un humano.\", \"next_id\": \"next\", \"blockType\": \"informativo\", \"contentType\": \"text\", \"typingTime\": \"3\", \"payload\": {\"content\": \"\", \"state\": \"mensajesIntroduccion2_01inicial_inicial\", \"recipient_id\": \"3812585132088508\", \"entities\": {\"qr_menuIntro\": \"\\\\u00a1ok veamos!\", \"var_pregunta\": \"\\\\u00bfc\\\\u00f3mo te llamas?\", \"qr_personalidad\": \"\\\\u00bfCon qui\\\\u00e9n estoy hablando?\"}, \"access_token\": \"EAAJjZAQWaAbgBAAxC53jaIzoxSpgY3qZBc0pYDlb5g3E58pTJ35vAzrsZBVSyiYPhpgZB3ZAeNqx18ImA0LZCcsqL96hFDqsE9fcXUk52ofVsqWeerVDKp0cGo2wvohq5ISdkCUX7ZByd4c80Y6BstQYbe5noQhC8L7wdtMuKyZAAgZDZD\"}}}'\n",
      "\n",
      "_________________________________________________________________________________________________________________________\n",
      "Respuesta del Nucleo Logico->  {'Respuesta': {'content': 'Cada vez que escribas intentare entenderte si algo se me dificulta siempre podre contactarte con un humano.', 'next_id': 'next', 'blockType': 'informativo', 'contentType': 'text', 'typingTime': '3', 'payload': {'content': '', 'state': 'mensajesIntroduccion2_01inicial_inicial', 'recipient_id': '3812585132088508', 'entities': {'qr_menuIntro': '¡ok veamos!', 'var_pregunta': '¿cómo te llamas?', 'qr_personalidad': '¿Con quién estoy hablando?'}, 'access_token': 'EAAJjZAQWaAbgBAAxC53jaIzoxSpgY3qZBc0pYDlb5g3E58pTJ35vAzrsZBVSyiYPhpgZB3ZAeNqx18ImA0LZCcsqL96hFDqsE9fcXUk52ofVsqWeerVDKp0cGo2wvohq5ISdkCUX7ZByd4c80Y6BstQYbe5noQhC8L7wdtMuKyZAAgZDZD'}}}\n",
      "\n",
      "---------------------------------------------------------------------------\n",
      "mensaje enviado a la API de facebook:\n",
      " {'recipient_id': '3812585132088508', 'message_id': 'm_UzxGQbentwzxkY5bQGQTfoDIHsg4Bwph1PFsDRmK-uEXf6mufF1Q0MJ5xy7U4FuzQSujpymKTK3rKyrLrfRpPg'}\n",
      " [.] Got %r None\n",
      "\n",
      "_________________________________________________________________________________________________________________________\n",
      "Mesaje de la API de Facebook-> \n",
      " {'object': 'page', 'entry': [{'id': '430761350747124', 'time': 1601662264168, 'messaging': [{'sender': {'id': '3812585132088508'}, 'recipient': {'id': '430761350747124'}, 'timestamp': 1601662264249, 'read': {'watermark': 1601662232548}}]}]}\n"
     ]
    },
    {
     "name": "stderr",
     "output_type": "stream",
     "text": [
      "127.0.0.1 - - [02/Oct/2020 13:11:06] \"POST /apiREST/v1 HTTP/1.1\" 200 -\n"
     ]
    },
    {
     "name": "stdout",
     "output_type": "stream",
     "text": [
      "\n",
      "________________________________________read _______________________________________________________________________________\n",
      "Mensaje enviado al Nucleo Logico Read->  {\"payload\": {\"robot\": \"none\", \"id_face\": \"430761350747124\", \"recipient_id\": \"3812585132088508\", \"access_token\": \"none\", \"content\": \"\", \"type_resp\": \"read\", \"state\": \"none\", \"blocktype\": \"none\", \"opciones\": \"none\", \"entities\": {}}}\n",
      "hilo consume\n",
      "b'{\"Respuesta\": {\"content\": \"\\\\u00bfQu\\\\u00e9 deseas hacer?\", \"next_id\": \"NLPpersonalidad_01inicial_inicial\", \"blockType\": \"input\", \"contentType\": \"text\", \"typingTime\": \"1\", \"payload\": {\"content\": \"\", \"state\": \"pregunta_01inicial_inicial\", \"recipient_id\": \"3812585132088508\", \"entities\": {\"qr_menuIntro\": \"\\\\u00a1ok veamos!\", \"var_pregunta\": \"\\\\u00bfc\\\\u00f3mo te llamas?\", \"qr_personalidad\": \"\\\\u00bfCon qui\\\\u00e9n estoy hablando?\"}, \"access_token\": \"EAAJjZAQWaAbgBAAxC53jaIzoxSpgY3qZBc0pYDlb5g3E58pTJ35vAzrsZBVSyiYPhpgZB3ZAeNqx18ImA0LZCcsqL96hFDqsE9fcXUk52ofVsqWeerVDKp0cGo2wvohq5ISdkCUX7ZByd4c80Y6BstQYbe5noQhC8L7wdtMuKyZAAgZDZD\"}, \"validacion\": \".*\", \"default_id\": \"NLPpersonalidad_01inicial_inicial\"}}'\n",
      "\n",
      "_________________________________________________________________________________________________________________________\n",
      "Respuesta del Nucleo Logico->  {'Respuesta': {'content': '¿Qué deseas hacer?', 'next_id': 'NLPpersonalidad_01inicial_inicial', 'blockType': 'input', 'contentType': 'text', 'typingTime': '1', 'payload': {'content': '', 'state': 'pregunta_01inicial_inicial', 'recipient_id': '3812585132088508', 'entities': {'qr_menuIntro': '¡ok veamos!', 'var_pregunta': '¿cómo te llamas?', 'qr_personalidad': '¿Con quién estoy hablando?'}, 'access_token': 'EAAJjZAQWaAbgBAAxC53jaIzoxSpgY3qZBc0pYDlb5g3E58pTJ35vAzrsZBVSyiYPhpgZB3ZAeNqx18ImA0LZCcsqL96hFDqsE9fcXUk52ofVsqWeerVDKp0cGo2wvohq5ISdkCUX7ZByd4c80Y6BstQYbe5noQhC8L7wdtMuKyZAAgZDZD'}, 'validacion': '.*', 'default_id': 'NLPpersonalidad_01inicial_inicial'}}\n",
      "\n",
      "---------------------------------------------------------------------------\n",
      "mensaje enviado a la API de facebook:\n",
      " {'recipient_id': '3812585132088508', 'message_id': 'm_BL3Q49YqeyyAKMWGTa0hMoDIHsg4Bwph1PFsDRmK-uFI5t9QIvRR8j3sw6tO65BkYvO081hfZRQ1J1RgldHTTA'}\n",
      " [.] Got %r None\n",
      "\n",
      "_________________________________________________________________________________________________________________________\n",
      "Mesaje de la API de Facebook-> \n",
      " {'object': 'page', 'entry': [{'id': '430761350747124', 'time': 1601662269783, 'messaging': [{'sender': {'id': '3812585132088508'}, 'recipient': {'id': '430761350747124'}, 'timestamp': 1601662269942, 'read': {'watermark': 1601662269111}}]}]}\n"
     ]
    },
    {
     "name": "stderr",
     "output_type": "stream",
     "text": [
      "127.0.0.1 - - [02/Oct/2020 13:11:12] \"POST /apiREST/v1 HTTP/1.1\" 200 -\n"
     ]
    },
    {
     "name": "stdout",
     "output_type": "stream",
     "text": [
      "\n",
      "________________________________________read _______________________________________________________________________________\n",
      "Mensaje enviado al Nucleo Logico Read->  {\"payload\": {\"robot\": \"none\", \"id_face\": \"430761350747124\", \"recipient_id\": \"3812585132088508\", \"access_token\": \"none\", \"content\": \"\", \"type_resp\": \"read\", \"state\": \"none\", \"blocktype\": \"none\", \"opciones\": \"none\", \"entities\": {}}}\n",
      "hilo consume\n",
      "b'{\"payload\": {\"robot\": 340, \"id_face\": \"430761350747124\", \"recipient_id\": \"3812585132088508\", \"access_token\": \"EAAJjZAQWaAbgBAAxC53jaIzoxSpgY3qZBc0pYDlb5g3E58pTJ35vAzrsZBVSyiYPhpgZB3ZAeNqx18ImA0LZCcsqL96hFDqsE9fcXUk52ofVsqWeerVDKp0cGo2wvohq5ISdkCUX7ZByd4c80Y6BstQYbe5noQhC8L7wdtMuKyZAAgZDZD\", \"content\": \"\", \"type_resp\": \"read\", \"state\": \"none\", \"blocktype\": \"none\", \"opciones\": \"none\", \"entities\": {}}}'\n",
      " [.] Got %r None\n",
      "\n",
      "_________________________________________________________________________________________________________________________\n",
      "Mesaje de la API de Facebook-> \n",
      " {'object': 'page', 'entry': [{'id': '430761350747124', 'time': 1601662295727, 'messaging': [{'sender': {'id': '3812585132088508'}, 'recipient': {'id': '430761350747124'}, 'timestamp': 1601662295657, 'message': {'mid': 'm_tV4nKyShY2Sc2zITicX72YDIHsg4Bwph1PFsDRmK-uEpGPH7S7YLByo6W_gG0ZKmnqZPQyjcJQjkKGKS7mZ7Vg', 'text': '¿qué edad tienes?'}}]}]}\n"
     ]
    },
    {
     "name": "stderr",
     "output_type": "stream",
     "text": [
      "127.0.0.1 - - [02/Oct/2020 13:11:38] \"POST /apiREST/v1 HTTP/1.1\" 200 -\n"
     ]
    },
    {
     "name": "stdout",
     "output_type": "stream",
     "text": [
      "hilo consume\n",
      "______________________________________________no read__________________________________________________________________________\n",
      "\n",
      "Mensaje enviado al Nucleo Logico->  {\"payload\": {\"robot\": \"none\", \"id_face\": \"430761350747124\", \"recipient_id\": \"3812585132088508\", \"access_token\": \"none\", \"content\": \"\\u00bfqu\\u00e9 edad tienes?\", \"type_resp\": \"message\", \"state\": \"none\", \"blocktype\": \"none\", \"opciones\": \"none\", \"entities\": {}}}\n",
      "b'{\"Respuesta\": {\"content\": \"Mmmm yo tengo 21 a\\\\u00f1os con 6 meses\", \"next_id\": \"mensajePreMenu_01inicial_inicial\", \"blockType\": \"informativo\", \"contentType\": \"text\", \"typingTime\": \"3\", \"payload\": {\"content\": \"\", \"state\": \"infoEdad_01inicial_inicial\", \"recipient_id\": \"3812585132088508\", \"entities\": {\"qr_menuIntro\": \"\\\\u00a1ok veamos!\", \"var_pregunta\": \"\\\\u00bfqu\\\\u00e9 edad tienes?\", \"qr_personalidad\": \"\\\\u00bfCon qui\\\\u00e9n estoy hablando?\"}, \"access_token\": \"EAAJjZAQWaAbgBAAxC53jaIzoxSpgY3qZBc0pYDlb5g3E58pTJ35vAzrsZBVSyiYPhpgZB3ZAeNqx18ImA0LZCcsqL96hFDqsE9fcXUk52ofVsqWeerVDKp0cGo2wvohq5ISdkCUX7ZByd4c80Y6BstQYbe5noQhC8L7wdtMuKyZAAgZDZD\"}}}'\n",
      "\n",
      "_________________________________________________________________________________________________________________________\n",
      "Respuesta del Nucleo Logico->  {'Respuesta': {'content': 'Mmmm yo tengo 21 años con 6 meses', 'next_id': 'mensajePreMenu_01inicial_inicial', 'blockType': 'informativo', 'contentType': 'text', 'typingTime': '3', 'payload': {'content': '', 'state': 'infoEdad_01inicial_inicial', 'recipient_id': '3812585132088508', 'entities': {'qr_menuIntro': '¡ok veamos!', 'var_pregunta': '¿qué edad tienes?', 'qr_personalidad': '¿Con quién estoy hablando?'}, 'access_token': 'EAAJjZAQWaAbgBAAxC53jaIzoxSpgY3qZBc0pYDlb5g3E58pTJ35vAzrsZBVSyiYPhpgZB3ZAeNqx18ImA0LZCcsqL96hFDqsE9fcXUk52ofVsqWeerVDKp0cGo2wvohq5ISdkCUX7ZByd4c80Y6BstQYbe5noQhC8L7wdtMuKyZAAgZDZD'}}}\n",
      "\n",
      "---------------------------------------------------------------------------\n",
      "mensaje enviado a la API de facebook:\n",
      " {'recipient_id': '3812585132088508', 'message_id': 'm_IVHQoT5h21YVKuiMyASmqIDIHsg4Bwph1PFsDRmK-uHLb5ST6rD5fJHNYIFnDsJTmqjmpbIEqyRnD03jvIP9pA'}\n",
      " [.] Got %r None\n",
      "\n",
      "_________________________________________________________________________________________________________________________\n",
      "Mesaje de la API de Facebook-> \n",
      " {'object': 'page', 'entry': [{'id': '430761350747124', 'time': 1601662311143, 'messaging': [{'sender': {'id': '3812585132088508'}, 'recipient': {'id': '430761350747124'}, 'timestamp': 1601662311270, 'read': {'watermark': 1601662304014}}]}]}\n"
     ]
    },
    {
     "name": "stderr",
     "output_type": "stream",
     "text": [
      "127.0.0.1 - - [02/Oct/2020 13:11:55] \"POST /apiREST/v1 HTTP/1.1\" 200 -\n"
     ]
    },
    {
     "name": "stdout",
     "output_type": "stream",
     "text": [
      "\n",
      "________________________________________read _______________________________________________________________________________\n",
      "Mensaje enviado al Nucleo Logico Read->  {\"payload\": {\"robot\": \"none\", \"id_face\": \"430761350747124\", \"recipient_id\": \"3812585132088508\", \"access_token\": \"none\", \"content\": \"\", \"type_resp\": \"read\", \"state\": \"none\", \"blocktype\": \"none\", \"opciones\": \"none\", \"entities\": {}}}\n",
      "hilo consume\n",
      "b'{\"Respuesta\": {\"content\": \"\\\\u00bfQu\\\\u00e9 te gustar\\\\u00eda hacer?\", \"next_id\": \"next\", \"blockType\": \"informativo\", \"contentType\": \"text\", \"typingTime\": \"3\", \"payload\": {\"content\": \"\", \"state\": \"mensajePreMenu_01inicial_inicial\", \"recipient_id\": \"3812585132088508\", \"entities\": {\"qr_menuIntro\": \"\\\\u00a1ok veamos!\", \"var_pregunta\": \"\\\\u00bfqu\\\\u00e9 edad tienes?\", \"qr_personalidad\": \"\\\\u00bfCon qui\\\\u00e9n estoy hablando?\"}, \"access_token\": \"EAAJjZAQWaAbgBAAxC53jaIzoxSpgY3qZBc0pYDlb5g3E58pTJ35vAzrsZBVSyiYPhpgZB3ZAeNqx18ImA0LZCcsqL96hFDqsE9fcXUk52ofVsqWeerVDKp0cGo2wvohq5ISdkCUX7ZByd4c80Y6BstQYbe5noQhC8L7wdtMuKyZAAgZDZD\"}}}'\n",
      "\n",
      "_________________________________________________________________________________________________________________________\n",
      "Respuesta del Nucleo Logico->  {'Respuesta': {'content': '¿Qué te gustaría hacer?', 'next_id': 'next', 'blockType': 'informativo', 'contentType': 'text', 'typingTime': '3', 'payload': {'content': '', 'state': 'mensajePreMenu_01inicial_inicial', 'recipient_id': '3812585132088508', 'entities': {'qr_menuIntro': '¡ok veamos!', 'var_pregunta': '¿qué edad tienes?', 'qr_personalidad': '¿Con quién estoy hablando?'}, 'access_token': 'EAAJjZAQWaAbgBAAxC53jaIzoxSpgY3qZBc0pYDlb5g3E58pTJ35vAzrsZBVSyiYPhpgZB3ZAeNqx18ImA0LZCcsqL96hFDqsE9fcXUk52ofVsqWeerVDKp0cGo2wvohq5ISdkCUX7ZByd4c80Y6BstQYbe5noQhC8L7wdtMuKyZAAgZDZD'}}}\n",
      "\n",
      "---------------------------------------------------------------------------\n",
      "mensaje enviado a la API de facebook:\n",
      " {'recipient_id': '3812585132088508', 'message_id': 'm_LE0-DbpEqi4Uhho0CTZK5YDIHsg4Bwph1PFsDRmK-uEqCGQGXqhDA6b-6PV_K-jtXKgdioip_E25ECH1Yk-qxw'}\n",
      " [.] Got %r None\n",
      "\n",
      "_________________________________________________________________________________________________________________________\n",
      "Mesaje de la API de Facebook-> \n",
      " {'object': 'page', 'entry': [{'id': '430761350747124', 'time': 1601662318298, 'messaging': [{'sender': {'id': '3812585132088508'}, 'recipient': {'id': '430761350747124'}, 'timestamp': 1601662318457, 'read': {'watermark': 1601662318000}}]}]}\n",
      "\n",
      "________________________________________read _______________________________________________________________________________\n",
      "Mensaje enviado al Nucleo Logico Read->  {\"payload\": {\"robot\": \"none\", \"id_face\": \"430761350747124\", \"recipient_id\": \"3812585132088508\", \"access_token\": \"none\", \"content\": \"\", \"type_resp\": \"read\", \"state\": \"none\", \"blocktype\": \"none\", \"opciones\": \"none\", \"entities\": {}}}\n",
      "hilo consume\n"
     ]
    },
    {
     "name": "stderr",
     "output_type": "stream",
     "text": [
      "127.0.0.1 - - [02/Oct/2020 13:12:00] \"POST /apiREST/v1 HTTP/1.1\" 200 -\n"
     ]
    },
    {
     "name": "stdout",
     "output_type": "stream",
     "text": [
      "b'{\"Respuesta\": {\"content\": \"Selecciona una opci\\\\u00f3n\", \"next_id\": \"mensajesIntroduccion_01inicial_inicial,infoEdad_01inicial_inicial,infoColor_01inicial_inicial\", \"blockType\": \"quickReply\", \"contentType\": \" \", \"typingTime\": \"3\", \"payload\": {\"content\": \"\", \"state\": \"qrPersonalidad_01inicial_inicial\", \"recipient_id\": \"3812585132088508\", \"entities\": {\"qr_menuIntro\": \"\\\\u00a1ok veamos!\", \"var_pregunta\": \"\\\\u00bfqu\\\\u00e9 edad tienes?\", \"qr_personalidad\": \"\\\\u00bfCon qui\\\\u00e9n estoy hablando?\"}, \"access_token\": \"EAAJjZAQWaAbgBAAxC53jaIzoxSpgY3qZBc0pYDlb5g3E58pTJ35vAzrsZBVSyiYPhpgZB3ZAeNqx18ImA0LZCcsqL96hFDqsE9fcXUk52ofVsqWeerVDKp0cGo2wvohq5ISdkCUX7ZByd4c80Y6BstQYbe5noQhC8L7wdtMuKyZAAgZDZD\"}, \"options\": [\"\\\\u00bfCon qui\\\\u00e9n estoy hablando?\", \"\\\\u00bfQu\\\\u00e9 edad tienes?\", \"\\\\u00bfCu\\\\u00e1l es tu color favorito?\"], \"default_id\": \"NLPpersonalidad_01inicial_inicial\", \"save_var\": \"\\\\u00bfCon qui\\\\u00e9n estoy hablando?\"}}'\n",
      "\n",
      "_________________________________________________________________________________________________________________________\n",
      "Respuesta del Nucleo Logico->  {'Respuesta': {'content': 'Selecciona una opción', 'next_id': 'mensajesIntroduccion_01inicial_inicial,infoEdad_01inicial_inicial,infoColor_01inicial_inicial', 'blockType': 'quickReply', 'contentType': ' ', 'typingTime': '3', 'payload': {'content': '', 'state': 'qrPersonalidad_01inicial_inicial', 'recipient_id': '3812585132088508', 'entities': {'qr_menuIntro': '¡ok veamos!', 'var_pregunta': '¿qué edad tienes?', 'qr_personalidad': '¿Con quién estoy hablando?'}, 'access_token': 'EAAJjZAQWaAbgBAAxC53jaIzoxSpgY3qZBc0pYDlb5g3E58pTJ35vAzrsZBVSyiYPhpgZB3ZAeNqx18ImA0LZCcsqL96hFDqsE9fcXUk52ofVsqWeerVDKp0cGo2wvohq5ISdkCUX7ZByd4c80Y6BstQYbe5noQhC8L7wdtMuKyZAAgZDZD'}, 'options': ['¿Con quién estoy hablando?', '¿Qué edad tienes?', '¿Cuál es tu color favorito?'], 'default_id': 'NLPpersonalidad_01inicial_inicial', 'save_var': '¿Con quién estoy hablando?'}}\n",
      "\n",
      "---------------------------------------------------------------------------\n",
      "mensaje enviado a la API de facebook:\n",
      " {'recipient_id': '3812585132088508', 'message_id': 'm_q59Wy4qrHsvPfynjoDZlR4DIHsg4Bwph1PFsDRmK-uGuUlo5q7y5l4F5l8BeFpmih29Imdkek88KRRdJELrteQ'}\n",
      " [.] Got %r None\n",
      "\n",
      "_________________________________________________________________________________________________________________________\n",
      "Mesaje de la API de Facebook-> \n",
      " {'object': 'page', 'entry': [{'id': '430761350747124', 'time': 1601662336564, 'messaging': [{'sender': {'id': '3812585132088508'}, 'recipient': {'id': '430761350747124'}, 'timestamp': 1601662336626, 'read': {'watermark': 1601662324196}}]}]}\n"
     ]
    },
    {
     "name": "stderr",
     "output_type": "stream",
     "text": [
      "127.0.0.1 - - [02/Oct/2020 13:12:18] \"POST /apiREST/v1 HTTP/1.1\" 200 -\n"
     ]
    },
    {
     "name": "stdout",
     "output_type": "stream",
     "text": [
      "\n",
      "________________________________________read _______________________________________________________________________________\n",
      "Mensaje enviado al Nucleo Logico Read->  {\"payload\": {\"robot\": \"none\", \"id_face\": \"430761350747124\", \"recipient_id\": \"3812585132088508\", \"access_token\": \"none\", \"content\": \"\", \"type_resp\": \"read\", \"state\": \"none\", \"blocktype\": \"none\", \"opciones\": \"none\", \"entities\": {}}}\n",
      "hilo consume\n",
      "b'{\"payload\": {\"robot\": 340, \"id_face\": \"430761350747124\", \"recipient_id\": \"3812585132088508\", \"access_token\": \"EAAJjZAQWaAbgBAAxC53jaIzoxSpgY3qZBc0pYDlb5g3E58pTJ35vAzrsZBVSyiYPhpgZB3ZAeNqx18ImA0LZCcsqL96hFDqsE9fcXUk52ofVsqWeerVDKp0cGo2wvohq5ISdkCUX7ZByd4c80Y6BstQYbe5noQhC8L7wdtMuKyZAAgZDZD\", \"content\": \"\", \"type_resp\": \"read\", \"state\": \"none\", \"blocktype\": \"none\", \"opciones\": \"none\", \"entities\": {}}}'\n",
      " [.] Got %r None\n"
     ]
    }
   ],
   "source": [
    "\n",
    "#-------------Creación de la REST API con Flask-------------\n",
    "app = Flask(__name__)\n",
    "#---------------PASO 1. Recepción de mensajes enviados por la API de Facebook.--------------------------\n",
    "@app.route(\"/apiREST/v1\", methods=['GET', 'POST'])\n",
    "def receive_message():\n",
    "    peticiones = 0\n",
    "    #---------------PASO 2. Inicio: Identificar el tipo de petición que se está solicitando.--------------------------\n",
    "    if request.method == 'GET':\n",
    "        print(\" petición GET\")\n",
    "        print(\"metodo GET...\")\n",
    "        print(\"request\",request)\n",
    "        token_sent = request.args.get(\"hub.verify_token\")\n",
    "        print(token_sent )\n",
    "        #---------------PASO 2.1. Llamada a la función que valida la cadena de verificación y se retorna a la petición GET la validación de la función.--------------------------\n",
    "        return verify_fb_token(token_sent,request.args.get(\"hub.challenge\"))\n",
    "    else:\n",
    "        #---------------Recepción de mensajes de una operacion tipo POST.--------------------------        \n",
    "        \n",
    "        content = request.get_json(force=True)\n",
    "        output = request.get_json()\n",
    "        print('\\n_________________________________________________________________________________________________________________________')\n",
    "        print(\"Mesaje de la API de Facebook-> \\n\",output)    \n",
    "        #return \"Message Processed\"  \n",
    "        if output[\"object\"]==\"page\":\n",
    "            for event in output['entry']:\n",
    "                messaging = event['messaging']\n",
    "                id_face = event['id']\n",
    "                for message in messaging:\n",
    "                    if message.get('read'):\n",
    "                        nombreHilo=\"Hilo_\"+str(peticiones)\n",
    "                        N_C = Nucleo_Cliente2(nombreHilo)\n",
    "                        recipient_id = message['sender']['id'] \n",
    "                        enviarNucleoLectura(recipient_id, id_face, messaging,N_C)\n",
    "                        peticiones=peticiones+1                       \n",
    "                        \n",
    "                    elif message.get('message') or message.get('postback'):\n",
    "                        nombreHilo=\"Hilo_\"+str(peticiones)\n",
    "                        N_C = Nucleo_Cliente2(nombreHilo)\n",
    "                        recipient_id = message['sender']['id']                 \n",
    "                        enviarNucleo(recipient_id, id_face, messaging,N_C)  \n",
    "                        peticiones=peticiones+1\n",
    "                    #envio de mensaje proveniente de fb a nucleo lógico del sistema\n",
    "    \n",
    "    return \"Message Processed\"        \n",
    "#-------------Iniciando la REST API-------------\n",
    "if __name__ == \"__main__\":\n",
    "    app.run()"
   ]
  },
  {
   "cell_type": "code",
   "execution_count": null,
   "metadata": {},
   "outputs": [],
   "source": []
  },
  {
   "cell_type": "code",
   "execution_count": null,
   "metadata": {},
   "outputs": [],
   "source": []
  }
 ],
 "metadata": {
  "kernelspec": {
   "display_name": "Python 3",
   "language": "python",
   "name": "python3"
  },
  "language_info": {
   "codemirror_mode": {
    "name": "ipython",
    "version": 3
   },
   "file_extension": ".py",
   "mimetype": "text/x-python",
   "name": "python",
   "nbconvert_exporter": "python",
   "pygments_lexer": "ipython3",
   "version": "3.7.4"
  }
 },
 "nbformat": 4,
 "nbformat_minor": 2
}
