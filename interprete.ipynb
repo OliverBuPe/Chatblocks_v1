{
 "cells": [
  {
   "cell_type": "code",
   "execution_count": 1,
   "metadata": {},
   "outputs": [
    {
     "data": {
      "text/html": [
       "<style>.container { width:100% !important; }</style>"
      ],
      "text/plain": [
       "<IPython.core.display.HTML object>"
      ]
     },
     "metadata": {},
     "output_type": "display_data"
    }
   ],
   "source": [
    "import json\n",
    "import pika\n",
    "import uuid\n",
    "import threading \n",
    "import datetime\n",
    "import time\n",
    "import logging\n",
    "import random\n",
    "import requests\n",
    "import os\n",
    "from enum import Enum\n",
    "from flask import Flask, request, jsonify\n",
    "from flask_api import status\n",
    "from pymessenger import Element, Button\n",
    "from requests_toolbelt import MultipartEncoder\n",
    "from pymessenger import utils\n",
    "from IPython.core.display import display, HTML\n",
    "display(HTML(\"<style>.container { width:100% !important; }</style>\"))"
   ]
  },
  {
   "cell_type": "code",
   "execution_count": 2,
   "metadata": {},
   "outputs": [],
   "source": [
    "class NotificationType(Enum):\n",
    "    regular = \"REGULAR\"\n",
    "    silent_push = \"SILENT_PUSH\"\n",
    "    no_push = \"NO_PUSH\""
   ]
  },
  {
   "cell_type": "code",
   "execution_count": 3,
   "metadata": {},
   "outputs": [],
   "source": [
    "def verify_fb_token(token_sent,exito):\n",
    "    url = \"http://127.0.0.1:8080/access_token\"    \n",
    "    payload = \"{\\\"access_token\\\": \\\"\" + token_sent +\"\\\"}\"\n",
    "    headers = {\n",
    "        'content-type': \"application/json\",\n",
    "        'cache-control': \"no-cache\",\n",
    "        'postman-token': \"64225f1a-4ded-800c-14f2-74ff3a3d45b9\"\n",
    "        }\n",
    "    response = requests.request(\"POST\", url, data=payload, headers=headers)   \n",
    "    access_tokens=response.json()[\"access_token\"]    \n",
    "    if token_sent in access_tokens:\n",
    "        return exito\n",
    "    else:\n",
    "        return 'Verificacion de token invalida'"
   ]
  },
  {
   "cell_type": "code",
   "execution_count": 4,
   "metadata": {},
   "outputs": [],
   "source": [
    "def enviarNucleo(recipient_id, id_face, mensaje,hilo):\n",
    "    global response\n",
    "    global corr_id        \n",
    "    cont=0\n",
    "    content=''\n",
    "    type_resp=''    \n",
    "    if \"postback\" in mensaje[0]:\n",
    "        content=mensaje[0][\"postback\"][\"payload\"]\n",
    "        type_resp=\"postback\"\n",
    "    elif \"message\" in mensaje[0]:\n",
    "        content=mensaje[0][\"message\"][\"text\"]\n",
    "        type_resp=\"message\"    \n",
    "    entidad={}\n",
    "    estado = \"none\"\n",
    "    tipo=\"none\"\n",
    "    opciones=\"none\"     \n",
    "    n =  {\"payload\": {\"robot\":\" \",\"id_face\":\" \",\"recipient_id\":\" \",\"access_token\":\" \",\"content\":\" \",\"type_resp\":\" \",\"state\":\" \", \"blocktype\":\" \", \"opciones\":\" \", \"entitites\":\" \"}}\n",
    "    data=json.dumps(n)\n",
    "    decoded=json.loads(data)\n",
    "    decoded[\"payload\"][\"robot\"]=\"none\"\n",
    "    decoded[\"payload\"][\"id_face\"]=id_face\n",
    "    decoded[\"payload\"][\"access_token\"]=\"none\"\n",
    "    decoded[\"payload\"][\"recipient_id\"]=recipient_id\n",
    "    decoded[\"payload\"][\"content\"]=content\n",
    "    decoded[\"payload\"][\"type_resp\"]=type_resp\n",
    "    decoded[\"payload\"][\"state\"]=estado\n",
    "    decoded[\"payload\"][\"blocktype\"]=tipo\n",
    "    decoded[\"payload\"][\"opciones\"]=opciones\n",
    "    decoded[\"payload\"][\"entities\"]= entidad\n",
    "    data_string=json.dumps(decoded)    \n",
    "    hilo.corr_id = str(uuid.uuid4())\n",
    "    hilo.channel.basic_consume(on_message_callback=hilo.on_response, auto_ack=True, queue=hilo.queue_name) \n",
    "    try:\n",
    "        hilo.channel.basic_publish(exchange='',\n",
    "                              routing_key='Colaprueba22',\n",
    "                              properties=pika.BasicProperties(\n",
    "                                        reply_to = hilo.queue_name,\n",
    "                                        correlation_id = hilo.corr_id,\n",
    "                                        ),\n",
    "                                body=str(data_string))\n",
    "        hilo.start()        \n",
    "        print('\\n_________________________________________________________________________________________________________________________')\n",
    "        print('Mensaje enviado al Nucleo Logico-> ',data_string)        \n",
    "    except Exception as error:\n",
    "        print(\"mensaje no enviado...\",str(error))"
   ]
  },
  {
   "cell_type": "code",
   "execution_count": 5,
   "metadata": {},
   "outputs": [],
   "source": [
    "def send_message(payload,access_token):\n",
    "    api_version = 6.0\n",
    "    graph_url = 'https://graph.facebook.com/v{0}'.format(api_version)\n",
    "    request_endpoint = '{0}/me/messages'.format(graph_url)\n",
    "    auth = {'access_token': access_token}\n",
    "    print('\\n_________________________________________________________________________________________________________________________')\n",
    "    print('Mensaje enviado a la API de  Facebook')\n",
    "    print('request_endpoint-> ',request_endpoint)\n",
    "    print('ruta->',auth)\n",
    "    print('payload-> ',payload)        \n",
    "    response = requests.post(\n",
    "        request_endpoint,\n",
    "        params=auth,\n",
    "        json=payload\n",
    "    )\n",
    "    result = response.json()\n",
    "    return result"
   ]
  },
  {
   "cell_type": "code",
   "execution_count": 6,
   "metadata": {},
   "outputs": [],
   "source": [
    "def text_message(recipient_id, response,access_token):\n",
    "    payload={'message': {'text': response}, 'recipient': {'id': recipient_id}, 'notification_type': 'REGULAR'}\n",
    "    print(\"enviando text message\",payload)\n",
    "    respuesta=send_message(payload,access_token)\n",
    "    print(\"respuesta:\",respuesta)\n",
    "    return \"success\""
   ]
  },
  {
   "cell_type": "code",
   "execution_count": 7,
   "metadata": {},
   "outputs": [],
   "source": [
    "def button_message(recipient_id,content,options,access_token):\n",
    "    buttons = []\n",
    "    cont=0\n",
    "    for opc in options:\n",
    "        button = Button(title=opc, type='postback', payload=opc)\n",
    "        buttons.append(button)\n",
    "        cont=cont+1\n",
    "        if cont>2:\n",
    "            break    \n",
    "    payload={'message': {'attachment': {'type': 'template', 'payload': {'template_type': 'button', 'text': content, 'buttons': buttons}}}, 'recipient': {'id': recipient_id}, 'notification_type': 'REGULAR'}\n",
    "    \n",
    "    result=send_message(payload,access_token)\n",
    "    assert type(result) is dict\n",
    "    assert result.get('message_id') is not None\n",
    "    assert result.get('recipient_id') is not None"
   ]
  },
  {
   "cell_type": "code",
   "execution_count": 8,
   "metadata": {},
   "outputs": [],
   "source": [
    "def slide_message(recipient_id,content,access_token):\n",
    "    buttons =[]\n",
    "    elements=[]\n",
    "    element={'title':'', 'image_url':'', 'subtitle':'', 'buttons':[]}\n",
    "    cont=0\n",
    "    \n",
    "    for data in content: \n",
    "        buttons =[]\n",
    "        for btn in data['buttons']:\n",
    "            if btn['typeButton']=='web_url':\n",
    "                button = Button(title=btn['titleButton'], type='web_url', url=btn['urlButton'])                \n",
    "            elif btn['typeButton']=='postback':\n",
    "                button = Button(title=btn['titleButton'], type='postback', payload=btn['payloadButton'])\n",
    "            buttons.append(button)\n",
    "            cont=cont+1\n",
    "            if cont>2:\n",
    "                break\n",
    "        element={'title':data['title'], 'image_url':data['image_url'], 'subtitle':data['subtitle'], 'buttons':buttons}\n",
    "        elements.append(element)   \n",
    "        \n",
    "    payload={\"recipient\": {\"id\":recipient_id}, \"message\":{\"attachment\": {\"type\":\"template\", \"payload\": {\"template_type\":\"generic\", \"elements\":elements}}}, 'notification_type': 'REGULAR'}\n",
    "    \n",
    "    result=send_message(payload,access_token)\n",
    "    assert type(result) is dict\n",
    "    assert result.get('message_id') is not None\n",
    "    assert result.get('recipient_id') is not None"
   ]
  },
  {
   "cell_type": "code",
   "execution_count": 9,
   "metadata": {},
   "outputs": [],
   "source": [
    "def ticket_message(recipient_id,content,access_token):\n",
    "    payload={\"recipient\":{\"id\":recipient_id},\"message\":{\"attachment\":{\"type\":\"template\",\"payload\":content}}}    \n",
    "    result=send_message(payload,access_token)\n",
    "    assert type(result) is dict\n",
    "    assert result.get('message_id') is not None\n",
    "    assert result.get('recipient_id') is not None"
   ]
  },
  {
   "cell_type": "code",
   "execution_count": 10,
   "metadata": {},
   "outputs": [],
   "source": [
    "def conv(msj):\n",
    "    ans=' '\n",
    "    contenido=msj[\"Respuesta\"][\"content\"]\n",
    "    estado=msj[\"Respuesta\"][\"payload\"][\"state\"]\n",
    "    entidad= msj[\"Respuesta\"][\"payload\"][\"entities\"]\n",
    "    tipo= msj[\"Respuesta\"][\"blockType\"]\n",
    "    recipient_id=msj['Respuesta']['payload']['recipient_id']\n",
    "    access_token=msj['Respuesta']['payload']['access_token']    \n",
    "    \n",
    "    if(tipo==\"quickReply\" or tipo==\"quickReplyDinamico\"):\n",
    "        button_message(recipient_id, contenido, msj[\"Respuesta\"][\"options\"],access_token)\n",
    "        return entidad, ans, estado, tipo, msj[\"Respuesta\"][\"options\"]\n",
    "        \n",
    "    elif(tipo==\"input\" or tipo==\"inputDinamico\"):\n",
    "        text_message(recipient_id, contenido,access_token)\n",
    "        return entidad, ans, estado, tipo, 'vacio'\n",
    "    \n",
    "    elif(tipo==\"informativo\" or tipo==\"informativoDinamico\"):\n",
    "        text_message(recipient_id, contenido,access_token)\n",
    "        return entidad, str('next'), estado, tipo, 'vacio'    \n",
    "    elif(tipo==\"slide\" or tipo==\"slideBuy\" or tipo==\"slideDinamico\"):\n",
    "        slide_message(recipient_id, contenido,access_token)\n",
    "        return entidad, str('next'), estado, tipo, 'vacio'\n",
    "    elif(tipo==\"ticket\"):\n",
    "        ticket_message(recipient_id, contenido,access_token)\n",
    "        return entidad, str('next'), estado, tipo, 'vacio'\n",
    "    else:\n",
    "        return entidad, str('hey'), estado, tipo, 'vacio'"
   ]
  },
  {
   "cell_type": "code",
   "execution_count": 11,
   "metadata": {},
   "outputs": [],
   "source": [
    "class Nucleo_Cliente2(threading.Thread):\n",
    "    def on_response(self, ch, method, props, body):\n",
    "        if self.corr_id == props.correlation_id:\n",
    "            self.response = body\n",
    "            \n",
    "    def __init__(self, nombreHilo):    \n",
    "        threading.Thread.__init__(self, name=nombreHilo, target=Nucleo_Cliente2.run)\n",
    "        self.nombrehilo=nombreHilo\n",
    "        self.connection = pika.BlockingConnection(pika.ConnectionParameters('localhost'))\n",
    "        self.channel = self.connection.channel()\n",
    "        self.result = self.channel.queue_declare(queue='',exclusive=True)\n",
    "        self.queue_name = self.result.method.queue\n",
    "        self.corr_id = ' ' \n",
    "        \n",
    "    def run(self):\n",
    "        try:                \n",
    "            self.response = None\n",
    "            self.response = self.call()\n",
    "            print(\" [.] Got %r\", self.response) \n",
    "        except Exception as error:\n",
    "            print(\"Error run:\",str(error))            \n",
    "    def call(self):\n",
    "        print(\"hilo consume\")\n",
    "        cont = 0        \n",
    "        while(cont>=0):\n",
    "            self.response = None\n",
    "            while self.response is None:\n",
    "                self.connection.process_data_events()            \n",
    "            if len(self.response)>10:\n",
    "                data = json.loads(self.response)\n",
    "                print('\\n_________________________________________________________________________________________________________________________')\n",
    "                print('Respuesta del Nucleo Logico-> ',data)\n",
    "                entidad, resp, estado, tipo, opciones= conv(data)"
   ]
  },
  {
   "cell_type": "code",
   "execution_count": 12,
   "metadata": {
    "scrolled": true
   },
   "outputs": [
    {
     "name": "stdout",
     "output_type": "stream",
     "text": [
      " * Serving Flask app \"__main__\" (lazy loading)\n",
      " * Environment: production\n",
      "   WARNING: This is a development server. Do not use it in a production deployment.\n",
      "   Use a production WSGI server instead.\n",
      " * Debug mode: off\n"
     ]
    },
    {
     "name": "stderr",
     "output_type": "stream",
     "text": [
      " * Running on http://127.0.0.1:5000/ (Press CTRL+C to quit)\n",
      "127.0.0.1 - - [01/Apr/2020 16:47:54] \"POST /apiREST/v1 HTTP/1.1\" 200 -\n"
     ]
    },
    {
     "name": "stdout",
     "output_type": "stream",
     "text": [
      "<Request 'http://7167a37c.ngrok.io/apiREST/v1' [POST]>\n",
      "\n",
      "_________________________________________________________________________________________________________________________\n",
      "Mesaje de la API de Facebook->  {'object': 'page', 'entry': [{'id': '2153123008120093', 'time': 1585781273822, 'messaging': [{'sender': {'id': '2374218029278335'}, 'recipient': {'id': '2153123008120093'}, 'timestamp': 1585781096584, 'message': {'mid': 'm_5mZEyJ7R4TLRzhvhAPAw5DAiVxFEtHfcdpDof8LBiHlN-N9C6X7Ke_GB6f27QouXD_OteelS30OQ2Zhh9cicCQ', 'text': 'Ok'}}]}]}\n",
      "hilo consume\n",
      "\n",
      "_________________________________________________________________________________________________________________________\n",
      "Mensaje enviado al Nucleo Logico->  {\"payload\": {\"robot\": \"none\", \"id_face\": \"2153123008120093\", \"recipient_id\": \"2374218029278335\", \"access_token\": \"none\", \"content\": \"Ok\", \"type_resp\": \"message\", \"state\": \"none\", \"blocktype\": \"none\", \"opciones\": \"none\", \"entitites\": \" \", \"entities\": {}}}\n",
      "\n",
      "_________________________________________________________________________________________________________________________\n",
      "Respuesta del Nucleo Logico->  {'Respuesta': {'content': 'Soy un bot', 'next_id': 'Opc_BTN2', 'blockType': 'informativo', 'contentType': 'tex', 'typingTime': '5', 'payload': {'content': '', 'state': 'info_bot2', 'recipient_id': '2374218029278335', 'entities': {}, 'access_token': 'EAAHNkscg2TcBAPwb5WSaxOM7IjDf57ZAoYu5TwDdUckaTK7dJc6nWq3fCaZBcKZBEZB3jHZCvbykRpYZAzpUHfIwmZCa45OcnXzND1FZBJNhaWyMmJMP6mKfJTr7bUJSVR8aZALoLyZC1M5mUUdIw54mVxVclTUecE2nSZCc3nTtheOKZAnLi8tdabkzHYFP1u8iwRoZD'}}}\n",
      "enviando text message {'message': {'text': 'Soy un bot'}, 'recipient': {'id': '2374218029278335'}, 'notification_type': 'REGULAR'}\n",
      "\n",
      "_________________________________________________________________________________________________________________________\n",
      "Mensaje enviado a la API de  Facebook\n",
      "request_endpoint->  https://graph.facebook.com/v6.0/me/messages\n",
      "ruta-> {'access_token': 'EAAHNkscg2TcBAPwb5WSaxOM7IjDf57ZAoYu5TwDdUckaTK7dJc6nWq3fCaZBcKZBEZB3jHZCvbykRpYZAzpUHfIwmZCa45OcnXzND1FZBJNhaWyMmJMP6mKfJTr7bUJSVR8aZALoLyZC1M5mUUdIw54mVxVclTUecE2nSZCc3nTtheOKZAnLi8tdabkzHYFP1u8iwRoZD'}\n",
      "payload->  {'message': {'text': 'Soy un bot'}, 'recipient': {'id': '2374218029278335'}, 'notification_type': 'REGULAR'}\n"
     ]
    },
    {
     "name": "stderr",
     "output_type": "stream",
     "text": [
      "127.0.0.1 - - [01/Apr/2020 16:47:55] \"POST /apiREST/v1 HTTP/1.1\" 200 -\n"
     ]
    },
    {
     "name": "stdout",
     "output_type": "stream",
     "text": [
      "<Request 'http://7167a37c.ngrok.io/apiREST/v1' [POST]>\n",
      "\n",
      "_________________________________________________________________________________________________________________________\n",
      "Mesaje de la API de Facebook->  {'object': 'page', 'entry': [{'id': '2153123008120093', 'time': 1585781274822, 'messaging': [{'sender': {'id': '2374218029278335'}, 'recipient': {'id': '2153123008120093'}, 'timestamp': 1585781198548, 'message': {'mid': 'm_0c2Z-5hmAObr3ze_VwWkGDAiVxFEtHfcdpDof8LBiHnOl7r8wdNoKms6EWHcdZv4yaju_UFk3yGuk5yyHUgY6g', 'text': 'Ok'}}]}]}\n",
      "hilo consume\n",
      "_________________________________________________________________________________________________________________________\n",
      "\n",
      "Mensaje enviado al Nucleo Logico->  {\"payload\": {\"robot\": \"none\", \"id_face\": \"2153123008120093\", \"recipient_id\": \"2374218029278335\", \"access_token\": \"none\", \"content\": \"Ok\", \"type_resp\": \"message\", \"state\": \"none\", \"blocktype\": \"none\", \"opciones\": \"none\", \"entitites\": \" \", \"entities\": {}}}\n",
      "\n",
      "_________________________________________________________________________________________________________________________\n",
      "Respuesta del Nucleo Logico->  {'Respuesta': {'content': 'Elige una opción ', 'next_id': 'comprar2,Queja2', 'blockType': 'quickReply', 'contentType': ' ', 'typingTime': '6', 'payload': {'content': '', 'state': 'Opc_BTN2', 'recipient_id': '2374218029278335', 'entities': {}, 'access_token': 'EAAHNkscg2TcBAPwb5WSaxOM7IjDf57ZAoYu5TwDdUckaTK7dJc6nWq3fCaZBcKZBEZB3jHZCvbykRpYZAzpUHfIwmZCa45OcnXzND1FZBJNhaWyMmJMP6mKfJTr7bUJSVR8aZALoLyZC1M5mUUdIw54mVxVclTUecE2nSZCc3nTtheOKZAnLi8tdabkzHYFP1u8iwRoZD'}, 'options': ['Comprar algo', 'Queja 2'], 'default_id': 'info_bot2', 'save_var': 'var_qr1'}}\n",
      "\n",
      "_________________________________________________________________________________________________________________________\n",
      "Mensaje enviado a la API de  Facebook\n",
      "request_endpoint->  https://graph.facebook.com/v6.0/me/messages\n",
      "ruta-> {'access_token': 'EAAHNkscg2TcBAPwb5WSaxOM7IjDf57ZAoYu5TwDdUckaTK7dJc6nWq3fCaZBcKZBEZB3jHZCvbykRpYZAzpUHfIwmZCa45OcnXzND1FZBJNhaWyMmJMP6mKfJTr7bUJSVR8aZALoLyZC1M5mUUdIw54mVxVclTUecE2nSZCc3nTtheOKZAnLi8tdabkzHYFP1u8iwRoZD'}\n",
      "payload->  {'message': {'attachment': {'type': 'template', 'payload': {'template_type': 'button', 'text': 'Elige una opción ', 'buttons': [{'title': 'Comprar algo', 'type': 'postback', 'payload': 'Comprar algo'}, {'title': 'Queja 2', 'type': 'postback', 'payload': 'Queja 2'}]}}}, 'recipient': {'id': '2374218029278335'}, 'notification_type': 'REGULAR'}\n",
      "respuesta: {'recipient_id': '2374218029278335', 'message_id': 'm_EhUyEuRPfeZOZT7wyZqfUzAiVxFEtHfcdpDof8LBiHkhKAvLH-6i6lx_IcuIVFmOY7OlLD9wZiPB1FPXHolITA'}\n"
     ]
    },
    {
     "name": "stderr",
     "output_type": "stream",
     "text": [
      "127.0.0.1 - - [01/Apr/2020 16:47:56] \"POST /apiREST/v1 HTTP/1.1\" 200 -\n",
      "127.0.0.1 - - [01/Apr/2020 16:47:56] \"POST /apiREST/v1 HTTP/1.1\" 200 -\n"
     ]
    },
    {
     "name": "stdout",
     "output_type": "stream",
     "text": [
      "<Request 'http://7167a37c.ngrok.io/apiREST/v1' [POST]>\n",
      "\n",
      "_________________________________________________________________________________________________________________________\n",
      "Mesaje de la API de Facebook->  {'object': 'page', 'entry': [{'id': '2153123008120093', 'time': 1585781275423, 'messaging': [{'sender': {'id': '2374218029278335'}, 'recipient': {'id': '2153123008120093'}, 'timestamp': 1585781211087, 'message': {'mid': 'm__q5o6oRBXlbFEZloamEECzAiVxFEtHfcdpDof8LBiHl1Hq-3oP7eGq5scDaZ7v7ehBfLH8M8Od7bzFo0-exJ0g', 'text': 'Hola'}}]}]}\n",
      "hilo consume\n",
      "\n",
      "_________________________________________________________________________________________________________________________\n",
      "Mensaje enviado al Nucleo Logico->  \n",
      "_________________________________________________________________________________________________________________________\n",
      "Respuesta del Nucleo Logico->  {'Respuesta': {'content': 'Soy un bot', 'next_id': 'Opc_BTN2', 'blockType': 'informativo', 'contentType': 'tex', 'typingTime': '5', 'payload': {'content': '', 'state': 'info_bot2', 'recipient_id': '2374218029278335', 'entities': {}, 'access_token': 'EAAHNkscg2TcBAPwb5WSaxOM7IjDf57ZAoYu5TwDdUckaTK7dJc6nWq3fCaZBcKZBEZB3jHZCvbykRpYZAzpUHfIwmZCa45OcnXzND1FZBJNhaWyMmJMP6mKfJTr7bUJSVR8aZALoLyZC1M5mUUdIw54mVxVclTUecE2nSZCc3nTtheOKZAnLi8tdabkzHYFP1u8iwRoZD'}}}\n",
      "enviando text message {'message': {'text': 'Soy un bot'}, 'recipient': {'id': '2374218029278335'}, 'notification_type': 'REGULAR'}\n",
      "\n",
      "_________________________________________________________________________________________________________________________\n",
      "Mensaje enviado a la API de  Facebook\n",
      "request_endpoint->  https://graph.facebook.com/v6.0/me/messages\n",
      "ruta-> {'access_token': 'EAAHNkscg2TcBAPwb5WSaxOM7IjDf57ZAoYu5TwDdUckaTK7dJc6nWq3fCaZBcKZBEZB3jHZCvbykRpYZAzpUHfIwmZCa45OcnXzND1FZBJNhaWyMmJMP6mKfJTr7bUJSVR8aZALoLyZC1M5mUUdIw54mVxVclTUecE2nSZCc3nTtheOKZAnLi8tdabkzHYFP1u8iwRoZD'}\n",
      "payload->  {'message': {'text': 'Soy un bot'}, 'recipient': {'id': '2374218029278335'}, 'notification_type': 'REGULAR'}\n",
      "{\"payload\": {\"robot\": \"none\", \"id_face\": \"2153123008120093\", \"recipient_id\": \"2374218029278335\", \"access_token\": \"none\", \"content\": \"Hola\", \"type_resp\": \"message\", \"state\": \"none\", \"blocktype\": \"none\", \"opciones\": \"none\", \"entitites\": \" \", \"entities\": {}}}\n",
      "<Request 'http://7167a37c.ngrok.io/apiREST/v1' [POST]>\n",
      "\n",
      "_________________________________________________________________________________________________________________________\n",
      "Mesaje de la API de Facebook->  {'object': 'page', 'entry': [{'id': '2153123008120093', 'time': 1585781276050, 'messaging': [{'sender': {'id': '2374218029278335'}, 'recipient': {'id': '2153123008120093'}, 'timestamp': 1585781276079, 'delivery': {'mids': ['m_EhUyEuRPfeZOZT7wyZqfUzAiVxFEtHfcdpDof8LBiHkhKAvLH-6i6lx_IcuIVFmOY7OlLD9wZiPB1FPXHolITA'], 'watermark': 1585781275506}}]}]}\n"
     ]
    },
    {
     "name": "stderr",
     "output_type": "stream",
     "text": [
      "127.0.0.1 - - [01/Apr/2020 16:47:58] \"POST /apiREST/v1 HTTP/1.1\" 200 -\n"
     ]
    },
    {
     "name": "stdout",
     "output_type": "stream",
     "text": [
      "<Request 'http://7167a37c.ngrok.io/apiREST/v1' [POST]>\n",
      "\n",
      "_________________________________________________________________________________________________________________________\n",
      "Mesaje de la API de Facebook->  {'object': 'page', 'entry': [{'id': '2153123008120093', 'time': 1585781276896, 'messaging': [{'sender': {'id': '2374218029278335'}, 'recipient': {'id': '2153123008120093'}, 'timestamp': 1585781276929, 'delivery': {'mids': ['m_EhUyEuRPfeZOZT7wyZqfUzAiVxFEtHfcdpDof8LBiHkhKAvLH-6i6lx_IcuIVFmOY7OlLD9wZiPB1FPXHolITA'], 'watermark': 1585781275506}}]}]}\n"
     ]
    },
    {
     "name": "stderr",
     "output_type": "stream",
     "text": [
      "127.0.0.1 - - [01/Apr/2020 16:47:59] \"POST /apiREST/v1 HTTP/1.1\" 200 -\n"
     ]
    },
    {
     "name": "stdout",
     "output_type": "stream",
     "text": [
      "<Request 'http://7167a37c.ngrok.io/apiREST/v1' [POST]>\n",
      "\n",
      "_________________________________________________________________________________________________________________________\n",
      "Mesaje de la API de Facebook->  {'object': 'page', 'entry': [{'id': '2153123008120093', 'time': 1585781277998, 'messaging': [{'sender': {'id': '2374218029278335'}, 'recipient': {'id': '2153123008120093'}, 'timestamp': 1585781278075, 'delivery': {'mids': ['m_EhUyEuRPfeZOZT7wyZqfUzAiVxFEtHfcdpDof8LBiHkhKAvLH-6i6lx_IcuIVFmOY7OlLD9wZiPB1FPXHolITA'], 'watermark': 1585781275506}}]}]}\n",
      "respuesta: {'recipient_id': '2374218029278335', 'message_id': 'm_lscRy0t8qsN8Ri_NRZj7cDAiVxFEtHfcdpDof8LBiHnM43VD_wELzfeHUOi5o3MMNw6lhKvplhlu48n6wrxRNQ'}\n"
     ]
    },
    {
     "name": "stderr",
     "output_type": "stream",
     "text": [
      "127.0.0.1 - - [01/Apr/2020 16:48:01] \"POST /apiREST/v1 HTTP/1.1\" 200 -\n"
     ]
    },
    {
     "name": "stdout",
     "output_type": "stream",
     "text": [
      "<Request 'http://7167a37c.ngrok.io/apiREST/v1' [POST]>\n",
      "\n",
      "_________________________________________________________________________________________________________________________\n",
      "Mesaje de la API de Facebook->  {'object': 'page', 'entry': [{'id': '2153123008120093', 'time': 1585781280422, 'messaging': [{'sender': {'id': '2374218029278335'}, 'recipient': {'id': '2153123008120093'}, 'timestamp': 1585781280453, 'delivery': {'mids': ['m_lscRy0t8qsN8Ri_NRZj7cDAiVxFEtHfcdpDof8LBiHnM43VD_wELzfeHUOi5o3MMNw6lhKvplhlu48n6wrxRNQ'], 'watermark': 1585781279926}}]}]}\n"
     ]
    },
    {
     "name": "stderr",
     "output_type": "stream",
     "text": [
      "127.0.0.1 - - [01/Apr/2020 16:48:02] \"POST /apiREST/v1 HTTP/1.1\" 200 -\n"
     ]
    },
    {
     "name": "stdout",
     "output_type": "stream",
     "text": [
      "<Request 'http://7167a37c.ngrok.io/apiREST/v1' [POST]>\n",
      "\n",
      "_________________________________________________________________________________________________________________________\n",
      "Mesaje de la API de Facebook->  {'object': 'page', 'entry': [{'id': '2153123008120093', 'time': 1585781280702, 'messaging': [{'sender': {'id': '2374218029278335'}, 'recipient': {'id': '2153123008120093'}, 'timestamp': 1585781280757, 'delivery': {'mids': ['m_lscRy0t8qsN8Ri_NRZj7cDAiVxFEtHfcdpDof8LBiHnM43VD_wELzfeHUOi5o3MMNw6lhKvplhlu48n6wrxRNQ'], 'watermark': 1585781279926}}]}]}\n"
     ]
    },
    {
     "name": "stderr",
     "output_type": "stream",
     "text": [
      "127.0.0.1 - - [01/Apr/2020 16:48:02] \"POST /apiREST/v1 HTTP/1.1\" 200 -\n"
     ]
    },
    {
     "name": "stdout",
     "output_type": "stream",
     "text": [
      "<Request 'http://7167a37c.ngrok.io/apiREST/v1' [POST]>\n",
      "\n",
      "_________________________________________________________________________________________________________________________\n",
      "Mesaje de la API de Facebook->  {'object': 'page', 'entry': [{'id': '2153123008120093', 'time': 1585781281503, 'messaging': [{'sender': {'id': '2374218029278335'}, 'recipient': {'id': '2153123008120093'}, 'timestamp': 1585781281565, 'delivery': {'mids': ['m_lscRy0t8qsN8Ri_NRZj7cDAiVxFEtHfcdpDof8LBiHnM43VD_wELzfeHUOi5o3MMNw6lhKvplhlu48n6wrxRNQ'], 'watermark': 1585781279926}}]}]}\n"
     ]
    },
    {
     "name": "stderr",
     "output_type": "stream",
     "text": [
      "127.0.0.1 - - [01/Apr/2020 16:48:05] \"POST /apiREST/v1 HTTP/1.1\" 200 -\n"
     ]
    },
    {
     "name": "stdout",
     "output_type": "stream",
     "text": [
      "<Request 'http://7167a37c.ngrok.io/apiREST/v1' [POST]>\n",
      "\n",
      "_________________________________________________________________________________________________________________________\n",
      "Mesaje de la API de Facebook->  {'object': 'page', 'entry': [{'id': '2153123008120093', 'time': 1585781283729, 'messaging': [{'sender': {'id': '2374218029278335'}, 'recipient': {'id': '2153123008120093'}, 'timestamp': 1585781283793, 'delivery': {'mids': ['m_lscRy0t8qsN8Ri_NRZj7cDAiVxFEtHfcdpDof8LBiHnM43VD_wELzfeHUOi5o3MMNw6lhKvplhlu48n6wrxRNQ', 'm_cwf-JeFuBfkdeU8TACQuJzAiVxFEtHfcdpDof8LBiHmN3BHwus12D9rvK9_nN20PzUWAZ-1f2YhRpLkNCjJviQ'], 'watermark': 1585781280708}}]}]}\n"
     ]
    },
    {
     "name": "stderr",
     "output_type": "stream",
     "text": [
      "127.0.0.1 - - [01/Apr/2020 16:48:06] \"POST /apiREST/v1 HTTP/1.1\" 200 -\n"
     ]
    },
    {
     "name": "stdout",
     "output_type": "stream",
     "text": [
      "<Request 'http://7167a37c.ngrok.io/apiREST/v1' [POST]>\n",
      "\n",
      "_________________________________________________________________________________________________________________________\n",
      "Mesaje de la API de Facebook->  {'object': 'page', 'entry': [{'id': '2153123008120093', 'time': 1585781285340, 'messaging': [{'sender': {'id': '2374218029278335'}, 'recipient': {'id': '2153123008120093'}, 'timestamp': 1585781285394, 'delivery': {'mids': ['m_cwf-JeFuBfkdeU8TACQuJzAiVxFEtHfcdpDof8LBiHmN3BHwus12D9rvK9_nN20PzUWAZ-1f2YhRpLkNCjJviQ'], 'watermark': 1585781280708}}]}]}\n"
     ]
    },
    {
     "name": "stderr",
     "output_type": "stream",
     "text": [
      "127.0.0.1 - - [01/Apr/2020 16:48:09] \"POST /apiREST/v1 HTTP/1.1\" 200 -\n"
     ]
    },
    {
     "name": "stdout",
     "output_type": "stream",
     "text": [
      "<Request 'http://7167a37c.ngrok.io/apiREST/v1' [POST]>\n",
      "\n",
      "_________________________________________________________________________________________________________________________\n",
      "Mesaje de la API de Facebook->  {'object': 'page', 'entry': [{'id': '2153123008120093', 'time': 1585781288315, 'messaging': [{'sender': {'id': '2374218029278335'}, 'recipient': {'id': '2153123008120093'}, 'timestamp': 1585781288347, 'delivery': {'mids': ['m_cwf-JeFuBfkdeU8TACQuJzAiVxFEtHfcdpDof8LBiHmN3BHwus12D9rvK9_nN20PzUWAZ-1f2YhRpLkNCjJviQ'], 'watermark': 1585781280708}}]}]}\n",
      "<Request 'http://7167a37c.ngrok.io/apiREST/v1' [POST]>\n",
      "\n",
      "_________________________________________________________________________________________________________________________\n",
      "Mesaje de la API de Facebook->  {'object': 'page', 'entry': [{'id': '2153123008120093', 'time': 1585781288636, 'messaging': [{'sender': {'id': '2374218029278335'}, 'recipient': {'id': '2153123008120093'}, 'timestamp': 1585781288427, 'postback': {'title': 'Comprar algo', 'payload': 'Comprar algo'}}]}]}\n"
     ]
    },
    {
     "name": "stderr",
     "output_type": "stream",
     "text": [
      "127.0.0.1 - - [01/Apr/2020 16:48:10] \"POST /apiREST/v1 HTTP/1.1\" 200 -\n"
     ]
    },
    {
     "name": "stdout",
     "output_type": "stream",
     "text": [
      "hilo consume\n",
      "\n",
      "_________________________________________________________________________________________________________________________\n",
      "Mensaje enviado al Nucleo Logico->  {\"payload\": {\"robot\": \"none\", \"id_face\": \"2153123008120093\", \"recipient_id\": \"2374218029278335\", \"access_token\": \"none\", \"content\": \"Comprar algo\", \"type_resp\": \"postback\", \"state\": \"none\", \"blocktype\": \"none\", \"opciones\": \"none\", \"entitites\": \" \", \"entities\": {}}}\n",
      "\n",
      "_________________________________________________________________________________________________________________________\n",
      "Respuesta del Nucleo Logico->  {'Respuesta': {'content': 'Elige una opción ', 'next_id': 'comprar2,Queja2', 'blockType': 'quickReply', 'contentType': ' ', 'typingTime': '6', 'payload': {'content': '', 'state': 'Opc_BTN2', 'recipient_id': '2374218029278335', 'entities': {}, 'access_token': 'EAAHNkscg2TcBAPwb5WSaxOM7IjDf57ZAoYu5TwDdUckaTK7dJc6nWq3fCaZBcKZBEZB3jHZCvbykRpYZAzpUHfIwmZCa45OcnXzND1FZBJNhaWyMmJMP6mKfJTr7bUJSVR8aZALoLyZC1M5mUUdIw54mVxVclTUecE2nSZCc3nTtheOKZAnLi8tdabkzHYFP1u8iwRoZD'}, 'options': ['Comprar algo', 'Queja 2'], 'default_id': 'info_bot2', 'save_var': 'var_qr1'}}\n",
      "\n",
      "_________________________________________________________________________________________________________________________\n",
      "Mensaje enviado a la API de  Facebook\n",
      "request_endpoint->  https://graph.facebook.com/v6.0/me/messages\n",
      "ruta-> {'access_token': 'EAAHNkscg2TcBAPwb5WSaxOM7IjDf57ZAoYu5TwDdUckaTK7dJc6nWq3fCaZBcKZBEZB3jHZCvbykRpYZAzpUHfIwmZCa45OcnXzND1FZBJNhaWyMmJMP6mKfJTr7bUJSVR8aZALoLyZC1M5mUUdIw54mVxVclTUecE2nSZCc3nTtheOKZAnLi8tdabkzHYFP1u8iwRoZD'}\n",
      "payload->  {'message': {'attachment': {'type': 'template', 'payload': {'template_type': 'button', 'text': 'Elige una opción ', 'buttons': [{'title': 'Comprar algo', 'type': 'postback', 'payload': 'Comprar algo'}, {'title': 'Queja 2', 'type': 'postback', 'payload': 'Queja 2'}]}}}, 'recipient': {'id': '2374218029278335'}, 'notification_type': 'REGULAR'}\n"
     ]
    },
    {
     "name": "stderr",
     "output_type": "stream",
     "text": [
      "127.0.0.1 - - [01/Apr/2020 16:48:27] \"POST /apiREST/v1 HTTP/1.1\" 200 -\n"
     ]
    },
    {
     "name": "stdout",
     "output_type": "stream",
     "text": [
      "<Request 'http://7167a37c.ngrok.io/apiREST/v1' [POST]>\n",
      "\n",
      "_________________________________________________________________________________________________________________________\n",
      "Mesaje de la API de Facebook->  {'object': 'page', 'entry': [{'id': '2153123008120093', 'time': 1585781306648, 'messaging': [{'sender': {'id': '2374218029278335'}, 'recipient': {'id': '2153123008120093'}, 'timestamp': 1585781306715, 'delivery': {'mids': ['m_6ySHwB7RQRu78KHLufM2XzAiVxFEtHfcdpDof8LBiHnH87Y8CwlxnN4d6ZsaH6Ivzo2QIkMbU8htWCdYqOCFHQ'], 'watermark': 1585781306184}}]}]}\n"
     ]
    },
    {
     "name": "stderr",
     "output_type": "stream",
     "text": [
      "127.0.0.1 - - [01/Apr/2020 16:48:30] \"POST /apiREST/v1 HTTP/1.1\" 200 -\n"
     ]
    },
    {
     "name": "stdout",
     "output_type": "stream",
     "text": [
      "<Request 'http://7167a37c.ngrok.io/apiREST/v1' [POST]>\n",
      "\n",
      "_________________________________________________________________________________________________________________________\n",
      "Mesaje de la API de Facebook->  {'object': 'page', 'entry': [{'id': '2153123008120093', 'time': 1585781308715, 'messaging': [{'sender': {'id': '2374218029278335'}, 'recipient': {'id': '2153123008120093'}, 'timestamp': 1585781308777, 'delivery': {'mids': ['m_6ySHwB7RQRu78KHLufM2XzAiVxFEtHfcdpDof8LBiHnH87Y8CwlxnN4d6ZsaH6Ivzo2QIkMbU8htWCdYqOCFHQ'], 'watermark': 1585781306184}}]}]}\n"
     ]
    },
    {
     "name": "stderr",
     "output_type": "stream",
     "text": [
      "127.0.0.1 - - [01/Apr/2020 16:48:32] \"POST /apiREST/v1 HTTP/1.1\" 200 -\n"
     ]
    },
    {
     "name": "stdout",
     "output_type": "stream",
     "text": [
      "<Request 'http://7167a37c.ngrok.io/apiREST/v1' [POST]>\n",
      "\n",
      "_________________________________________________________________________________________________________________________\n",
      "Mesaje de la API de Facebook->  {'object': 'page', 'entry': [{'id': '2153123008120093', 'time': 1585781311435, 'messaging': [{'sender': {'id': '2374218029278335'}, 'recipient': {'id': '2153123008120093'}, 'timestamp': 1585781311465, 'delivery': {'mids': ['m_6ySHwB7RQRu78KHLufM2XzAiVxFEtHfcdpDof8LBiHnH87Y8CwlxnN4d6ZsaH6Ivzo2QIkMbU8htWCdYqOCFHQ'], 'watermark': 1585781306184}}]}]}\n"
     ]
    },
    {
     "name": "stderr",
     "output_type": "stream",
     "text": [
      "127.0.0.1 - - [01/Apr/2020 16:48:33] \"POST /apiREST/v1 HTTP/1.1\" 200 -\n"
     ]
    },
    {
     "name": "stdout",
     "output_type": "stream",
     "text": [
      "<Request 'http://7167a37c.ngrok.io/apiREST/v1' [POST]>\n",
      "\n",
      "_________________________________________________________________________________________________________________________\n",
      "Mesaje de la API de Facebook->  {'object': 'page', 'entry': [{'id': '2153123008120093', 'time': 1585781312384, 'messaging': [{'sender': {'id': '2374218029278335'}, 'recipient': {'id': '2153123008120093'}, 'timestamp': 1585781312177, 'postback': {'title': 'Queja 2', 'payload': 'Queja 2'}}]}]}\n",
      "hilo consume\n",
      "_________________________________________________________________________________________________________________________\n",
      "\n",
      "Mensaje enviado al Nucleo Logico->  {\"payload\": {\"robot\": \"none\", \"id_face\": \"2153123008120093\", \"recipient_id\": \"2374218029278335\", \"access_token\": \"none\", \"content\": \"Queja 2\", \"type_resp\": \"postback\", \"state\": \"none\", \"blocktype\": \"none\", \"opciones\": \"none\", \"entitites\": \" \", \"entities\": {}}}\n",
      "\n",
      "_________________________________________________________________________________________________________________________\n",
      "Respuesta del Nucleo Logico->  {'Respuesta': {'content': 'Introduce tu queja', 'next_id': 'Saludo2', 'blockType': 'input', 'contentType': 'text', 'typingTime': '3', 'payload': {'content': '', 'state': 'Queja2', 'recipient_id': '2374218029278335', 'entities': {}, 'access_token': 'EAAHNkscg2TcBAPwb5WSaxOM7IjDf57ZAoYu5TwDdUckaTK7dJc6nWq3fCaZBcKZBEZB3jHZCvbykRpYZAzpUHfIwmZCa45OcnXzND1FZBJNhaWyMmJMP6mKfJTr7bUJSVR8aZALoLyZC1M5mUUdIw54mVxVclTUecE2nSZCc3nTtheOKZAnLi8tdabkzHYFP1u8iwRoZD'}, 'validacion': '.*', 'Default_id': 'info_bot2', 'save_var': 'prueba_var'}}\n",
      "enviando text message {'message': {'text': 'Introduce tu queja'}, 'recipient': {'id': '2374218029278335'}, 'notification_type': 'REGULAR'}\n",
      "\n",
      "_________________________________________________________________________________________________________________________\n",
      "Mensaje enviado a la API de  Facebook\n",
      "request_endpoint->  https://graph.facebook.com/v6.0/me/messages\n",
      "ruta-> {'access_token': 'EAAHNkscg2TcBAPwb5WSaxOM7IjDf57ZAoYu5TwDdUckaTK7dJc6nWq3fCaZBcKZBEZB3jHZCvbykRpYZAzpUHfIwmZCa45OcnXzND1FZBJNhaWyMmJMP6mKfJTr7bUJSVR8aZALoLyZC1M5mUUdIw54mVxVclTUecE2nSZCc3nTtheOKZAnLi8tdabkzHYFP1u8iwRoZD'}\n",
      "payload->  {'message': {'text': 'Introduce tu queja'}, 'recipient': {'id': '2374218029278335'}, 'notification_type': 'REGULAR'}\n",
      "respuesta: {'recipient_id': '2374218029278335', 'message_id': 'm_Q0AJ8HKtMvCrIg-c2EOrIDAiVxFEtHfcdpDof8LBiHlZThYH7gprwAkBypVlnWMmHJVK-Y3MFN-o85EFL7lwOA'}\n"
     ]
    },
    {
     "name": "stderr",
     "output_type": "stream",
     "text": [
      "127.0.0.1 - - [01/Apr/2020 16:48:37] \"POST /apiREST/v1 HTTP/1.1\" 200 -\n"
     ]
    },
    {
     "name": "stdout",
     "output_type": "stream",
     "text": [
      "<Request 'http://7167a37c.ngrok.io/apiREST/v1' [POST]>\n",
      "\n",
      "_________________________________________________________________________________________________________________________\n",
      "Mesaje de la API de Facebook->  {'object': 'page', 'entry': [{'id': '2153123008120093', 'time': 1585781316522, 'messaging': [{'sender': {'id': '2374218029278335'}, 'recipient': {'id': '2153123008120093'}, 'timestamp': 1585781316551, 'delivery': {'mids': ['m_Q0AJ8HKtMvCrIg-c2EOrIDAiVxFEtHfcdpDof8LBiHlZThYH7gprwAkBypVlnWMmHJVK-Y3MFN-o85EFL7lwOA'], 'watermark': 1585781315984}}]}]}\n"
     ]
    },
    {
     "name": "stderr",
     "output_type": "stream",
     "text": [
      "127.0.0.1 - - [01/Apr/2020 16:48:39] \"POST /apiREST/v1 HTTP/1.1\" 200 -\n"
     ]
    },
    {
     "name": "stdout",
     "output_type": "stream",
     "text": [
      "<Request 'http://7167a37c.ngrok.io/apiREST/v1' [POST]>\n",
      "\n",
      "_________________________________________________________________________________________________________________________\n",
      "Mesaje de la API de Facebook->  {'object': 'page', 'entry': [{'id': '2153123008120093', 'time': 1585781316535, 'messaging': [{'sender': {'id': '2374218029278335'}, 'recipient': {'id': '2153123008120093'}, 'timestamp': 1585781316655, 'delivery': {'mids': ['m_6ySHwB7RQRu78KHLufM2XzAiVxFEtHfcdpDof8LBiHnH87Y8CwlxnN4d6ZsaH6Ivzo2QIkMbU8htWCdYqOCFHQ', 'm_Q0AJ8HKtMvCrIg-c2EOrIDAiVxFEtHfcdpDof8LBiHlZThYH7gprwAkBypVlnWMmHJVK-Y3MFN-o85EFL7lwOA'], 'watermark': 1585781315984}}]}]}\n"
     ]
    },
    {
     "name": "stderr",
     "output_type": "stream",
     "text": [
      "127.0.0.1 - - [01/Apr/2020 16:48:40] \"POST /apiREST/v1 HTTP/1.1\" 200 -\n"
     ]
    },
    {
     "name": "stdout",
     "output_type": "stream",
     "text": [
      "<Request 'http://7167a37c.ngrok.io/apiREST/v1' [POST]>\n",
      "\n",
      "_________________________________________________________________________________________________________________________\n",
      "Mesaje de la API de Facebook->  {'object': 'page', 'entry': [{'id': '2153123008120093', 'time': 1585781317118, 'messaging': [{'sender': {'id': '2374218029278335'}, 'recipient': {'id': '2153123008120093'}, 'timestamp': 1585781317169, 'delivery': {'mids': ['m_Q0AJ8HKtMvCrIg-c2EOrIDAiVxFEtHfcdpDof8LBiHlZThYH7gprwAkBypVlnWMmHJVK-Y3MFN-o85EFL7lwOA'], 'watermark': 1585781315984}}]}]}\n",
      "<Request 'http://7167a37c.ngrok.io/apiREST/v1' [POST]>\n",
      "\n",
      "_________________________________________________________________________________________________________________________\n",
      "Mesaje de la API de Facebook->  {'object': 'page', 'entry': [{'id': '2153123008120093', 'time': 1585781319293, 'messaging': [{'sender': {'id': '2374218029278335'}, 'recipient': {'id': '2153123008120093'}, 'timestamp': 1585781319144, 'message': {'mid': 'm_EpGDuyfuGFzyAWQVYh-IYTAiVxFEtHfcdpDof8LBiHkBtCy0QBSj3p9DM3D_7UhloPxDmsZVvvRwyfxrJpfyRw', 'text': 'Jwrurwut'}}]}]}\n"
     ]
    },
    {
     "name": "stderr",
     "output_type": "stream",
     "text": [
      "127.0.0.1 - - [01/Apr/2020 16:48:40] \"POST /apiREST/v1 HTTP/1.1\" 200 -\n"
     ]
    },
    {
     "name": "stdout",
     "output_type": "stream",
     "text": [
      "hilo consume\n",
      "_________________________________________________________________________________________________________________________\n",
      "Mensaje enviado al Nucleo Logico->  {\"payload\": {\"robot\": \"none\", \"id_face\": \"2153123008120093\", \"recipient_id\": \"2374218029278335\", \"access_token\": \"none\", \"content\": \"Jwrurwut\", \"type_resp\": \"message\", \"state\": \"none\", \"blocktype\": \"none\", \"opciones\": \"none\", \"entitites\": \" \", \"entities\": {}}}\n",
      "\n",
      "\n",
      "_________________________________________________________________________________________________________________________\n",
      "Respuesta del Nucleo Logico->  {'Respuesta': {'content': 'Hola, espero que estes teniendo un excelente dia.', 'next_id': 'info_bot2', 'blockType': 'informativo', 'contentType': 'tex', 'typingTime': '1', 'payload': {'content': '', 'state': 'Saludo2', 'recipient_id': '2374218029278335', 'entities': {'prueba_var': 'Jwrurwut'}, 'access_token': 'EAAHNkscg2TcBAPwb5WSaxOM7IjDf57ZAoYu5TwDdUckaTK7dJc6nWq3fCaZBcKZBEZB3jHZCvbykRpYZAzpUHfIwmZCa45OcnXzND1FZBJNhaWyMmJMP6mKfJTr7bUJSVR8aZALoLyZC1M5mUUdIw54mVxVclTUecE2nSZCc3nTtheOKZAnLi8tdabkzHYFP1u8iwRoZD'}}}\n",
      "enviando text message {'message': {'text': 'Hola, espero que estes teniendo un excelente dia.'}, 'recipient': {'id': '2374218029278335'}, 'notification_type': 'REGULAR'}\n",
      "\n",
      "_________________________________________________________________________________________________________________________\n",
      "Mensaje enviado a la API de  Facebook\n",
      "request_endpoint->  https://graph.facebook.com/v6.0/me/messages\n",
      "ruta-> {'access_token': 'EAAHNkscg2TcBAPwb5WSaxOM7IjDf57ZAoYu5TwDdUckaTK7dJc6nWq3fCaZBcKZBEZB3jHZCvbykRpYZAzpUHfIwmZCa45OcnXzND1FZBJNhaWyMmJMP6mKfJTr7bUJSVR8aZALoLyZC1M5mUUdIw54mVxVclTUecE2nSZCc3nTtheOKZAnLi8tdabkzHYFP1u8iwRoZD'}\n",
      "payload->  {'message': {'text': 'Hola, espero que estes teniendo un excelente dia.'}, 'recipient': {'id': '2374218029278335'}, 'notification_type': 'REGULAR'}\n",
      "respuesta: {'recipient_id': '2374218029278335', 'message_id': 'm_Dc09wmu_JwCpFQ6m6mkwRjAiVxFEtHfcdpDof8LBiHmSYPW8LY4zFpkJOWdOaLgR085_K_k6BBl8wELER5yOaQ'}\n"
     ]
    },
    {
     "name": "stderr",
     "output_type": "stream",
     "text": [
      "127.0.0.1 - - [01/Apr/2020 16:49:01] \"POST /apiREST/v1 HTTP/1.1\" 200 -\n",
      "127.0.0.1 - - [01/Apr/2020 16:49:01] \"POST /apiREST/v1 HTTP/1.1\" 200 -\n"
     ]
    },
    {
     "name": "stdout",
     "output_type": "stream",
     "text": [
      "<Request 'http://7167a37c.ngrok.io/apiREST/v1' [POST]>\n",
      "\n",
      "_________________________________________________________________________________________________________________________\n",
      "Mesaje de la API de Facebook->  {'object': 'page', 'entry': [{'id': '2153123008120093', 'time': 1585781330109, 'messaging': [{'sender': {'id': '2374218029278335'}, 'recipient': {'id': '2153123008120093'}, 'timestamp': 1585781330179, 'delivery': {'mids': ['m_6ySHwB7RQRu78KHLufM2XzAiVxFEtHfcdpDof8LBiHnH87Y8CwlxnN4d6ZsaH6Ivzo2QIkMbU8htWCdYqOCFHQ', 'm_Q0AJ8HKtMvCrIg-c2EOrIDAiVxFEtHfcdpDof8LBiHlZThYH7gprwAkBypVlnWMmHJVK-Y3MFN-o85EFL7lwOA', 'm_Dc09wmu_JwCpFQ6m6mkwRjAiVxFEtHfcdpDof8LBiHmSYPW8LY4zFpkJOWdOaLgR085_K_k6BBl8wELER5yOaQ'], 'watermark': 1585781329662}}]}]}\n",
      "<Request 'http://7167a37c.ngrok.io/apiREST/v1' [POST]>\n",
      "\n",
      "_________________________________________________________________________________________________________________________\n",
      "Mesaje de la API de Facebook->  {'object': 'page', 'entry': [{'id': '2153123008120093', 'time': 1585781330093, 'messaging': [{'sender': {'id': '2374218029278335'}, 'recipient': {'id': '2153123008120093'}, 'timestamp': 1585781330159, 'delivery': {'mids': ['m_Dc09wmu_JwCpFQ6m6mkwRjAiVxFEtHfcdpDof8LBiHmSYPW8LY4zFpkJOWdOaLgR085_K_k6BBl8wELER5yOaQ'], 'watermark': 1585781329662}}]}]}\n"
     ]
    },
    {
     "name": "stderr",
     "output_type": "stream",
     "text": [
      "127.0.0.1 - - [01/Apr/2020 16:53:44] \"POST /apiREST/v1 HTTP/1.1\" 200 -\n"
     ]
    },
    {
     "name": "stdout",
     "output_type": "stream",
     "text": [
      "<Request 'http://7167a37c.ngrok.io/apiREST/v1' [POST]>\n",
      "\n",
      "_________________________________________________________________________________________________________________________\n",
      "Mesaje de la API de Facebook->  {'object': 'page', 'entry': [{'id': '2153123008120093', 'time': 1585781621860, 'messaging': [{'sender': {'id': '2374218029278335'}, 'recipient': {'id': '2153123008120093'}, 'timestamp': 1585781621917, 'delivery': {'mids': ['m_6ySHwB7RQRu78KHLufM2XzAiVxFEtHfcdpDof8LBiHnH87Y8CwlxnN4d6ZsaH6Ivzo2QIkMbU8htWCdYqOCFHQ', 'm_Q0AJ8HKtMvCrIg-c2EOrIDAiVxFEtHfcdpDof8LBiHlZThYH7gprwAkBypVlnWMmHJVK-Y3MFN-o85EFL7lwOA', 'm_Dc09wmu_JwCpFQ6m6mkwRjAiVxFEtHfcdpDof8LBiHmSYPW8LY4zFpkJOWdOaLgR085_K_k6BBl8wELER5yOaQ'], 'watermark': 1585781329662}}]}]}\n"
     ]
    }
   ],
   "source": [
    "\n",
    "#-------------Creación de la REST API con Flask-------------\n",
    "app = Flask(__name__)\n",
    "#---------------PASO 1. Recepción de mensajes enviados por la API de Facebook.--------------------------\n",
    "@app.route(\"/apiREST/v1\", methods=['GET', 'POST'])\n",
    "def receive_message():\n",
    "    peticiones = 0\n",
    "    #---------------PASO 2. Inicio: Identificar el tipo de petición que se está solicitando.--------------------------\n",
    "    if request.method == 'GET':\n",
    "        print(\"metodo GET...\")\n",
    "        token_sent = request.args.get(\"hub.verify_token\")\n",
    "        #---------------PASO 2.1. Llamada a la función que valida la cadena de verificación y se retorna a la petición GET la validación de la función.--------------------------\n",
    "        return verify_fb_token(token_sent,request.args.get(\"hub.challenge\"))\n",
    "    else:\n",
    "        #---------------PASO 2.2. Recepción de mensajes de una operacion tipo POST.--------------------------\n",
    "        nombreHilo=\"Hilo_\"+str(peticiones)\n",
    "        N_C = Nucleo_Cliente2(nombreHilo)\n",
    "        print(request)\n",
    "        content = request.get_json(force=True)\n",
    "        output = request.get_json()\n",
    "        print('\\n_________________________________________________________________________________________________________________________')\n",
    "        print(\"Mesaje de la API de Facebook-> \",output)\n",
    "        #return \"Message Processed\"  \n",
    "        for event in output['entry']:\n",
    "            messaging = event['messaging']\n",
    "            id_face = event['id']\n",
    "            for message in messaging:\n",
    "                if message.get('message') or message.get('postback'):\n",
    "                    recipient_id = message['sender']['id']                 \n",
    "                    enviarNucleo(recipient_id, id_face, messaging,N_C)  \n",
    "                    #envio de mensaje proveniente de fb a nucleo lógico del sistema\n",
    "    \n",
    "    return \"Message Processed\"        \n",
    "#-------------Iniciando la REST API-------------\n",
    "if __name__ == \"__main__\":\n",
    "    app.run()"
   ]
  }
 ],
 "metadata": {
  "kernelspec": {
   "display_name": "Python 3",
   "language": "python",
   "name": "python3"
  },
  "language_info": {
   "codemirror_mode": {
    "name": "ipython",
    "version": 3
   },
   "file_extension": ".py",
   "mimetype": "text/x-python",
   "name": "python",
   "nbconvert_exporter": "python",
   "pygments_lexer": "ipython3",
   "version": "3.7.4"
  }
 },
 "nbformat": 4,
 "nbformat_minor": 2
}
